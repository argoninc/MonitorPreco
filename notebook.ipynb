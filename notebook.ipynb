{
 "cells": [
  {
   "cell_type": "markdown",
   "source": "## Cralwer dos sites de TI",
   "metadata": {
    "cell_id": "385560e8e2de4af4bccd1ad2a39231a7",
    "tags": [],
    "deepnote_cell_type": "markdown",
    "deepnote_cell_height": 70
   }
  },
  {
   "cell_type": "code",
   "metadata": {
    "cell_id": "499f048ffb6f4b6d8efb9a3367d74390",
    "tags": [],
    "deepnote_to_be_reexecuted": false,
    "source_hash": "ed329c87",
    "execution_start": 1658433258523,
    "execution_millis": 4098,
    "deepnote_cell_type": "code",
    "deepnote_cell_height": 291.6875
   },
   "source": "#Instalando o bs4\n!pip install beautifulsoup4",
   "execution_count": 3,
   "outputs": [
    {
     "name": "stdout",
     "text": "Collecting beautifulsoup4\n  Downloading beautifulsoup4-4.11.1-py3-none-any.whl (128 kB)\n\u001b[2K     \u001b[90m━━━━━━━━━━━━━━━━━━━━━━━━━━━━━━━━━━━━━━\u001b[0m \u001b[32m128.2/128.2 KB\u001b[0m \u001b[31m22.3 MB/s\u001b[0m eta \u001b[36m0:00:00\u001b[0m\n\u001b[?25hCollecting soupsieve>1.2\n  Downloading soupsieve-2.3.2.post1-py3-none-any.whl (37 kB)\nInstalling collected packages: soupsieve, beautifulsoup4\nSuccessfully installed beautifulsoup4-4.11.1 soupsieve-2.3.2.post1\n\u001b[33mWARNING: You are using pip version 22.0.4; however, version 22.2 is available.\nYou should consider upgrading via the '/root/venv/bin/python -m pip install --upgrade pip' command.\u001b[0m\u001b[33m\n\u001b[0m",
     "output_type": "stream"
    }
   ]
  },
  {
   "cell_type": "markdown",
   "source": "### Imports",
   "metadata": {
    "formattedRanges": [],
    "cell_id": "a17b95e9035a409fbc5f0cf13df7802f",
    "tags": [],
    "is_collapsed": false,
    "deepnote_cell_type": "text-cell-h3"
   }
  },
  {
   "cell_type": "code",
   "metadata": {
    "tags": [],
    "cell_id": "b272611c-cee4-4624-91dd-bbd90eecfbdb",
    "deepnote_to_be_reexecuted": false,
    "source_hash": "dc1845e5",
    "execution_start": 1658440359050,
    "execution_millis": 708,
    "deepnote_cell_type": "code",
    "deepnote_cell_height": 604.75
   },
   "source": "import math, sys, os\n\n#Datas\nimport pandas as pd\nimport numpy as np\n\n#Web\nfrom bs4 import BeautifulSoup\nimport requests\n\n#Plotters\nimport matplotlib as plt\nimport seaborn as sns\n\n#Text\nimport re\nimport json\n\n#handling dates\nfrom datetime import datetime\n\n%load_ext autoreload\n%autoreload 2\n\n%time",
   "execution_count": 129,
   "outputs": [
    {
     "name": "stdout",
     "text": "The autoreload extension is already loaded. To reload it, use:\n  %reload_ext autoreload\nCPU times: user 3 µs, sys: 0 ns, total: 3 µs\nWall time: 6.44 µs\n",
     "output_type": "stream"
    }
   ]
  },
  {
   "cell_type": "markdown",
   "source": "### Setando Header",
   "metadata": {
    "formattedRanges": [],
    "cell_id": "5ba1aba8ee4b490688c0eb6ea8c0a4cb",
    "tags": [],
    "is_collapsed": false,
    "deepnote_cell_type": "text-cell-h3"
   }
  },
  {
   "cell_type": "code",
   "metadata": {
    "cell_id": "8a51cd92d5074f8ab52fa542da3ec956",
    "tags": [],
    "deepnote_to_be_reexecuted": false,
    "source_hash": "196c0afc",
    "execution_start": 1658433299883,
    "execution_millis": 227,
    "is_code_hidden": false,
    "deepnote_cell_type": "code",
    "deepnote_cell_height": 135
   },
   "source": "header = {\n    \"user-agent\": \"Mozilla/5.0 (Windows NT 10.0; Win64; x64) AppleWebKit/537.36 (KHTML, like Gecko) Chrome/74.0.3729.169 Safari/537.36\" ,\n    'referer':'https://www.google.com/'\n}",
   "execution_count": 5,
   "outputs": []
  },
  {
   "cell_type": "markdown",
   "source": "### Criando a função da Pichau",
   "metadata": {
    "cell_id": "0041ce0df82c4d4bb633c18020eb1cd8",
    "tags": [],
    "deepnote_cell_type": "markdown",
    "deepnote_cell_height": 62
   }
  },
  {
   "cell_type": "code",
   "metadata": {
    "cell_id": "005a3af2b3fb4548b7db3c46b17bd699",
    "tags": [],
    "deepnote_to_be_reexecuted": false,
    "source_hash": "e68788eb",
    "execution_start": 1658437853647,
    "execution_millis": 771,
    "deepnote_cell_type": "code",
    "deepnote_cell_height": 711
   },
   "source": "def get_html_page(url : str, header=None) -> str:\n\n    '''\n    Funcao para o script HTML das paginas a serem monitoradas\n\n    Retorno do metodo\n    str\n\n    Parametros\n\n    url:str\n    link do site a ser obtidos o script\n    '''\n\n    #Checa se existe o header\n    if header is None  :\n        header = {\n            \"user-agent\": \"Mozilla/5.0 (Windows NT 10.0; Win64; x64) AppleWebKit/537.36 (KHTML, like Gecko) Chrome/74.0.3729.169 Safari/537.36\" ,\n            'referer':'https://www.google.com/'\n        }\n\n    #Checa se a url está vazia antes de requisitar\n    if len(url) == 0:\n        print('URL vazia')\n        return None\n\n    r = requests.get(url, headers=header)\n    \n    return_code = r.status_code\n\n    if not return_code in (200, 201, 202):\n        print(f'Houve um erro no processamento da url {url}')\n        return None\n    \n    return r.text\n",
   "execution_count": 98,
   "outputs": []
  },
  {
   "cell_type": "code",
   "metadata": {
    "cell_id": "6f61bb10b9bf45ce84b5e936d3d55db9",
    "tags": [],
    "deepnote_to_be_reexecuted": false,
    "source_hash": "25c71916",
    "execution_start": 1658437859015,
    "execution_millis": 273,
    "deepnote_cell_type": "code",
    "deepnote_cell_height": 81
   },
   "source": "res = get_html_page('https://www.pichau.com.br/processador-amd-ryzen-5-5600-6-core-12-threads-3-5ghz-4-4ghz-turbo-cache-35mb-am4-100-100000927box?utm_source=pcbuildwizard')",
   "execution_count": 99,
   "outputs": []
  },
  {
   "cell_type": "code",
   "metadata": {
    "cell_id": "889a012dd0884a85ab930224e512c035",
    "tags": [],
    "deepnote_to_be_reexecuted": false,
    "source_hash": "cba8c0c1",
    "execution_start": 1658440827449,
    "execution_millis": 44,
    "deepnote_cell_type": "code",
    "deepnote_cell_height": 1071
   },
   "source": "def extract_pichau(html_script : str) -> pd.DataFrame:\n\n    '''\n    Funcao para buscar as informacoes do site da pichau e persisti-las\n\n    Retorno do metodo\n    pandas.DataFrame\n\n    Parametros\n\n    html_script:str\n    script do site a ser obtidos as informações\n    '''\n\n    limite_galeria = 6\n\n    df_retorno = pd.DataFrame()\n\n    soup = BeautifulSoup(html_doc, 'html.parser')\n\n    all_data = soup.find('script', {'type':'application/json'})\n\n    jsn = json.loads(all_data.string)\n\n    #Usar esta lista de atributos neste nível: ['props']['pageProps']['pageData']['content']\n    lista_attr_l0 = ['potencia', 'name', 'stock_status', 'codigo_barra', 'is_openbox']\n\n    for i in lista_attr_l0:\n        df_retorno[i] = pd.Series(jsn['props']['pageProps']['pageData']['content'][i])\n\n    #Usar esta lista de atributos neste nível: ['props']['pageProps']['pageData']['content']['mysales_promotion']\n    lista_attr_l1 = ['promotion_name', 'qty_available', 'qty_sold', 'expire_at']\n\n    for i in lista_attr_l1:\n        df_retorno[i] = pd.Series(jsn['props']['pageProps']['pageData']['content']['mysales_promotion'][i])\n\n    galeria = jsn['props']['pageProps']['pageData']['content']['media_gallery']\n\n    for img, counter in zip(galeria [:min(len(galeria), limite_galeria)], range(limite_galeria)):\n        df_retorno[\"url_image\" + str(counter)] = img['url']\n\n    df_retorno['currency_promo'] = pd.Series(jsn['props']['pageProps']['pageData']['content']['price_range']['minimum_price']['final_price']['currency'])\n    df_retorno['value_promo'] = pd.Series(jsn['props']['pageProps']['pageData']['content']['price_range']['minimum_price']['final_price']['value'])\n\n    df_retorno['currency_regular'] = pd.Series(jsn['props']['pageProps']['pageData']['content']['price_range']['minimum_price']['regular_price']['currency'])\n    df_retorno['value_regular'] = pd.Series(jsn['props']['pageProps']['pageData']['content']['price_range']['minimum_price']['regular_price']['value'])\n\n    df_retorno['currency_cash'] = df_retorno['currency_promo']\n    df_retorno['value_cash'] = df_retorno['value_promo'].astype('float64') * 0.88\n\n    df_retorno['dt_hr_captura'] = [datetime.now()]\n    print(df_retorno.shape)\n\n    return df_retorno\n    #data hora captura\n",
   "execution_count": 169,
   "outputs": []
  },
  {
   "cell_type": "code",
   "metadata": {
    "cell_id": "f05d02d703334015864d9095959cf98b",
    "tags": [],
    "deepnote_to_be_reexecuted": false,
    "source_hash": "ff308cda",
    "execution_start": 1658440827503,
    "execution_millis": 101,
    "deepnote_cell_type": "code",
    "deepnote_cell_height": 112.1875
   },
   "source": "df = extract_pichau(res)",
   "execution_count": 170,
   "outputs": [
    {
     "name": "stdout",
     "text": "(1, 18)\n",
     "output_type": "stream"
    }
   ]
  },
  {
   "cell_type": "code",
   "source": "df",
   "metadata": {
    "cell_id": "d8c74d4994934632b848c1c88b0204d3",
    "tags": [],
    "deepnote_to_be_reexecuted": false,
    "source_hash": "f804c160",
    "execution_start": 1658440828174,
    "execution_millis": 205,
    "owner_user_id": "005ed028-13e1-49b7-a15d-07b078143245",
    "deepnote_table_state": {
     "pageSize": 10,
     "pageIndex": 0,
     "filters": [],
     "sortBy": []
    },
    "deepnote_table_loading": false,
    "deepnote_cell_type": "code",
    "deepnote_cell_height": 248
   },
   "outputs": [
    {
     "output_type": "execute_result",
     "execution_count": 174,
     "data": {
      "application/vnd.deepnote.dataframe.v3+json": {
       "column_count": 18,
       "row_count": 1,
       "columns": [
        {
         "name": "potencia",
         "dtype": "object",
         "stats": {
          "unique_count": 1,
          "nan_count": 0,
          "categories": [
           {
            "name": "65",
            "count": 1
           }
          ]
         }
        },
        {
         "name": "name",
         "dtype": "object",
         "stats": {
          "unique_count": 1,
          "nan_count": 0,
          "categories": [
           {
            "name": "Processador AMD Ryzen 5 5600, 6-Core, 12-Threads, 3.5GHz (4.4GHz Turbo), Cache 35MB, AM4, 100-100000927BOX",
            "count": 1
           }
          ]
         }
        },
        {
         "name": "stock_status",
         "dtype": "object",
         "stats": {
          "unique_count": 1,
          "nan_count": 0,
          "categories": [
           {
            "name": "IN_STOCK",
            "count": 1
           }
          ]
         }
        },
        {
         "name": "codigo_barra",
         "dtype": "object",
         "stats": {
          "unique_count": 1,
          "nan_count": 0,
          "categories": [
           {
            "name": "0730143314190",
            "count": 1
           }
          ]
         }
        },
        {
         "name": "is_openbox",
         "dtype": "int64",
         "stats": {
          "unique_count": 1,
          "nan_count": 0,
          "min": "0",
          "max": "0",
          "histogram": [
           {
            "bin_start": -0.5,
            "bin_end": -0.4,
            "count": 0
           },
           {
            "bin_start": -0.4,
            "bin_end": -0.3,
            "count": 0
           },
           {
            "bin_start": -0.3,
            "bin_end": -0.19999999999999996,
            "count": 0
           },
           {
            "bin_start": -0.19999999999999996,
            "bin_end": -0.09999999999999998,
            "count": 0
           },
           {
            "bin_start": -0.09999999999999998,
            "bin_end": 0,
            "count": 0
           },
           {
            "bin_start": 0,
            "bin_end": 0.10000000000000009,
            "count": 1
           },
           {
            "bin_start": 0.10000000000000009,
            "bin_end": 0.20000000000000007,
            "count": 0
           },
           {
            "bin_start": 0.20000000000000007,
            "bin_end": 0.30000000000000004,
            "count": 0
           },
           {
            "bin_start": 0.30000000000000004,
            "bin_end": 0.4,
            "count": 0
           },
           {
            "bin_start": 0.4,
            "bin_end": 0.5,
            "count": 0
           }
          ]
         }
        },
        {
         "name": "promotion_name",
         "dtype": "object",
         "stats": {
          "unique_count": 1,
          "nan_count": 0,
          "categories": [
           {
            "name": "Ferias com o Pombo",
            "count": 1
           }
          ]
         }
        },
        {
         "name": "qty_available",
         "dtype": "int64",
         "stats": {
          "unique_count": 1,
          "nan_count": 0,
          "min": "83",
          "max": "83",
          "histogram": [
           {
            "bin_start": 82.5,
            "bin_end": 82.6,
            "count": 0
           },
           {
            "bin_start": 82.6,
            "bin_end": 82.7,
            "count": 0
           },
           {
            "bin_start": 82.7,
            "bin_end": 82.8,
            "count": 0
           },
           {
            "bin_start": 82.8,
            "bin_end": 82.9,
            "count": 0
           },
           {
            "bin_start": 82.9,
            "bin_end": 83,
            "count": 0
           },
           {
            "bin_start": 83,
            "bin_end": 83.1,
            "count": 1
           },
           {
            "bin_start": 83.1,
            "bin_end": 83.2,
            "count": 0
           },
           {
            "bin_start": 83.2,
            "bin_end": 83.3,
            "count": 0
           },
           {
            "bin_start": 83.3,
            "bin_end": 83.4,
            "count": 0
           },
           {
            "bin_start": 83.4,
            "bin_end": 83.5,
            "count": 0
           }
          ]
         }
        },
        {
         "name": "qty_sold",
         "dtype": "int64",
         "stats": {
          "unique_count": 1,
          "nan_count": 0,
          "min": "264",
          "max": "264",
          "histogram": [
           {
            "bin_start": 263.5,
            "bin_end": 263.6,
            "count": 0
           },
           {
            "bin_start": 263.6,
            "bin_end": 263.7,
            "count": 0
           },
           {
            "bin_start": 263.7,
            "bin_end": 263.8,
            "count": 0
           },
           {
            "bin_start": 263.8,
            "bin_end": 263.9,
            "count": 0
           },
           {
            "bin_start": 263.9,
            "bin_end": 264,
            "count": 0
           },
           {
            "bin_start": 264,
            "bin_end": 264.1,
            "count": 1
           },
           {
            "bin_start": 264.1,
            "bin_end": 264.2,
            "count": 0
           },
           {
            "bin_start": 264.2,
            "bin_end": 264.3,
            "count": 0
           },
           {
            "bin_start": 264.3,
            "bin_end": 264.4,
            "count": 0
           },
           {
            "bin_start": 264.4,
            "bin_end": 264.5,
            "count": 0
           }
          ]
         }
        },
        {
         "name": "expire_at",
         "dtype": "object",
         "stats": {
          "unique_count": 1,
          "nan_count": 0,
          "categories": [
           {
            "name": "2022-08-01 17:00:00",
            "count": 1
           }
          ]
         }
        },
        {
         "name": "url_image0",
         "dtype": "object",
         "stats": {
          "unique_count": 1,
          "nan_count": 0,
          "categories": [
           {
            "name": "https://media.pichau.com.br/media/catalog/product/cache/2f958555330323e505eba7ce930bdf27/1/0/100-100000927box_1.jpg",
            "count": 1
           }
          ]
         }
        },
        {
         "name": "url_image1",
         "dtype": "object",
         "stats": {
          "unique_count": 1,
          "nan_count": 0,
          "categories": [
           {
            "name": "https://media.pichau.com.br/media/catalog/product/cache/2f958555330323e505eba7ce930bdf27/1/0/100-100000927box1_1.jpg",
            "count": 1
           }
          ]
         }
        },
        {
         "name": "currency_promo",
         "dtype": "object",
         "stats": {
          "unique_count": 1,
          "nan_count": 0,
          "categories": [
           {
            "name": "BRL",
            "count": 1
           }
          ]
         }
        },
        {
         "name": "value_promo",
         "dtype": "float64",
         "stats": {
          "unique_count": 1,
          "nan_count": 0,
          "min": "1269.32",
          "max": "1269.32",
          "histogram": [
           {
            "bin_start": 1268.82,
            "bin_end": 1268.9199999999998,
            "count": 0
           },
           {
            "bin_start": 1268.9199999999998,
            "bin_end": 1269.02,
            "count": 0
           },
           {
            "bin_start": 1269.02,
            "bin_end": 1269.12,
            "count": 0
           },
           {
            "bin_start": 1269.12,
            "bin_end": 1269.22,
            "count": 0
           },
           {
            "bin_start": 1269.22,
            "bin_end": 1269.32,
            "count": 0
           },
           {
            "bin_start": 1269.32,
            "bin_end": 1269.4199999999998,
            "count": 1
           },
           {
            "bin_start": 1269.4199999999998,
            "bin_end": 1269.52,
            "count": 0
           },
           {
            "bin_start": 1269.52,
            "bin_end": 1269.62,
            "count": 0
           },
           {
            "bin_start": 1269.62,
            "bin_end": 1269.72,
            "count": 0
           },
           {
            "bin_start": 1269.72,
            "bin_end": 1269.82,
            "count": 0
           }
          ]
         }
        },
        {
         "name": "currency_regular",
         "dtype": "object",
         "stats": {
          "unique_count": 1,
          "nan_count": 0,
          "categories": [
           {
            "name": "BRL",
            "count": 1
           }
          ]
         }
        },
        {
         "name": "value_regular",
         "dtype": "float64",
         "stats": {
          "unique_count": 1,
          "nan_count": 0,
          "min": "1697.3",
          "max": "1697.3",
          "histogram": [
           {
            "bin_start": 1696.8,
            "bin_end": 1696.8999999999999,
            "count": 0
           },
           {
            "bin_start": 1696.8999999999999,
            "bin_end": 1697,
            "count": 0
           },
           {
            "bin_start": 1697,
            "bin_end": 1697.1,
            "count": 0
           },
           {
            "bin_start": 1697.1,
            "bin_end": 1697.2,
            "count": 0
           },
           {
            "bin_start": 1697.2,
            "bin_end": 1697.3,
            "count": 0
           },
           {
            "bin_start": 1697.3,
            "bin_end": 1697.3999999999999,
            "count": 1
           },
           {
            "bin_start": 1697.3999999999999,
            "bin_end": 1697.5,
            "count": 0
           },
           {
            "bin_start": 1697.5,
            "bin_end": 1697.6,
            "count": 0
           },
           {
            "bin_start": 1697.6,
            "bin_end": 1697.7,
            "count": 0
           },
           {
            "bin_start": 1697.7,
            "bin_end": 1697.8,
            "count": 0
           }
          ]
         }
        },
        {
         "name": "currency_cash",
         "dtype": "object",
         "stats": {
          "unique_count": 1,
          "nan_count": 0,
          "categories": [
           {
            "name": "BRL",
            "count": 1
           }
          ]
         }
        },
        {
         "name": "value_cash",
         "dtype": "float64",
         "stats": {
          "unique_count": 1,
          "nan_count": 0,
          "min": "1117.0016",
          "max": "1117.0016",
          "histogram": [
           {
            "bin_start": 1116.5016,
            "bin_end": 1116.6016,
            "count": 0
           },
           {
            "bin_start": 1116.6016,
            "bin_end": 1116.7016,
            "count": 0
           },
           {
            "bin_start": 1116.7016,
            "bin_end": 1116.8016,
            "count": 0
           },
           {
            "bin_start": 1116.8016,
            "bin_end": 1116.9016000000001,
            "count": 0
           },
           {
            "bin_start": 1116.9016000000001,
            "bin_end": 1117.0016,
            "count": 0
           },
           {
            "bin_start": 1117.0016,
            "bin_end": 1117.1016,
            "count": 1
           },
           {
            "bin_start": 1117.1016,
            "bin_end": 1117.2016,
            "count": 0
           },
           {
            "bin_start": 1117.2016,
            "bin_end": 1117.3016,
            "count": 0
           },
           {
            "bin_start": 1117.3016,
            "bin_end": 1117.4016000000001,
            "count": 0
           },
           {
            "bin_start": 1117.4016000000001,
            "bin_end": 1117.5016,
            "count": 0
           }
          ]
         }
        },
        {
         "name": "dt_hr_captura",
         "dtype": "datetime64[ns]",
         "stats": {
          "unique_count": 1,
          "nan_count": 0,
          "min": "2022-07-21 22:00:27.586661",
          "max": "2022-07-21 22:00:27.586661",
          "histogram": null
         }
        },
        {
         "name": "_deepnote_index_column",
         "dtype": "int64"
        }
       ],
       "rows": [
        {
         "potencia": "65",
         "name": "Processador AMD Ryzen 5 5600, 6-Core, 12-Threads, 3.5GHz (4.4GHz Turbo), Cache 35MB, AM4, 100-100000927BOX",
         "stock_status": "IN_STOCK",
         "codigo_barra": "0730143314190",
         "is_openbox": 0,
         "promotion_name": "Ferias com o Pombo",
         "qty_available": 83,
         "qty_sold": 264,
         "expire_at": "2022-08-01 17:00:00",
         "url_image0": "https://media.pichau.com.br/media/catalog/product/cache/2f958555330323e505eba7ce930bdf27/1/0/100-100000927box_1.jpg",
         "url_image1": "https://media.pichau.com.br/media/catalog/product/cache/2f958555330323e505eba7ce930bdf27/1/0/100-100000927box1_1.jpg",
         "currency_promo": "BRL",
         "value_promo": 1269.32,
         "currency_regular": "BRL",
         "value_regular": 1697.3,
         "currency_cash": "BRL",
         "value_cash": 1117.0016,
         "dt_hr_captura": "2022-07-21T22:00:27.586661",
         "_deepnote_index_column": 0
        }
       ]
      },
      "text/plain": "  potencia                                               name stock_status  \\\n0       65  Processador AMD Ryzen 5 5600, 6-Core, 12-Threa...     IN_STOCK   \n\n    codigo_barra  is_openbox      promotion_name  qty_available  qty_sold  \\\n0  0730143314190           0  Ferias com o Pombo             83       264   \n\n             expire_at                                         url_image0  \\\n0  2022-08-01 17:00:00  https://media.pichau.com.br/media/catalog/prod...   \n\n                                          url_image1 currency_promo  \\\n0  https://media.pichau.com.br/media/catalog/prod...            BRL   \n\n   value_promo currency_regular  value_regular currency_cash  value_cash  \\\n0      1269.32              BRL         1697.3           BRL   1117.0016   \n\n               dt_hr_captura  \n0 2022-07-21 22:00:27.586661  ",
      "text/html": "<div>\n<style scoped>\n    .dataframe tbody tr th:only-of-type {\n        vertical-align: middle;\n    }\n\n    .dataframe tbody tr th {\n        vertical-align: top;\n    }\n\n    .dataframe thead th {\n        text-align: right;\n    }\n</style>\n<table border=\"1\" class=\"dataframe\">\n  <thead>\n    <tr style=\"text-align: right;\">\n      <th></th>\n      <th>potencia</th>\n      <th>name</th>\n      <th>stock_status</th>\n      <th>codigo_barra</th>\n      <th>is_openbox</th>\n      <th>promotion_name</th>\n      <th>qty_available</th>\n      <th>qty_sold</th>\n      <th>expire_at</th>\n      <th>url_image0</th>\n      <th>url_image1</th>\n      <th>currency_promo</th>\n      <th>value_promo</th>\n      <th>currency_regular</th>\n      <th>value_regular</th>\n      <th>currency_cash</th>\n      <th>value_cash</th>\n      <th>dt_hr_captura</th>\n    </tr>\n  </thead>\n  <tbody>\n    <tr>\n      <th>0</th>\n      <td>65</td>\n      <td>Processador AMD Ryzen 5 5600, 6-Core, 12-Threa...</td>\n      <td>IN_STOCK</td>\n      <td>0730143314190</td>\n      <td>0</td>\n      <td>Ferias com o Pombo</td>\n      <td>83</td>\n      <td>264</td>\n      <td>2022-08-01 17:00:00</td>\n      <td>https://media.pichau.com.br/media/catalog/prod...</td>\n      <td>https://media.pichau.com.br/media/catalog/prod...</td>\n      <td>BRL</td>\n      <td>1269.32</td>\n      <td>BRL</td>\n      <td>1697.3</td>\n      <td>BRL</td>\n      <td>1117.0016</td>\n      <td>2022-07-21 22:00:27.586661</td>\n    </tr>\n  </tbody>\n</table>\n</div>"
     },
     "metadata": {}
    }
   ],
   "execution_count": 171
  },
  {
   "cell_type": "code",
   "metadata": {
    "cell_id": "d9591bb030d94e4bad87cae70a9b2d3a",
    "tags": [],
    "deepnote_to_be_reexecuted": false,
    "source_hash": "2595de96",
    "execution_start": 1658440558536,
    "execution_millis": 20,
    "owner_user_id": "7e8fa094-2b4d-44b2-b4b4-0e90a0034eb2",
    "deepnote_cell_type": "code",
    "deepnote_cell_height": 99
   },
   "source": "#Usar esta lista de atributos neste nível: ['props']['pageProps']['pageData']['content']\nlista_attr_l0 = ['potencia', 'name', 'stock_status', 'codigo_barra', 'is_openbox']",
   "execution_count": 145,
   "outputs": []
  },
  {
   "cell_type": "code",
   "source": "for i in lista_attr_l0:\n    print(jsn['props']['pageProps']['pageData']['content'][i])",
   "metadata": {
    "cell_id": "20889025515d48348654c00b3d555167",
    "tags": [],
    "deepnote_to_be_reexecuted": false,
    "source_hash": "58ffd33f",
    "execution_start": 1658439147211,
    "execution_millis": 348,
    "deepnote_cell_type": "code",
    "deepnote_cell_height": 210.9375
   },
   "outputs": [
    {
     "name": "stdout",
     "text": "65\nProcessador AMD Ryzen 5 5600, 6-Core, 12-Threads, 3.5GHz (4.4GHz Turbo), Cache 35MB, AM4, 100-100000927BOX\nIN_STOCK\n0730143314190\n0\n",
     "output_type": "stream"
    }
   ],
   "execution_count": 122
  },
  {
   "cell_type": "code",
   "source": "#Usar esta lista de atributos neste nível: ['props']['pageProps']['pageData']['content']['mysales_promotion']\nlista_attr_l1 = ['promotion_name', 'qty_available', 'qty_sold', 'expire_at']",
   "metadata": {
    "cell_id": "c7366807be2e4a688c6dc1fbb2b0837d",
    "tags": [],
    "deepnote_to_be_reexecuted": false,
    "source_hash": "316b3b65",
    "execution_start": 1658438691466,
    "execution_millis": 763,
    "deepnote_cell_type": "code",
    "deepnote_cell_height": 99
   },
   "outputs": [],
   "execution_count": 119
  },
  {
   "cell_type": "code",
   "source": "for i in lista_attr_l1:\n    print(jsn['props']['pageProps']['pageData']['content']['mysales_promotion'][i])",
   "metadata": {
    "cell_id": "11d36b02c45a46fd8cd6afd1528c17c8",
    "tags": [],
    "deepnote_to_be_reexecuted": false,
    "source_hash": "20a3e32e",
    "execution_start": 1658438692234,
    "execution_millis": 23,
    "deepnote_cell_type": "code",
    "deepnote_cell_height": 190.75
   },
   "outputs": [
    {
     "name": "stdout",
     "text": "Ferias com o Pombo\n83\n264\n2022-08-01 17:00:00\n",
     "output_type": "stream"
    }
   ],
   "execution_count": 120
  },
  {
   "cell_type": "code",
   "source": "jsn['props']['pageProps']['pageData']['content']['mysales_promotion']",
   "metadata": {
    "cell_id": "75457ffa03564a5abe915239db3f177a",
    "tags": [],
    "deepnote_to_be_reexecuted": false,
    "source_hash": "fd917070",
    "execution_start": 1658438480064,
    "execution_millis": 27,
    "deepnote_cell_type": "code",
    "deepnote_cell_height": 252.5,
    "deepnote_output_heights": [
     155.5
    ]
   },
   "outputs": [
    {
     "output_type": "execute_result",
     "execution_count": 111,
     "data": {
      "text/plain": "{'expire_at': '2022-08-01 17:00:00',\n 'price_discount': 25.22,\n 'price_promotional': 1269.32,\n 'promotion_name': 'Ferias com o Pombo',\n 'promotion_url': 'promocao/feriaspombo',\n 'qty_available': 83,\n 'qty_sold': 264,\n '__typename': 'MySalesPromotionProduct'}"
     },
     "metadata": {}
    }
   ],
   "execution_count": 111
  },
  {
   "cell_type": "code",
   "metadata": {
    "cell_id": "83cf7081533d46e89d1c00f38a31e2a8",
    "tags": [],
    "deepnote_cell_type": "code",
    "deepnote_cell_height": 156
   },
   "source": "#moeda: ['props']['pageProps']['pageData']['content']['price_range']['minimum_price']['final_price']['currency']\n#value_promocional: ['props']['pageProps']['pageData']['content']['price_range']['minimum_price']['final_price']['value']\n\n#moeda: jsn['props']['pageProps']['pageData']['content']['price_range']['minimum_price']['regular_price']['currency']\n#value_regular: jsn['props']['pageProps']['pageData']['content']['price_range']['minimum_price']['regular_price']['value']\n",
   "execution_count": null,
   "outputs": []
  },
  {
   "cell_type": "code",
   "metadata": {
    "cell_id": "9500aa56dedb444da3eef608f9b091cb",
    "tags": [],
    "deepnote_to_be_reexecuted": false,
    "source_hash": "14fa0952",
    "execution_start": 1658435702266,
    "execution_millis": 2,
    "deepnote_cell_type": "code",
    "deepnote_cell_height": 186.375,
    "deepnote_output_heights": [
     193.875
    ]
   },
   "source": "galeria = jsn['props']['pageProps']['pageData']['content']['media_gallery']]\nlimit = 6\nfor i in galeria [:min(len(galeria), limit)]:\n    print(i['url'])",
   "execution_count": 71,
   "outputs": [
    {
     "name": "stdout",
     "text": "https://media.pichau.com.br/media/catalog/product/cache/2f958555330323e505eba7ce930bdf27/1/0/100-100000927box_1.jpg\nhttps://media.pichau.com.br/media/catalog/product/cache/2f958555330323e505eba7ce930bdf27/1/0/100-100000927box1_1.jpg\n",
     "output_type": "stream"
    }
   ]
  },
  {
   "cell_type": "code",
   "metadata": {
    "cell_id": "ca5eabaf6852453aaa1612c8dc60283f",
    "tags": [],
    "deepnote_cell_type": "code",
    "deepnote_cell_height": 66
   },
   "source": "",
   "execution_count": null,
   "outputs": []
  },
  {
   "cell_type": "code",
   "metadata": {
    "cell_id": "837c872b125a4d26a06143694ee5e2e9",
    "tags": [],
    "deepnote_to_be_reexecuted": false,
    "source_hash": "609bf1ce",
    "execution_start": 1658435850696,
    "execution_millis": 32,
    "deepnote_cell_type": "code",
    "deepnote_cell_height": 704,
    "deepnote_output_heights": [
     607
    ]
   },
   "source": "jsn['props']['pageProps']['pageData']['content']",
   "execution_count": 74,
   "outputs": [
    {
     "output_type": "execute_result",
     "execution_count": 74,
     "data": {
      "text/plain": "{'id': 31200,\n 'sku': '100-100000927BOX',\n 'url_key': 'processador-amd-ryzen-5-5600-6-core-12-threads-3-5ghz-4-4ghz-turbo-cache-35mb-am4-100-100000927box',\n 'name': 'Processador AMD Ryzen 5 5600, 6-Core, 12-Threads, 3.5GHz (4.4GHz Turbo), Cache 35MB, AM4, 100-100000927BOX',\n 'special_price': 1269.32,\n 'socket': '539',\n 'hide_from_search': 0,\n 'is_openbox': 0,\n 'openbox_state': None,\n 'openbox_condition': None,\n 'tipo_de_memoria': None,\n 'caracteristicas': None,\n 'slots_memoria': None,\n 'marcas': 116,\n 'marcas_info': {'name': 'AMD', '__typename': 'MarcasProduct'},\n 'formato_placa': None,\n 'plataforma': '7',\n 'portas_sata': None,\n 'slot_cooler_120': None,\n 'slot_cooler_80': None,\n 'slot_cooler_140': None,\n 'slot_cooler_200': None,\n 'coolerbox_included': 1,\n 'potencia': '65',\n 'quantidade_pacote': None,\n 'alerta_monteseupc': None,\n 'vgaintegrado': 153,\n 'product_set_name': 'Processador',\n 'categories': [{'name': 'Hardware', '__typename': 'CategoryTree'},\n  {'name': 'Processadores', '__typename': 'CategoryTree'},\n  {'name': 'AMD', '__typename': 'CategoryTree'}],\n 'price_range': {'minimum_price': {'final_price': {'currency': 'BRL',\n    'value': 1269.32,\n    '__typename': 'Money'},\n   'regular_price': {'currency': 'BRL',\n    'value': 1697.3,\n    '__typename': 'Money'},\n   '__typename': 'ProductPrice'},\n  'maximum_price': {'final_price': {'currency': 'BRL',\n    'value': 1269.32,\n    '__typename': 'Money'},\n   'regular_price': {'currency': 'BRL',\n    'value': 1697.3,\n    '__typename': 'Money'},\n   '__typename': 'ProductPrice'},\n  '__typename': 'PriceRange'},\n 'description': {'html': '', '__typename': 'ComplexTextValue'},\n 'garantia': '12 Meses',\n 'informacoes_adicionais': '<table class=\"table table-specification\" cellspacing=\"0\">\\r\\n<tbody>\\r\\n<tr>\\r\\n<th scope=\"row\" class=\"name-field Marca\"> Marca:</th>\\r\\n<td class=\"value-field Marca\"> AMD </td>\\r\\n</tr>\\r\\n<tr>\\r\\n<th scope=\"row\" class=\"name-field Modelo\"> Modelo:</th>\\r\\n<td class=\"value-field Modelo\"> 100-100000927BOX </td>\\r\\n</tr>\\r\\n<tr>\\r\\n<th scope=\"row\" class=\"name-field Soquete\"> Soquete: </th>\\r\\n<td class=\"value-field Soquete\"> AM4 </td>\\r\\n</tr>\\r\\n<tr>\\r\\n<th scope=\"row\" class=\"name-field Nucleos\"> Núcleos: </th>\\r\\n<td class=\"value-field Nucleos\"> 6 </td>\\r\\n</tr>\\r\\n<tr>\\r\\n<th scope=\"row\" class=\"name-field Threads\"> Threads: </th>\\r\\n<td class=\"value-field Threads\"> 12 </td>\\r\\n</tr>\\r\\n<tr>\\r\\n<th scope=\"row\" class=\"name-field Frequencia\"> Frequência: </th>\\r\\n<td class=\"value-field Frequencia\"> 3.5 GHz </td>\\r\\n</tr>\\r\\n<tr>\\r\\n<th scope=\"row\" class=\"name-field Frequencia-max\"> Frequência Max Turbo: </th>\\r\\n<td class=\"value-field Frequencia-max\"> 4,4 GHz </td>\\r\\n</tr>\\r\\n<tr>\\r\\n<th scope=\"row\" class=\"name-field Cache-l2\"> Cache L2: </th>\\r\\n<td class=\"value-field Cache-l2\"> 3MB </td>\\r\\n</tr>\\r\\n<tr>\\r\\n<th scope=\"row\" class=\"name-field Cache-l3\"> Cache L3: </th>\\r\\n<td class=\"value-field Cache-l3\"> 32MB </td>\\r\\n</tr>\\r\\n<tr>\\r\\n<th scope=\"row\" class=\"name-field Cmos\"> CMOS: </th>\\r\\n<td class=\"value-field Cmos\"> TSMC 7nm FinFET </td>\\r\\n</tr>\\r\\n<tr>\\r\\n<th scope=\"row\" class=\"name-field Versao\"> Versão do PCI Express: </th>\\r\\n<td class=\"value-field Versao\"> PCIe 4.0 </td>\\r\\n</tr>\\r\\n<tr>\\r\\n<th scope=\"row\" class=\"name-field Memoria\"> Memória: </th>\\r\\n<td class=\"value-field Memoria\"> Velocidade máxima: 2x1R: DDR4-3200<br>\\r\\n2x2R: DDR4-3200<br>\\r\\n4x1R: DDR4-2933<br>\\r\\n4x2R: DDR4-2667<br><br>\\r\\nTipo: DDR4 </td>\\r\\n</tr>\\r\\n<tr>\\r\\n<th scope=\"row\" class=\"name-field Tecnologias\"> Tecnologias compatíveis: </th>\\r\\n<td class=\"value-field Tecnologias\"> Tecnologia AMD StoreMI <br>\\r\\nAMD \"Zen 3\" Core Architecture<br>\\r\\nAMD Ryzen™ VR-Ready Premium </td>\\r\\n</tr>\\r\\n<tr>\\r\\n<th scope=\"row\" class=\"name-field Solucao\"> Solução térmica: </th>\\r\\n<td class=\"value-field Solucao\"> AMD Wraith Stealth </td>\\r\\n</tr>\\r\\n<tr>\\r\\n<th scope=\"row\" class=\"name-field Tdp\"> TDP / TDP Padrão: </th>\\r\\n<td class=\"value-field Tdp\"> 65W </td>\\r\\n</tr>\\r\\n</tbody>\\r\\n</table>',\n 'image': {'url': 'https://media.pichau.com.br/media/catalog/product/cache/2f958555330323e505eba7ce930bdf27/1/0/100-100000927box_1.jpg',\n  'url_listing': 'https://media.pichau.com.br/media/catalog/product/cache/ef72d3c27864510e5d4c0ce69bade259/1/0/100-100000927box_1.jpg',\n  'path': '/1/0/100-100000927box_1.jpg',\n  'label': 'Processador AMD Ryzen 5 5600, 6-Core, 12-Threads, 3.5GHz (4.4GHz Turbo), Cache 35MB, AM4, 100-100000927BOX',\n  '__typename': 'ProductImage'},\n 'media_gallery': [{'url': 'https://media.pichau.com.br/media/catalog/product/cache/2f958555330323e505eba7ce930bdf27/1/0/100-100000927box_1.jpg',\n   'path': '/1/0/100-100000927box_1.jpg',\n   'label': None,\n   'position': 1,\n   '__typename': 'ProductImage'},\n  {'url': 'https://media.pichau.com.br/media/catalog/product/cache/2f958555330323e505eba7ce930bdf27/1/0/100-100000927box1_1.jpg',\n   'path': '/1/0/100-100000927box1_1.jpg',\n   'label': None,\n   'position': 2,\n   '__typename': 'ProductImage'}],\n 'short_description': {'html': '', '__typename': 'ComplexTextValue'},\n 'amasty_label': None,\n 'reviews': {'rating': 100, 'count': 2, '__typename': 'ProductReviews'},\n 'dailydeal_info': None,\n 'mysales_promotion': {'expire_at': '2022-08-01 17:00:00',\n  'price_discount': 25.22,\n  'price_promotional': 1269.32,\n  'promotion_name': 'Ferias com o Pombo',\n  'promotion_url': 'promocao/feriaspombo',\n  'qty_available': 83,\n  'qty_sold': 264,\n  '__typename': 'MySalesPromotionProduct'},\n 'only_x_left_in_stock': None,\n 'stock_status': 'IN_STOCK',\n 'codigo_barra': '0730143314190',\n 'codigo_ncm': '85423120',\n 'meta_title': 'Processador AMD Ryzen 5 5600, 6-Core, 12-Threads, 3.5GHz (4.4GHz Turbo), Cache 35MB, AM4, 100-100000927BOX',\n 'meta_keyword': 'Processador AMD Ryzen 5 5600, 6-Core, 12-Threads, 3.5GHz (4.4GHz Turbo), Cache 35MB, AM4, 100-100000927BOX',\n 'meta_description': 'Processador AMD Ryzen 5 5600, 6-Core, 12-Threads, 3.5GHz (4.4GHz Turbo), Cache 35MB, AM4, 100-100000927BOX, Soquete AM4, Núcleos 6, Pichau info',\n '__typename': 'SimpleProduct'}"
     },
     "metadata": {}
    }
   ]
  },
  {
   "cell_type": "code",
   "metadata": {
    "cell_id": "3e9a85c0e78a4a31844d123ffa361644",
    "tags": [],
    "deepnote_to_be_reexecuted": false,
    "source_hash": "5633099c",
    "execution_start": 1658438639896,
    "execution_millis": 309,
    "deepnote_cell_type": "code",
    "deepnote_cell_height": 884,
    "deepnote_output_heights": [
     607
    ]
   },
   "source": "#teste url\nr_teste = requests.get('https://www.kabum.com.br/produto/320798/processador-amd-ryzen-5-5600-cache-35mb-3-5ghz-4-4ghz-max-turbo-am4-sem-video-100-100000927box', headers=header)\nr_teste.status_code\n\nhtml_doc_teste = r_teste.text\nsoup_teste = BeautifulSoup(html_doc_teste, 'html.parser')\nall_data_teste = soup_teste.find('script', {'type':'application/json'})\njsn_teste = json.loads(all_data_teste.string)\njsn_teste\n\n",
   "execution_count": 116,
   "outputs": [
    {
     "output_type": "execute_result",
     "execution_count": 116,
     "data": {
      "text/plain": "{'props': {'pageProps': {'flagBlackFriday': False,\n   'data': {'offerBannerImage': 'https://themes.kabum.com.br/conteudo/oferta/108/banner/julho-gamer_descricao.jpg',\n    'productCatalog': '{\"code\":320798,\"productSpecie\":0,\"name\":\"Processador AMD Ryzen 5 5600, Cache 35MB, 3.5GHz (4.4GHz Max Turbo), AM4, Sem Vídeo - 100-100000927BOX\",\"description\":\"<h2>Processador AMD Ryzen 5 5600</h2>\\\\n<p>&nbsp;</p>\\\\n<p>Quando voc&ecirc; tem a arquitetura de processador&nbsp;de desktop&nbsp;mais avan&ccedil;ada do mundo2&nbsp;para jogadores e criadores de conte&uacute;do, as possibilidades s&atilde;o infinitas. Esteja voc&ecirc; jogando os jogos mais recentes, projetando o pr&oacute;ximo pr&eacute;dio ou processando dados, voc&ecirc; precisa de um processador poderoso que possa lidar com tudo - e muito mais. Sem d&uacute;vida, os processadores AMD Ryzen &trade; s&eacute;rie 5000 definem o padr&atilde;o para jogadores e artistas.</p>\\\\n<p>&nbsp;</p>\\\\n<h2>A ferramenta certa para o trabalho</h2>\\\\n<div>\\\\n<p>Quando voc&ecirc; tem o processador mais avan&ccedil;ado do mundo para designers e criadores de conte&uacute;do, as possibilidades s&atilde;o infinitas. Esteja voc&ecirc; projetando o pr&oacute;ximo arranha-c&eacute;u ou animando um personagem complexo, voc&ecirc; precisa de um processador poderoso que possa lidar com todo o espectro de demandas de computa&ccedil;&atilde;o do seu fluxo de trabalho.</p>\\\\n<h3><br />Processador AMD &eacute; no KaBuM!</h3>\\\\n</div>\",\"tagDescription\":\"Sem dúvida, os processadores AMD Ryzen Série 5000 definem o padrão para artistas e engenheiros que buscam desempenho. Garanta já o seu no KaBuM!\",\"weight\":450,\"friendlyName\":\"processador-amd-ryzen-5-5600-cache-35mb-3-5ghz-4-4ghz-max-turbo-am4-sem-video-100-100000927box\",\"sellerName\":\"KaBuM!\",\"sellerId\":0,\"offerIdMarketplace\":0,\"category\":\"Hardware/Processadores/Processador AMD\",\"externalUrl\":\"\",\"manufacturer\":{\"id\":5,\"name\":\"Amd\",\"img\":\"https://images4.kabum.com.br/produtos/fabricantes/logo-amd.jpg\"},\"iframeUrl\":\"\",\"image\":\"h\",\"images\":[\"https://images.kabum.com.br/produtos/fotos/320798/processador-amd-ryzen-5-5600-cache-35mb-3-7ghz-4-4ghz-max-turbo-am4-100-100000927box_1647636743_original.jpg\",\"https://images.kabum.com.br/produtos/fotos/320798/processador-amd-ryzen-5-5600-cache-35mb-3-7ghz-4-4ghz-max-turbo-am4-100-100000927box_1647636744_original.jpg\"],\"price\":1646.94,\"primePrice\":0,\"primePriceWithDiscount\":0,\"discountPercentagePrime\":0,\"oldPrice\":1646.94,\"oldPrimePrice\":1646.94,\"priceWithDiscount\":1399.9,\"priceMarketplace\":0,\"discountPercentage\":15,\"quantity\":68,\"rating\":5,\"ratingCount\":21,\"available\":true,\"preOrderDate\":0,\"warranty\":\"1 ano de garantia (9 meses de garantia contratual junto ao fabricante + 3 meses referentes à garantia legal, nos termos do artigo 26, II, do Código de Defesa do Consumidor)\",\"dateProductArrived\":null,\"html\":\"<p><strong><strong>Caracter&iacute;sticas:</strong></strong><br />- Marca: AMD<br />- Modelo: 100-100000927BOX</p>\\\\r\\\\n<p class=\\\\\"MsoNormal\\\\\"><br /><strong><strong><strong>Especifica&ccedil;&otilde;es:</strong></strong><br /></strong></p>\\\\r\\\\n<p class=\\\\\"MsoNormal\\\\\">- Arquitetura: \\\\\"Zen 3\\\\\"</p>\\\\r\\\\n<p class=\\\\\"MsoNormal\\\\\">- N&ordm; de n&uacute;cleos de CPU: 6</p>\\\\r\\\\n<p class=\\\\\"MsoNormal\\\\\">- Multithreading (SMT): sim</p>\\\\r\\\\n<p class=\\\\\"MsoNormal\\\\\">- N&ordm; de threads: 12</p>\\\\r\\\\n<p class=\\\\\"MsoNormal\\\\\">- Clock Max Boost: At&eacute; 4.4GHz</p>\\\\r\\\\n<p class=\\\\\"MsoNormal\\\\\">- Clock b&aacute;sico: 3,5 GHz</p>\\\\r\\\\n<p class=\\\\\"MsoNormal\\\\\">- Cach&ecirc; L1 total: 384 KB</p>\\\\r\\\\n<p class=\\\\\"MsoNormal\\\\\">- Cach&ecirc; L2 total: 3 MB</p>\\\\r\\\\n<p class=\\\\\"MsoNormal\\\\\">- Cach&ecirc; L3 total: 32 MB</p>\\\\r\\\\n<p class=\\\\\"MsoNormal\\\\\">- TDP / TDP Padr&atilde;o: 65 W</p>\\\\r\\\\n<p class=\\\\\"MsoNormal\\\\\">- Tecnologia de processador para n&uacute;cleos de CPU: TSMC 7nm FinFET</p>\\\\r\\\\n<p class=\\\\\"MsoNormal\\\\\">- Processor Technology for I/O Die: 12nm (Globalfoundries)</p>\\\\r\\\\n<p class=\\\\\"MsoNormal\\\\\">- Tamanho da matriz de computa&ccedil;&atilde;o da CPU (CCD): 74mm&sup2;</p>\\\\r\\\\n<p class=\\\\\"MsoNormal\\\\\">- Tamanho da matriz de E/S (IOD): 125mm&sup2;</p>\\\\r\\\\n<p class=\\\\\"MsoNormal\\\\\">- Soquete da CPU: AM4</p>\\\\r\\\\n<p class=\\\\\"MsoNormal\\\\\">- Contagem de soquetes: 1P</p>\\\\r\\\\n<p class=\\\\\"MsoNormal\\\\\">- Tecnologia de aumento de CPU</p>\\\\r\\\\n<p class=\\\\\"MsoNormal\\\\\">- Aumento de precis&atilde;o 2</p>\\\\r\\\\n<p class=\\\\\"MsoNormal\\\\\">- Conjunto de instru&ccedil;&otilde;es: x86-64</p>\\\\r\\\\n<p class=\\\\\"MsoNormal\\\\\">- Extens&otilde;es compat&iacute;veis:&nbsp;<span>AES, AMD-V, AVX, AVX2, FMA3, MMX(+), SHA, SSE, SSE2, SSE3, SSE4.1, SSE4.2, SSE4A, SSSE3, x86-64</span></p>\\\\r\\\\n<p class=\\\\\"MsoNormal\\\\\">- Solu&ccedil;&atilde;o t&eacute;rmica (PIB):&nbsp;<span>AMD Wraith Stealth</span></p>\\\\r\\\\n<p class=\\\\\"MsoNormal\\\\\">- Tempo m&aacute;ximo: 90&deg;C</p>\\\\r\\\\n<p class=\\\\\"MsoNormal\\\\\">&nbsp;</p>\\\\r\\\\n<p class=\\\\\"MsoNormal\\\\\"><strong><strong>*Suporte de SO:</strong></strong><br />- Edi&ccedil;&atilde;o Windows 11 - 64-Bit</p>\\\\r\\\\n<p class=\\\\\"MsoNormal\\\\\">- Edi&ccedil;&atilde;o Windows 10 - 64-Bit</p>\\\\r\\\\n<p class=\\\\\"MsoNormal\\\\\">- RHEL x86 64 bits</p>\\\\r\\\\n<p class=\\\\\"MsoNormal\\\\\">- Ubuntu x86 64 bits</p>\\\\r\\\\n<p class=\\\\\"MsoNormal\\\\\"><strong></strong></p>\\\\r\\\\n<p class=\\\\\"MsoNormal\\\\\">*O suporte ao sistema operacional (SO) poder&aacute; variar de acordo com o fabricante.</p>\\\\r\\\\n<p class=\\\\\"MsoNormal\\\\\">&nbsp;</p>\\\\r\\\\n<p class=\\\\\"MsoNormal\\\\\"><strong><strong>Chipsets de suporte:</strong></strong><br />- X570</p>\\\\r\\\\n<p class=\\\\\"MsoNormal\\\\\">- X470</p>\\\\r\\\\n<p class=\\\\\"MsoNormal\\\\\">-&nbsp;<span>X370</span></p>\\\\r\\\\n<p class=\\\\\"MsoNormal\\\\\">- B550</p>\\\\r\\\\n<p class=\\\\\"MsoNormal\\\\\">- B450</p>\\\\r\\\\n<p class=\\\\\"MsoNormal\\\\\">-&nbsp;<span>B350</span></p>\\\\r\\\\n<p class=\\\\\"MsoNormal\\\\\">- A520</p>\\\\r\\\\n<p class=\\\\\"MsoNormal\\\\\">&nbsp;</p>\\\\r\\\\n<p class=\\\\\"MsoNormal\\\\\"><strong><strong>Mem&oacute;ria:</strong></strong></p>\\\\r\\\\n<p class=\\\\\"MsoNormal\\\\\">- Suporte a USB Tipo C: sim</p>\\\\r\\\\n<p class=\\\\\"MsoNormal\\\\\">- Portas nativas USB 3.2 Gen 2 (10 Gbps): 4</p>\\\\r\\\\n<p class=\\\\\"MsoNormal\\\\\">- Portas nativas USB 3.2 Gen 1 (5 Gbps): 0</p>\\\\r\\\\n<p class=\\\\\"MsoNormal\\\\\">- Portas nativas USB 2.0 (480Mbps): 0</p>\\\\r\\\\n<p class=\\\\\"MsoNormal\\\\\">- Portas SATA nativas: 2</p>\\\\r\\\\n<p class=\\\\\"MsoNormal\\\\\">- Vers&atilde;o do PCI Express: PCIe 4.0</p>\\\\r\\\\n<p class=\\\\\"MsoNormal\\\\\">- Pistas PCIe nativas (total/utiliz&aacute;vel): 24/20</p>\\\\r\\\\n<p class=\\\\\"MsoNormal\\\\\">- Suporte NVMe: Boot, RAID0, RAID1, RAID10</p>\\\\r\\\\n<p class=\\\\\"MsoNormal\\\\\">- Tipo de mem&oacute;ria: DDR4</p>\\\\r\\\\n<p class=\\\\\"MsoNormal\\\\\">- Canais de mem&oacute;ria: 2</p>\\\\r\\\\n<p class=\\\\\"MsoNormal\\\\\">- M&aacute;x. Mem&oacute;ria: 128 GB</p>\\\\r\\\\n<p class=\\\\\"MsoNormal\\\\\">- Subtipo de mem&oacute;ria do sistema: UDIMM</p>\\\\r\\\\n<p class=\\\\\"MsoNormal\\\\\">-&nbsp;<span>Velocidade m&aacute;xima da mem&oacute;ria:&nbsp;</span>Up to 3200MHz</p>\\\\r\\\\n<p class=\\\\\"MsoNormal\\\\\">&nbsp;</p>\\\\r\\\\n<p class=\\\\\"MsoNormal\\\\\"><strong><strong>PCIe utiliz&aacute;veis &#8203;&#8203;adicionais da placa-m&atilde;e</strong></strong></p>\\\\r\\\\n<p class=\\\\\"MsoNormal\\\\\">- AMD X570: 16x Gera&ccedil;&atilde;o 4</p>\\\\r\\\\n<p class=\\\\\"MsoNormal\\\\\">- AMD X470: 2x Gera&ccedil;&atilde;o 3</p>\\\\r\\\\n<p class=\\\\\"MsoNormal\\\\\">- AMD X470: 8x Gera&ccedil;&atilde;o 2</p>\\\\r\\\\n<p class=\\\\\"MsoNormal\\\\\">&nbsp;</p>\\\\r\\\\n<p class=\\\\\"MsoNormal\\\\\"><strong><strong>Velocidade m&aacute;xima de mem&oacute;ria</strong></strong></p>\\\\r\\\\n<p class=\\\\\"MsoNormal\\\\\">- 2x1R: DDR4-3200</p>\\\\r\\\\n<p class=\\\\\"MsoNormal\\\\\">- 2x2R: DDR4-3200</p>\\\\r\\\\n<p class=\\\\\"MsoNormal\\\\\">- 4x1R: DDR4-2933</p>\\\\r\\\\n<p class=\\\\\"MsoNormal\\\\\">- 4x2R: DDR4-2667</p>\\\\r\\\\n<p class=\\\\\"MsoNormal\\\\\">&nbsp;</p>\\\\r\\\\n<p class=\\\\\"MsoNormal\\\\\"><strong><strong>Tecnologias compat&iacute;veis</strong></strong></p>\\\\r\\\\n<p class=\\\\\"MsoNormal\\\\\">- Arquitetura de n&uacute;cleo AMD \\\\\"Zen 3\\\\\"</p>\\\\r\\\\n<p class=\\\\\"MsoNormal\\\\\">- Premium AMD Ryzen&trade; VR-Ready</p>\\\\r\\\\n<p class=\\\\\"MsoNormal\\\\\"><strong><strong><br /></strong><strong>Conte&uacute;do da Embalagem:&nbsp;</strong></strong><br />- 01 x&nbsp;<span>Processador AMD Ryzen 5 5600, Cache 35MB, 3.5GHz (4.4GHz Max Turbo), AM4, Sem V&iacute;deo&nbsp;</span></p>\",\"ufsFlash\":[],\"flags\":{\"isMarketplace\":false,\"isOpenbox\":false,\"isFreeShipping\":false,\"isFreeShippingPrime\":false,\"isPixShipping\":false,\"isPreOrder\":false,\"isFlash\":false,\"isPrime\":false,\"isOffer\":true,\"hasGift\":false},\"origin\":{\"id\":null,\"name\":null},\"prime\":null,\"offer\":{\"id\":\"582632\",\"name\":\"Julho Gamer\",\"referenceBanner\":\"julhogamer\",\"endsAt\":1659351600,\"startsAt\":1657796280,\"price\":1341.06,\"priceWithDiscount\":1139.9,\"discountPercentage\":18,\"quantityAvailable\":68,\"hashCode\":\"1381bebbb18863cae0da9796d353ba0d9a6c5396\"},\"paymentMethodsDefault\":[{\"category\":\"boleto\",\"method\":\"Boleto Bancário\",\"bestInstallment\":null,\"installments\":[{\"id\":1,\"paymentTerms\":\"Até 15% de desconto\",\"installment\":1,\"amount\":1139.9,\"total\":1139.9,\"hasFee\":false}]},{\"category\":\"cartao\",\"method\":\"Cartão de Crédito\",\"bestInstallment\":null,\"installments\":[{\"id\":59,\"paymentTerms\":\"À vista - Até 10% de desconto\",\"installment\":1,\"amount\":1206.95,\"total\":1206.95,\"hasFee\":false},{\"id\":4,\"paymentTerms\":\"2x sem juros\",\"installment\":2,\"amount\":670.53,\"total\":1341.06,\"hasFee\":false},{\"id\":5,\"paymentTerms\":\"3x sem juros\",\"installment\":3,\"amount\":447.02,\"total\":1341.06,\"hasFee\":false},{\"id\":6,\"paymentTerms\":\"4x sem juros\",\"installment\":4,\"amount\":335.26,\"total\":1341.06,\"hasFee\":false},{\"id\":7,\"paymentTerms\":\"5x sem juros\",\"installment\":5,\"amount\":268.21,\"total\":1341.06,\"hasFee\":false},{\"id\":8,\"paymentTerms\":\"6x sem juros\",\"installment\":6,\"amount\":223.51,\"total\":1341.06,\"hasFee\":false},{\"id\":42,\"paymentTerms\":\"7x sem juros\",\"installment\":7,\"amount\":191.58,\"total\":1341.06,\"hasFee\":false},{\"id\":43,\"paymentTerms\":\"8x sem juros\",\"installment\":8,\"amount\":167.63,\"total\":1341.06,\"hasFee\":false},{\"id\":44,\"paymentTerms\":\"9x sem juros\",\"installment\":9,\"amount\":149,\"total\":1341.06,\"hasFee\":false},{\"id\":45,\"paymentTerms\":\"10x sem juros\",\"installment\":10,\"amount\":134.1,\"total\":1341.06,\"hasFee\":false},{\"id\":55,\"paymentTerms\":\"11x com juros\",\"installment\":11,\"amount\":123.49,\"total\":1358.49,\"hasFee\":true},{\"id\":56,\"paymentTerms\":\"12x com juros\",\"installment\":12,\"amount\":114.66,\"total\":1375.93,\"hasFee\":true}]},{\"category\":\"paypal\",\"method\":\"PayPal\",\"bestInstallment\":null,\"installments\":[{\"id\":67,\"paymentTerms\":\"PayPal\",\"installment\":1,\"amount\":1341.06,\"total\":1341.06,\"hasFee\":false}]},{\"category\":\"pix\",\"method\":\"PIX\",\"bestInstallment\":null,\"installments\":[{\"id\":98,\"paymentTerms\":\"À vista\",\"installment\":1,\"amount\":1139.9,\"total\":1139.9,\"hasFee\":false}]},{\"category\":\"cobranded\",\"method\":\"Cartão de Crédito KaBuM!\",\"bestInstallment\":{\"installment\":1,\"discountPercentage\":15,\"amount\":1139.9,\"hasFee\":false},\"installments\":[{\"id\":99,\"paymentTerms\":\"À vista - Até 15% de desconto\",\"installment\":1,\"amount\":1139.9,\"total\":1139.9,\"hasFee\":false},{\"id\":101,\"paymentTerms\":\"2x sem juros\",\"installment\":2,\"amount\":670.53,\"total\":1341.06,\"hasFee\":false},{\"id\":102,\"paymentTerms\":\"3x sem juros\",\"installment\":3,\"amount\":447.02,\"total\":1341.06,\"hasFee\":false},{\"id\":103,\"paymentTerms\":\"4x sem juros\",\"installment\":4,\"amount\":335.26,\"total\":1341.06,\"hasFee\":false},{\"id\":104,\"paymentTerms\":\"5x sem juros\",\"installment\":5,\"amount\":268.21,\"total\":1341.06,\"hasFee\":false},{\"id\":105,\"paymentTerms\":\"6x sem juros\",\"installment\":6,\"amount\":223.51,\"total\":1341.06,\"hasFee\":false},{\"id\":106,\"paymentTerms\":\"7x sem juros\",\"installment\":7,\"amount\":191.58,\"total\":1341.06,\"hasFee\":false},{\"id\":107,\"paymentTerms\":\"8x sem juros\",\"installment\":8,\"amount\":167.63,\"total\":1341.06,\"hasFee\":false},{\"id\":108,\"paymentTerms\":\"9x sem juros\",\"installment\":9,\"amount\":149,\"total\":1341.06,\"hasFee\":false},{\"id\":109,\"paymentTerms\":\"10x sem juros\",\"installment\":10,\"amount\":134.1,\"total\":1341.06,\"hasFee\":false},{\"id\":110,\"paymentTerms\":\"11x sem juros\",\"installment\":11,\"amount\":121.91,\"total\":1341.06,\"hasFee\":false},{\"id\":111,\"paymentTerms\":\"12x sem juros\",\"installment\":12,\"amount\":111.75,\"total\":1341.06,\"hasFee\":false},{\"id\":112,\"paymentTerms\":\"13x com juros\",\"installment\":13,\"amount\":116.56,\"total\":1515.4,\"hasFee\":true},{\"id\":113,\"paymentTerms\":\"14x com juros\",\"installment\":14,\"amount\":109.2,\"total\":1528.81,\"hasFee\":true},{\"id\":114,\"paymentTerms\":\"15x com juros\",\"installment\":15,\"amount\":102.81,\"total\":1542.22,\"hasFee\":true},{\"id\":115,\"paymentTerms\":\"16x com juros\",\"installment\":16,\"amount\":97.22,\"total\":1555.63,\"hasFee\":true},{\"id\":116,\"paymentTerms\":\"17x com juros\",\"installment\":17,\"amount\":92.29,\"total\":1569.04,\"hasFee\":true},{\"id\":117,\"paymentTerms\":\"18x com juros\",\"installment\":18,\"amount\":87.91,\"total\":1582.45,\"hasFee\":true},{\"id\":118,\"paymentTerms\":\"19x com juros\",\"installment\":19,\"amount\":83.99,\"total\":1595.86,\"hasFee\":true},{\"id\":119,\"paymentTerms\":\"20x com juros\",\"installment\":20,\"amount\":80.46,\"total\":1609.27,\"hasFee\":true},{\"id\":120,\"paymentTerms\":\"21x com juros\",\"installment\":21,\"amount\":77.27,\"total\":1622.68,\"hasFee\":true},{\"id\":121,\"paymentTerms\":\"22x com juros\",\"installment\":22,\"amount\":74.36,\"total\":1636.09,\"hasFee\":true},{\"id\":122,\"paymentTerms\":\"23x com juros\",\"installment\":23,\"amount\":71.71,\"total\":1649.5,\"hasFee\":true},{\"id\":123,\"paymentTerms\":\"24x com juros\",\"installment\":24,\"amount\":69.28,\"total\":1662.91,\"hasFee\":true}]}],\"paymentMethodsPrime\":null,\"photos\":{\"p\":[\"https://images.kabum.com.br/produtos/fotos/320798/processador-amd-ryzen-5-5600-cache-35mb-3-7ghz-4-4ghz-max-turbo-am4-100-100000927box_1647636743_p.jpg\",\"https://images.kabum.com.br/produtos/fotos/320798/processador-amd-ryzen-5-5600-cache-35mb-3-7ghz-4-4ghz-max-turbo-am4-100-100000927box_1647636744_p.jpg\"],\"m\":[\"https://images.kabum.com.br/produtos/fotos/320798/processador-amd-ryzen-5-5600-cache-35mb-3-7ghz-4-4ghz-max-turbo-am4-100-100000927box_1647636743_m.jpg\",\"https://images.kabum.com.br/produtos/fotos/320798/processador-amd-ryzen-5-5600-cache-35mb-3-7ghz-4-4ghz-max-turbo-am4-100-100000927box_1647636744_m.jpg\"],\"g\":[\"https://images.kabum.com.br/produtos/fotos/320798/processador-amd-ryzen-5-5600-cache-35mb-3-7ghz-4-4ghz-max-turbo-am4-100-100000927box_1647636743_g.jpg\",\"https://images.kabum.com.br/produtos/fotos/320798/processador-amd-ryzen-5-5600-cache-35mb-3-7ghz-4-4ghz-max-turbo-am4-100-100000927box_1647636744_g.jpg\"],\"gg\":[\"https://images.kabum.com.br/produtos/fotos/320798/processador-amd-ryzen-5-5600-cache-35mb-3-7ghz-4-4ghz-max-turbo-am4-100-100000927box_1647636743_gg.jpg\",\"https://images.kabum.com.br/produtos/fotos/320798/processador-amd-ryzen-5-5600-cache-35mb-3-7ghz-4-4ghz-max-turbo-am4-100-100000927box_1647636744_gg.jpg\"]},\"thumbnail\":\"https://images.kabum.com.br/produtos/fotos/320798/processador-amd-ryzen-5-5600-cache-35mb-3-7ghz-4-4ghz-max-turbo-am4-100-100000927box_1647636743_m.jpg\",\"promotionBanner\":null,\"campaignBanners\":[],\"crossCart\":[99034,166052,114337,20866,49461,115216,100672,194492],\"crossSelling\":[115216]}',\n    'productData': '{\"type\":\"prime\",\"code\":320798,\"iframeUrl\":\"\",\"description\":\"<h2>Processador AMD Ryzen 5 5600</h2>\\\\n<p>&nbsp;</p>\\\\n<p>Quando voc&ecirc; tem a arquitetura de processador&nbsp;de desktop&nbsp;mais avan&ccedil;ada do mundo2&nbsp;para jogadores e criadores de conte&uacute;do, as possibilidades s&atilde;o infinitas. Esteja voc&ecirc; jogando os jogos mais recentes, projetando o pr&oacute;ximo pr&eacute;dio ou processando dados, voc&ecirc; precisa de um processador poderoso que possa lidar com tudo - e muito mais. Sem d&uacute;vida, os processadores AMD Ryzen &trade; s&eacute;rie 5000 definem o padr&atilde;o para jogadores e artistas.</p>\\\\n<p>&nbsp;</p>\\\\n<h2>A ferramenta certa para o trabalho</h2>\\\\n<div>\\\\n<p>Quando voc&ecirc; tem o processador mais avan&ccedil;ado do mundo para designers e criadores de conte&uacute;do, as possibilidades s&atilde;o infinitas. Esteja voc&ecirc; projetando o pr&oacute;ximo arranha-c&eacute;u ou animando um personagem complexo, voc&ecirc; precisa de um processador poderoso que possa lidar com todo o espectro de demandas de computa&ccedil;&atilde;o do seu fluxo de trabalho.</p>\\\\n<h3><br />Processador AMD &eacute; no KaBuM!</h3>\\\\n</div>\",\"name\":\"Processador AMD Ryzen 5 5600, Cache 35MB, 3.5GHz (4.4GHz Max Turbo), AM4, Sem Vídeo - 100-100000927BOX\",\"friendlyName\":\"processador-amd-ryzen-5-5600-cache-35mb-3-5ghz-4-4ghz-max-turbo-am4-sem-video-100-100000927box\",\"tagCode\":0,\"di\":\"1381bebbb18863cae0da9796d353ba0d9a6c5396\",\"photos\":[\"https://images8.kabum.com.br/produtos/fotos/320798/processador-amd-ryzen-5-5600-cache-35mb-3-7ghz-4-4ghz-max-turbo-am4-100-100000927box_1647636743_g.jpg\",\"https://images8.kabum.com.br/produtos/fotos/320798/processador-amd-ryzen-5-5600-cache-35mb-3-7ghz-4-4ghz-max-turbo-am4-100-100000927box_1647636744_g.jpg\"],\"available\":true,\"category\":\"Hardware/Processadores/Processador AMD\",\"similarProducts\":[{\"name\":\"Processador AMD Ryzen 5 5600X, Cache 35MB, 3.7GHz (4.6GHz Max Turbo), AM4, Sem Vídeo  - 100-100000065BOX\",\"friendlyName\":\"processador-amd-ryzen-5-5600x-cache-35mb-3-7ghz-4-6ghz-max-turbo-am4-sem-video-100-100000065box\",\"code\":129451,\"discountPrice\":1399.9,\"discountPrimePrice\":1999.9,\"image\":\"https://images1.kabum.com.br/produtos/fotos/129451/processador-amd-ryzen-9-5950x-cache-72mb-3-4ghz-4-9ghz-max-turbo-am4-100-100000065box_1602603581_m.jpg\",\"isPrime\":false},{\"name\":\"Processador AMD Ryzen 5 4600G, Cachê 11MB, 3.7GHz (4.2GHz Max Turbo), AM4, Vídeo Integrado - 100-100000147BOX\",\"friendlyName\":\"processador-amd-ryzen-5-4600g-cache-11mb-3-7ghz-4-2ghz-max-turbo-am4-video-integrado-100-100000147box\",\"code\":333145,\"discountPrice\":919.9,\"discountPrimePrice\":987.9,\"image\":\"https://images5.kabum.com.br/produtos/fotos/333145/processador-amd-ryzen-5-4600g-cache-11mb-3-7ghz-4-2ghz-max-turbo-am4-video-integrado-100-100000147box_1653338732_m.jpg\",\"isPrime\":false},{\"name\":\"Processador AMD Ryzen 5 5600G, 3.9GHz (4.4GHz Max Turbo), AM4, Vídeo Integrado, 6 Núcleos - 100-100000252BOX\",\"friendlyName\":\"processador-amd-ryzen-5-5600g-3-9ghz-4-4ghz-max-turbo-am4-video-integrado-6-nucleos-100-100000252box\",\"code\":181088,\"discountPrice\":1299.9,\"discountPrimePrice\":1259.9,\"image\":\"https://images8.kabum.com.br/produtos/fotos/181088/processador-amd-ryzen-5-5600g-3-9ghz-4-4ghz-max-turbo-am4-video-integrado-6-nucleos-100-100000252box_1627588230_m.jpg\",\"isPrime\":true},{\"name\":\"Processador AMD Ryzen 7 5800X, Cache 36MB, 3.8GHz (4.7GHz Max Turbo), AM4 - 100-100000063WOF\",\"friendlyName\":\"processador-amd-ryzen-7-5800x-cache-36mb-3-8ghz-4-7ghz-max-turbo-am4-100-100000063wof\",\"code\":129459,\"discountPrice\":1999.9,\"discountPrimePrice\":3099.9,\"image\":\"https://images9.kabum.com.br/produtos/fotos/129459/processador-amd-ryzen-9-5900x-cache-70mb-3-7ghz-4-8ghz-max-turbo-am4-100-100000063wof_1602600708_m.jpg\",\"isPrime\":false},{\"name\":\"Processador AMD Ryzen 5 5500, Cache 19MB, 3.6GHz (4.2GHz Max Turbo), AM4, Sem Vídeo - 100-100000457BOX\",\"friendlyName\":\"processador-amd-ryzen-5-5500-cache-19mb-3-6ghz-4-2ghz-max-turbo-am4-sem-video-100-100000457box\",\"code\":320799,\"discountPrice\":899.9,\"discountPrimePrice\":1039.9,\"image\":\"https://images9.kabum.com.br/produtos/fotos/320799/processador-amd-ryzen-5-5500-cache-19mb-3-7ghz-4-2ghz-max-turbo-am4-100-100000457box_1647636796_m.jpg\",\"isPrime\":false},{\"name\":\"Processador AMD Ryzen 7 5700X, Cache 36MB, 3.4GHz (4.6GHz Max Turbo), AM4, Sem Vídeo - 100-100000926WOF\",\"friendlyName\":\"processador-amd-ryzen-7-5700x-cache-36mb-3-4ghz-4-6ghz-max-turbo-am4-sem-video-100-100000926wof\",\"code\":320797,\"discountPrice\":1699.9,\"discountPrimePrice\":1824.9,\"image\":\"https://images7.kabum.com.br/produtos/fotos/320797/processador-amd-ryzen-7-5700x-cache-36mb-3-8ghz-4-6ghz-max-turbo-am4-100-100000926wof_1647636511_m.jpg\",\"isPrime\":false},{\"name\":\"Processador AMD Ryzen 7 5700G, 3.8GHz (4.6GHz Max Turbo), AM4, Vídeo Integrado, 8 Núcleos - 100-100000263BOX\",\"friendlyName\":\"processador-amd-ryzen-7-5700g-3-8ghz-4-6ghz-max-turbo-am4-video-integrado-8-nucleos-100-100000263box\",\"code\":181089,\"discountPrice\":1749.9,\"discountPrimePrice\":2499.9,\"image\":\"https://images9.kabum.com.br/produtos/fotos/181089/processador-amd-ryzen-7-5700g-3-8ghz-4-6ghz-max-turbo-am4-video-integrado-8-nucleos-100-100000263box_1627588652_m.jpg\",\"isPrime\":false},{\"name\":\"Processador AMD Ryzen 9 5900X, Cache 70MB, 3.7GHz (4.8GHz Max Turbo), AM4 - 100-100000061WOF\",\"friendlyName\":\"processador-amd-ryzen-9-5900x-cache-70mb-3-7ghz-4-8ghz-max-turbo-am4-100-100000061wof\",\"code\":129460,\"discountPrice\":2599.9,\"discountPrimePrice\":3859.9,\"image\":\"https://images0.kabum.com.br/produtos/fotos/129460/processador-amd-ryzen-9-5900x-cache-70mb-3-8ghz-4-7ghz-max-turbo-am4-100-100000061wof_1604585280_m.jpg\",\"isPrime\":false},{\"name\":\"Processador AMD Ryzen 5 4500, Cachê 11MB, 3.6GHz (4.1GHz Max Turbo), AM4, Sem Vídeo - 100-100000644BOX\",\"friendlyName\":\"processador-amd-ryzen-5-4500-cache-11mb-3-6ghz-4-1ghz-max-turbo-am4-sem-video-100-100000644box\",\"code\":333154,\"discountPrice\":699.9,\"discountPrimePrice\":979.9,\"image\":\"https://images4.kabum.com.br/produtos/fotos/333154/processador-amd-ryzen-5-4500-cache-11mb-3-6ghz-4-1ghz-max-turbo-am4-sem-video-100-100000644box_1652381901_m.jpg\",\"isPrime\":false},{\"name\":\"Processador AMD Ryzen 3 4100, Cachê 6MB, 3.8GHz (4.0GHz Max Turbo), AM4,  Sem Vídeo - 100-100000510BOX\",\"friendlyName\":\"processador-amd-ryzen-3-4100-cache-6mb-3-8ghz-4-0ghz-max-turbo-am4-sem-video-100-100000510box\",\"code\":333155,\"discountPrice\":589.9,\"discountPrimePrice\":659.9,\"image\":\"https://images5.kabum.com.br/produtos/fotos/333155/processador-amd-ryzen-3-4100-cache-6mb-3-8ghz-4-0ghz-max-turbo-am4-sem-video-100-100000510box_1653317439_m.jpg\",\"isPrime\":false}],\"menus\":[{\"code\":1,\"name\":\"Hardware\",\"link\":\"/hardware\"},{\"code\":16,\"name\":\"Processadores\",\"link\":\"/hardware/processadores\"},{\"code\":20077,\"name\":\"Processador AMD\",\"link\":\"/hardware/processadores/processador-amd\"}],\"offer\":{\"quantity\":68,\"endDate\":1659351600,\"event\":\"Julho Gamer\",\"primaryColor\":\"#f17a28\",\"secondaryColor\":\"#000000\",\"letterColor\":\"#FFFFFF\",\"offerDiscount\":18,\"id\":582632,\"pathJson\":\"julhogamer\"},\"offerStartTime\":0,\"priceDetails\":{\"oldPrice\":1646.94,\"price\":1341.06,\"discountPrice\":1139.9,\"primePrice\":1341.06,\"maxParcel\":{\"parcel\":12,\"value\":114.66,\"type\":\"sem juros\"},\"discountPercentage\":15,\"discountPercentagePrime\":0,\"isPrime\":false,\"savePrime\":0,\"discountPricePrime\":1139.9,\"primeParcels\":[],\"maxPrimeParcel\":{},\"maxCobrandedParcel\":{\"parcel\":24,\"value\":69.29,\"type\":\"com juros\"},\"maxCobrandedPrimeParcel\":{}},\"offerIdMarketplace\":null,\"price\":1341.06,\"weight\":450,\"weightString\":\"450 gramas (bruto com embalagem)\",\"warrantyString\":\"12 meses de garantia\",\"sellerId\":\"kabum\",\"sellerName\":\"\",\"parcels\":[{\"parcelNumber\":1,\"value\":1206.95,\"type\":\"sem juros\"},{\"parcelNumber\":2,\"value\":670.53,\"type\":\"sem juros\"},{\"parcelNumber\":3,\"value\":447.02,\"type\":\"sem juros\"},{\"parcelNumber\":4,\"value\":335.26,\"type\":\"sem juros\"},{\"parcelNumber\":5,\"value\":268.21,\"type\":\"sem juros\"},{\"parcelNumber\":6,\"value\":223.51,\"type\":\"sem juros\"},{\"parcelNumber\":7,\"value\":191.58,\"type\":\"sem juros\"},{\"parcelNumber\":8,\"value\":167.63,\"type\":\"sem juros\"},{\"parcelNumber\":9,\"value\":149.01,\"type\":\"sem juros\"},{\"parcelNumber\":10,\"value\":134.11,\"type\":\"sem juros\"},{\"parcelNumber\":11,\"value\":123.5,\"type\":\"sem juros\"},{\"parcelNumber\":12,\"value\":114.66,\"type\":\"sem juros\"}],\"producer\":{\"code\":5,\"name\":\"Amd\",\"img\":\"https://images5.kabum.com.br/produtos/fabricantes/logo-amd.jpg\"},\"rating\":5,\"isOpenbox\":false,\"isBlackFriday\":0,\"isDigital\":false,\"ratingNumber\":21,\"technicalInformation\":\"<p><strong><strong>Caracter&iacute;sticas:</strong></strong><br />- Marca: AMD<br />- Modelo: 100-100000927BOX</p><p class=\\\\\"MsoNormal\\\\\"><br /><strong><strong><strong>Especifica&ccedil;&otilde;es:</strong></strong><br /></strong></p><p class=\\\\\"MsoNormal\\\\\">- Arquitetura: \\\\\"Zen 3\\\\\"</p><p class=\\\\\"MsoNormal\\\\\">- N&ordm; de n&uacute;cleos de CPU: 6</p><p class=\\\\\"MsoNormal\\\\\">- Multithreading (SMT): sim</p><p class=\\\\\"MsoNormal\\\\\">- N&ordm; de threads: 12</p><p class=\\\\\"MsoNormal\\\\\">- Clock Max Boost: At&eacute; 4.4GHz</p><p class=\\\\\"MsoNormal\\\\\">- Clock b&aacute;sico: 3,5 GHz</p><p class=\\\\\"MsoNormal\\\\\">- Cach&ecirc; L1 total: 384 KB</p><p class=\\\\\"MsoNormal\\\\\">- Cach&ecirc; L2 total: 3 MB</p><p class=\\\\\"MsoNormal\\\\\">- Cach&ecirc; L3 total: 32 MB</p><p class=\\\\\"MsoNormal\\\\\">- TDP / TDP Padr&atilde;o: 65 W</p><p class=\\\\\"MsoNormal\\\\\">- Tecnologia de processador para n&uacute;cleos de CPU: TSMC 7nm FinFET</p><p class=\\\\\"MsoNormal\\\\\">- Processor Technology for I/O Die: 12nm (Globalfoundries)</p><p class=\\\\\"MsoNormal\\\\\">- Tamanho da matriz de computa&ccedil;&atilde;o da CPU (CCD): 74mm&sup2;</p><p class=\\\\\"MsoNormal\\\\\">- Tamanho da matriz de E/S (IOD): 125mm&sup2;</p><p class=\\\\\"MsoNormal\\\\\">- Soquete da CPU: AM4</p><p class=\\\\\"MsoNormal\\\\\">- Contagem de soquetes: 1P</p><p class=\\\\\"MsoNormal\\\\\">- Tecnologia de aumento de CPU</p><p class=\\\\\"MsoNormal\\\\\">- Aumento de precis&atilde;o 2</p><p class=\\\\\"MsoNormal\\\\\">- Conjunto de instru&ccedil;&otilde;es: x86-64</p><p class=\\\\\"MsoNormal\\\\\">- Extens&otilde;es compat&iacute;veis:&nbsp;<span>AES, AMD-V, AVX, AVX2, FMA3, MMX(+), SHA, SSE, SSE2, SSE3, SSE4.1, SSE4.2, SSE4A, SSSE3, x86-64</span></p><p class=\\\\\"MsoNormal\\\\\">- Solu&ccedil;&atilde;o t&eacute;rmica (PIB):&nbsp;<span>AMD Wraith Stealth</span></p><p class=\\\\\"MsoNormal\\\\\">- Tempo m&aacute;ximo: 90&deg;C</p><p class=\\\\\"MsoNormal\\\\\">&nbsp;</p><p class=\\\\\"MsoNormal\\\\\"><strong><strong>*Suporte de SO:</strong></strong><br />- Edi&ccedil;&atilde;o Windows 11 - 64-Bit</p><p class=\\\\\"MsoNormal\\\\\">- Edi&ccedil;&atilde;o Windows 10 - 64-Bit</p><p class=\\\\\"MsoNormal\\\\\">- RHEL x86 64 bits</p><p class=\\\\\"MsoNormal\\\\\">- Ubuntu x86 64 bits</p><p class=\\\\\"MsoNormal\\\\\"><strong></strong></p><p class=\\\\\"MsoNormal\\\\\">*O suporte ao sistema operacional (SO) poder&aacute; variar de acordo com o fabricante.</p><p class=\\\\\"MsoNormal\\\\\">&nbsp;</p><p class=\\\\\"MsoNormal\\\\\"><strong><strong>Chipsets de suporte:</strong></strong><br />- X570</p><p class=\\\\\"MsoNormal\\\\\">- X470</p><p class=\\\\\"MsoNormal\\\\\">-&nbsp;<span>X370</span></p><p class=\\\\\"MsoNormal\\\\\">- B550</p><p class=\\\\\"MsoNormal\\\\\">- B450</p><p class=\\\\\"MsoNormal\\\\\">-&nbsp;<span>B350</span></p><p class=\\\\\"MsoNormal\\\\\">- A520</p><p class=\\\\\"MsoNormal\\\\\">&nbsp;</p><p class=\\\\\"MsoNormal\\\\\"><strong><strong>Mem&oacute;ria:</strong></strong></p><p class=\\\\\"MsoNormal\\\\\">- Suporte a USB Tipo C: sim</p><p class=\\\\\"MsoNormal\\\\\">- Portas nativas USB 3.2 Gen 2 (10 Gbps): 4</p><p class=\\\\\"MsoNormal\\\\\">- Portas nativas USB 3.2 Gen 1 (5 Gbps): 0</p><p class=\\\\\"MsoNormal\\\\\">- Portas nativas USB 2.0 (480Mbps): 0</p><p class=\\\\\"MsoNormal\\\\\">- Portas SATA nativas: 2</p><p class=\\\\\"MsoNormal\\\\\">- Vers&atilde;o do PCI Express: PCIe 4.0</p><p class=\\\\\"MsoNormal\\\\\">- Pistas PCIe nativas (total/utiliz&aacute;vel): 24/20</p><p class=\\\\\"MsoNormal\\\\\">- Suporte NVMe: Boot, RAID0, RAID1, RAID10</p><p class=\\\\\"MsoNormal\\\\\">- Tipo de mem&oacute;ria: DDR4</p><p class=\\\\\"MsoNormal\\\\\">- Canais de mem&oacute;ria: 2</p><p class=\\\\\"MsoNormal\\\\\">- M&aacute;x. Mem&oacute;ria: 128 GB</p><p class=\\\\\"MsoNormal\\\\\">- Subtipo de mem&oacute;ria do sistema: UDIMM</p><p class=\\\\\"MsoNormal\\\\\">-&nbsp;<span>Velocidade m&aacute;xima da mem&oacute;ria:&nbsp;</span>Up to 3200MHz</p><p class=\\\\\"MsoNormal\\\\\">&nbsp;</p><p class=\\\\\"MsoNormal\\\\\"><strong><strong>PCIe utiliz&aacute;veis &#8203;&#8203;adicionais da placa-m&atilde;e</strong></strong></p><p class=\\\\\"MsoNormal\\\\\">- AMD X570: 16x Gera&ccedil;&atilde;o 4</p><p class=\\\\\"MsoNormal\\\\\">- AMD X470: 2x Gera&ccedil;&atilde;o 3</p><p class=\\\\\"MsoNormal\\\\\">- AMD X470: 8x Gera&ccedil;&atilde;o 2</p><p class=\\\\\"MsoNormal\\\\\">&nbsp;</p><p class=\\\\\"MsoNormal\\\\\"><strong><strong>Velocidade m&aacute;xima de mem&oacute;ria</strong></strong></p><p class=\\\\\"MsoNormal\\\\\">- 2x1R: DDR4-3200</p><p class=\\\\\"MsoNormal\\\\\">- 2x2R: DDR4-3200</p><p class=\\\\\"MsoNormal\\\\\">- 4x1R: DDR4-2933</p><p class=\\\\\"MsoNormal\\\\\">- 4x2R: DDR4-2667</p><p class=\\\\\"MsoNormal\\\\\">&nbsp;</p><p class=\\\\\"MsoNormal\\\\\"><strong><strong>Tecnologias compat&iacute;veis</strong></strong></p><p class=\\\\\"MsoNormal\\\\\">- Arquitetura de n&uacute;cleo AMD \\\\\"Zen 3\\\\\"</p><p class=\\\\\"MsoNormal\\\\\">- Premium AMD Ryzen&trade; VR-Ready</p><p class=\\\\\"MsoNormal\\\\\"><strong><strong><br /></strong><strong>Conte&uacute;do da Embalagem:&nbsp;</strong></strong><br />- 01 x&nbsp;<span>Processador AMD Ryzen 5 5600, Cache 35MB, 3.5GHz (4.4GHz Max Turbo), AM4, Sem V&iacute;deo&nbsp;</span></p>\",\"link\":\"/produto/320798/processador-amd-ryzen-5-5600-cache-35mb-3-5ghz-4-4ghz-max-turbo-am4-sem-v-deo-100-100000927box\",\"gift\":null,\"origin\":\"0\",\"originName\":\"\",\"dataLayer\":{\"visitor\":{\"campaign\":\"direct\",\"medium\":\"direct\",\"source\":\"direct\",\"clientEmail\":\"\",\"device\":\"desktop\"}},\"tagCanonical\":\"https://www.kabum.com.brundefined\"}'},\n   'initialZustandState': {'descriptionProduct': {'type': 'prime',\n     'code': 320798,\n     'iframeUrl': '',\n     'description': '<h2>Processador AMD Ryzen 5 5600</h2>\\n<p>&nbsp;</p>\\n<p>Quando voc&ecirc; tem a arquitetura de processador&nbsp;de desktop&nbsp;mais avan&ccedil;ada do mundo2&nbsp;para jogadores e criadores de conte&uacute;do, as possibilidades s&atilde;o infinitas. Esteja voc&ecirc; jogando os jogos mais recentes, projetando o pr&oacute;ximo pr&eacute;dio ou processando dados, voc&ecirc; precisa de um processador poderoso que possa lidar com tudo - e muito mais. Sem d&uacute;vida, os processadores AMD Ryzen &trade; s&eacute;rie 5000 definem o padr&atilde;o para jogadores e artistas.</p>\\n<p>&nbsp;</p>\\n<h2>A ferramenta certa para o trabalho</h2>\\n<div>\\n<p>Quando voc&ecirc; tem o processador mais avan&ccedil;ado do mundo para designers e criadores de conte&uacute;do, as possibilidades s&atilde;o infinitas. Esteja voc&ecirc; projetando o pr&oacute;ximo arranha-c&eacute;u ou animando um personagem complexo, voc&ecirc; precisa de um processador poderoso que possa lidar com todo o espectro de demandas de computa&ccedil;&atilde;o do seu fluxo de trabalho.</p>\\n<h3><br />Processador AMD &eacute; no KaBuM!</h3>\\n</div>',\n     'name': 'Processador AMD Ryzen 5 5600, Cache 35MB, 3.5GHz (4.4GHz Max Turbo), AM4, Sem Vídeo - 100-100000927BOX',\n     'friendlyName': 'processador-amd-ryzen-5-5600-cache-35mb-3-5ghz-4-4ghz-max-turbo-am4-sem-video-100-100000927box',\n     'tagCode': 0,\n     'di': '1381bebbb18863cae0da9796d353ba0d9a6c5396',\n     'photos': ['https://images8.kabum.com.br/produtos/fotos/320798/processador-amd-ryzen-5-5600-cache-35mb-3-7ghz-4-4ghz-max-turbo-am4-100-100000927box_1647636743_g.jpg',\n      'https://images8.kabum.com.br/produtos/fotos/320798/processador-amd-ryzen-5-5600-cache-35mb-3-7ghz-4-4ghz-max-turbo-am4-100-100000927box_1647636744_g.jpg'],\n     'available': True,\n     'category': 'Hardware/Processadores/Processador AMD',\n     'similarProducts': [{'name': 'Processador AMD Ryzen 5 5600X, Cache 35MB, 3.7GHz (4.6GHz Max Turbo), AM4, Sem Vídeo  - 100-100000065BOX',\n       'friendlyName': 'processador-amd-ryzen-5-5600x-cache-35mb-3-7ghz-4-6ghz-max-turbo-am4-sem-video-100-100000065box',\n       'code': 129451,\n       'discountPrice': 1399.9,\n       'discountPrimePrice': 1999.9,\n       'image': 'https://images1.kabum.com.br/produtos/fotos/129451/processador-amd-ryzen-9-5950x-cache-72mb-3-4ghz-4-9ghz-max-turbo-am4-100-100000065box_1602603581_m.jpg',\n       'isPrime': False},\n      {'name': 'Processador AMD Ryzen 5 4600G, Cachê 11MB, 3.7GHz (4.2GHz Max Turbo), AM4, Vídeo Integrado - 100-100000147BOX',\n       'friendlyName': 'processador-amd-ryzen-5-4600g-cache-11mb-3-7ghz-4-2ghz-max-turbo-am4-video-integrado-100-100000147box',\n       'code': 333145,\n       'discountPrice': 919.9,\n       'discountPrimePrice': 987.9,\n       'image': 'https://images5.kabum.com.br/produtos/fotos/333145/processador-amd-ryzen-5-4600g-cache-11mb-3-7ghz-4-2ghz-max-turbo-am4-video-integrado-100-100000147box_1653338732_m.jpg',\n       'isPrime': False},\n      {'name': 'Processador AMD Ryzen 5 5600G, 3.9GHz (4.4GHz Max Turbo), AM4, Vídeo Integrado, 6 Núcleos - 100-100000252BOX',\n       'friendlyName': 'processador-amd-ryzen-5-5600g-3-9ghz-4-4ghz-max-turbo-am4-video-integrado-6-nucleos-100-100000252box',\n       'code': 181088,\n       'discountPrice': 1299.9,\n       'discountPrimePrice': 1259.9,\n       'image': 'https://images8.kabum.com.br/produtos/fotos/181088/processador-amd-ryzen-5-5600g-3-9ghz-4-4ghz-max-turbo-am4-video-integrado-6-nucleos-100-100000252box_1627588230_m.jpg',\n       'isPrime': True},\n      {'name': 'Processador AMD Ryzen 7 5800X, Cache 36MB, 3.8GHz (4.7GHz Max Turbo), AM4 - 100-100000063WOF',\n       'friendlyName': 'processador-amd-ryzen-7-5800x-cache-36mb-3-8ghz-4-7ghz-max-turbo-am4-100-100000063wof',\n       'code': 129459,\n       'discountPrice': 1999.9,\n       'discountPrimePrice': 3099.9,\n       'image': 'https://images9.kabum.com.br/produtos/fotos/129459/processador-amd-ryzen-9-5900x-cache-70mb-3-7ghz-4-8ghz-max-turbo-am4-100-100000063wof_1602600708_m.jpg',\n       'isPrime': False},\n      {'name': 'Processador AMD Ryzen 5 5500, Cache 19MB, 3.6GHz (4.2GHz Max Turbo), AM4, Sem Vídeo - 100-100000457BOX',\n       'friendlyName': 'processador-amd-ryzen-5-5500-cache-19mb-3-6ghz-4-2ghz-max-turbo-am4-sem-video-100-100000457box',\n       'code': 320799,\n       'discountPrice': 899.9,\n       'discountPrimePrice': 1039.9,\n       'image': 'https://images9.kabum.com.br/produtos/fotos/320799/processador-amd-ryzen-5-5500-cache-19mb-3-7ghz-4-2ghz-max-turbo-am4-100-100000457box_1647636796_m.jpg',\n       'isPrime': False},\n      {'name': 'Processador AMD Ryzen 7 5700X, Cache 36MB, 3.4GHz (4.6GHz Max Turbo), AM4, Sem Vídeo - 100-100000926WOF',\n       'friendlyName': 'processador-amd-ryzen-7-5700x-cache-36mb-3-4ghz-4-6ghz-max-turbo-am4-sem-video-100-100000926wof',\n       'code': 320797,\n       'discountPrice': 1699.9,\n       'discountPrimePrice': 1824.9,\n       'image': 'https://images7.kabum.com.br/produtos/fotos/320797/processador-amd-ryzen-7-5700x-cache-36mb-3-8ghz-4-6ghz-max-turbo-am4-100-100000926wof_1647636511_m.jpg',\n       'isPrime': False},\n      {'name': 'Processador AMD Ryzen 7 5700G, 3.8GHz (4.6GHz Max Turbo), AM4, Vídeo Integrado, 8 Núcleos - 100-100000263BOX',\n       'friendlyName': 'processador-amd-ryzen-7-5700g-3-8ghz-4-6ghz-max-turbo-am4-video-integrado-8-nucleos-100-100000263box',\n       'code': 181089,\n       'discountPrice': 1749.9,\n       'discountPrimePrice': 2499.9,\n       'image': 'https://images9.kabum.com.br/produtos/fotos/181089/processador-amd-ryzen-7-5700g-3-8ghz-4-6ghz-max-turbo-am4-video-integrado-8-nucleos-100-100000263box_1627588652_m.jpg',\n       'isPrime': False},\n      {'name': 'Processador AMD Ryzen 9 5900X, Cache 70MB, 3.7GHz (4.8GHz Max Turbo), AM4 - 100-100000061WOF',\n       'friendlyName': 'processador-amd-ryzen-9-5900x-cache-70mb-3-7ghz-4-8ghz-max-turbo-am4-100-100000061wof',\n       'code': 129460,\n       'discountPrice': 2599.9,\n       'discountPrimePrice': 3859.9,\n       'image': 'https://images0.kabum.com.br/produtos/fotos/129460/processador-amd-ryzen-9-5900x-cache-70mb-3-8ghz-4-7ghz-max-turbo-am4-100-100000061wof_1604585280_m.jpg',\n       'isPrime': False},\n      {'name': 'Processador AMD Ryzen 5 4500, Cachê 11MB, 3.6GHz (4.1GHz Max Turbo), AM4, Sem Vídeo - 100-100000644BOX',\n       'friendlyName': 'processador-amd-ryzen-5-4500-cache-11mb-3-6ghz-4-1ghz-max-turbo-am4-sem-video-100-100000644box',\n       'code': 333154,\n       'discountPrice': 699.9,\n       'discountPrimePrice': 979.9,\n       'image': 'https://images4.kabum.com.br/produtos/fotos/333154/processador-amd-ryzen-5-4500-cache-11mb-3-6ghz-4-1ghz-max-turbo-am4-sem-video-100-100000644box_1652381901_m.jpg',\n       'isPrime': False},\n      {'name': 'Processador AMD Ryzen 3 4100, Cachê 6MB, 3.8GHz (4.0GHz Max Turbo), AM4,  Sem Vídeo - 100-100000510BOX',\n       'friendlyName': 'processador-amd-ryzen-3-4100-cache-6mb-3-8ghz-4-0ghz-max-turbo-am4-sem-video-100-100000510box',\n       'code': 333155,\n       'discountPrice': 589.9,\n       'discountPrimePrice': 659.9,\n       'image': 'https://images5.kabum.com.br/produtos/fotos/333155/processador-amd-ryzen-3-4100-cache-6mb-3-8ghz-4-0ghz-max-turbo-am4-sem-video-100-100000510box_1653317439_m.jpg',\n       'isPrime': False}],\n     'menus': [{'code': 1, 'name': 'Hardware', 'link': '/hardware'},\n      {'code': 16, 'name': 'Processadores', 'link': '/hardware/processadores'},\n      {'code': 20077,\n       'name': 'Processador AMD',\n       'link': '/hardware/processadores/processador-amd'}],\n     'offer': {'quantity': 68,\n      'endDate': 1659351600,\n      'event': 'Julho Gamer',\n      'primaryColor': '#f17a28',\n      'secondaryColor': '#000000',\n      'letterColor': '#FFFFFF',\n      'offerDiscount': 18,\n      'id': 582632,\n      'pathJson': 'julhogamer'},\n     'offerStartTime': 0,\n     'priceDetails': {'oldPrice': 1646.94,\n      'price': 1341.06,\n      'discountPrice': 1139.9,\n      'primePrice': 1341.06,\n      'maxParcel': {'parcel': 12, 'value': 114.66, 'type': 'sem juros'},\n      'discountPercentage': 15,\n      'discountPercentagePrime': 0,\n      'isPrime': False,\n      'savePrime': 0,\n      'discountPricePrime': 1139.9,\n      'primeParcels': [],\n      'maxPrimeParcel': {},\n      'maxCobrandedParcel': {'parcel': 24,\n       'value': 69.29,\n       'type': 'com juros'},\n      'maxCobrandedPrimeParcel': {}},\n     'offerIdMarketplace': None,\n     'price': 1341.06,\n     'weight': 450,\n     'weightString': '450 gramas (bruto com embalagem)',\n     'warrantyString': '12 meses de garantia',\n     'sellerId': 'kabum',\n     'sellerName': '',\n     'parcels': [{'parcelNumber': 1, 'value': 1206.95, 'type': 'sem juros'},\n      {'parcelNumber': 2, 'value': 670.53, 'type': 'sem juros'},\n      {'parcelNumber': 3, 'value': 447.02, 'type': 'sem juros'},\n      {'parcelNumber': 4, 'value': 335.26, 'type': 'sem juros'},\n      {'parcelNumber': 5, 'value': 268.21, 'type': 'sem juros'},\n      {'parcelNumber': 6, 'value': 223.51, 'type': 'sem juros'},\n      {'parcelNumber': 7, 'value': 191.58, 'type': 'sem juros'},\n      {'parcelNumber': 8, 'value': 167.63, 'type': 'sem juros'},\n      {'parcelNumber': 9, 'value': 149.01, 'type': 'sem juros'},\n      {'parcelNumber': 10, 'value': 134.11, 'type': 'sem juros'},\n      {'parcelNumber': 11, 'value': 123.5, 'type': 'sem juros'},\n      {'parcelNumber': 12, 'value': 114.66, 'type': 'sem juros'}],\n     'producer': {'code': 5,\n      'name': 'Amd',\n      'img': 'https://images5.kabum.com.br/produtos/fabricantes/logo-amd.jpg'},\n     'rating': 5,\n     'isOpenbox': False,\n     'isBlackFriday': 0,\n     'isDigital': False,\n     'ratingNumber': 21,\n     'technicalInformation': '<p><strong><strong>Caracter&iacute;sticas:</strong></strong><br />- Marca: AMD<br />- Modelo: 100-100000927BOX</p><p class=\"MsoNormal\"><br /><strong><strong><strong>Especifica&ccedil;&otilde;es:</strong></strong><br /></strong></p><p class=\"MsoNormal\">- Arquitetura: \"Zen 3\"</p><p class=\"MsoNormal\">- N&ordm; de n&uacute;cleos de CPU: 6</p><p class=\"MsoNormal\">- Multithreading (SMT): sim</p><p class=\"MsoNormal\">- N&ordm; de threads: 12</p><p class=\"MsoNormal\">- Clock Max Boost: At&eacute; 4.4GHz</p><p class=\"MsoNormal\">- Clock b&aacute;sico: 3,5 GHz</p><p class=\"MsoNormal\">- Cach&ecirc; L1 total: 384 KB</p><p class=\"MsoNormal\">- Cach&ecirc; L2 total: 3 MB</p><p class=\"MsoNormal\">- Cach&ecirc; L3 total: 32 MB</p><p class=\"MsoNormal\">- TDP / TDP Padr&atilde;o: 65 W</p><p class=\"MsoNormal\">- Tecnologia de processador para n&uacute;cleos de CPU: TSMC 7nm FinFET</p><p class=\"MsoNormal\">- Processor Technology for I/O Die: 12nm (Globalfoundries)</p><p class=\"MsoNormal\">- Tamanho da matriz de computa&ccedil;&atilde;o da CPU (CCD): 74mm&sup2;</p><p class=\"MsoNormal\">- Tamanho da matriz de E/S (IOD): 125mm&sup2;</p><p class=\"MsoNormal\">- Soquete da CPU: AM4</p><p class=\"MsoNormal\">- Contagem de soquetes: 1P</p><p class=\"MsoNormal\">- Tecnologia de aumento de CPU</p><p class=\"MsoNormal\">- Aumento de precis&atilde;o 2</p><p class=\"MsoNormal\">- Conjunto de instru&ccedil;&otilde;es: x86-64</p><p class=\"MsoNormal\">- Extens&otilde;es compat&iacute;veis:&nbsp;<span>AES, AMD-V, AVX, AVX2, FMA3, MMX(+), SHA, SSE, SSE2, SSE3, SSE4.1, SSE4.2, SSE4A, SSSE3, x86-64</span></p><p class=\"MsoNormal\">- Solu&ccedil;&atilde;o t&eacute;rmica (PIB):&nbsp;<span>AMD Wraith Stealth</span></p><p class=\"MsoNormal\">- Tempo m&aacute;ximo: 90&deg;C</p><p class=\"MsoNormal\">&nbsp;</p><p class=\"MsoNormal\"><strong><strong>*Suporte de SO:</strong></strong><br />- Edi&ccedil;&atilde;o Windows 11 - 64-Bit</p><p class=\"MsoNormal\">- Edi&ccedil;&atilde;o Windows 10 - 64-Bit</p><p class=\"MsoNormal\">- RHEL x86 64 bits</p><p class=\"MsoNormal\">- Ubuntu x86 64 bits</p><p class=\"MsoNormal\"><strong></strong></p><p class=\"MsoNormal\">*O suporte ao sistema operacional (SO) poder&aacute; variar de acordo com o fabricante.</p><p class=\"MsoNormal\">&nbsp;</p><p class=\"MsoNormal\"><strong><strong>Chipsets de suporte:</strong></strong><br />- X570</p><p class=\"MsoNormal\">- X470</p><p class=\"MsoNormal\">-&nbsp;<span>X370</span></p><p class=\"MsoNormal\">- B550</p><p class=\"MsoNormal\">- B450</p><p class=\"MsoNormal\">-&nbsp;<span>B350</span></p><p class=\"MsoNormal\">- A520</p><p class=\"MsoNormal\">&nbsp;</p><p class=\"MsoNormal\"><strong><strong>Mem&oacute;ria:</strong></strong></p><p class=\"MsoNormal\">- Suporte a USB Tipo C: sim</p><p class=\"MsoNormal\">- Portas nativas USB 3.2 Gen 2 (10 Gbps): 4</p><p class=\"MsoNormal\">- Portas nativas USB 3.2 Gen 1 (5 Gbps): 0</p><p class=\"MsoNormal\">- Portas nativas USB 2.0 (480Mbps): 0</p><p class=\"MsoNormal\">- Portas SATA nativas: 2</p><p class=\"MsoNormal\">- Vers&atilde;o do PCI Express: PCIe 4.0</p><p class=\"MsoNormal\">- Pistas PCIe nativas (total/utiliz&aacute;vel): 24/20</p><p class=\"MsoNormal\">- Suporte NVMe: Boot, RAID0, RAID1, RAID10</p><p class=\"MsoNormal\">- Tipo de mem&oacute;ria: DDR4</p><p class=\"MsoNormal\">- Canais de mem&oacute;ria: 2</p><p class=\"MsoNormal\">- M&aacute;x. Mem&oacute;ria: 128 GB</p><p class=\"MsoNormal\">- Subtipo de mem&oacute;ria do sistema: UDIMM</p><p class=\"MsoNormal\">-&nbsp;<span>Velocidade m&aacute;xima da mem&oacute;ria:&nbsp;</span>Up to 3200MHz</p><p class=\"MsoNormal\">&nbsp;</p><p class=\"MsoNormal\"><strong><strong>PCIe utiliz&aacute;veis &#8203;&#8203;adicionais da placa-m&atilde;e</strong></strong></p><p class=\"MsoNormal\">- AMD X570: 16x Gera&ccedil;&atilde;o 4</p><p class=\"MsoNormal\">- AMD X470: 2x Gera&ccedil;&atilde;o 3</p><p class=\"MsoNormal\">- AMD X470: 8x Gera&ccedil;&atilde;o 2</p><p class=\"MsoNormal\">&nbsp;</p><p class=\"MsoNormal\"><strong><strong>Velocidade m&aacute;xima de mem&oacute;ria</strong></strong></p><p class=\"MsoNormal\">- 2x1R: DDR4-3200</p><p class=\"MsoNormal\">- 2x2R: DDR4-3200</p><p class=\"MsoNormal\">- 4x1R: DDR4-2933</p><p class=\"MsoNormal\">- 4x2R: DDR4-2667</p><p class=\"MsoNormal\">&nbsp;</p><p class=\"MsoNormal\"><strong><strong>Tecnologias compat&iacute;veis</strong></strong></p><p class=\"MsoNormal\">- Arquitetura de n&uacute;cleo AMD \"Zen 3\"</p><p class=\"MsoNormal\">- Premium AMD Ryzen&trade; VR-Ready</p><p class=\"MsoNormal\"><strong><strong><br /></strong><strong>Conte&uacute;do da Embalagem:&nbsp;</strong></strong><br />- 01 x&nbsp;<span>Processador AMD Ryzen 5 5600, Cache 35MB, 3.5GHz (4.4GHz Max Turbo), AM4, Sem V&iacute;deo&nbsp;</span></p>',\n     'link': '/produto/320798/processador-amd-ryzen-5-5600-cache-35mb-3-5ghz-4-4ghz-max-turbo-am4-sem-v-deo-100-100000927box',\n     'gift': None,\n     'origin': '0',\n     'originName': '',\n     'dataLayer': {'visitor': {'campaign': 'direct',\n       'medium': 'direct',\n       'source': 'direct',\n       'clientEmail': '',\n       'device': 'desktop'}},\n     'tagCanonical': 'https://www.kabum.com.brundefined'},\n    'catalogProduct': {'code': 320798,\n     'productSpecie': 0,\n     'name': 'Processador AMD Ryzen 5 5600, Cache 35MB, 3.5GHz (4.4GHz Max Turbo), AM4, Sem Vídeo - 100-100000927BOX',\n     'description': '<h2>Processador AMD Ryzen 5 5600</h2>\\n<p>&nbsp;</p>\\n<p>Quando voc&ecirc; tem a arquitetura de processador&nbsp;de desktop&nbsp;mais avan&ccedil;ada do mundo2&nbsp;para jogadores e criadores de conte&uacute;do, as possibilidades s&atilde;o infinitas. Esteja voc&ecirc; jogando os jogos mais recentes, projetando o pr&oacute;ximo pr&eacute;dio ou processando dados, voc&ecirc; precisa de um processador poderoso que possa lidar com tudo - e muito mais. Sem d&uacute;vida, os processadores AMD Ryzen &trade; s&eacute;rie 5000 definem o padr&atilde;o para jogadores e artistas.</p>\\n<p>&nbsp;</p>\\n<h2>A ferramenta certa para o trabalho</h2>\\n<div>\\n<p>Quando voc&ecirc; tem o processador mais avan&ccedil;ado do mundo para designers e criadores de conte&uacute;do, as possibilidades s&atilde;o infinitas. Esteja voc&ecirc; projetando o pr&oacute;ximo arranha-c&eacute;u ou animando um personagem complexo, voc&ecirc; precisa de um processador poderoso que possa lidar com todo o espectro de demandas de computa&ccedil;&atilde;o do seu fluxo de trabalho.</p>\\n<h3><br />Processador AMD &eacute; no KaBuM!</h3>\\n</div>',\n     'tagDescription': 'Sem dúvida, os processadores AMD Ryzen Série 5000 definem o padrão para artistas e engenheiros que buscam desempenho. Garanta já o seu no KaBuM!',\n     'weight': 450,\n     'friendlyName': 'processador-amd-ryzen-5-5600-cache-35mb-3-5ghz-4-4ghz-max-turbo-am4-sem-video-100-100000927box',\n     'sellerName': 'KaBuM!',\n     'sellerId': 0,\n     'offerIdMarketplace': 0,\n     'category': 'Hardware/Processadores/Processador AMD',\n     'externalUrl': '',\n     'manufacturer': {'id': 5,\n      'name': 'Amd',\n      'img': 'https://images4.kabum.com.br/produtos/fabricantes/logo-amd.jpg'},\n     'iframeUrl': '',\n     'image': 'h',\n     'images': ['https://images.kabum.com.br/produtos/fotos/320798/processador-amd-ryzen-5-5600-cache-35mb-3-7ghz-4-4ghz-max-turbo-am4-100-100000927box_1647636743_original.jpg',\n      'https://images.kabum.com.br/produtos/fotos/320798/processador-amd-ryzen-5-5600-cache-35mb-3-7ghz-4-4ghz-max-turbo-am4-100-100000927box_1647636744_original.jpg'],\n     'price': 1646.94,\n     'primePrice': 0,\n     'primePriceWithDiscount': 0,\n     'discountPercentagePrime': 0,\n     'oldPrice': 1646.94,\n     'oldPrimePrice': 1646.94,\n     'priceWithDiscount': 1399.9,\n     'priceMarketplace': 0,\n     'discountPercentage': 15,\n     'quantity': 68,\n     'rating': 5,\n     'ratingCount': 21,\n     'available': True,\n     'preOrderDate': 0,\n     'warranty': '1 ano de garantia (9 meses de garantia contratual junto ao fabricante + 3 meses referentes à garantia legal, nos termos do artigo 26, II, do Código de Defesa do Consumidor)',\n     'dateProductArrived': None,\n     'html': '<p><strong><strong>Caracter&iacute;sticas:</strong></strong><br />- Marca: AMD<br />- Modelo: 100-100000927BOX</p>\\r\\n<p class=\"MsoNormal\"><br /><strong><strong><strong>Especifica&ccedil;&otilde;es:</strong></strong><br /></strong></p>\\r\\n<p class=\"MsoNormal\">- Arquitetura: \"Zen 3\"</p>\\r\\n<p class=\"MsoNormal\">- N&ordm; de n&uacute;cleos de CPU: 6</p>\\r\\n<p class=\"MsoNormal\">- Multithreading (SMT): sim</p>\\r\\n<p class=\"MsoNormal\">- N&ordm; de threads: 12</p>\\r\\n<p class=\"MsoNormal\">- Clock Max Boost: At&eacute; 4.4GHz</p>\\r\\n<p class=\"MsoNormal\">- Clock b&aacute;sico: 3,5 GHz</p>\\r\\n<p class=\"MsoNormal\">- Cach&ecirc; L1 total: 384 KB</p>\\r\\n<p class=\"MsoNormal\">- Cach&ecirc; L2 total: 3 MB</p>\\r\\n<p class=\"MsoNormal\">- Cach&ecirc; L3 total: 32 MB</p>\\r\\n<p class=\"MsoNormal\">- TDP / TDP Padr&atilde;o: 65 W</p>\\r\\n<p class=\"MsoNormal\">- Tecnologia de processador para n&uacute;cleos de CPU: TSMC 7nm FinFET</p>\\r\\n<p class=\"MsoNormal\">- Processor Technology for I/O Die: 12nm (Globalfoundries)</p>\\r\\n<p class=\"MsoNormal\">- Tamanho da matriz de computa&ccedil;&atilde;o da CPU (CCD): 74mm&sup2;</p>\\r\\n<p class=\"MsoNormal\">- Tamanho da matriz de E/S (IOD): 125mm&sup2;</p>\\r\\n<p class=\"MsoNormal\">- Soquete da CPU: AM4</p>\\r\\n<p class=\"MsoNormal\">- Contagem de soquetes: 1P</p>\\r\\n<p class=\"MsoNormal\">- Tecnologia de aumento de CPU</p>\\r\\n<p class=\"MsoNormal\">- Aumento de precis&atilde;o 2</p>\\r\\n<p class=\"MsoNormal\">- Conjunto de instru&ccedil;&otilde;es: x86-64</p>\\r\\n<p class=\"MsoNormal\">- Extens&otilde;es compat&iacute;veis:&nbsp;<span>AES, AMD-V, AVX, AVX2, FMA3, MMX(+), SHA, SSE, SSE2, SSE3, SSE4.1, SSE4.2, SSE4A, SSSE3, x86-64</span></p>\\r\\n<p class=\"MsoNormal\">- Solu&ccedil;&atilde;o t&eacute;rmica (PIB):&nbsp;<span>AMD Wraith Stealth</span></p>\\r\\n<p class=\"MsoNormal\">- Tempo m&aacute;ximo: 90&deg;C</p>\\r\\n<p class=\"MsoNormal\">&nbsp;</p>\\r\\n<p class=\"MsoNormal\"><strong><strong>*Suporte de SO:</strong></strong><br />- Edi&ccedil;&atilde;o Windows 11 - 64-Bit</p>\\r\\n<p class=\"MsoNormal\">- Edi&ccedil;&atilde;o Windows 10 - 64-Bit</p>\\r\\n<p class=\"MsoNormal\">- RHEL x86 64 bits</p>\\r\\n<p class=\"MsoNormal\">- Ubuntu x86 64 bits</p>\\r\\n<p class=\"MsoNormal\"><strong></strong></p>\\r\\n<p class=\"MsoNormal\">*O suporte ao sistema operacional (SO) poder&aacute; variar de acordo com o fabricante.</p>\\r\\n<p class=\"MsoNormal\">&nbsp;</p>\\r\\n<p class=\"MsoNormal\"><strong><strong>Chipsets de suporte:</strong></strong><br />- X570</p>\\r\\n<p class=\"MsoNormal\">- X470</p>\\r\\n<p class=\"MsoNormal\">-&nbsp;<span>X370</span></p>\\r\\n<p class=\"MsoNormal\">- B550</p>\\r\\n<p class=\"MsoNormal\">- B450</p>\\r\\n<p class=\"MsoNormal\">-&nbsp;<span>B350</span></p>\\r\\n<p class=\"MsoNormal\">- A520</p>\\r\\n<p class=\"MsoNormal\">&nbsp;</p>\\r\\n<p class=\"MsoNormal\"><strong><strong>Mem&oacute;ria:</strong></strong></p>\\r\\n<p class=\"MsoNormal\">- Suporte a USB Tipo C: sim</p>\\r\\n<p class=\"MsoNormal\">- Portas nativas USB 3.2 Gen 2 (10 Gbps): 4</p>\\r\\n<p class=\"MsoNormal\">- Portas nativas USB 3.2 Gen 1 (5 Gbps): 0</p>\\r\\n<p class=\"MsoNormal\">- Portas nativas USB 2.0 (480Mbps): 0</p>\\r\\n<p class=\"MsoNormal\">- Portas SATA nativas: 2</p>\\r\\n<p class=\"MsoNormal\">- Vers&atilde;o do PCI Express: PCIe 4.0</p>\\r\\n<p class=\"MsoNormal\">- Pistas PCIe nativas (total/utiliz&aacute;vel): 24/20</p>\\r\\n<p class=\"MsoNormal\">- Suporte NVMe: Boot, RAID0, RAID1, RAID10</p>\\r\\n<p class=\"MsoNormal\">- Tipo de mem&oacute;ria: DDR4</p>\\r\\n<p class=\"MsoNormal\">- Canais de mem&oacute;ria: 2</p>\\r\\n<p class=\"MsoNormal\">- M&aacute;x. Mem&oacute;ria: 128 GB</p>\\r\\n<p class=\"MsoNormal\">- Subtipo de mem&oacute;ria do sistema: UDIMM</p>\\r\\n<p class=\"MsoNormal\">-&nbsp;<span>Velocidade m&aacute;xima da mem&oacute;ria:&nbsp;</span>Up to 3200MHz</p>\\r\\n<p class=\"MsoNormal\">&nbsp;</p>\\r\\n<p class=\"MsoNormal\"><strong><strong>PCIe utiliz&aacute;veis &#8203;&#8203;adicionais da placa-m&atilde;e</strong></strong></p>\\r\\n<p class=\"MsoNormal\">- AMD X570: 16x Gera&ccedil;&atilde;o 4</p>\\r\\n<p class=\"MsoNormal\">- AMD X470: 2x Gera&ccedil;&atilde;o 3</p>\\r\\n<p class=\"MsoNormal\">- AMD X470: 8x Gera&ccedil;&atilde;o 2</p>\\r\\n<p class=\"MsoNormal\">&nbsp;</p>\\r\\n<p class=\"MsoNormal\"><strong><strong>Velocidade m&aacute;xima de mem&oacute;ria</strong></strong></p>\\r\\n<p class=\"MsoNormal\">- 2x1R: DDR4-3200</p>\\r\\n<p class=\"MsoNormal\">- 2x2R: DDR4-3200</p>\\r\\n<p class=\"MsoNormal\">- 4x1R: DDR4-2933</p>\\r\\n<p class=\"MsoNormal\">- 4x2R: DDR4-2667</p>\\r\\n<p class=\"MsoNormal\">&nbsp;</p>\\r\\n<p class=\"MsoNormal\"><strong><strong>Tecnologias compat&iacute;veis</strong></strong></p>\\r\\n<p class=\"MsoNormal\">- Arquitetura de n&uacute;cleo AMD \"Zen 3\"</p>\\r\\n<p class=\"MsoNormal\">- Premium AMD Ryzen&trade; VR-Ready</p>\\r\\n<p class=\"MsoNormal\"><strong><strong><br /></strong><strong>Conte&uacute;do da Embalagem:&nbsp;</strong></strong><br />- 01 x&nbsp;<span>Processador AMD Ryzen 5 5600, Cache 35MB, 3.5GHz (4.4GHz Max Turbo), AM4, Sem V&iacute;deo&nbsp;</span></p>',\n     'ufsFlash': [],\n     'flags': {'isMarketplace': False,\n      'isOpenbox': False,\n      'isFreeShipping': False,\n      'isFreeShippingPrime': False,\n      'isPixShipping': False,\n      'isPreOrder': False,\n      'isFlash': False,\n      'isPrime': False,\n      'isOffer': True,\n      'hasGift': False},\n     'origin': {'id': None, 'name': None},\n     'prime': None,\n     'offer': {'id': '582632',\n      'name': 'Julho Gamer',\n      'referenceBanner': 'julhogamer',\n      'endsAt': 1659351600,\n      'startsAt': 1657796280,\n      'price': 1341.06,\n      'priceWithDiscount': 1139.9,\n      'discountPercentage': 18,\n      'quantityAvailable': 68,\n      'hashCode': '1381bebbb18863cae0da9796d353ba0d9a6c5396'},\n     'paymentMethodsDefault': [{'category': 'boleto',\n       'method': 'Boleto Bancário',\n       'bestInstallment': None,\n       'installments': [{'id': 1,\n         'paymentTerms': 'Até 15% de desconto',\n         'installment': 1,\n         'amount': 1139.9,\n         'total': 1139.9,\n         'hasFee': False}]},\n      {'category': 'cartao',\n       'method': 'Cartão de Crédito',\n       'bestInstallment': None,\n       'installments': [{'id': 59,\n         'paymentTerms': 'À vista - Até 10% de desconto',\n         'installment': 1,\n         'amount': 1206.95,\n         'total': 1206.95,\n         'hasFee': False},\n        {'id': 4,\n         'paymentTerms': '2x sem juros',\n         'installment': 2,\n         'amount': 670.53,\n         'total': 1341.06,\n         'hasFee': False},\n        {'id': 5,\n         'paymentTerms': '3x sem juros',\n         'installment': 3,\n         'amount': 447.02,\n         'total': 1341.06,\n         'hasFee': False},\n        {'id': 6,\n         'paymentTerms': '4x sem juros',\n         'installment': 4,\n         'amount': 335.26,\n         'total': 1341.06,\n         'hasFee': False},\n        {'id': 7,\n         'paymentTerms': '5x sem juros',\n         'installment': 5,\n         'amount': 268.21,\n         'total': 1341.06,\n         'hasFee': False},\n        {'id': 8,\n         'paymentTerms': '6x sem juros',\n         'installment': 6,\n         'amount': 223.51,\n         'total': 1341.06,\n         'hasFee': False},\n        {'id': 42,\n         'paymentTerms': '7x sem juros',\n         'installment': 7,\n         'amount': 191.58,\n         'total': 1341.06,\n         'hasFee': False},\n        {'id': 43,\n         'paymentTerms': '8x sem juros',\n         'installment': 8,\n         'amount': 167.63,\n         'total': 1341.06,\n         'hasFee': False},\n        {'id': 44,\n         'paymentTerms': '9x sem juros',\n         'installment': 9,\n         'amount': 149,\n         'total': 1341.06,\n         'hasFee': False},\n        {'id': 45,\n         'paymentTerms': '10x sem juros',\n         'installment': 10,\n         'amount': 134.1,\n         'total': 1341.06,\n         'hasFee': False},\n        {'id': 55,\n         'paymentTerms': '11x com juros',\n         'installment': 11,\n         'amount': 123.49,\n         'total': 1358.49,\n         'hasFee': True},\n        {'id': 56,\n         'paymentTerms': '12x com juros',\n         'installment': 12,\n         'amount': 114.66,\n         'total': 1375.93,\n         'hasFee': True}]},\n      {'category': 'paypal',\n       'method': 'PayPal',\n       'bestInstallment': None,\n       'installments': [{'id': 67,\n         'paymentTerms': 'PayPal',\n         'installment': 1,\n         'amount': 1341.06,\n         'total': 1341.06,\n         'hasFee': False}]},\n      {'category': 'pix',\n       'method': 'PIX',\n       'bestInstallment': None,\n       'installments': [{'id': 98,\n         'paymentTerms': 'À vista',\n         'installment': 1,\n         'amount': 1139.9,\n         'total': 1139.9,\n         'hasFee': False}]},\n      {'category': 'cobranded',\n       'method': 'Cartão de Crédito KaBuM!',\n       'bestInstallment': {'installment': 1,\n        'discountPercentage': 15,\n        'amount': 1139.9,\n        'hasFee': False},\n       'installments': [{'id': 99,\n         'paymentTerms': 'À vista - Até 15% de desconto',\n         'installment': 1,\n         'amount': 1139.9,\n         'total': 1139.9,\n         'hasFee': False},\n        {'id': 101,\n         'paymentTerms': '2x sem juros',\n         'installment': 2,\n         'amount': 670.53,\n         'total': 1341.06,\n         'hasFee': False},\n        {'id': 102,\n         'paymentTerms': '3x sem juros',\n         'installment': 3,\n         'amount': 447.02,\n         'total': 1341.06,\n         'hasFee': False},\n        {'id': 103,\n         'paymentTerms': '4x sem juros',\n         'installment': 4,\n         'amount': 335.26,\n         'total': 1341.06,\n         'hasFee': False},\n        {'id': 104,\n         'paymentTerms': '5x sem juros',\n         'installment': 5,\n         'amount': 268.21,\n         'total': 1341.06,\n         'hasFee': False},\n        {'id': 105,\n         'paymentTerms': '6x sem juros',\n         'installment': 6,\n         'amount': 223.51,\n         'total': 1341.06,\n         'hasFee': False},\n        {'id': 106,\n         'paymentTerms': '7x sem juros',\n         'installment': 7,\n         'amount': 191.58,\n         'total': 1341.06,\n         'hasFee': False},\n        {'id': 107,\n         'paymentTerms': '8x sem juros',\n         'installment': 8,\n         'amount': 167.63,\n         'total': 1341.06,\n         'hasFee': False},\n        {'id': 108,\n         'paymentTerms': '9x sem juros',\n         'installment': 9,\n         'amount': 149,\n         'total': 1341.06,\n         'hasFee': False},\n        {'id': 109,\n         'paymentTerms': '10x sem juros',\n         'installment': 10,\n         'amount': 134.1,\n         'total': 1341.06,\n         'hasFee': False},\n        {'id': 110,\n         'paymentTerms': '11x sem juros',\n         'installment': 11,\n         'amount': 121.91,\n         'total': 1341.06,\n         'hasFee': False},\n        {'id': 111,\n         'paymentTerms': '12x sem juros',\n         'installment': 12,\n         'amount': 111.75,\n         'total': 1341.06,\n         'hasFee': False},\n        {'id': 112,\n         'paymentTerms': '13x com juros',\n         'installment': 13,\n         'amount': 116.56,\n         'total': 1515.4,\n         'hasFee': True},\n        {'id': 113,\n         'paymentTerms': '14x com juros',\n         'installment': 14,\n         'amount': 109.2,\n         'total': 1528.81,\n         'hasFee': True},\n        {'id': 114,\n         'paymentTerms': '15x com juros',\n         'installment': 15,\n         'amount': 102.81,\n         'total': 1542.22,\n         'hasFee': True},\n        {'id': 115,\n         'paymentTerms': '16x com juros',\n         'installment': 16,\n         'amount': 97.22,\n         'total': 1555.63,\n         'hasFee': True},\n        {'id': 116,\n         'paymentTerms': '17x com juros',\n         'installment': 17,\n         'amount': 92.29,\n         'total': 1569.04,\n         'hasFee': True},\n        {'id': 117,\n         'paymentTerms': '18x com juros',\n         'installment': 18,\n         'amount': 87.91,\n         'total': 1582.45,\n         'hasFee': True},\n        {'id': 118,\n         'paymentTerms': '19x com juros',\n         'installment': 19,\n         'amount': 83.99,\n         'total': 1595.86,\n         'hasFee': True},\n        {'id': 119,\n         'paymentTerms': '20x com juros',\n         'installment': 20,\n         'amount': 80.46,\n         'total': 1609.27,\n         'hasFee': True},\n        {'id': 120,\n         'paymentTerms': '21x com juros',\n         'installment': 21,\n         'amount': 77.27,\n         'total': 1622.68,\n         'hasFee': True},\n        {'id': 121,\n         'paymentTerms': '22x com juros',\n         'installment': 22,\n         'amount': 74.36,\n         'total': 1636.09,\n         'hasFee': True},\n        {'id': 122,\n         'paymentTerms': '23x com juros',\n         'installment': 23,\n         'amount': 71.71,\n         'total': 1649.5,\n         'hasFee': True},\n        {'id': 123,\n         'paymentTerms': '24x com juros',\n         'installment': 24,\n         'amount': 69.28,\n         'total': 1662.91,\n         'hasFee': True}]}],\n     'paymentMethodsPrime': None,\n     'photos': {'p': ['https://images.kabum.com.br/produtos/fotos/320798/processador-amd-ryzen-5-5600-cache-35mb-3-7ghz-4-4ghz-max-turbo-am4-100-100000927box_1647636743_p.jpg',\n       'https://images.kabum.com.br/produtos/fotos/320798/processador-amd-ryzen-5-5600-cache-35mb-3-7ghz-4-4ghz-max-turbo-am4-100-100000927box_1647636744_p.jpg'],\n      'm': ['https://images.kabum.com.br/produtos/fotos/320798/processador-amd-ryzen-5-5600-cache-35mb-3-7ghz-4-4ghz-max-turbo-am4-100-100000927box_1647636743_m.jpg',\n       'https://images.kabum.com.br/produtos/fotos/320798/processador-amd-ryzen-5-5600-cache-35mb-3-7ghz-4-4ghz-max-turbo-am4-100-100000927box_1647636744_m.jpg'],\n      'g': ['https://images.kabum.com.br/produtos/fotos/320798/processador-amd-ryzen-5-5600-cache-35mb-3-7ghz-4-4ghz-max-turbo-am4-100-100000927box_1647636743_g.jpg',\n       'https://images.kabum.com.br/produtos/fotos/320798/processador-amd-ryzen-5-5600-cache-35mb-3-7ghz-4-4ghz-max-turbo-am4-100-100000927box_1647636744_g.jpg'],\n      'gg': ['https://images.kabum.com.br/produtos/fotos/320798/processador-amd-ryzen-5-5600-cache-35mb-3-7ghz-4-4ghz-max-turbo-am4-100-100000927box_1647636743_gg.jpg',\n       'https://images.kabum.com.br/produtos/fotos/320798/processador-amd-ryzen-5-5600-cache-35mb-3-7ghz-4-4ghz-max-turbo-am4-100-100000927box_1647636744_gg.jpg']},\n     'thumbnail': 'https://images.kabum.com.br/produtos/fotos/320798/processador-amd-ryzen-5-5600-cache-35mb-3-7ghz-4-4ghz-max-turbo-am4-100-100000927box_1647636743_m.jpg',\n     'promotionBanner': None,\n     'campaignBanners': [],\n     'crossCart': [99034,\n      166052,\n      114337,\n      20866,\n      49461,\n      115216,\n      100672,\n      194492],\n     'crossSelling': [115216]}}},\n  '__N_SSP': True},\n 'page': '/produto/[...slug]',\n 'query': {'slug': ['320798',\n   'processador-amd-ryzen-5-5600-cache-35mb-3-5ghz-4-4ghz-max-turbo-am4-sem-video-100-100000927box']},\n 'buildId': 'VZJ1XA0ox5JEAoPmNJb-i',\n 'assetPrefix': '/core',\n 'isFallback': False,\n 'dynamicIds': [56793],\n 'gssp': True,\n 'appGip': True,\n 'scriptLoader': []}"
     },
     "metadata": {}
    }
   ]
  },
  {
   "cell_type": "code",
   "metadata": {
    "cell_id": "dddff4f43c264e869e448e2874457980",
    "tags": [],
    "deepnote_cell_type": "code",
    "deepnote_cell_height": 66
   },
   "source": "aaaaa",
   "execution_count": null,
   "outputs": []
  },
  {
   "cell_type": "code",
   "source": "def extract_pichau(html_script : str) -> pd.DataFrame:\n\n    '''\n    Funcao para buscar as informacoes do site da pichau e persisti-las\n\n    Retorno do metodo\n    pandas.DataFrame\n\n    Parametros\n\n    html_script:str\n    script do site a ser obtidos as informações\n    '''\n\n    limite_galeria = 6\n\n    df_retorno1 = pd.DataFrame()\n\n    soup = BeautifulSoup(html_doc, 'html.parser')\n\n    all_data = soup.find('script', {'type':'application/json'})\n\n    jsn = json.loads(all_data.string)\n\n    #Usar esta lista de atributos neste nível: ['props']['pageProps']['pageData']['content']\n    lista_attr_l0 = ['potencia', 'name', 'stock_status', 'codigo_barra', 'is_openbox']\n\n    for i in lista_attr_l0:\n        df_retorno1[i] = jsn['props']['pageProps']['pageData']['content'][i]\n\n    #Usar esta lista de atributos neste nível: ['props']['pageProps']['pageData']['content']['mysales_promotion']\n    lista_attr_l1 = ['promotion_name', 'qty_available', 'qty_sold', 'expire_at']\n\n    for i in lista_attr_l1:\n        df_retorno1[i] = jsn['props']['pageProps']['pageData']['content']['mysales_promotion'][i]\n\n    galeria = jsn['props']['pageProps']['pageData']['content']['media_gallery']\n\n    for img, counter in zip(galeria [:min(len(galeria), limite_galeria)], range(limite_galeria)):\n        df_retorno1[\"url_image\" + str(counter)] = img['url']\n\n    df_retorno1['currency_promo'] = jsn['props']['pageProps']['pageData']['content']['price_range']['minimum_price']['final_price']['currency']\n    df_retorno1['value_promo'] = jsn['props']['pageProps']['pageData']['content']['price_range']['minimum_price']['final_price']['value']\n\n    df_retorno1['currency_regular'] = jsn['props']['pageProps']['pageData']['content']['price_range']['minimum_price']['regular_price']['currency']\n    df_retorno1['value_regular'] = jsn['props']['pageProps']['pageData']['content']['price_range']['minimum_price']['regular_price']['value']\n\n    df_retorno1['currency_cash'] = df_retorno['currency_promo']\n    value_cash = df_retorno1['value_promo'].astype('float64') * 0.88\n    value_cash = [value_cash]\n    df_retorno1['value_cash'] = value_cash\n    df_retorno1['dt_hr_captura'] = [datetime.now()]\n    print(df_retorno1.shape)\n\n    return df_retorno1\n    #data hora captura\ndf_retorno1",
   "metadata": {
    "cell_id": "e988a515e379451fbf3493136673d7e8",
    "tags": [],
    "deepnote_to_be_reexecuted": false,
    "source_hash": "6adc6950",
    "execution_start": 1658440933878,
    "execution_millis": 46,
    "owner_user_id": "baad0629-31df-4a65-9098-8bf0ae755849",
    "deepnote_cell_type": "code",
    "deepnote_cell_height": 1089
   },
   "outputs": [],
   "execution_count": 176
  },
  {
   "cell_type": "code",
   "source": "df_retorno1",
   "metadata": {
    "cell_id": "c1976740d9544afdb148281230cc3a64",
    "tags": [],
    "deepnote_to_be_reexecuted": false,
    "source_hash": "663adb3e",
    "execution_start": 1658440935856,
    "execution_millis": 53,
    "deepnote_cell_type": "code",
    "deepnote_cell_height": 144.1875
   },
   "outputs": [
    {
     "output_type": "error",
     "ename": "NameError",
     "evalue": "name 'df_retorno1' is not defined",
     "traceback": [
      "\u001b[0;31m---------------------------------------------------------------------------\u001b[0m",
      "\u001b[0;31mNameError\u001b[0m                                 Traceback (most recent call last)",
      "\u001b[0;32m<ipython-input-177-94d6b5fc0d26>\u001b[0m in \u001b[0;36m<cell line: 1>\u001b[0;34m()\u001b[0m\n\u001b[0;32m----> 1\u001b[0;31m \u001b[0mdf_retorno1\u001b[0m\u001b[0;34m\u001b[0m\u001b[0;34m\u001b[0m\u001b[0m\n\u001b[0m",
      "\u001b[0;31mNameError\u001b[0m: name 'df_retorno1' is not defined"
     ]
    }
   ],
   "execution_count": 177
  },
  {
   "cell_type": "markdown",
   "source": "<a style='text-decoration:none;line-height:16px;display:flex;color:#5B5B62;padding:10px;justify-content:end;' href='https://deepnote.com?utm_source=created-in-deepnote-cell&projectId=b8b98786-19ce-460b-98f4-40a20facf290' target=\"_blank\">\n<img alt='Created in deepnote.com' style='display:inline;max-height:16px;margin:0px;margin-right:7.5px;' src='data:image/svg+xml;base64,PD94bWwgdmVyc2lvbj0iMS4wIiBlbmNvZGluZz0iVVRGLTgiPz4KPHN2ZyB3aWR0aD0iODBweCIgaGVpZ2h0PSI4MHB4IiB2aWV3Qm94PSIwIDAgODAgODAiIHZlcnNpb249IjEuMSIgeG1sbnM9Imh0dHA6Ly93d3cudzMub3JnLzIwMDAvc3ZnIiB4bWxuczp4bGluaz0iaHR0cDovL3d3dy53My5vcmcvMTk5OS94bGluayI+CiAgICA8IS0tIEdlbmVyYXRvcjogU2tldGNoIDU0LjEgKDc2NDkwKSAtIGh0dHBzOi8vc2tldGNoYXBwLmNvbSAtLT4KICAgIDx0aXRsZT5Hcm91cCAzPC90aXRsZT4KICAgIDxkZXNjPkNyZWF0ZWQgd2l0aCBTa2V0Y2guPC9kZXNjPgogICAgPGcgaWQ9IkxhbmRpbmciIHN0cm9rZT0ibm9uZSIgc3Ryb2tlLXdpZHRoPSIxIiBmaWxsPSJub25lIiBmaWxsLXJ1bGU9ImV2ZW5vZGQiPgogICAgICAgIDxnIGlkPSJBcnRib2FyZCIgdHJhbnNmb3JtPSJ0cmFuc2xhdGUoLTEyMzUuMDAwMDAwLCAtNzkuMDAwMDAwKSI+CiAgICAgICAgICAgIDxnIGlkPSJHcm91cC0zIiB0cmFuc2Zvcm09InRyYW5zbGF0ZSgxMjM1LjAwMDAwMCwgNzkuMDAwMDAwKSI+CiAgICAgICAgICAgICAgICA8cG9seWdvbiBpZD0iUGF0aC0yMCIgZmlsbD0iIzAyNjVCNCIgcG9pbnRzPSIyLjM3NjIzNzYyIDgwIDM4LjA0NzY2NjcgODAgNTcuODIxNzgyMiA3My44MDU3NTkyIDU3LjgyMTc4MjIgMzIuNzU5MjczOSAzOS4xNDAyMjc4IDMxLjY4MzE2ODMiPjwvcG9seWdvbj4KICAgICAgICAgICAgICAgIDxwYXRoIGQ9Ik0zNS4wMDc3MTgsODAgQzQyLjkwNjIwMDcsNzYuNDU0OTM1OCA0Ny41NjQ5MTY3LDcxLjU0MjI2NzEgNDguOTgzODY2LDY1LjI2MTk5MzkgQzUxLjExMjI4OTksNTUuODQxNTg0MiA0MS42NzcxNzk1LDQ5LjIxMjIyODQgMjUuNjIzOTg0Niw0OS4yMTIyMjg0IEMyNS40ODQ5Mjg5LDQ5LjEyNjg0NDggMjkuODI2MTI5Niw0My4yODM4MjQ4IDM4LjY0NzU4NjksMzEuNjgzMTY4MyBMNzIuODcxMjg3MSwzMi41NTQ0MjUgTDY1LjI4MDk3Myw2Ny42NzYzNDIxIEw1MS4xMTIyODk5LDc3LjM3NjE0NCBMMzUuMDA3NzE4LDgwIFoiIGlkPSJQYXRoLTIyIiBmaWxsPSIjMDAyODY4Ij48L3BhdGg+CiAgICAgICAgICAgICAgICA8cGF0aCBkPSJNMCwzNy43MzA0NDA1IEwyNy4xMTQ1MzcsMC4yNTcxMTE0MzYgQzYyLjM3MTUxMjMsLTEuOTkwNzE3MDEgODAsMTAuNTAwMzkyNyA4MCwzNy43MzA0NDA1IEM4MCw2NC45NjA0ODgyIDY0Ljc3NjUwMzgsNzkuMDUwMzQxNCAzNC4zMjk1MTEzLDgwIEM0Ny4wNTUzNDg5LDc3LjU2NzA4MDggNTMuNDE4MjY3Nyw3MC4zMTM2MTAzIDUzLjQxODI2NzcsNTguMjM5NTg4NSBDNTMuNDE4MjY3Nyw0MC4xMjg1NTU3IDM2LjMwMzk1NDQsMzcuNzMwNDQwNSAyNS4yMjc0MTcsMzcuNzMwNDQwNSBDMTcuODQzMDU4NiwzNy43MzA0NDA1IDkuNDMzOTE5NjYsMzcuNzMwNDQwNSAwLDM3LjczMDQ0MDUgWiIgaWQ9IlBhdGgtMTkiIGZpbGw9IiMzNzkzRUYiPjwvcGF0aD4KICAgICAgICAgICAgPC9nPgogICAgICAgIDwvZz4KICAgIDwvZz4KPC9zdmc+' > </img>\nCreated in <span style='font-weight:600;margin-left:4px;'>Deepnote</span></a>",
   "metadata": {
    "tags": [],
    "created_in_deepnote_cell": true,
    "deepnote_cell_type": "markdown"
   }
  }
 ],
 "nbformat": 4,
 "nbformat_minor": 2,
 "metadata": {
  "orig_nbformat": 2,
  "deepnote": {},
  "deepnote_notebook_id": "0bd588bb-52e1-48d8-9f98-c6ccec70c98b",
  "deepnote_execution_queue": []
 }
}