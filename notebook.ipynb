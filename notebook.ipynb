{
 "cells": [
  {
   "cell_type": "markdown",
   "source": "## Cralwer dos sites de TI",
   "metadata": {
    "cell_id": "385560e8e2de4af4bccd1ad2a39231a7",
    "tags": [],
    "deepnote_cell_type": "markdown",
    "deepnote_cell_height": 70
   }
  },
  {
   "cell_type": "code",
   "metadata": {
    "cell_id": "499f048ffb6f4b6d8efb9a3367d74390",
    "tags": [],
    "deepnote_to_be_reexecuted": true,
    "source_hash": "f26448b0",
    "execution_start": 1658433258523,
    "execution_millis": 4098,
    "deepnote_cell_type": "code",
    "deepnote_cell_height": 282.79998779296875
   },
   "source": "#Instalando o bs4\n!pip install beautifulsoup4",
   "outputs": [
    {
     "name": "stdout",
     "text": "Collecting beautifulsoup4\n  Downloading beautifulsoup4-4.11.1-py3-none-any.whl (128 kB)\n\u001b[2K     \u001b[90m━━━━━━━━━━━━━━━━━━━━━━━━━━━━━━━━━━━━━━\u001b[0m \u001b[32m128.2/128.2 KB\u001b[0m \u001b[31m22.3 MB/s\u001b[0m eta \u001b[36m0:00:00\u001b[0m\n\u001b[?25hCollecting soupsieve>1.2\n  Downloading soupsieve-2.3.2.post1-py3-none-any.whl (37 kB)\nInstalling collected packages: soupsieve, beautifulsoup4\nSuccessfully installed beautifulsoup4-4.11.1 soupsieve-2.3.2.post1\n\u001b[33mWARNING: You are using pip version 22.0.4; however, version 22.2 is available.\nYou should consider upgrading via the '/root/venv/bin/python -m pip install --upgrade pip' command.\u001b[0m\u001b[33m\n\u001b[0m",
     "output_type": "stream"
    }
   ],
   "execution_count": null
  },
  {
   "cell_type": "markdown",
   "source": "### Imports",
   "metadata": {
    "formattedRanges": [],
    "cell_id": "a17b95e9035a409fbc5f0cf13df7802f",
    "tags": [],
    "is_collapsed": false,
    "deepnote_cell_type": "text-cell-h3"
   }
  },
  {
   "cell_type": "code",
   "metadata": {
    "tags": [],
    "cell_id": "b272611c-cee4-4624-91dd-bbd90eecfbdb",
    "deepnote_to_be_reexecuted": false,
    "source_hash": "6ad5a167",
    "execution_start": 1658452625822,
    "execution_millis": 920,
    "owner_user_id": "005ed028-13e1-49b7-a15d-07b078143245",
    "deepnote_cell_type": "code",
    "deepnote_cell_height": 672.7999877929688
   },
   "source": "import math, sys, os\n\n#Datas\nimport pandas as pd\nimport numpy as np\n\n#Web\nfrom bs4 import BeautifulSoup\nimport requests\n\n#Plotters\nimport matplotlib as plt\nimport seaborn as sns\n\n#Text\nimport re\nimport json\n\n#handling dates\nfrom datetime import datetime\nimport time\n\n#remover dps\nfrom pytictoc import TicToc\n\n%load_ext autoreload\n%autoreload 2\n\n%time",
   "execution_count": 1,
   "outputs": [
    {
     "output_type": "error",
     "ename": "ModuleNotFoundError",
     "evalue": "No module named 'bs4'",
     "traceback": [
      "\u001b[0;31m---------------------------------------------------------------------------\u001b[0m",
      "\u001b[0;31mModuleNotFoundError\u001b[0m                       Traceback (most recent call last)",
      "\u001b[0;32m<ipython-input-1-c0771f07e27b>\u001b[0m in \u001b[0;36m<cell line: 8>\u001b[0;34m()\u001b[0m\n\u001b[1;32m      6\u001b[0m \u001b[0;34m\u001b[0m\u001b[0m\n\u001b[1;32m      7\u001b[0m \u001b[0;31m#Web\u001b[0m\u001b[0;34m\u001b[0m\u001b[0;34m\u001b[0m\u001b[0m\n\u001b[0;32m----> 8\u001b[0;31m \u001b[0;32mfrom\u001b[0m \u001b[0mbs4\u001b[0m \u001b[0;32mimport\u001b[0m \u001b[0mBeautifulSoup\u001b[0m\u001b[0;34m\u001b[0m\u001b[0;34m\u001b[0m\u001b[0m\n\u001b[0m\u001b[1;32m      9\u001b[0m \u001b[0;32mimport\u001b[0m \u001b[0mrequests\u001b[0m\u001b[0;34m\u001b[0m\u001b[0;34m\u001b[0m\u001b[0m\n\u001b[1;32m     10\u001b[0m \u001b[0;34m\u001b[0m\u001b[0m\n",
      "\u001b[0;31mModuleNotFoundError\u001b[0m: No module named 'bs4'"
     ]
    }
   ]
  },
  {
   "cell_type": "markdown",
   "source": "### Setando Header",
   "metadata": {
    "formattedRanges": [],
    "cell_id": "5ba1aba8ee4b490688c0eb6ea8c0a4cb",
    "tags": [],
    "is_collapsed": false,
    "deepnote_cell_type": "text-cell-h3"
   }
  },
  {
   "cell_type": "code",
   "metadata": {
    "cell_id": "8a51cd92d5074f8ab52fa542da3ec956",
    "tags": [],
    "deepnote_to_be_reexecuted": true,
    "source_hash": "196c0afc",
    "execution_start": 1658442422509,
    "execution_millis": 57,
    "is_code_hidden": false,
    "deepnote_cell_type": "code",
    "deepnote_cell_height": 135
   },
   "source": "header = {\n    \"user-agent\": \"Mozilla/5.0 (Windows NT 10.0; Win64; x64) AppleWebKit/537.36 (KHTML, like Gecko) Chrome/74.0.3729.169 Safari/537.36\" ,\n    'referer':'https://www.google.com/'\n}",
   "outputs": [],
   "execution_count": null
  },
  {
   "cell_type": "code",
   "source": "import warnings\nwarnings.filterwarnings(\"ignore\")",
   "metadata": {
    "cell_id": "4396f7011c8f4e61b5c10e948debb549",
    "tags": [],
    "deepnote_to_be_reexecuted": true,
    "source_hash": "3fb495e8",
    "execution_start": 1658444630828,
    "execution_millis": 20,
    "deepnote_cell_type": "code",
    "deepnote_cell_height": 99
   },
   "outputs": [],
   "execution_count": null
  },
  {
   "cell_type": "code",
   "source": "lista_url = df_a_consultar['loc'].to_list()\n\nlista_vars_pichau = ['sku', 'potencia', 'name', 'stock_status', 'codigo_barra', 'is_openbox',\n       'promotion_name', 'qty_available', 'qty_sold', 'expire_at',\n       'url_image0', 'url_image1', 'value_promo', 'value_regular',\n       'value_cash', 'dt_hr_captura']\n       \ndf = pd.DataFrame(columns=lista_vars_pichau)\n\nt = TicToc()\n\nerros = []\n\nc = 0\nfor i in lista_url:\n    try:\n        #t.tic()\n\n        #try:\n        c+=1\n        #print(c)\n        res = get_html_page(i)\n        df_temp = extract_pichau(res)\n\n        if df_temp.shape[0]>0:\n            df = df.append(df_temp, ignore_index = True)\n        #except Exception as e:\n        #    traceback.print_exc()\n\n        #t.toc()\n\n        time.sleep(0.1515)\n    except Exception as e:\n        erros.append(f\"{i}:{e}\")\ndf",
   "metadata": {
    "cell_id": "a43a9e89dc964c36bf82159c5f97dd4f",
    "tags": [],
    "deepnote_to_be_reexecuted": true,
    "source_hash": "2fd8b8e8",
    "execution_start": 1658445350119,
    "execution_millis": 1741360,
    "deepnote_table_state": {
     "pageSize": 10,
     "pageIndex": 0,
     "filters": [],
     "sortBy": []
    },
    "deepnote_table_loading": false,
    "deepnote_cell_type": "code",
    "deepnote_cell_height": 1257.199951171875
   },
   "outputs": [
    {
     "name": "stdout",
     "text": "Houve um erro no processamento da url https://www.pichau.com.br/perifericos/mouse/mouse-gamer-dazz-fatality-3500dpi-usb-62171-0\n",
     "output_type": "stream"
    },
    {
     "output_type": "execute_result",
     "execution_count": 75,
     "data": {
      "application/vnd.deepnote.dataframe.v3+json": {
       "column_count": 20,
       "row_count": 2342,
       "columns": [
        {
         "name": "sku",
         "dtype": "object",
         "stats": {
          "unique_count": 2342,
          "nan_count": 0,
          "categories": [
           {
            "name": "B450MH",
            "count": 1
           },
           {
            "name": "SHQ1405BL/00",
            "count": 1
           },
           {
            "name": "2340 others",
            "count": 2340
           }
          ]
         }
        },
        {
         "name": "potencia",
         "dtype": "object",
         "stats": {
          "unique_count": 83,
          "nan_count": 1864,
          "categories": [
           {
            "name": "0",
            "count": 50
           },
           {
            "name": "82 others",
            "count": 428
           },
           {
            "name": "Missing",
            "count": 1864
           }
          ]
         }
        },
        {
         "name": "name",
         "dtype": "object",
         "stats": {
          "unique_count": 2341,
          "nan_count": 0,
          "categories": [
           {
            "name": "Computador Pichau Gamer, AMD Ryzen 5 4650G, GeForce GTX 1660 Super 6GB, 8GB DDR4, SSD 240GB",
            "count": 2
           },
           {
            "name": "Placa Mae Biostar B450MH DDR4 Socket AM4 Chipset AMD B450",
            "count": 1
           },
           {
            "name": "2339 others",
            "count": 2339
           }
          ]
         }
        },
        {
         "name": "stock_status",
         "dtype": "object",
         "stats": {
          "unique_count": 2,
          "nan_count": 0,
          "categories": [
           {
            "name": "OUT_OF_STOCK",
            "count": 1915
           },
           {
            "name": "IN_STOCK",
            "count": 427
           }
          ]
         }
        },
        {
         "name": "codigo_barra",
         "dtype": "object",
         "stats": {
          "unique_count": 1798,
          "nan_count": 536,
          "categories": [
           {
            "name": "4897059872469",
            "count": 2
           },
           {
            "name": "1797 others",
            "count": 1804
           },
           {
            "name": "Missing",
            "count": 536
           }
          ]
         }
        },
        {
         "name": "is_openbox",
         "dtype": "object",
         "stats": {
          "unique_count": 2,
          "nan_count": 0,
          "categories": [
           {
            "name": "0",
            "count": 2313
           },
           {
            "name": "1",
            "count": 29
           }
          ]
         }
        },
        {
         "name": "promotion_name",
         "dtype": "object",
         "stats": {
          "unique_count": 5,
          "nan_count": 2065,
          "categories": [
           {
            "name": "Ferias com o Pombo",
            "count": 173
           },
           {
            "name": "4 others",
            "count": 104
           },
           {
            "name": "Missing",
            "count": 2065
           }
          ]
         }
        },
        {
         "name": "qty_available",
         "dtype": "object",
         "stats": {
          "unique_count": 94,
          "nan_count": 2065,
          "categories": [
           {
            "name": "1.0",
            "count": 17
           },
           {
            "name": "93 others",
            "count": 260
           },
           {
            "name": "Missing",
            "count": 2065
           }
          ]
         }
        },
        {
         "name": "qty_sold",
         "dtype": "object",
         "stats": {
          "unique_count": 77,
          "nan_count": 2065,
          "categories": [
           {
            "name": "0.0",
            "count": 76
           },
           {
            "name": "76 others",
            "count": 201
           },
           {
            "name": "Missing",
            "count": 2065
           }
          ]
         }
        },
        {
         "name": "expire_at",
         "dtype": "object",
         "stats": {
          "unique_count": 4,
          "nan_count": 2065,
          "categories": [
           {
            "name": "2022-08-01 17:00:00",
            "count": 173
           },
           {
            "name": "3 others",
            "count": 104
           },
           {
            "name": "Missing",
            "count": 2065
           }
          ]
         }
        },
        {
         "name": "url_image0",
         "dtype": "object",
         "stats": {
          "unique_count": 2339,
          "nan_count": 3,
          "categories": [
           {
            "name": "https://media.pichau.com.br/media/catalog/product/cache/2f958555330323e505eba7ce930bdf27/b/4/b450mh1.jpg",
            "count": 1
           },
           {
            "name": "2338 others",
            "count": 2338
           },
           {
            "name": "Missing",
            "count": 3
           }
          ]
         }
        },
        {
         "name": "url_image1",
         "dtype": "object",
         "stats": {
          "unique_count": 1907,
          "nan_count": 435,
          "categories": [
           {
            "name": "https://media.pichau.com.br/media/catalog/product/cache/2f958555330323e505eba7ce930bdf27/b/4/b450mh2.jpg",
            "count": 1
           },
           {
            "name": "1906 others",
            "count": 1906
           },
           {
            "name": "Missing",
            "count": 435
           }
          ]
         }
        },
        {
         "name": "value_promo",
         "dtype": "float64",
         "stats": {
          "unique_count": 1627,
          "nan_count": 0,
          "min": "0.0",
          "max": "24595.85",
          "histogram": [
           {
            "bin_start": 0,
            "bin_end": 2459.585,
            "count": 1948
           },
           {
            "bin_start": 2459.585,
            "bin_end": 4919.17,
            "count": 235
           },
           {
            "bin_start": 4919.17,
            "bin_end": 7378.755,
            "count": 91
           },
           {
            "bin_start": 7378.755,
            "bin_end": 9838.34,
            "count": 34
           },
           {
            "bin_start": 9838.34,
            "bin_end": 12297.925,
            "count": 9
           },
           {
            "bin_start": 12297.925,
            "bin_end": 14757.51,
            "count": 8
           },
           {
            "bin_start": 14757.51,
            "bin_end": 17217.095,
            "count": 9
           },
           {
            "bin_start": 17217.095,
            "bin_end": 19676.68,
            "count": 2
           },
           {
            "bin_start": 19676.68,
            "bin_end": 22136.265,
            "count": 2
           },
           {
            "bin_start": 22136.265,
            "bin_end": 24595.85,
            "count": 4
           }
          ]
         }
        },
        {
         "name": "value_regular",
         "dtype": "float64",
         "stats": {
          "unique_count": 1626,
          "nan_count": 0,
          "min": "0.0",
          "max": "24595.85",
          "histogram": [
           {
            "bin_start": 0,
            "bin_end": 2459.585,
            "count": 1934
           },
           {
            "bin_start": 2459.585,
            "bin_end": 4919.17,
            "count": 235
           },
           {
            "bin_start": 4919.17,
            "bin_end": 7378.755,
            "count": 95
           },
           {
            "bin_start": 7378.755,
            "bin_end": 9838.34,
            "count": 36
           },
           {
            "bin_start": 9838.34,
            "bin_end": 12297.925,
            "count": 16
           },
           {
            "bin_start": 12297.925,
            "bin_end": 14757.51,
            "count": 7
           },
           {
            "bin_start": 14757.51,
            "bin_end": 17217.095,
            "count": 11
           },
           {
            "bin_start": 17217.095,
            "bin_end": 19676.68,
            "count": 2
           },
           {
            "bin_start": 19676.68,
            "bin_end": 22136.265,
            "count": 1
           },
           {
            "bin_start": 22136.265,
            "bin_end": 24595.85,
            "count": 5
           }
          ]
         }
        },
        {
         "name": "value_cash",
         "dtype": "float64",
         "stats": {
          "unique_count": 1608,
          "nan_count": 0,
          "min": "0.0",
          "max": "21644.35",
          "histogram": [
           {
            "bin_start": 0,
            "bin_end": 2164.435,
            "count": 1948
           },
           {
            "bin_start": 2164.435,
            "bin_end": 4328.87,
            "count": 235
           },
           {
            "bin_start": 4328.87,
            "bin_end": 6493.305,
            "count": 91
           },
           {
            "bin_start": 6493.305,
            "bin_end": 8657.74,
            "count": 34
           },
           {
            "bin_start": 8657.74,
            "bin_end": 10822.175,
            "count": 9
           },
           {
            "bin_start": 10822.175,
            "bin_end": 12986.61,
            "count": 8
           },
           {
            "bin_start": 12986.61,
            "bin_end": 15151.045,
            "count": 9
           },
           {
            "bin_start": 15151.045,
            "bin_end": 17315.48,
            "count": 2
           },
           {
            "bin_start": 17315.48,
            "bin_end": 19479.915,
            "count": 2
           },
           {
            "bin_start": 19479.915,
            "bin_end": 21644.35,
            "count": 4
           }
          ]
         }
        },
        {
         "name": "dt_hr_captura",
         "dtype": "datetime64[ns]",
         "stats": {
          "unique_count": 2342,
          "nan_count": 0,
          "min": "2022-07-21 23:15:50.793409",
          "max": "2022-07-21 23:44:50.616258",
          "histogram": [
           {
            "bin_start": 1658445350793409000,
            "bin_end": 1658445524775693800,
            "count": 474
           },
           {
            "bin_start": 1658445524775693800,
            "bin_end": 1658445698757979000,
            "count": 212
           },
           {
            "bin_start": 1658445698757979000,
            "bin_end": 1658445872740263700,
            "count": 230
           },
           {
            "bin_start": 1658445872740263700,
            "bin_end": 1658446046722548700,
            "count": 153
           },
           {
            "bin_start": 1658446046722548700,
            "bin_end": 1658446220704833500,
            "count": 177
           },
           {
            "bin_start": 1658446220704833500,
            "bin_end": 1658446394687118300,
            "count": 221
           },
           {
            "bin_start": 1658446394687118300,
            "bin_end": 1658446568669403400,
            "count": 238
           },
           {
            "bin_start": 1658446568669403400,
            "bin_end": 1658446742651688200,
            "count": 208
           },
           {
            "bin_start": 1658446742651688200,
            "bin_end": 1658446916633973200,
            "count": 207
           },
           {
            "bin_start": 1658446916633973200,
            "bin_end": 1658447090616258000,
            "count": 222
           }
          ]
         }
        },
        {
         "name": "url_image2",
         "dtype": "object",
         "stats": {
          "unique_count": 1640,
          "nan_count": 702,
          "categories": [
           {
            "name": "https://media.pichau.com.br/media/catalog/product/cache/2f958555330323e505eba7ce930bdf27/b/4/b450mh.jpg",
            "count": 1
           },
           {
            "name": "1639 others",
            "count": 1639
           },
           {
            "name": "Missing",
            "count": 702
           }
          ]
         }
        },
        {
         "name": "url_image3",
         "dtype": "object",
         "stats": {
          "unique_count": 1364,
          "nan_count": 978,
          "categories": [
           {
            "name": "https://media.pichau.com.br/media/catalog/product/cache/2f958555330323e505eba7ce930bdf27/b/4/b450mh3.jpg",
            "count": 1
           },
           {
            "name": "1363 others",
            "count": 1363
           },
           {
            "name": "Missing",
            "count": 978
           }
          ]
         }
        },
        {
         "name": "url_image4",
         "dtype": "object",
         "stats": {
          "unique_count": 1035,
          "nan_count": 1307,
          "categories": [
           {
            "name": "https://media.pichau.com.br/media/catalog/product/cache/2f958555330323e505eba7ce930bdf27/g/w/gw8003.jpg",
            "count": 1
           },
           {
            "name": "1034 others",
            "count": 1034
           },
           {
            "name": "Missing",
            "count": 1307
           }
          ]
         }
        },
        {
         "name": "url_image5",
         "dtype": "object",
         "stats": {
          "unique_count": 646,
          "nan_count": 1696,
          "categories": [
           {
            "name": "https://media.pichau.com.br/media/catalog/product/cache/2f958555330323e505eba7ce930bdf27/g/w/gw8002.jpg",
            "count": 1
           },
           {
            "name": "645 others",
            "count": 645
           },
           {
            "name": "Missing",
            "count": 1696
           }
          ]
         }
        },
        {
         "name": "_deepnote_index_column",
         "dtype": "int64"
        }
       ],
       "rows": [
        {
         "sku": "B450MH",
         "potencia": "0",
         "name": "Placa Mae Biostar B450MH DDR4 Socket AM4 Chipset AMD B450",
         "stock_status": "OUT_OF_STOCK",
         "codigo_barra": "4712960681736",
         "is_openbox": "0",
         "promotion_name": "nan",
         "qty_available": "nan",
         "qty_sold": "nan",
         "expire_at": "nan",
         "url_image0": "https://media.pichau.com.br/media/catalog/product/cache/2f958555330323e505eba7ce930bdf27/b/4/b450mh1.jpg",
         "url_image1": "https://media.pichau.com.br/media/catalog/product/cache/2f958555330323e505eba7ce930bdf27/b/4/b450mh2.jpg",
         "value_promo": 636.25,
         "value_regular": 636.25,
         "value_cash": 559.9,
         "dt_hr_captura": "2022-07-21T23:15:50.793409",
         "url_image2": "https://media.pichau.com.br/media/catalog/product/cache/2f958555330323e505eba7ce930bdf27/b/4/b450mh.jpg",
         "url_image3": "https://media.pichau.com.br/media/catalog/product/cache/2f958555330323e505eba7ce930bdf27/b/4/b450mh3.jpg",
         "url_image4": "nan",
         "url_image5": "nan",
         "_deepnote_index_column": 0
        },
        {
         "sku": "SHQ1405BL/00",
         "potencia": "nan",
         "name": "Fone de Ouvido Philips RunWild Esportivo com Microfone Azul, SHQ1405BL/00",
         "stock_status": "OUT_OF_STOCK",
         "codigo_barra": "6951613991800",
         "is_openbox": "0",
         "promotion_name": "nan",
         "qty_available": "nan",
         "qty_sold": "nan",
         "expire_at": "nan",
         "url_image0": "https://media.pichau.com.br/media/catalog/product/cache/2f958555330323e505eba7ce930bdf27/s/h/shq1405bl00.jpg",
         "url_image1": "https://media.pichau.com.br/media/catalog/product/cache/2f958555330323e505eba7ce930bdf27/s/h/shq1405bl_00-a1p-global-001.jpg",
         "value_promo": 90.79,
         "value_regular": 90.79,
         "value_cash": 79.9,
         "dt_hr_captura": "2022-07-21T23:15:51.143384",
         "url_image2": "https://media.pichau.com.br/media/catalog/product/cache/2f958555330323e505eba7ce930bdf27/s/h/shq1405bl_00-a2p-global-001.jpg",
         "url_image3": "nan",
         "url_image4": "nan",
         "url_image5": "nan",
         "_deepnote_index_column": 1
        },
        {
         "sku": "GW800",
         "potencia": "nan",
         "name": "WebCam Redragon Hitman FHD 1080p USB, GW800",
         "stock_status": "IN_STOCK",
         "codigo_barra": "6950376778864",
         "is_openbox": "0",
         "promotion_name": "nan",
         "qty_available": "nan",
         "qty_sold": "nan",
         "expire_at": "nan",
         "url_image0": "https://media.pichau.com.br/media/catalog/product/cache/2f958555330323e505eba7ce930bdf27/g/w/gw8006.jpg",
         "url_image1": "https://media.pichau.com.br/media/catalog/product/cache/2f958555330323e505eba7ce930bdf27/g/w/gw800.jpg",
         "value_promo": 374.88,
         "value_regular": 374.88,
         "value_cash": 329.89,
         "dt_hr_captura": "2022-07-21T23:15:51.495255",
         "url_image2": "https://media.pichau.com.br/media/catalog/product/cache/2f958555330323e505eba7ce930bdf27/g/w/gw8001.jpg",
         "url_image3": "https://media.pichau.com.br/media/catalog/product/cache/2f958555330323e505eba7ce930bdf27/g/w/gw8004.jpg",
         "url_image4": "https://media.pichau.com.br/media/catalog/product/cache/2f958555330323e505eba7ce930bdf27/g/w/gw8003.jpg",
         "url_image5": "https://media.pichau.com.br/media/catalog/product/cache/2f958555330323e505eba7ce930bdf27/g/w/gw8002.jpg",
         "_deepnote_index_column": 2
        },
        {
         "sku": "PCM-Mancer-Gamer-32229",
         "potencia": "nan",
         "name": "Computador Mancer Gamer Nefasta II, Intel i5-11400F, Geforce RTX 3060 TI 8GB, 8GB DDR4, SSD M.2 240GB ",
         "stock_status": "IN_STOCK",
         "codigo_barra": "nan",
         "is_openbox": "0",
         "promotion_name": "PC Master Race",
         "qty_available": "48",
         "qty_sold": "38",
         "expire_at": "2022-07-31 23:50:00",
         "url_image0": "https://media.pichau.com.br/media/catalog/product/cache/2f958555330323e505eba7ce930bdf27/a/e/aerostorm-pc-config-003_1_11.jpg",
         "url_image1": "https://media.pichau.com.br/media/catalog/product/cache/2f958555330323e505eba7ce930bdf27/a/e/aerostorm-pc-config-001_1_11.jpg",
         "value_promo": 6476.89,
         "value_regular": 8107.01,
         "value_cash": 5699.66,
         "dt_hr_captura": "2022-07-21T23:15:51.803599",
         "url_image2": "https://media.pichau.com.br/media/catalog/product/cache/2f958555330323e505eba7ce930bdf27/a/e/aerostorm-pc-config-002_2_10.jpg",
         "url_image3": "https://media.pichau.com.br/media/catalog/product/cache/2f958555330323e505eba7ce930bdf27/a/e/aerostorm-pc-config-004_13.jpg",
         "url_image4": "https://media.pichau.com.br/media/catalog/product/cache/2f958555330323e505eba7ce930bdf27/a/e/aerostorm-pc-config-006_12.jpg",
         "url_image5": "https://media.pichau.com.br/media/catalog/product/cache/2f958555330323e505eba7ce930bdf27/m/a/mancer-aerostorm-intel-rtx-gtx-001_1_27.jpg",
         "_deepnote_index_column": 3
        },
        {
         "sku": "DUAL-GTX1050TI-O4G-V2",
         "potencia": "120",
         "name": "Placa de Video Asus Dual GeForce GTX 1050 Ti OC 4GB GDDR5 128-bit, DUAL-GTX1050TI-O4G-V2",
         "stock_status": "OUT_OF_STOCK",
         "codigo_barra": "4712900826159",
         "is_openbox": "0",
         "promotion_name": "nan",
         "qty_available": "nan",
         "qty_sold": "nan",
         "expire_at": "nan",
         "url_image0": "https://media.pichau.com.br/media/catalog/product/cache/2f958555330323e505eba7ce930bdf27/d/u/dual-gtx1050ti-o4g-v2.jpg",
         "url_image1": "https://media.pichau.com.br/media/catalog/product/cache/2f958555330323e505eba7ce930bdf27/d/u/dual-gtx1050ti-o4g-v22.jpg",
         "value_promo": 860.35,
         "value_regular": 860.35,
         "value_cash": 757.11,
         "dt_hr_captura": "2022-07-21T23:15:52.152225",
         "url_image2": "nan",
         "url_image3": "nan",
         "url_image4": "nan",
         "url_image5": "nan",
         "_deepnote_index_column": 4
        },
        {
         "sku": "TPX-1375M",
         "potencia": "nan",
         "name": "Fonte Thermaltake Toughpower XT 80Plus Gold, 1375W PFC Ativo, TPX-1375M - BOX",
         "stock_status": "OUT_OF_STOCK",
         "codigo_barra": "nan",
         "is_openbox": "0",
         "promotion_name": "nan",
         "qty_available": "nan",
         "qty_sold": "nan",
         "expire_at": "nan",
         "url_image0": "https://media.pichau.com.br/media/catalog/product/cache/2f958555330323e505eba7ce930bdf27/p/r/produto_detalhe6042.81d45623ac80828b29800f1ffbc91510.jpg",
         "url_image1": "https://media.pichau.com.br/media/catalog/product/cache/2f958555330323e505eba7ce930bdf27/p/r/produto3487.17bec255a87953ca7827d5f3783d8a24.jpg",
         "value_promo": 1364.17,
         "value_regular": 1364.17,
         "value_cash": 1200.47,
         "dt_hr_captura": "2022-07-21T23:15:52.545804",
         "url_image2": "https://media.pichau.com.br/media/catalog/product/cache/2f958555330323e505eba7ce930bdf27/p/r/produto_detalhe6041.eb86a131b47d2084f4d03cbd13f721be.jpg",
         "url_image3": "nan",
         "url_image4": "nan",
         "url_image5": "nan",
         "_deepnote_index_column": 5
        },
        {
         "sku": "STGS250401",
         "potencia": "nan",
         "name": "SSD Seagate Barracuda 250GB 2.5\" Sata III 6GB/s, STGS250401",
         "stock_status": "OUT_OF_STOCK",
         "codigo_barra": "3660619403486",
         "is_openbox": "0",
         "promotion_name": "nan",
         "qty_available": "nan",
         "qty_sold": "nan",
         "expire_at": "nan",
         "url_image0": "https://media.pichau.com.br/media/catalog/product/cache/2f958555330323e505eba7ce930bdf27/s/t/stgs2504013.jpg",
         "url_image1": "https://media.pichau.com.br/media/catalog/product/cache/2f958555330323e505eba7ce930bdf27/s/t/stgs250401.jpg",
         "value_promo": 271.6,
         "value_regular": 271.6,
         "value_cash": 239.01,
         "dt_hr_captura": "2022-07-21T23:15:52.896608",
         "url_image2": "https://media.pichau.com.br/media/catalog/product/cache/2f958555330323e505eba7ce930bdf27/s/t/stgs2504012.jpg",
         "url_image3": "https://media.pichau.com.br/media/catalog/product/cache/2f958555330323e505eba7ce930bdf27/s/t/stgs2504011.jpg",
         "url_image4": "nan",
         "url_image5": "nan",
         "_deepnote_index_column": 6
        },
        {
         "sku": "TUF GAMING B460M-PLUS (WI-FI)",
         "potencia": "nan",
         "name": "Placa Mae Asus TUF Gaming B460M PLUS WI-FI DDR4 Socket LGA1200 Intel B460",
         "stock_status": "OUT_OF_STOCK",
         "codigo_barra": "478017713696",
         "is_openbox": "0",
         "promotion_name": "nan",
         "qty_available": "nan",
         "qty_sold": "nan",
         "expire_at": "nan",
         "url_image0": "https://media.pichau.com.br/media/catalog/product/cache/2f958555330323e505eba7ce930bdf27/t/u/tuf-gaming-b460m-plus3.jpg",
         "url_image1": "https://media.pichau.com.br/media/catalog/product/cache/2f958555330323e505eba7ce930bdf27/t/u/tuf-gaming-b460m-plus4.jpg",
         "value_promo": 1236.8,
         "value_regular": 1236.8,
         "value_cash": 1088.38,
         "dt_hr_captura": "2022-07-21T23:15:53.209694",
         "url_image2": "https://media.pichau.com.br/media/catalog/product/cache/2f958555330323e505eba7ce930bdf27/t/u/tuf-gaming-b460m-plus2.jpg",
         "url_image3": "https://media.pichau.com.br/media/catalog/product/cache/2f958555330323e505eba7ce930bdf27/t/u/tuf-gaming-b460m-plus1.jpg",
         "url_image4": "https://media.pichau.com.br/media/catalog/product/cache/2f958555330323e505eba7ce930bdf27/t/u/tuf-gaming-b460m-plus.jpg",
         "url_image5": "nan",
         "_deepnote_index_column": 7
        },
        {
         "sku": "BY-8095WHITE",
         "potencia": "nan",
         "name": "Cadeira Gamer Pichau Shield Branca, BY-8095WHITE",
         "stock_status": "IN_STOCK",
         "codigo_barra": "7898663061925",
         "is_openbox": "0",
         "promotion_name": "Ferias com o Pombo",
         "qty_available": "2",
         "qty_sold": "7",
         "expire_at": "2022-08-01 17:00:00",
         "url_image0": "https://media.pichau.com.br/media/catalog/product/cache/2f958555330323e505eba7ce930bdf27/b/y/by-8095white2.jpg",
         "url_image1": "https://media.pichau.com.br/media/catalog/product/cache/2f958555330323e505eba7ce930bdf27/b/y/by-8095white4.jpg",
         "value_promo": 852.19,
         "value_regular": 1477.16,
         "value_cash": 749.93,
         "dt_hr_captura": "2022-07-21T23:15:53.547637",
         "url_image2": "https://media.pichau.com.br/media/catalog/product/cache/2f958555330323e505eba7ce930bdf27/b/y/by-8095white5.jpg",
         "url_image3": "https://media.pichau.com.br/media/catalog/product/cache/2f958555330323e505eba7ce930bdf27/b/y/by-8095white3.jpg",
         "url_image4": "https://media.pichau.com.br/media/catalog/product/cache/2f958555330323e505eba7ce930bdf27/b/y/by-8095white.jpg",
         "url_image5": "https://media.pichau.com.br/media/catalog/product/cache/2f958555330323e505eba7ce930bdf27/b/y/by-8095white8.jpg",
         "_deepnote_index_column": 8
        },
        {
         "sku": "DWA-525",
         "potencia": "nan",
         "name": "ADAPTADOR WIRELESS PCI 150 MBPS D-LINK, DWA-525 - BOX",
         "stock_status": "OUT_OF_STOCK",
         "codigo_barra": "nan",
         "is_openbox": "0",
         "promotion_name": "nan",
         "qty_available": "nan",
         "qty_sold": "nan",
         "expire_at": "nan",
         "url_image0": "https://media.pichau.com.br/media/catalog/product/cache/2f958555330323e505eba7ce930bdf27/p/r/produto1487.52721dde35e036675dea0e833cd07380.jpg",
         "url_image1": "nan",
         "value_promo": 50.26,
         "value_regular": 50.26,
         "value_cash": 44.23,
         "dt_hr_captura": "2022-07-21T23:15:53.873743",
         "url_image2": "nan",
         "url_image3": "nan",
         "url_image4": "nan",
         "url_image5": "nan",
         "_deepnote_index_column": 9
        }
       ]
      },
      "text/plain": "                         sku potencia  \\\n0                     B450MH        0   \n1               SHQ1405BL/00      NaN   \n2                      GW800      NaN   \n3     PCM-Mancer-Gamer-32229      NaN   \n4      DUAL-GTX1050TI-O4G-V2      120   \n...                      ...      ...   \n2337      TG-MP8-30-30-15-1R      NaN   \n2338        CL-N004-PL20BL-A      NaN   \n2339                   62466      NaN   \n2340    TF12D432G3200HC16C01      NaN   \n2341            11309-01-20G      160   \n\n                                                   name  stock_status  \\\n0     Placa Mae Biostar B450MH DDR4 Socket AM4 Chips...  OUT_OF_STOCK   \n1     Fone de Ouvido Philips RunWild Esportivo com M...  OUT_OF_STOCK   \n2           WebCam Redragon Hitman FHD 1080p USB, GW800      IN_STOCK   \n3     Computador Mancer Gamer Nefasta II, Intel i5-1...      IN_STOCK   \n4     Placa de Video Asus Dual GeForce GTX 1050 Ti O...  OUT_OF_STOCK   \n...                                                 ...           ...   \n2337  Almofada Termica Thermal Grizzly Minus PAD 8, ...      IN_STOCK   \n2338  Base para Notebook Thermaltake Massive V20 17\"...  OUT_OF_STOCK   \n2339  Mouse Gamer SteelSeries RIVAL 110 7200Dpi RGB,...  OUT_OF_STOCK   \n2340  Memoria Team Group T-Force Delta RGB 32GB (1x3...  OUT_OF_STOCK   \n2341  Placa de Video Sapphire Radeon RX 6600 XT Nitr...      IN_STOCK   \n\n       codigo_barra is_openbox      promotion_name qty_available qty_sold  \\\n0     4712960681736          0                 NaN           NaN      NaN   \n1     6951613991800          0                 NaN           NaN      NaN   \n2     6950376778864          0                 NaN           NaN      NaN   \n3               NaN          0      PC Master Race            48       38   \n4     4712900826159          0                 NaN           NaN      NaN   \n...             ...        ...                 ...           ...      ...   \n2337  0753677507364          0                 NaN           NaN      NaN   \n2338  4717964393418          0                 NaN           NaN      NaN   \n2339  0813682024222          0                 NaN           NaN      NaN   \n2340  0765441655546          0                 NaN           NaN      NaN   \n2341  4895106290648          0  Ferias com o Pombo             1        0   \n\n                expire_at                                         url_image0  \\\n0                     NaN  https://media.pichau.com.br/media/catalog/prod...   \n1                     NaN  https://media.pichau.com.br/media/catalog/prod...   \n2                     NaN  https://media.pichau.com.br/media/catalog/prod...   \n3     2022-07-31 23:50:00  https://media.pichau.com.br/media/catalog/prod...   \n4                     NaN  https://media.pichau.com.br/media/catalog/prod...   \n...                   ...                                                ...   \n2337                  NaN  https://media.pichau.com.br/media/catalog/prod...   \n2338                  NaN  https://media.pichau.com.br/media/catalog/prod...   \n2339                  NaN  https://media.pichau.com.br/media/catalog/prod...   \n2340                  NaN  https://media.pichau.com.br/media/catalog/prod...   \n2341  2022-08-01 17:00:00  https://media.pichau.com.br/media/catalog/prod...   \n\n                                             url_image1  value_promo  \\\n0     https://media.pichau.com.br/media/catalog/prod...       636.25   \n1     https://media.pichau.com.br/media/catalog/prod...        90.79   \n2     https://media.pichau.com.br/media/catalog/prod...       374.88   \n3     https://media.pichau.com.br/media/catalog/prod...      6476.89   \n4     https://media.pichau.com.br/media/catalog/prod...       860.35   \n...                                                 ...          ...   \n2337                                                NaN        68.07   \n2338  https://media.pichau.com.br/media/catalog/prod...       113.52   \n2339  https://media.pichau.com.br/media/catalog/prod...       313.52   \n2340  https://media.pichau.com.br/media/catalog/prod...      1703.46   \n2341  https://media.pichau.com.br/media/catalog/prod...      4431.80   \n\n      value_regular  value_cash              dt_hr_captura  \\\n0            636.25      559.90 2022-07-21 23:15:50.793409   \n1             90.79       79.90 2022-07-21 23:15:51.143384   \n2            374.88      329.89 2022-07-21 23:15:51.495255   \n3           8107.01     5699.66 2022-07-21 23:15:51.803599   \n4            860.35      757.11 2022-07-21 23:15:52.152225   \n...             ...         ...                        ...   \n2337          79.43       59.90 2022-07-21 23:44:47.811462   \n2338         113.52       99.90 2022-07-21 23:44:48.840634   \n2339         313.52      275.90 2022-07-21 23:44:49.835621   \n2340        1703.46     1499.04 2022-07-21 23:44:50.218386   \n2341        4715.84     3899.98 2022-07-21 23:44:50.616258   \n\n                                             url_image2  \\\n0     https://media.pichau.com.br/media/catalog/prod...   \n1     https://media.pichau.com.br/media/catalog/prod...   \n2     https://media.pichau.com.br/media/catalog/prod...   \n3     https://media.pichau.com.br/media/catalog/prod...   \n4                                                   NaN   \n...                                                 ...   \n2337                                                NaN   \n2338                                                NaN   \n2339  https://media.pichau.com.br/media/catalog/prod...   \n2340  https://media.pichau.com.br/media/catalog/prod...   \n2341  https://media.pichau.com.br/media/catalog/prod...   \n\n                                             url_image3  \\\n0     https://media.pichau.com.br/media/catalog/prod...   \n1                                                   NaN   \n2     https://media.pichau.com.br/media/catalog/prod...   \n3     https://media.pichau.com.br/media/catalog/prod...   \n4                                                   NaN   \n...                                                 ...   \n2337                                                NaN   \n2338                                                NaN   \n2339  https://media.pichau.com.br/media/catalog/prod...   \n2340                                                NaN   \n2341  https://media.pichau.com.br/media/catalog/prod...   \n\n                                             url_image4  \\\n0                                                   NaN   \n1                                                   NaN   \n2     https://media.pichau.com.br/media/catalog/prod...   \n3     https://media.pichau.com.br/media/catalog/prod...   \n4                                                   NaN   \n...                                                 ...   \n2337                                                NaN   \n2338                                                NaN   \n2339                                                NaN   \n2340                                                NaN   \n2341  https://media.pichau.com.br/media/catalog/prod...   \n\n                                             url_image5  \n0                                                   NaN  \n1                                                   NaN  \n2     https://media.pichau.com.br/media/catalog/prod...  \n3     https://media.pichau.com.br/media/catalog/prod...  \n4                                                   NaN  \n...                                                 ...  \n2337                                                NaN  \n2338                                                NaN  \n2339                                                NaN  \n2340                                                NaN  \n2341  https://media.pichau.com.br/media/catalog/prod...  \n\n[2342 rows x 20 columns]",
      "text/html": "<div>\n<style scoped>\n    .dataframe tbody tr th:only-of-type {\n        vertical-align: middle;\n    }\n\n    .dataframe tbody tr th {\n        vertical-align: top;\n    }\n\n    .dataframe thead th {\n        text-align: right;\n    }\n</style>\n<table border=\"1\" class=\"dataframe\">\n  <thead>\n    <tr style=\"text-align: right;\">\n      <th></th>\n      <th>sku</th>\n      <th>potencia</th>\n      <th>name</th>\n      <th>stock_status</th>\n      <th>codigo_barra</th>\n      <th>is_openbox</th>\n      <th>promotion_name</th>\n      <th>qty_available</th>\n      <th>qty_sold</th>\n      <th>expire_at</th>\n      <th>url_image0</th>\n      <th>url_image1</th>\n      <th>value_promo</th>\n      <th>value_regular</th>\n      <th>value_cash</th>\n      <th>dt_hr_captura</th>\n      <th>url_image2</th>\n      <th>url_image3</th>\n      <th>url_image4</th>\n      <th>url_image5</th>\n    </tr>\n  </thead>\n  <tbody>\n    <tr>\n      <th>0</th>\n      <td>B450MH</td>\n      <td>0</td>\n      <td>Placa Mae Biostar B450MH DDR4 Socket AM4 Chips...</td>\n      <td>OUT_OF_STOCK</td>\n      <td>4712960681736</td>\n      <td>0</td>\n      <td>NaN</td>\n      <td>NaN</td>\n      <td>NaN</td>\n      <td>NaN</td>\n      <td>https://media.pichau.com.br/media/catalog/prod...</td>\n      <td>https://media.pichau.com.br/media/catalog/prod...</td>\n      <td>636.25</td>\n      <td>636.25</td>\n      <td>559.90</td>\n      <td>2022-07-21 23:15:50.793409</td>\n      <td>https://media.pichau.com.br/media/catalog/prod...</td>\n      <td>https://media.pichau.com.br/media/catalog/prod...</td>\n      <td>NaN</td>\n      <td>NaN</td>\n    </tr>\n    <tr>\n      <th>1</th>\n      <td>SHQ1405BL/00</td>\n      <td>NaN</td>\n      <td>Fone de Ouvido Philips RunWild Esportivo com M...</td>\n      <td>OUT_OF_STOCK</td>\n      <td>6951613991800</td>\n      <td>0</td>\n      <td>NaN</td>\n      <td>NaN</td>\n      <td>NaN</td>\n      <td>NaN</td>\n      <td>https://media.pichau.com.br/media/catalog/prod...</td>\n      <td>https://media.pichau.com.br/media/catalog/prod...</td>\n      <td>90.79</td>\n      <td>90.79</td>\n      <td>79.90</td>\n      <td>2022-07-21 23:15:51.143384</td>\n      <td>https://media.pichau.com.br/media/catalog/prod...</td>\n      <td>NaN</td>\n      <td>NaN</td>\n      <td>NaN</td>\n    </tr>\n    <tr>\n      <th>2</th>\n      <td>GW800</td>\n      <td>NaN</td>\n      <td>WebCam Redragon Hitman FHD 1080p USB, GW800</td>\n      <td>IN_STOCK</td>\n      <td>6950376778864</td>\n      <td>0</td>\n      <td>NaN</td>\n      <td>NaN</td>\n      <td>NaN</td>\n      <td>NaN</td>\n      <td>https://media.pichau.com.br/media/catalog/prod...</td>\n      <td>https://media.pichau.com.br/media/catalog/prod...</td>\n      <td>374.88</td>\n      <td>374.88</td>\n      <td>329.89</td>\n      <td>2022-07-21 23:15:51.495255</td>\n      <td>https://media.pichau.com.br/media/catalog/prod...</td>\n      <td>https://media.pichau.com.br/media/catalog/prod...</td>\n      <td>https://media.pichau.com.br/media/catalog/prod...</td>\n      <td>https://media.pichau.com.br/media/catalog/prod...</td>\n    </tr>\n    <tr>\n      <th>3</th>\n      <td>PCM-Mancer-Gamer-32229</td>\n      <td>NaN</td>\n      <td>Computador Mancer Gamer Nefasta II, Intel i5-1...</td>\n      <td>IN_STOCK</td>\n      <td>NaN</td>\n      <td>0</td>\n      <td>PC Master Race</td>\n      <td>48</td>\n      <td>38</td>\n      <td>2022-07-31 23:50:00</td>\n      <td>https://media.pichau.com.br/media/catalog/prod...</td>\n      <td>https://media.pichau.com.br/media/catalog/prod...</td>\n      <td>6476.89</td>\n      <td>8107.01</td>\n      <td>5699.66</td>\n      <td>2022-07-21 23:15:51.803599</td>\n      <td>https://media.pichau.com.br/media/catalog/prod...</td>\n      <td>https://media.pichau.com.br/media/catalog/prod...</td>\n      <td>https://media.pichau.com.br/media/catalog/prod...</td>\n      <td>https://media.pichau.com.br/media/catalog/prod...</td>\n    </tr>\n    <tr>\n      <th>4</th>\n      <td>DUAL-GTX1050TI-O4G-V2</td>\n      <td>120</td>\n      <td>Placa de Video Asus Dual GeForce GTX 1050 Ti O...</td>\n      <td>OUT_OF_STOCK</td>\n      <td>4712900826159</td>\n      <td>0</td>\n      <td>NaN</td>\n      <td>NaN</td>\n      <td>NaN</td>\n      <td>NaN</td>\n      <td>https://media.pichau.com.br/media/catalog/prod...</td>\n      <td>https://media.pichau.com.br/media/catalog/prod...</td>\n      <td>860.35</td>\n      <td>860.35</td>\n      <td>757.11</td>\n      <td>2022-07-21 23:15:52.152225</td>\n      <td>NaN</td>\n      <td>NaN</td>\n      <td>NaN</td>\n      <td>NaN</td>\n    </tr>\n    <tr>\n      <th>...</th>\n      <td>...</td>\n      <td>...</td>\n      <td>...</td>\n      <td>...</td>\n      <td>...</td>\n      <td>...</td>\n      <td>...</td>\n      <td>...</td>\n      <td>...</td>\n      <td>...</td>\n      <td>...</td>\n      <td>...</td>\n      <td>...</td>\n      <td>...</td>\n      <td>...</td>\n      <td>...</td>\n      <td>...</td>\n      <td>...</td>\n      <td>...</td>\n      <td>...</td>\n    </tr>\n    <tr>\n      <th>2337</th>\n      <td>TG-MP8-30-30-15-1R</td>\n      <td>NaN</td>\n      <td>Almofada Termica Thermal Grizzly Minus PAD 8, ...</td>\n      <td>IN_STOCK</td>\n      <td>0753677507364</td>\n      <td>0</td>\n      <td>NaN</td>\n      <td>NaN</td>\n      <td>NaN</td>\n      <td>NaN</td>\n      <td>https://media.pichau.com.br/media/catalog/prod...</td>\n      <td>NaN</td>\n      <td>68.07</td>\n      <td>79.43</td>\n      <td>59.90</td>\n      <td>2022-07-21 23:44:47.811462</td>\n      <td>NaN</td>\n      <td>NaN</td>\n      <td>NaN</td>\n      <td>NaN</td>\n    </tr>\n    <tr>\n      <th>2338</th>\n      <td>CL-N004-PL20BL-A</td>\n      <td>NaN</td>\n      <td>Base para Notebook Thermaltake Massive V20 17\"...</td>\n      <td>OUT_OF_STOCK</td>\n      <td>4717964393418</td>\n      <td>0</td>\n      <td>NaN</td>\n      <td>NaN</td>\n      <td>NaN</td>\n      <td>NaN</td>\n      <td>https://media.pichau.com.br/media/catalog/prod...</td>\n      <td>https://media.pichau.com.br/media/catalog/prod...</td>\n      <td>113.52</td>\n      <td>113.52</td>\n      <td>99.90</td>\n      <td>2022-07-21 23:44:48.840634</td>\n      <td>NaN</td>\n      <td>NaN</td>\n      <td>NaN</td>\n      <td>NaN</td>\n    </tr>\n    <tr>\n      <th>2339</th>\n      <td>62466</td>\n      <td>NaN</td>\n      <td>Mouse Gamer SteelSeries RIVAL 110 7200Dpi RGB,...</td>\n      <td>OUT_OF_STOCK</td>\n      <td>0813682024222</td>\n      <td>0</td>\n      <td>NaN</td>\n      <td>NaN</td>\n      <td>NaN</td>\n      <td>NaN</td>\n      <td>https://media.pichau.com.br/media/catalog/prod...</td>\n      <td>https://media.pichau.com.br/media/catalog/prod...</td>\n      <td>313.52</td>\n      <td>313.52</td>\n      <td>275.90</td>\n      <td>2022-07-21 23:44:49.835621</td>\n      <td>https://media.pichau.com.br/media/catalog/prod...</td>\n      <td>https://media.pichau.com.br/media/catalog/prod...</td>\n      <td>NaN</td>\n      <td>NaN</td>\n    </tr>\n    <tr>\n      <th>2340</th>\n      <td>TF12D432G3200HC16C01</td>\n      <td>NaN</td>\n      <td>Memoria Team Group T-Force Delta RGB 32GB (1x3...</td>\n      <td>OUT_OF_STOCK</td>\n      <td>0765441655546</td>\n      <td>0</td>\n      <td>NaN</td>\n      <td>NaN</td>\n      <td>NaN</td>\n      <td>NaN</td>\n      <td>https://media.pichau.com.br/media/catalog/prod...</td>\n      <td>https://media.pichau.com.br/media/catalog/prod...</td>\n      <td>1703.46</td>\n      <td>1703.46</td>\n      <td>1499.04</td>\n      <td>2022-07-21 23:44:50.218386</td>\n      <td>https://media.pichau.com.br/media/catalog/prod...</td>\n      <td>NaN</td>\n      <td>NaN</td>\n      <td>NaN</td>\n    </tr>\n    <tr>\n      <th>2341</th>\n      <td>11309-01-20G</td>\n      <td>160</td>\n      <td>Placa de Video Sapphire Radeon RX 6600 XT Nitr...</td>\n      <td>IN_STOCK</td>\n      <td>4895106290648</td>\n      <td>0</td>\n      <td>Ferias com o Pombo</td>\n      <td>1</td>\n      <td>0</td>\n      <td>2022-08-01 17:00:00</td>\n      <td>https://media.pichau.com.br/media/catalog/prod...</td>\n      <td>https://media.pichau.com.br/media/catalog/prod...</td>\n      <td>4431.80</td>\n      <td>4715.84</td>\n      <td>3899.98</td>\n      <td>2022-07-21 23:44:50.616258</td>\n      <td>https://media.pichau.com.br/media/catalog/prod...</td>\n      <td>https://media.pichau.com.br/media/catalog/prod...</td>\n      <td>https://media.pichau.com.br/media/catalog/prod...</td>\n      <td>https://media.pichau.com.br/media/catalog/prod...</td>\n    </tr>\n  </tbody>\n</table>\n<p>2342 rows × 20 columns</p>\n</div>"
     },
     "metadata": {}
    }
   ],
   "execution_count": null
  },
  {
   "cell_type": "code",
   "source": "",
   "metadata": {
    "cell_id": "59c8f325834b4c15882efb920363ab9f",
    "tags": [],
    "owner_user_id": "7e8fa094-2b4d-44b2-b4b4-0e90a0034eb2",
    "deepnote_to_be_reexecuted": true,
    "source_hash": "b623e53d",
    "deepnote_cell_type": "code",
    "deepnote_cell_height": 66
   },
   "outputs": [],
   "execution_count": null
  },
  {
   "cell_type": "code",
   "source": "_deepnote_run_altair(df, \"\"\"{\"$schema\":\"https://vega.github.io/schema/vega-lite/v4.json\",\"mark\":{\"type\":\"bar\",\"tooltip\":true},\"height\":220,\"autosize\":{\"type\":\"fit\"},\"data\":{\"name\":\"placeholder\"},\"encoding\":{\"x\":{\"field\":\"qty_available\",\"type\":\"nominal\",\"sort\":null,\"scale\":{\"type\":\"linear\",\"zero\":false}},\"y\":{\"field\":\"COUNT(*)\",\"type\":\"quantitative\",\"sort\":null,\"aggregate\":\"count\",\"scale\":{\"type\":\"linear\",\"zero\":true}},\"color\":{\"field\":\"qty_sold\",\"type\":\"nominal\",\"sort\":null,\"scale\":{\"type\":\"linear\",\"zero\":false}}}}\"\"\")",
   "metadata": {
    "cell_id": "2cc2b1f98b1443a3874b72e3ac70a31d",
    "deepnote_variable_name": "df",
    "deepnote_visualization_spec": {
     "$schema": "https://vega.github.io/schema/vega-lite/v4.json",
     "mark": {
      "type": "bar",
      "tooltip": true
     },
     "height": 220,
     "autosize": {
      "type": "fit"
     },
     "data": {
      "name": "placeholder"
     },
     "encoding": {
      "x": {
       "field": "qty_available",
       "type": "nominal",
       "sort": null,
       "scale": {
        "type": "linear",
        "zero": false
       }
      },
      "y": {
       "field": "COUNT(*)",
       "type": "quantitative",
       "sort": null,
       "aggregate": "count",
       "scale": {
        "type": "linear",
        "zero": true
       }
      },
      "color": {
       "field": "qty_sold",
       "type": "nominal",
       "sort": null,
       "scale": {
        "type": "linear",
        "zero": false
       }
      }
     }
    },
    "deepnote_to_be_reexecuted": true,
    "source_hash": "6cadf520",
    "execution_start": 1658444440978,
    "execution_millis": 131,
    "deepnote_cell_type": "visualization"
   },
   "outputs": [
    {
     "output_type": "execute_result",
     "execution_count": 67,
     "data": {
      "text/html": "\n<div id=\"altair-viz-5d204e0325ae4211a06f1999a6ca1bae\"></div>\n<script type=\"text/javascript\">\n  (function(spec, embedOpt){\n    let outputDiv = document.currentScript.previousElementSibling;\n    if (outputDiv.id !== \"altair-viz-5d204e0325ae4211a06f1999a6ca1bae\") {\n      outputDiv = document.getElementById(\"altair-viz-5d204e0325ae4211a06f1999a6ca1bae\");\n    }\n    const paths = {\n      \"vega\": \"https://cdn.jsdelivr.net/npm//vega@5?noext\",\n      \"vega-lib\": \"https://cdn.jsdelivr.net/npm//vega-lib?noext\",\n      \"vega-lite\": \"https://cdn.jsdelivr.net/npm//vega-lite@4.8.1?noext\",\n      \"vega-embed\": \"https://cdn.jsdelivr.net/npm//vega-embed@6?noext\",\n    };\n\n    function loadScript(lib) {\n      return new Promise(function(resolve, reject) {\n        var s = document.createElement('script');\n        s.src = paths[lib];\n        s.async = true;\n        s.onload = () => resolve(paths[lib]);\n        s.onerror = () => reject(`Error loading script: ${paths[lib]}`);\n        document.getElementsByTagName(\"head\")[0].appendChild(s);\n      });\n    }\n\n    function showError(err) {\n      outputDiv.innerHTML = `<div class=\"error\" style=\"color:red;\">${err}</div>`;\n      throw err;\n    }\n\n    function displayChart(vegaEmbed) {\n      vegaEmbed(outputDiv, spec, embedOpt)\n        .catch(err => showError(`Javascript Error: ${err.message}<br>This usually means there's a typo in your chart specification. See the javascript console for the full traceback.`));\n    }\n\n    if(typeof define === \"function\" && define.amd) {\n      requirejs.config({paths});\n      require([\"vega-embed\"], displayChart, err => showError(`Error loading script: ${err.message}`));\n    } else if (typeof vegaEmbed === \"function\") {\n      displayChart(vegaEmbed);\n    } else {\n      loadScript(\"vega\")\n        .then(() => loadScript(\"vega-lite\"))\n        .then(() => loadScript(\"vega-embed\"))\n        .catch(showError)\n        .then(() => displayChart(vegaEmbed));\n    }\n  })({\"config\": {\"view\": {\"continuousWidth\": 400, \"continuousHeight\": 300}, \"area\": {\"fill\": \"#51C0E9\"}, \"axis\": {\"labelFont\": \"Inter, sans-serif\", \"labelFontSize\": 12, \"labelFontWeight\": \"normal\", \"labelLimit\": 60, \"labelOverlap\": \"greedy\", \"titleFont\": \"Inter, sans-serif\", \"titleFontSize\": 12, \"titleFontWeight\": \"bold\"}, \"background\": \"#ffffff\", \"legend\": {\"labelFont\": \"Inter, sans-serif\", \"labelFontSize\": 12, \"titleFont\": \"Inter, sans-serif\", \"titleFontSize\": 12, \"titleFontWeight\": \"bold\"}, \"line\": {\"stroke\": \"#51C0E9\", \"strokeWidth\": 2}, \"rect\": {\"fill\": \"#51C0E9\"}, \"title\": {\"anchor\": \"start\", \"color\": \"#000000\", \"font\": \"Inter, sans-serif\", \"fontSize\": 22, \"fontWeight\": \"normal\"}}, \"data\": {\"name\": \"data-8021bb5c76f6d535a5a80c9e0624ab2b\"}, \"mark\": {\"type\": \"bar\", \"tooltip\": true}, \"autosize\": {\"type\": \"fit\"}, \"encoding\": {\"color\": {\"type\": \"nominal\", \"field\": \"qty_sold\", \"scale\": {\"type\": \"linear\", \"zero\": false}, \"sort\": null}, \"x\": {\"type\": \"nominal\", \"field\": \"qty_available\", \"scale\": {\"type\": \"linear\", \"zero\": false}, \"sort\": null}, \"y\": {\"type\": \"quantitative\", \"aggregate\": \"count\", \"field\": \"COUNT(*)\", \"scale\": {\"type\": \"linear\", \"zero\": true}, \"sort\": null}}, \"height\": 300, \"width\": \"container\", \"$schema\": \"https://vega.github.io/schema/vega-lite/v4.json\", \"datasets\": {\"data-8021bb5c76f6d535a5a80c9e0624ab2b\": [{\"potencia\": null, \"name\": \"Monitor Gamer Gigabyte Aorus FI27Q-X 27\\\" 0,3ms 240Hz QHD G-Sync Altura Ajustavel HDMI/DP, AORUS FI27Q-X\", \"stock_status\": \"OUT_OF_STOCK\", \"codigo_barra\": \"4719331808747\", \"is_openbox\": \"1970-01-01T00:00:00\", \"promotion_name\": null, \"qty_available\": \"\", \"qty_sold\": \"\", \"expire_at\": \"\", \"url_image0\": \"https://media.pichau.com.br/media/catalog/product/cache/2f958555330323e505eba7ce930bdf27/a/o/aorus-fi27q-x7.jpg\", \"url_image1\": \"https://media.pichau.com.br/media/catalog/product/cache/2f958555330323e505eba7ce930bdf27/a/o/aorus-fi27q-x4.jpg\", \"value_promo\": 7272.85, \"value_regular\": 7272.85, \"value_cash\": 6400.11, \"dt_hr_captura\": \"2022-07-21T22:50:21.345665\", \"url_image2\": \"https://media.pichau.com.br/media/catalog/product/cache/2f958555330323e505eba7ce930bdf27/a/o/aorus-fi27q-x3.jpg\", \"url_image3\": \"https://media.pichau.com.br/media/catalog/product/cache/2f958555330323e505eba7ce930bdf27/a/o/aorus-fi27q-x.jpg\", \"url_image4\": \"https://media.pichau.com.br/media/catalog/product/cache/2f958555330323e505eba7ce930bdf27/a/o/aorus-fi27q-x5.jpg\", \"url_image5\": \"https://media.pichau.com.br/media/catalog/product/cache/2f958555330323e505eba7ce930bdf27/a/o/aorus-fi27q-x6.jpg\"}, {\"potencia\": null, \"name\": \"Computador Pichau Gamer M\\u00e9tis, AMD Ryzen 5 5600G, GeForce RTX 2060 6GB, 8GB DDR4, SSD 240GB\", \"stock_status\": \"OUT_OF_STOCK\", \"codigo_barra\": null, \"is_openbox\": \"1970-01-01T00:00:00\", \"promotion_name\": null, \"qty_available\": \"\", \"qty_sold\": \"\", \"expire_at\": \"\", \"url_image0\": \"https://media.pichau.com.br/media/catalog/product/cache/2f958555330323e505eba7ce930bdf27/f/r/frost-amd-rx-001_6.jpg\", \"url_image1\": \"https://media.pichau.com.br/media/catalog/product/cache/2f958555330323e505eba7ce930bdf27/f/r/frost-amd-rx-002_6.jpg\", \"value_promo\": 6803.01, \"value_regular\": 6803.01, \"value_cash\": 5986.65, \"dt_hr_captura\": \"2022-07-21T22:50:21.905670\", \"url_image2\": \"https://media.pichau.com.br/media/catalog/product/cache/2f958555330323e505eba7ce930bdf27/f/r/frost-amd-rx-003_1_3.jpg\", \"url_image3\": \"https://media.pichau.com.br/media/catalog/product/cache/2f958555330323e505eba7ce930bdf27/f/r/frost-amd-rx-004_1_3.jpg\", \"url_image4\": \"https://media.pichau.com.br/media/catalog/product/cache/2f958555330323e505eba7ce930bdf27/f/r/frost-amd-rx-005_6.jpg\", \"url_image5\": \"https://media.pichau.com.br/media/catalog/product/cache/2f958555330323e505eba7ce930bdf27/f/r/frost-amd-rx-006_6.jpg\"}, {\"potencia\": null, \"name\": \"Cadeira DT3 Office Moira Vermelho, 11216-1\", \"stock_status\": \"IN_STOCK\", \"codigo_barra\": \"7890112161187\", \"is_openbox\": \"1970-01-01T00:00:00\", \"promotion_name\": null, \"qty_available\": \"\", \"qty_sold\": \"\", \"expire_at\": \"\", \"url_image0\": \"https://media.pichau.com.br/media/catalog/product/cache/2f958555330323e505eba7ce930bdf27/1/1/11215-01_1.jpg\", \"url_image1\": \"https://media.pichau.com.br/media/catalog/product/cache/2f958555330323e505eba7ce930bdf27/1/1/11215-04.jpg\", \"value_promo\": 2158.98, \"value_regular\": 2158.98, \"value_cash\": 1899.9, \"dt_hr_captura\": \"2022-07-21T22:50:22.443867\", \"url_image2\": \"https://media.pichau.com.br/media/catalog/product/cache/2f958555330323e505eba7ce930bdf27/1/1/11215-03_1.jpg\", \"url_image3\": \"https://media.pichau.com.br/media/catalog/product/cache/2f958555330323e505eba7ce930bdf27/1/1/11215-02_1.jpg\", \"url_image4\": null, \"url_image5\": null}, {\"potencia\": null, \"name\": \"Gabinete Corsair Crystal Series 460X RGB Branco, CC-9011129-WW\", \"stock_status\": \"OUT_OF_STOCK\", \"codigo_barra\": \"0843591064231\", \"is_openbox\": \"1970-01-01T00:00:00\", \"promotion_name\": null, \"qty_available\": \"\", \"qty_sold\": \"\", \"expire_at\": \"\", \"url_image0\": \"https://media.pichau.com.br/media/catalog/product/cache/2f958555330323e505eba7ce930bdf27/c/c/cc-9011129-ww7_1.jpg\", \"url_image1\": \"https://media.pichau.com.br/media/catalog/product/cache/2f958555330323e505eba7ce930bdf27/c/c/cc-9011129-ww5_1.jpg\", \"value_promo\": 739.9, \"value_regular\": 739.9, \"value_cash\": 651.11, \"dt_hr_captura\": \"2022-07-21T22:50:23.004439\", \"url_image2\": \"https://media.pichau.com.br/media/catalog/product/cache/2f958555330323e505eba7ce930bdf27/c/c/cc-9011129-ww4_1.jpg\", \"url_image3\": \"https://media.pichau.com.br/media/catalog/product/cache/2f958555330323e505eba7ce930bdf27/c/c/cc-9011129-ww6_1.jpg\", \"url_image4\": \"https://media.pichau.com.br/media/catalog/product/cache/2f958555330323e505eba7ce930bdf27/c/c/cc-9011129-ww3_1.jpg\", \"url_image5\": \"https://media.pichau.com.br/media/catalog/product/cache/2f958555330323e505eba7ce930bdf27/c/c/cc-9011129-ww1_1.jpg\"}, {\"potencia\": null, \"name\": \"Caixa de Som Multilaser Mini Boom 10w Preta, SP145\", \"stock_status\": \"OUT_OF_STOCK\", \"codigo_barra\": \"7898506461103\", \"is_openbox\": \"1970-01-01T00:00:00\", \"promotion_name\": null, \"qty_available\": \"\", \"qty_sold\": \"\", \"expire_at\": \"\", \"url_image0\": \"https://media.pichau.com.br/media/catalog/product/cache/2f958555330323e505eba7ce930bdf27/1/_/1_21_31.jpg\", \"url_image1\": \"https://media.pichau.com.br/media/catalog/product/cache/2f958555330323e505eba7ce930bdf27/2/_/2_13_48.jpg\", \"value_promo\": 116.94, \"value_regular\": 116.94, \"value_cash\": 102.91, \"dt_hr_captura\": \"2022-07-21T22:50:23.555313\", \"url_image2\": null, \"url_image3\": null, \"url_image4\": null, \"url_image5\": null}, {\"potencia\": null, \"name\": \"Memoria Team Group T-Force RTB Delta RGB, 8GB (1x8GB), DDR4, 3000MHz, TF12D48G3000HC16F01\", \"stock_status\": \"IN_STOCK\", \"codigo_barra\": \"0765441660335\", \"is_openbox\": \"1970-01-01T00:00:00\", \"promotion_name\": null, \"qty_available\": \"\", \"qty_sold\": \"\", \"expire_at\": \"\", \"url_image0\": \"https://media.pichau.com.br/media/catalog/product/cache/2f958555330323e505eba7ce930bdf27/t/f/tf12d48g3000hc16f01.jpg\", \"url_image1\": \"https://media.pichau.com.br/media/catalog/product/cache/2f958555330323e505eba7ce930bdf27/t/f/tf12d48g3000hc16f011.jpg\", \"value_promo\": 405.49, \"value_regular\": 405.49, \"value_cash\": 356.83, \"dt_hr_captura\": \"2022-07-21T22:50:24.083639\", \"url_image2\": \"https://media.pichau.com.br/media/catalog/product/cache/2f958555330323e505eba7ce930bdf27/t/f/tf12d48g3000hc16f012.jpg\", \"url_image3\": null, \"url_image4\": null, \"url_image5\": null}, {\"potencia\": null, \"name\": \"Memoria ADATA XPG Gammix D10 8GB (1x8) DDR4 3000MHz Preta, AX4U30008G16A-SB10\", \"stock_status\": \"OUT_OF_STOCK\", \"codigo_barra\": \"4711085930811\", \"is_openbox\": \"1970-01-01T00:00:00\", \"promotion_name\": null, \"qty_available\": \"\", \"qty_sold\": \"\", \"expire_at\": \"\", \"url_image0\": \"https://media.pichau.com.br/media/catalog/product/cache/2f958555330323e505eba7ce930bdf27/a/x/ax4u30008g16a-sb10.jpg\", \"url_image1\": null, \"value_promo\": 487.52, \"value_regular\": 487.52, \"value_cash\": 429.02, \"dt_hr_captura\": \"2022-07-21T22:50:24.623047\", \"url_image2\": null, \"url_image3\": null, \"url_image4\": null, \"url_image5\": null}, {\"potencia\": null, \"name\": \"SSD Adata Premier SP550 240GB 2.5\\\" TLC 3D NAND TLC Sata III, ASP550SS3-240GM-C\", \"stock_status\": \"OUT_OF_STOCK\", \"codigo_barra\": \"4712366963603\", \"is_openbox\": \"1970-01-01T00:00:00\", \"promotion_name\": null, \"qty_available\": \"\", \"qty_sold\": \"\", \"expire_at\": \"\", \"url_image0\": \"https://media.pichau.com.br/media/catalog/product/cache/2f958555330323e505eba7ce930bdf27/a/s/asp550ss3-240gm-c.jpg\", \"url_image1\": \"https://media.pichau.com.br/media/catalog/product/cache/2f958555330323e505eba7ce930bdf27/a/s/asp550ss3-240gm-c2.jpg\", \"value_promo\": 488.54, \"value_regular\": 488.54, \"value_cash\": 429.92, \"dt_hr_captura\": \"2022-07-21T22:50:25.179896\", \"url_image2\": \"https://media.pichau.com.br/media/catalog/product/cache/2f958555330323e505eba7ce930bdf27/a/s/asp550ss3-240gm-c3.jpg\", \"url_image3\": null, \"url_image4\": null, \"url_image5\": null}, {\"potencia\": \"105\", \"name\": \"Processador AMD Ryzen 7 3800XT, 8-Core, 16-Threads, 3.9GHz (4.7GHz Turbo), Cache 36MB, AM4, 100-100000279WOF\", \"stock_status\": \"OUT_OF_STOCK\", \"codigo_barra\": \"0730143312264\", \"is_openbox\": \"1970-01-01T00:00:00\", \"promotion_name\": null, \"qty_available\": \"\", \"qty_sold\": \"\", \"expire_at\": \"\", \"url_image0\": \"https://media.pichau.com.br/media/catalog/product/cache/2f958555330323e505eba7ce930bdf27/1/0/100-100000279wof23121.jpg\", \"url_image1\": \"https://media.pichau.com.br/media/catalog/product/cache/2f958555330323e505eba7ce930bdf27/1/0/100-100000279wof2312.jpg\", \"value_promo\": 2619.21, \"value_regular\": 2619.21, \"value_cash\": 2304.9, \"dt_hr_captura\": \"2022-07-21T22:50:25.695918\", \"url_image2\": null, \"url_image3\": null, \"url_image4\": null, \"url_image5\": null}, {\"potencia\": null, \"name\": \"Computador Pichau Home, Intel Core I5-10400F, Geforce GT 1030 2GB, 8GB DDR4, HD 1TB \", \"stock_status\": \"IN_STOCK\", \"codigo_barra\": null, \"is_openbox\": \"1970-01-01T00:00:00\", \"promotion_name\": \"PC Master Race\", \"qty_available\": \"1970-01-01T00:00:00.000000020\", \"qty_sold\": \"1970-01-01T00:00:00\", \"expire_at\": \"2022-07-31T23:50:00\", \"url_image0\": \"https://media.pichau.com.br/media/catalog/product/cache/2f958555330323e505eba7ce930bdf27/g/2/g200-sgpu-001_1_10_1_1.jpg\", \"url_image1\": \"https://media.pichau.com.br/media/catalog/product/cache/2f958555330323e505eba7ce930bdf27/g/2/g200-sgpu-003_21_1_1.jpg\", \"value_promo\": 3181.73, \"value_regular\": 3663.08, \"value_cash\": 2799.92, \"dt_hr_captura\": \"2022-07-21T22:50:26.224522\", \"url_image2\": \"https://media.pichau.com.br/media/catalog/product/cache/2f958555330323e505eba7ce930bdf27/g/a/gabinete-frontal_31_1_1.jpg\", \"url_image3\": \"https://media.pichau.com.br/media/catalog/product/cache/2f958555330323e505eba7ce930bdf27/g/a/gabinete-atras_31_1_1.jpg\", \"url_image4\": \"https://media.pichau.com.br/media/catalog/product/cache/2f958555330323e505eba7ce930bdf27/g/a/gabinete-lateral_29_1_1.jpg\", \"url_image5\": \"https://media.pichau.com.br/media/catalog/product/cache/2f958555330323e505eba7ce930bdf27/g/a/gabinete-diagonal-aberto_13_1_1.jpg\"}, {\"potencia\": null, \"name\": \"Computador Mancer Gamer, i3-10100, Geforce GTX 1060 3GB, 8GB DDR4, SSD 240GB\", \"stock_status\": \"IN_STOCK\", \"codigo_barra\": null, \"is_openbox\": \"1970-01-01T00:00:00\", \"promotion_name\": \"PC Master Race\", \"qty_available\": \"1970-01-01T00:00:00.000000087\", \"qty_sold\": \"1970-01-01T00:00:00.000000004\", \"expire_at\": \"2022-07-31T23:50:00\", \"url_image0\": \"https://media.pichau.com.br/media/catalog/product/cache/2f958555330323e505eba7ce930bdf27/a/k/akylancer-intel-gtx-001_3_4.jpg\", \"url_image1\": \"https://media.pichau.com.br/media/catalog/product/cache/2f958555330323e505eba7ce930bdf27/a/k/akylancer-intel-gtx-002_4_5.jpg\", \"value_promo\": 4408.84, \"value_regular\": 5247.01, \"value_cash\": 3879.78, \"dt_hr_captura\": \"2022-07-21T22:50:26.780967\", \"url_image2\": \"https://media.pichau.com.br/media/catalog/product/cache/2f958555330323e505eba7ce930bdf27/s/k/skylancer-pret-pichau-009_21.jpg\", \"url_image3\": \"https://media.pichau.com.br/media/catalog/product/cache/2f958555330323e505eba7ce930bdf27/s/k/skylancer-pret-pichau-005_4_3.jpg\", \"url_image4\": \"https://media.pichau.com.br/media/catalog/product/cache/2f958555330323e505eba7ce930bdf27/s/k/skylancer-pret-pichau-008_4_3.jpg\", \"url_image5\": \"https://media.pichau.com.br/media/catalog/product/cache/2f958555330323e505eba7ce930bdf27/s/k/skylancer-preto-pichau-002_2_2.jpg\"}, {\"potencia\": null, \"name\": \"Teclado Gamer Razer Tartarus V2 Chroma, RZ07-02270100-R3U1\", \"stock_status\": \"OUT_OF_STOCK\", \"codigo_barra\": \"8886419360186\", \"is_openbox\": \"1970-01-01T00:00:00\", \"promotion_name\": null, \"qty_available\": \"\", \"qty_sold\": \"\", \"expire_at\": \"\", \"url_image0\": \"https://media.pichau.com.br/media/catalog/product/cache/2f958555330323e505eba7ce930bdf27/r/z/rz07-02270100-r3u1_1.jpg\", \"url_image1\": \"https://media.pichau.com.br/media/catalog/product/cache/2f958555330323e505eba7ce930bdf27/r/z/rz07-02270100-r3u13_1.jpg\", \"value_promo\": 988.52, \"value_regular\": 988.52, \"value_cash\": 869.9, \"dt_hr_captura\": \"2022-07-21T22:50:27.310640\", \"url_image2\": \"https://media.pichau.com.br/media/catalog/product/cache/2f958555330323e505eba7ce930bdf27/r/z/rz07-02270100-r3u12.jpg\", \"url_image3\": \"https://media.pichau.com.br/media/catalog/product/cache/2f958555330323e505eba7ce930bdf27/r/z/rz07-02270100-r3u11_1.jpg\", \"url_image4\": \"https://media.pichau.com.br/media/catalog/product/cache/2f958555330323e505eba7ce930bdf27/r/z/rz07-02270100-r3u14321.jpg\", \"url_image5\": null}, {\"potencia\": \"0\", \"name\": \"Placa Mae MSI Z270 SLI PLUS DDR4 Socket LGA1151 Chipset Intel Z270\", \"stock_status\": \"OUT_OF_STOCK\", \"codigo_barra\": \"4719072490065\", \"is_openbox\": \"1970-01-01T00:00:00\", \"promotion_name\": null, \"qty_available\": \"\", \"qty_sold\": \"\", \"expire_at\": \"\", \"url_image0\": \"https://media.pichau.com.br/media/catalog/product/cache/2f958555330323e505eba7ce930bdf27/z/2/z270-sli-plus51.jpg\", \"url_image1\": \"https://media.pichau.com.br/media/catalog/product/cache/2f958555330323e505eba7ce930bdf27/z/2/z270-sli-plus3.jpg\", \"value_promo\": 782.95, \"value_regular\": 782.95, \"value_cash\": 689.0, \"dt_hr_captura\": \"2022-07-21T22:50:27.823917\", \"url_image2\": \"https://media.pichau.com.br/media/catalog/product/cache/2f958555330323e505eba7ce930bdf27/z/2/z270-sli-plus5.jpg\", \"url_image3\": null, \"url_image4\": null, \"url_image5\": null}, {\"potencia\": null, \"name\": \"Mouse Gamer Redragon Titanoboa 2 24000DPI, M802-1\", \"stock_status\": \"OUT_OF_STOCK\", \"codigo_barra\": \"6950376702432\", \"is_openbox\": \"1970-01-01T00:00:00\", \"promotion_name\": null, \"qty_available\": \"\", \"qty_sold\": \"\", \"expire_at\": \"\", \"url_image0\": \"https://media.pichau.com.br/media/catalog/product/cache/2f958555330323e505eba7ce930bdf27/m/8/m802-titanoboa2.jpg\", \"url_image1\": \"https://media.pichau.com.br/media/catalog/product/cache/2f958555330323e505eba7ce930bdf27/m/8/m802-titanoboa26.jpg\", \"value_promo\": 239.89, \"value_regular\": 239.89, \"value_cash\": 211.1, \"dt_hr_captura\": \"2022-07-21T22:50:28.357929\", \"url_image2\": \"https://media.pichau.com.br/media/catalog/product/cache/2f958555330323e505eba7ce930bdf27/m/8/m802-titanoboa23.jpg\", \"url_image3\": \"https://media.pichau.com.br/media/catalog/product/cache/2f958555330323e505eba7ce930bdf27/m/8/m802-titanoboa22.jpg\", \"url_image4\": \"https://media.pichau.com.br/media/catalog/product/cache/2f958555330323e505eba7ce930bdf27/m/8/m802-titanoboa24.jpg\", \"url_image5\": \"https://media.pichau.com.br/media/catalog/product/cache/2f958555330323e505eba7ce930bdf27/m/8/m802-titanoboa27.jpg\"}, {\"potencia\": null, \"name\": \"Mouse Logitech M280 USB Wireless 1000Dpi Cinza, 910-004285\", \"stock_status\": \"IN_STOCK\", \"codigo_barra\": \"0097855107442\", \"is_openbox\": \"1970-01-01T00:00:00\", \"promotion_name\": null, \"qty_available\": \"\", \"qty_sold\": \"\", \"expire_at\": \"\", \"url_image0\": \"https://media.pichau.com.br/media/catalog/product/cache/2f958555330323e505eba7ce930bdf27/9/1/910-00428523132.jpg\", \"url_image1\": \"https://media.pichau.com.br/media/catalog/product/cache/2f958555330323e505eba7ce930bdf27/9/1/910-004285231322.jpg\", \"value_promo\": 90.79, \"value_regular\": 90.79, \"value_cash\": 79.9, \"dt_hr_captura\": \"2022-07-21T22:50:28.875415\", \"url_image2\": \"https://media.pichau.com.br/media/catalog/product/cache/2f958555330323e505eba7ce930bdf27/9/1/910-004285231324.jpg\", \"url_image3\": \"https://media.pichau.com.br/media/catalog/product/cache/2f958555330323e505eba7ce930bdf27/9/1/910-004285231325.jpg\", \"url_image4\": \"https://media.pichau.com.br/media/catalog/product/cache/2f958555330323e505eba7ce930bdf27/9/1/910-004285231321.jpg\", \"url_image5\": null}, {\"potencia\": null, \"name\": \"Aleta Low Profile TP-LINK Para TL-WDN4800\", \"stock_status\": \"OUT_OF_STOCK\", \"codigo_barra\": null, \"is_openbox\": \"1970-01-01T00:00:00\", \"promotion_name\": null, \"qty_available\": \"\", \"qty_sold\": \"\", \"expire_at\": \"\", \"url_image0\": \"https://media.pichau.com.br/media/catalog/product/cache/2f958555330323e505eba7ce930bdf27/t/l/tl-wdn4800212.jpg\", \"url_image1\": null, \"value_promo\": 5.57, \"value_regular\": 5.57, \"value_cash\": 4.9, \"dt_hr_captura\": \"2022-07-21T22:50:29.445119\", \"url_image2\": null, \"url_image3\": null, \"url_image4\": null, \"url_image5\": null}, {\"potencia\": null, \"name\": \"Fonte Corsair 500W Modular CX500M, Certificado 80 Plus Bronze, PFC Ativo, CP-9020059-WW\", \"stock_status\": \"OUT_OF_STOCK\", \"codigo_barra\": \"0843591030618\", \"is_openbox\": \"1970-01-01T00:00:00\", \"promotion_name\": null, \"qty_available\": \"\", \"qty_sold\": \"\", \"expire_at\": \"\", \"url_image0\": \"https://media.pichau.com.br/media/catalog/product/cache/2f958555330323e505eba7ce930bdf27/c/x/cxm430_500_600_backview_2.png\", \"url_image1\": \"https://media.pichau.com.br/media/catalog/product/cache/2f958555330323e505eba7ce930bdf27/c/x/cxm500_sideview_cable.png\", \"value_promo\": 362.51, \"value_regular\": 362.51, \"value_cash\": 319.01, \"dt_hr_captura\": \"2022-07-21T22:50:29.975811\", \"url_image2\": \"https://media.pichau.com.br/media/catalog/product/cache/2f958555330323e505eba7ce930bdf27/c/x/cxm500_sideview.png\", \"url_image3\": \"https://media.pichau.com.br/media/catalog/product/cache/2f958555330323e505eba7ce930bdf27/c/x/cxm500_detail_contents.png\", \"url_image4\": null, \"url_image5\": null}, {\"potencia\": null, \"name\": \"Computador Pichau Home, AMD A6-5400K, 8GB DDR3, HD 500GB \", \"stock_status\": \"OUT_OF_STOCK\", \"codigo_barra\": null, \"is_openbox\": \"1970-01-01T00:00:00\", \"promotion_name\": null, \"qty_available\": \"\", \"qty_sold\": \"\", \"expire_at\": \"\", \"url_image0\": \"https://media.pichau.com.br/media/catalog/product/cache/2f958555330323e505eba7ce930bdf27/t/g/tgt_b110_-_01_107.jpg\", \"url_image1\": \"https://media.pichau.com.br/media/catalog/product/cache/2f958555330323e505eba7ce930bdf27/t/g/tgt_b110_-_02_107.jpg\", \"value_promo\": 787.69, \"value_regular\": 787.69, \"value_cash\": 693.17, \"dt_hr_captura\": \"2022-07-21T22:50:30.499466\", \"url_image2\": \"https://media.pichau.com.br/media/catalog/product/cache/2f958555330323e505eba7ce930bdf27/t/g/tgt_b110_-_03_105.jpg\", \"url_image3\": \"https://media.pichau.com.br/media/catalog/product/cache/2f958555330323e505eba7ce930bdf27/t/g/tgt_b110_-_04_105.jpg\", \"url_image4\": \"https://media.pichau.com.br/media/catalog/product/cache/2f958555330323e505eba7ce930bdf27/t/g/tgt_b110_-_05_105.jpg\", \"url_image5\": null}, {\"potencia\": null, \"name\": \"Teclado Mecanico Gamer Gamdias Hermes E2, Led Azul, ABNT2, Switch Marrom, Preto, HERMES E2 BLUE BR BROWN\", \"stock_status\": \"OUT_OF_STOCK\", \"codigo_barra\": \"4712960135901\", \"is_openbox\": \"1970-01-01T00:00:00\", \"promotion_name\": null, \"qty_available\": \"\", \"qty_sold\": \"\", \"expire_at\": \"\", \"url_image0\": \"https://media.pichau.com.br/media/catalog/product/cache/2f958555330323e505eba7ce930bdf27/h/e/hermes-e2-blue-br-brown3.jpg\", \"url_image1\": \"https://media.pichau.com.br/media/catalog/product/cache/2f958555330323e505eba7ce930bdf27/h/e/hermes-e2-blue-br-brown2.jpg\", \"value_promo\": 261.24, \"value_regular\": 261.24, \"value_cash\": 229.89, \"dt_hr_captura\": \"2022-07-21T22:50:31.023936\", \"url_image2\": \"https://media.pichau.com.br/media/catalog/product/cache/2f958555330323e505eba7ce930bdf27/h/e/hermes-e2-blue-br-brown1.jpg\", \"url_image3\": \"https://media.pichau.com.br/media/catalog/product/cache/2f958555330323e505eba7ce930bdf27/h/e/hermes-e2-blue-br-brown4.jpg\", \"url_image4\": \"https://media.pichau.com.br/media/catalog/product/cache/2f958555330323e505eba7ce930bdf27/h/e/hermes-e2-blue-br-brown.jpg\", \"url_image5\": \"https://media.pichau.com.br/media/catalog/product/cache/2f958555330323e505eba7ce930bdf27/h/e/hermes-e2-blue-br-brown5.jpg\"}, {\"potencia\": \"12\", \"name\": \"Ventoinha BlueCase 120mm LED Verde, BF-03G\", \"stock_status\": \"OUT_OF_STOCK\", \"codigo_barra\": \"5000000033461\", \"is_openbox\": \"1970-01-01T00:00:00\", \"promotion_name\": null, \"qty_available\": \"\", \"qty_sold\": \"\", \"expire_at\": \"\", \"url_image0\": \"https://media.pichau.com.br/media/catalog/product/cache/2f958555330323e505eba7ce930bdf27/o/t/ot1_6_18.jpg\", \"url_image1\": null, \"value_promo\": 22.61, \"value_regular\": 22.61, \"value_cash\": 19.9, \"dt_hr_captura\": \"2022-07-21T22:50:31.567435\", \"url_image2\": null, \"url_image3\": null, \"url_image4\": null, \"url_image5\": null}, {\"potencia\": null, \"name\": \"Fone de Ouvido Multilaser Bluetooth TWS Airbuds, PH358\", \"stock_status\": \"OUT_OF_STOCK\", \"codigo_barra\": \"7899838894058\", \"is_openbox\": \"1970-01-01T00:00:00\", \"promotion_name\": null, \"qty_available\": \"\", \"qty_sold\": \"\", \"expire_at\": \"\", \"url_image0\": \"https://media.pichau.com.br/media/catalog/product/cache/2f958555330323e505eba7ce930bdf27/p/h/ph3582.jpg\", \"url_image1\": \"https://media.pichau.com.br/media/catalog/product/cache/2f958555330323e505eba7ce930bdf27/p/h/ph358.jpg\", \"value_promo\": 165.34, \"value_regular\": 165.34, \"value_cash\": 145.5, \"dt_hr_captura\": \"2022-07-21T22:50:32.085835\", \"url_image2\": \"https://media.pichau.com.br/media/catalog/product/cache/2f958555330323e505eba7ce930bdf27/p/h/ph3581.jpg\", \"url_image3\": null, \"url_image4\": null, \"url_image5\": null}, {\"potencia\": \"60\", \"name\": \"Placa de Video EVGA GeForce GT 730 1GB DDR3 64-bit, 01G-P3-1731-KR\", \"stock_status\": \"OUT_OF_STOCK\", \"codigo_barra\": null, \"is_openbox\": \"1970-01-01T00:00:00\", \"promotion_name\": null, \"qty_available\": \"\", \"qty_sold\": \"\", \"expire_at\": \"\", \"url_image0\": \"https://media.pichau.com.br/media/catalog/product/cache/2f958555330323e505eba7ce930bdf27/7/1/71l4mkcd_vl._sy355_.jpg\", \"url_image1\": \"https://media.pichau.com.br/media/catalog/product/cache/2f958555330323e505eba7ce930bdf27/7/3/7301.jpg\", \"value_promo\": 339.78, \"value_regular\": 339.78, \"value_cash\": 299.01, \"dt_hr_captura\": \"2022-07-21T22:50:32.593161\", \"url_image2\": \"https://media.pichau.com.br/media/catalog/product/cache/2f958555330323e505eba7ce930bdf27/7/3/7302.jpg\", \"url_image3\": null, \"url_image4\": null, \"url_image5\": null}, {\"potencia\": null, \"name\": \"Pen Drive Sandisk 8GB Cruzer Metal Force, SDCZ71-008G-B35\", \"stock_status\": \"OUT_OF_STOCK\", \"codigo_barra\": \"0619659091385\", \"is_openbox\": \"1970-01-01T00:00:00\", \"promotion_name\": null, \"qty_available\": \"\", \"qty_sold\": \"\", \"expire_at\": \"\", \"url_image0\": \"https://media.pichau.com.br/media/catalog/product/cache/2f958555330323e505eba7ce930bdf27/s/d/sdcz71-008g-b35.jpg\", \"url_image1\": \"https://media.pichau.com.br/media/catalog/product/cache/2f958555330323e505eba7ce930bdf27/s/d/sdcz71-008g-b352.jpg\", \"value_promo\": 35.9, \"value_regular\": 35.9, \"value_cash\": 31.59, \"dt_hr_captura\": \"2022-07-21T22:50:33.090064\", \"url_image2\": null, \"url_image3\": null, \"url_image4\": null, \"url_image5\": null}, {\"potencia\": null, \"name\": \"Kit Teclado e Mouse S/ Fio Genius 1200DPI KB-8000X, 31340005113 - BOX\", \"stock_status\": \"OUT_OF_STOCK\", \"codigo_barra\": \"4710268248736\", \"is_openbox\": \"1970-01-01T00:00:00\", \"promotion_name\": null, \"qty_available\": \"\", \"qty_sold\": \"\", \"expire_at\": \"\", \"url_image0\": \"https://media.pichau.com.br/media/catalog/product/cache/2f958555330323e505eba7ce930bdf27/2/_/2_13_23.jpg\", \"url_image1\": \"https://media.pichau.com.br/media/catalog/product/cache/2f958555330323e505eba7ce930bdf27/1/_/1_20_32.jpg\", \"value_promo\": 89.78, \"value_regular\": 89.78, \"value_cash\": 79.01, \"dt_hr_captura\": \"2022-07-21T22:50:33.635993\", \"url_image2\": null, \"url_image3\": null, \"url_image4\": null, \"url_image5\": null}, {\"potencia\": \"0\", \"name\": \"Placa Mae MSI H170A GAMING PRO DDR4 Socket LGA1151 Chipset Intel H170\", \"stock_status\": \"OUT_OF_STOCK\", \"codigo_barra\": \"4719072412821\", \"is_openbox\": \"1970-01-01T00:00:00\", \"promotion_name\": null, \"qty_available\": \"\", \"qty_sold\": \"\", \"expire_at\": \"\", \"url_image0\": \"https://media.pichau.com.br/media/catalog/product/cache/2f958555330323e505eba7ce930bdf27/h/1/h170a-gaming-pro-5.jpg\", \"url_image1\": \"https://media.pichau.com.br/media/catalog/product/cache/2f958555330323e505eba7ce930bdf27/h/1/h170a-gaming-pro-3.jpg\", \"value_promo\": 861.66, \"value_regular\": 861.66, \"value_cash\": 758.26, \"dt_hr_captura\": \"2022-07-21T22:50:34.180225\", \"url_image2\": \"https://media.pichau.com.br/media/catalog/product/cache/2f958555330323e505eba7ce930bdf27/h/1/h170a-gaming-pro.jpg\", \"url_image3\": \"https://media.pichau.com.br/media/catalog/product/cache/2f958555330323e505eba7ce930bdf27/h/1/h170a-gaming-pro-2.jpg\", \"url_image4\": \"https://media.pichau.com.br/media/catalog/product/cache/2f958555330323e505eba7ce930bdf27/h/1/h170a-gaming-pro-4.jpg\", \"url_image5\": null}, {\"potencia\": \"0\", \"name\": \"Placa Mae MSI B250 PC MATE DDR4 Socket LGA1151 Chipset Intel B250\", \"stock_status\": \"OUT_OF_STOCK\", \"codigo_barra\": \"4719072490096\", \"is_openbox\": \"1970-01-01T00:00:00\", \"promotion_name\": null, \"qty_available\": \"\", \"qty_sold\": \"\", \"expire_at\": \"\", \"url_image0\": \"https://media.pichau.com.br/media/catalog/product/cache/2f958555330323e505eba7ce930bdf27/b/2/b250-pc-mate2.jpg\", \"url_image1\": \"https://media.pichau.com.br/media/catalog/product/cache/2f958555330323e505eba7ce930bdf27/b/2/b250-pc-mate.jpg\", \"value_promo\": 619.08, \"value_regular\": 619.08, \"value_cash\": 544.79, \"dt_hr_captura\": \"2022-07-21T22:50:34.709261\", \"url_image2\": \"https://media.pichau.com.br/media/catalog/product/cache/2f958555330323e505eba7ce930bdf27/b/2/b250-pc-mate4.jpg\", \"url_image3\": \"https://media.pichau.com.br/media/catalog/product/cache/2f958555330323e505eba7ce930bdf27/b/2/b250-pc-mate3.jpg\", \"url_image4\": \"https://media.pichau.com.br/media/catalog/product/cache/2f958555330323e505eba7ce930bdf27/b/2/b250-pc-mate5.jpg\", \"url_image5\": \"https://media.pichau.com.br/media/catalog/product/cache/2f958555330323e505eba7ce930bdf27/b/2/b250-pc-mate6.jpg\"}, {\"potencia\": null, \"name\": \"Mousepad Gamer TESORO Aegis 360 x 300mm, TESORO-X3\", \"stock_status\": \"OUT_OF_STOCK\", \"codigo_barra\": \"0609132867194\", \"is_openbox\": \"1970-01-01T00:00:00\", \"promotion_name\": null, \"qty_available\": \"\", \"qty_sold\": \"\", \"expire_at\": \"\", \"url_image0\": \"https://media.pichau.com.br/media/catalog/product/cache/2f958555330323e505eba7ce930bdf27/x/3/x3.jpg\", \"url_image1\": \"https://media.pichau.com.br/media/catalog/product/cache/2f958555330323e505eba7ce930bdf27/x/3/x32.jpg\", \"value_promo\": 55.68, \"value_regular\": 55.68, \"value_cash\": 49.0, \"dt_hr_captura\": \"2022-07-21T22:50:35.247964\", \"url_image2\": \"https://media.pichau.com.br/media/catalog/product/cache/2f958555330323e505eba7ce930bdf27/x/3/x33.jpg\", \"url_image3\": \"https://media.pichau.com.br/media/catalog/product/cache/2f958555330323e505eba7ce930bdf27/x/3/x31.jpg\", \"url_image4\": null, \"url_image5\": null}, {\"potencia\": \"0\", \"name\": \"Fluido Thermaltake Opaque Coolant C1000 Blue, CL-W114-OS00BU-A\", \"stock_status\": \"OUT_OF_STOCK\", \"codigo_barra\": \"4717964403391\", \"is_openbox\": \"1970-01-01T00:00:00\", \"promotion_name\": null, \"qty_available\": \"\", \"qty_sold\": \"\", \"expire_at\": \"\", \"url_image0\": \"https://media.pichau.com.br/media/catalog/product/cache/2f958555330323e505eba7ce930bdf27/t/h/thermaltake-opaque-coolant-c1000-blue.jpg\", \"url_image1\": null, \"value_promo\": 143.07, \"value_regular\": 143.07, \"value_cash\": 125.9, \"dt_hr_captura\": \"2022-07-21T22:50:35.760799\", \"url_image2\": null, \"url_image3\": null, \"url_image4\": null, \"url_image5\": null}, {\"potencia\": null, \"name\": \"Computador Pichau Home, AMD Athlon 3000G, 8GB DDR4, SSD 240GB \", \"stock_status\": \"IN_STOCK\", \"codigo_barra\": null, \"is_openbox\": \"1970-01-01T00:00:00\", \"promotion_name\": \"PC Master Race\", \"qty_available\": \"1970-01-01T00:00:00.000000045\", \"qty_sold\": \"1970-01-01T00:00:00.000000105\", \"expire_at\": \"2022-07-31T23:50:00\", \"url_image0\": \"https://media.pichau.com.br/media/catalog/product/cache/2f958555330323e505eba7ce930bdf27/t/g/tgt_b110_-_01_76.jpg\", \"url_image1\": \"https://media.pichau.com.br/media/catalog/product/cache/2f958555330323e505eba7ce930bdf27/t/g/tgt_b110_-_02_76.jpg\", \"value_promo\": 1483.41, \"value_regular\": 1823.87, \"value_cash\": 1305.4, \"dt_hr_captura\": \"2022-07-21T22:50:36.315356\", \"url_image2\": \"https://media.pichau.com.br/media/catalog/product/cache/2f958555330323e505eba7ce930bdf27/t/g/tgt_b110_-_03_74.jpg\", \"url_image3\": \"https://media.pichau.com.br/media/catalog/product/cache/2f958555330323e505eba7ce930bdf27/t/g/tgt_b110_-_04_74.jpg\", \"url_image4\": \"https://media.pichau.com.br/media/catalog/product/cache/2f958555330323e505eba7ce930bdf27/t/g/tgt_b110_-_05_74.jpg\", \"url_image5\": null}, {\"potencia\": null, \"name\": \"Notebook Gamer Acer Aspire GTX 1050 I5-7300HQ 8GB 1TB LED Full HD 15.6 Pol, VX5-591G-54PG\", \"stock_status\": \"OUT_OF_STOCK\", \"codigo_barra\": \"4713883065979\", \"is_openbox\": \"1970-01-01T00:00:00\", \"promotion_name\": null, \"qty_available\": \"\", \"qty_sold\": \"\", \"expire_at\": \"\", \"url_image0\": \"https://media.pichau.com.br/media/catalog/product/cache/2f958555330323e505eba7ce930bdf27/a/s/as_vx5-591g_win10_03.jpg\", \"url_image1\": \"https://media.pichau.com.br/media/catalog/product/cache/2f958555330323e505eba7ce930bdf27/a/s/as_vx5-591g_acer_02.jpg\", \"value_promo\": 3919.4, \"value_regular\": 3919.4, \"value_cash\": 3449.07, \"dt_hr_captura\": \"2022-07-21T22:50:36.855503\", \"url_image2\": \"https://media.pichau.com.br/media/catalog/product/cache/2f958555330323e505eba7ce930bdf27/a/s/as_vx5-591g_05.jpg\", \"url_image3\": \"https://media.pichau.com.br/media/catalog/product/cache/2f958555330323e505eba7ce930bdf27/a/s/as_vx5-591g_04.jpg\", \"url_image4\": \"https://media.pichau.com.br/media/catalog/product/cache/2f958555330323e505eba7ce930bdf27/a/s/as_vx5-591g_06.jpg\", \"url_image5\": null}, {\"potencia\": \"20\", \"name\": \"Ventoinha Alseye D-Ringer Lighting 120mm Rainbow, DR-120-RR\", \"stock_status\": \"OUT_OF_STOCK\", \"codigo_barra\": \"4897059871349\", \"is_openbox\": \"1970-01-01T00:00:00\", \"promotion_name\": null, \"qty_available\": \"\", \"qty_sold\": \"\", \"expire_at\": \"\", \"url_image0\": \"https://media.pichau.com.br/media/catalog/product/cache/2f958555330323e505eba7ce930bdf27/d/r/dr-120-rr1.jpg\", \"url_image1\": \"https://media.pichau.com.br/media/catalog/product/cache/2f958555330323e505eba7ce930bdf27/d/r/dr-120-rr.jpg\", \"value_promo\": 48.75, \"value_regular\": 48.75, \"value_cash\": 42.9, \"dt_hr_captura\": \"2022-07-21T22:50:37.441756\", \"url_image2\": null, \"url_image3\": null, \"url_image4\": null, \"url_image5\": null}, {\"potencia\": null, \"name\": \"SSD Corsair Force Series MP600, 2TB, M.2 2280, PCIe NVMe, Leitura 4950 MB/s, Gravacao 4250 MB/s, CSSD-F2000GBMP600\", \"stock_status\": \"OUT_OF_STOCK\", \"codigo_barra\": \"0840006614524\", \"is_openbox\": \"1970-01-01T00:00:00\", \"promotion_name\": null, \"qty_available\": \"\", \"qty_sold\": \"\", \"expire_at\": \"\", \"url_image0\": \"https://media.pichau.com.br/media/catalog/product/cache/2f958555330323e505eba7ce930bdf27/c/s/cssd-f2000gbmp6002.jpg\", \"url_image1\": \"https://media.pichau.com.br/media/catalog/product/cache/2f958555330323e505eba7ce930bdf27/c/s/cssd-f500gbmp6001_1.jpg\", \"value_promo\": 1579.48, \"value_regular\": 1579.48, \"value_cash\": 1389.94, \"dt_hr_captura\": \"2022-07-21T22:50:37.963362\", \"url_image2\": \"https://media.pichau.com.br/media/catalog/product/cache/2f958555330323e505eba7ce930bdf27/c/s/cssd-f2000gbmp6003.jpg\", \"url_image3\": \"https://media.pichau.com.br/media/catalog/product/cache/2f958555330323e505eba7ce930bdf27/c/s/cssd-f2000gbmp6001.jpg\", \"url_image4\": null, \"url_image5\": null}, {\"potencia\": null, \"name\": \"Adaptador Trust USB-C Para USB-A 3.2, T22627\", \"stock_status\": \"OUT_OF_STOCK\", \"codigo_barra\": \"8713439226270\", \"is_openbox\": \"1970-01-01T00:00:00\", \"promotion_name\": null, \"qty_available\": \"\", \"qty_sold\": \"\", \"expire_at\": \"\", \"url_image0\": \"https://media.pichau.com.br/media/catalog/product/cache/2f958555330323e505eba7ce930bdf27/t/2/t226273.jpg\", \"url_image1\": \"https://media.pichau.com.br/media/catalog/product/cache/2f958555330323e505eba7ce930bdf27/t/2/t226271.jpg\", \"value_promo\": 51.13, \"value_regular\": 51.13, \"value_cash\": 44.99, \"dt_hr_captura\": \"2022-07-21T22:50:38.463732\", \"url_image2\": \"https://media.pichau.com.br/media/catalog/product/cache/2f958555330323e505eba7ce930bdf27/t/2/t226272.jpg\", \"url_image3\": \"https://media.pichau.com.br/media/catalog/product/cache/2f958555330323e505eba7ce930bdf27/t/2/t22627.jpg\", \"url_image4\": null, \"url_image5\": null}, {\"potencia\": null, \"name\": \"Impressora HP LaserJet PRO 400, M401DNE CF399A - Box\", \"stock_status\": \"OUT_OF_STOCK\", \"codigo_barra\": null, \"is_openbox\": \"1970-01-01T00:00:00\", \"promotion_name\": null, \"qty_available\": \"\", \"qty_sold\": \"\", \"expire_at\": \"\", \"url_image0\": \"https://media.pichau.com.br/media/catalog/product/cache/2f958555330323e505eba7ce930bdf27/p/r/produto5182.c1253de2fe0dcd1710361c53d020de59.jpg\", \"url_image1\": null, \"value_promo\": 765.11, \"value_regular\": 765.11, \"value_cash\": 673.3, \"dt_hr_captura\": \"2022-07-21T22:50:38.970499\", \"url_image2\": null, \"url_image3\": null, \"url_image4\": null, \"url_image5\": null}, {\"potencia\": null, \"name\": \"Computador Pichau Gamer, Intel i5-10400F, Geforce RTX 3060 12GB, 8GB DDR4, HD 1TB + SSD M.2 240GB\", \"stock_status\": \"OUT_OF_STOCK\", \"codigo_barra\": \"7908446215503\", \"is_openbox\": \"1970-01-01T00:00:00\", \"promotion_name\": null, \"qty_available\": \"\", \"qty_sold\": \"\", \"expire_at\": \"\", \"url_image0\": \"https://media.pichau.com.br/media/catalog/product/cache/2f958555330323e505eba7ce930bdf27/p/o/pouter-intel-rtx-gtx-001.jpg\", \"url_image1\": \"https://media.pichau.com.br/media/catalog/product/cache/2f958555330323e505eba7ce930bdf27/p/o/pouter-intel-rtx-gtx-002.jpg\", \"value_promo\": 0.0, \"value_regular\": 0.0, \"value_cash\": 0.0, \"dt_hr_captura\": \"2022-07-21T22:50:39.551379\", \"url_image2\": \"https://media.pichau.com.br/media/catalog/product/cache/2f958555330323e505eba7ce930bdf27/p/o/pouter-intel-rtx-gtx-003.jpg\", \"url_image3\": \"https://media.pichau.com.br/media/catalog/product/cache/2f958555330323e505eba7ce930bdf27/p/o/pouter3-001.jpg\", \"url_image4\": \"https://media.pichau.com.br/media/catalog/product/cache/2f958555330323e505eba7ce930bdf27/p/o/pouter3-002.jpg\", \"url_image5\": \"https://media.pichau.com.br/media/catalog/product/cache/2f958555330323e505eba7ce930bdf27/p/o/pouter3-003.jpg\"}, {\"potencia\": null, \"name\": \"Mouse Gamer Dragon War Dragunov, 800 a 3200 Dpi Laser C/Mousepad, ELE-G3 - BOX\", \"stock_status\": \"OUT_OF_STOCK\", \"codigo_barra\": null, \"is_openbox\": \"1970-01-01T00:00:00\", \"promotion_name\": null, \"qty_available\": \"\", \"qty_sold\": \"\", \"expire_at\": \"\", \"url_image0\": \"https://media.pichau.com.br/media/catalog/product/cache/2f958555330323e505eba7ce930bdf27/p/r/produto4764.9534b2b5e3f8c7d13454cf4976f48edf.jpg\", \"url_image1\": null, \"value_promo\": 80.04, \"value_regular\": 80.04, \"value_cash\": 70.44, \"dt_hr_captura\": \"2022-07-21T22:50:40.082144\", \"url_image2\": null, \"url_image3\": null, \"url_image4\": null, \"url_image5\": null}, {\"potencia\": null, \"name\": \"Water Cooler Aigo DarkFlash Symphony TR 240 RGB Branco, TR-240 WHITE\", \"stock_status\": \"OUT_OF_STOCK\", \"codigo_barra\": \"6926170085828\", \"is_openbox\": \"1970-01-01T00:00:00\", \"promotion_name\": null, \"qty_available\": \"\", \"qty_sold\": \"\", \"expire_at\": \"\", \"url_image0\": \"https://media.pichau.com.br/media/catalog/product/cache/2f958555330323e505eba7ce930bdf27/t/r/tr-240-white.jpg\", \"url_image1\": \"https://media.pichau.com.br/media/catalog/product/cache/2f958555330323e505eba7ce930bdf27/t/r/tr-240-white1.jpg\", \"value_promo\": 624.91, \"value_regular\": 624.91, \"value_cash\": 549.92, \"dt_hr_captura\": \"2022-07-21T22:50:40.625840\", \"url_image2\": null, \"url_image3\": null, \"url_image4\": null, \"url_image5\": null}, {\"potencia\": null, \"name\": \"Mouse Microsoft Bluetooth  ARC Touch Prata, 7MP-00011\", \"stock_status\": \"OUT_OF_STOCK\", \"codigo_barra\": \"889842004366\", \"is_openbox\": \"1970-01-01T00:00:00\", \"promotion_name\": null, \"qty_available\": \"\", \"qty_sold\": \"\", \"expire_at\": \"\", \"url_image0\": \"https://media.pichau.com.br/media/catalog/product/cache/2f958555330323e505eba7ce930bdf27/7/m/7mp-00011.jpg\", \"url_image1\": null, \"value_promo\": 340.81, \"value_regular\": 340.81, \"value_cash\": 299.91, \"dt_hr_captura\": \"2022-07-21T22:50:41.171240\", \"url_image2\": null, \"url_image3\": null, \"url_image4\": null, \"url_image5\": null}, {\"potencia\": null, \"name\": \"Memoria Corsair Vengeance RGB RT, 32GB (4x8GB), DDR4, 3600MHz, C18, Branca, CMN32GX4M4Z3600C18W\", \"stock_status\": \"OUT_OF_STOCK\", \"codigo_barra\": \"0840006650645\", \"is_openbox\": \"1970-01-01T00:00:00\", \"promotion_name\": null, \"qty_available\": \"\", \"qty_sold\": \"\", \"expire_at\": \"\", \"url_image0\": \"https://media.pichau.com.br/media/catalog/product/cache/2f958555330323e505eba7ce930bdf27/c/m/cmn32gx4m4z3200c16w1_1.jpg\", \"url_image1\": \"https://media.pichau.com.br/media/catalog/product/cache/2f958555330323e505eba7ce930bdf27/c/m/cmn32gx4m4z3200c16w_1.jpg\", \"value_promo\": 1770.36, \"value_regular\": 1770.36, \"value_cash\": 1557.92, \"dt_hr_captura\": \"2022-07-21T22:50:41.710237\", \"url_image2\": \"https://media.pichau.com.br/media/catalog/product/cache/2f958555330323e505eba7ce930bdf27/c/m/cmn32gx4m4z3200c16w2_1.jpg\", \"url_image3\": null, \"url_image4\": null, \"url_image5\": null}, {\"potencia\": null, \"name\": \"SSD Externo Team Group PD400, 240GB, USB-c 3.2, Leitura 430 MB/s, Gravacao 420 MB/s, T8FED4240G0C108\", \"stock_status\": \"OUT_OF_STOCK\", \"codigo_barra\": \"0765441646438\", \"is_openbox\": \"1970-01-01T00:00:00\", \"promotion_name\": null, \"qty_available\": \"\", \"qty_sold\": \"\", \"expire_at\": \"\", \"url_image0\": \"https://media.pichau.com.br/media/catalog/product/cache/2f958555330323e505eba7ce930bdf27/t/8/t8fed4240g0c108.jpg\", \"url_image1\": \"https://media.pichau.com.br/media/catalog/product/cache/2f958555330323e505eba7ce930bdf27/t/8/t8fed4240g0c1084.jpg\", \"value_promo\": 476.15, \"value_regular\": 476.15, \"value_cash\": 419.01, \"dt_hr_captura\": \"2022-07-21T22:50:42.246654\", \"url_image2\": \"https://media.pichau.com.br/media/catalog/product/cache/2f958555330323e505eba7ce930bdf27/t/8/t8fed4240g0c1081.jpg\", \"url_image3\": \"https://media.pichau.com.br/media/catalog/product/cache/2f958555330323e505eba7ce930bdf27/t/8/t8fed4240g0c1082.jpg\", \"url_image4\": \"https://media.pichau.com.br/media/catalog/product/cache/2f958555330323e505eba7ce930bdf27/t/8/t8fed4240g0c10823.jpg\", \"url_image5\": null}, {\"potencia\": null, \"name\": \"Mesa DT3 Office F40 Ajustavel, 12200-5\", \"stock_status\": \"OUT_OF_STOCK\", \"codigo_barra\": \"7890122005204\", \"is_openbox\": \"1970-01-01T00:00:00\", \"promotion_name\": null, \"qty_available\": \"\", \"qty_sold\": \"\", \"expire_at\": \"\", \"url_image0\": \"https://media.pichau.com.br/media/catalog/product/cache/2f958555330323e505eba7ce930bdf27/1/2/12200-52.jpg\", \"url_image1\": \"https://media.pichau.com.br/media/catalog/product/cache/2f958555330323e505eba7ce930bdf27/1/2/12200-51.jpg\", \"value_promo\": 2840.8, \"value_regular\": 2840.8, \"value_cash\": 2499.9, \"dt_hr_captura\": \"2022-07-21T22:50:42.833543\", \"url_image2\": \"https://media.pichau.com.br/media/catalog/product/cache/2f958555330323e505eba7ce930bdf27/1/2/12200-59.jpg\", \"url_image3\": \"https://media.pichau.com.br/media/catalog/product/cache/2f958555330323e505eba7ce930bdf27/1/2/12200-5.jpg\", \"url_image4\": \"https://media.pichau.com.br/media/catalog/product/cache/2f958555330323e505eba7ce930bdf27/1/2/12200-58.jpg\", \"url_image5\": \"https://media.pichau.com.br/media/catalog/product/cache/2f958555330323e505eba7ce930bdf27/1/2/12200-578.jpg\"}, {\"potencia\": null, \"name\": \"Fone Headset Razer Kraken Mobile Special Edition Neon Series(Green), RZ04-01400100-R3M1\", \"stock_status\": \"OUT_OF_STOCK\", \"codigo_barra\": \"8886419370680\", \"is_openbox\": \"1970-01-01T00:00:00\", \"promotion_name\": null, \"qty_available\": \"\", \"qty_sold\": \"\", \"expire_at\": \"\", \"url_image0\": \"https://media.pichau.com.br/media/catalog/product/cache/2f958555330323e505eba7ce930bdf27/2/_/2_54_3.jpg\", \"url_image1\": \"https://media.pichau.com.br/media/catalog/product/cache/2f958555330323e505eba7ce930bdf27/1/_/1_74_5.jpg\", \"value_promo\": 340.79, \"value_regular\": 340.79, \"value_cash\": 299.9, \"dt_hr_captura\": \"2022-07-21T22:50:43.387544\", \"url_image2\": \"https://media.pichau.com.br/media/catalog/product/cache/2f958555330323e505eba7ce930bdf27/5/_/5_8_6.jpg\", \"url_image3\": \"https://media.pichau.com.br/media/catalog/product/cache/2f958555330323e505eba7ce930bdf27/4/_/4_12_2.jpg\", \"url_image4\": \"https://media.pichau.com.br/media/catalog/product/cache/2f958555330323e505eba7ce930bdf27/3/_/3_17_3.jpg\", \"url_image5\": null}, {\"potencia\": null, \"name\": \"Mesa Gamer Mancer Tanith, Preto, MCR-TNH-BK01\", \"stock_status\": \"IN_STOCK\", \"codigo_barra\": \"7908446215060\", \"is_openbox\": \"1970-01-01T00:00:00\", \"promotion_name\": \"Ferias com o Pombo\", \"qty_available\": \"1970-01-01T00:00:00.000000065\", \"qty_sold\": \"1970-01-01T00:00:00.000000012\", \"expire_at\": \"2022-08-01T17:00:00\", \"url_image0\": \"https://media.pichau.com.br/media/catalog/product/cache/2f958555330323e505eba7ce930bdf27/m/c/mcr-tnh-bk01.jpg\", \"url_image1\": \"https://media.pichau.com.br/media/catalog/product/cache/2f958555330323e505eba7ce930bdf27/m/c/mcr-tnh-bk01212.jpg\", \"value_promo\": 511.24, \"value_regular\": 897.64, \"value_cash\": 449.89, \"dt_hr_captura\": \"2022-07-21T22:50:43.912915\", \"url_image2\": \"https://media.pichau.com.br/media/catalog/product/cache/2f958555330323e505eba7ce930bdf27/m/c/mcr-tnh-bk01110.jpg\", \"url_image3\": \"https://media.pichau.com.br/media/catalog/product/cache/2f958555330323e505eba7ce930bdf27/m/c/mcr-tnh-bk01321.jpg\", \"url_image4\": null, \"url_image5\": null}, {\"potencia\": null, \"name\": \"CAPA ACRILICO P/IPHONE FORTREK, IC303 - BOX\", \"stock_status\": \"OUT_OF_STOCK\", \"codigo_barra\": null, \"is_openbox\": \"1970-01-01T00:00:00\", \"promotion_name\": null, \"qty_available\": \"\", \"qty_sold\": \"\", \"expire_at\": \"\", \"url_image0\": \"https://media.pichau.com.br/media/catalog/product/cache/2f958555330323e505eba7ce930bdf27/p/r/produto4241.6c29195ee47fb70e08130c15a9444316.jpg\", \"url_image1\": null, \"value_promo\": 30.56, \"value_regular\": 30.56, \"value_cash\": 26.89, \"dt_hr_captura\": \"2022-07-21T22:50:44.481683\", \"url_image2\": null, \"url_image3\": null, \"url_image4\": null, \"url_image5\": null}, {\"potencia\": null, \"name\": \"Suporte para placa de v\\u00eddeo Rise Vulpes Laranja, RM-SV-01-OV\", \"stock_status\": \"OUT_OF_STOCK\", \"codigo_barra\": \"7895099155648\", \"is_openbox\": \"1970-01-01T00:00:00\", \"promotion_name\": null, \"qty_available\": \"\", \"qty_sold\": \"\", \"expire_at\": \"\", \"url_image0\": \"https://media.pichau.com.br/media/catalog/product/cache/2f958555330323e505eba7ce930bdf27/r/m/rm-sv-01-ov-013.jpg\", \"url_image1\": \"https://media.pichau.com.br/media/catalog/product/cache/2f958555330323e505eba7ce930bdf27/r/m/rm-sv-01-ov-01.jpg\", \"value_promo\": 33.97, \"value_regular\": 33.97, \"value_cash\": 29.89, \"dt_hr_captura\": \"2022-07-21T22:50:44.981066\", \"url_image2\": \"https://media.pichau.com.br/media/catalog/product/cache/2f958555330323e505eba7ce930bdf27/r/m/rm-sv-01-ov-012.jpg\", \"url_image3\": \"https://media.pichau.com.br/media/catalog/product/cache/2f958555330323e505eba7ce930bdf27/r/m/rm-sv-01-ov-011.jpg\", \"url_image4\": null, \"url_image5\": null}, {\"potencia\": null, \"name\": \"Computador Pichau Home HM137, AMD Ryzen 5 3600, GeForce GT 610 2GB, 8GB DDR4, SSD 120GB \", \"stock_status\": \"OUT_OF_STOCK\", \"codigo_barra\": null, \"is_openbox\": \"1970-01-01T00:00:00\", \"promotion_name\": null, \"qty_available\": \"\", \"qty_sold\": \"\", \"expire_at\": \"\", \"url_image0\": \"https://media.pichau.com.br/media/catalog/product/cache/2f958555330323e505eba7ce930bdf27/t/g/tgt_b110_-_01_60.jpg\", \"url_image1\": \"https://media.pichau.com.br/media/catalog/product/cache/2f958555330323e505eba7ce930bdf27/t/g/tgt_b110_-_02_60.jpg\", \"value_promo\": 2545.17, \"value_regular\": 2545.17, \"value_cash\": 2239.75, \"dt_hr_captura\": \"2022-07-21T22:50:45.500163\", \"url_image2\": \"https://media.pichau.com.br/media/catalog/product/cache/2f958555330323e505eba7ce930bdf27/t/g/tgt_b110_-_03_57.jpg\", \"url_image3\": \"https://media.pichau.com.br/media/catalog/product/cache/2f958555330323e505eba7ce930bdf27/t/g/tgt_b110_-_04_57.jpg\", \"url_image4\": \"https://media.pichau.com.br/media/catalog/product/cache/2f958555330323e505eba7ce930bdf27/t/g/tgt_b110_-_05_57.jpg\", \"url_image5\": null}, {\"potencia\": null, \"name\": \"Headset Razer Kraken PRO V2 Oval Branco, RZ04-02050500-R3M1\", \"stock_status\": \"OUT_OF_STOCK\", \"codigo_barra\": \"8886419371212\", \"is_openbox\": \"1970-01-01T00:00:00\", \"promotion_name\": null, \"qty_available\": \"\", \"qty_sold\": \"\", \"expire_at\": \"\", \"url_image0\": \"https://media.pichau.com.br/media/catalog/product/cache/2f958555330323e505eba7ce930bdf27/r/z/rz04-02050500-r3u1.jpg\", \"url_image1\": \"https://media.pichau.com.br/media/catalog/product/cache/2f958555330323e505eba7ce930bdf27/r/z/rz04-02050500-r3u11.jpg\", \"value_promo\": 487.51, \"value_regular\": 487.51, \"value_cash\": 429.01, \"dt_hr_captura\": \"2022-07-21T22:50:46.023754\", \"url_image2\": \"https://media.pichau.com.br/media/catalog/product/cache/2f958555330323e505eba7ce930bdf27/r/z/rz04-02050500-r3u12.jpg\", \"url_image3\": \"https://media.pichau.com.br/media/catalog/product/cache/2f958555330323e505eba7ce930bdf27/r/z/rz04-02050500-r3u13.jpg\", \"url_image4\": null, \"url_image5\": null}, {\"potencia\": \"12\", \"name\": \"Ventoinha Corsair Air Series AF140 140mm LED Roxo, CO-9050017-PLED - BOX\", \"stock_status\": \"OUT_OF_STOCK\", \"codigo_barra\": \"0843591043892\", \"is_openbox\": \"1970-01-01T00:00:00\", \"promotion_name\": null, \"qty_available\": \"\", \"qty_sold\": \"\", \"expire_at\": \"\", \"url_image0\": \"https://media.pichau.com.br/media/catalog/product/cache/2f958555330323e505eba7ce930bdf27/c/o/co-9050017-pled2.jpg\", \"url_image1\": \"https://media.pichau.com.br/media/catalog/product/cache/2f958555330323e505eba7ce930bdf27/c/o/co-9050017-pled.jpg\", \"value_promo\": 72.42, \"value_regular\": 72.42, \"value_cash\": 63.73, \"dt_hr_captura\": \"2022-07-21T22:50:46.527225\", \"url_image2\": \"https://media.pichau.com.br/media/catalog/product/cache/2f958555330323e505eba7ce930bdf27/c/o/co-9050017-pled1.jpg\", \"url_image3\": null, \"url_image4\": null, \"url_image5\": null}, {\"potencia\": null, \"name\": \"Computador Mancer Home, Intel I3-7100, H110M, 8GB DDR4, HD 1TB, TGT 500W, Cooler i30, Combat\", \"stock_status\": \"OUT_OF_STOCK\", \"codigo_barra\": \"7908446205832\", \"is_openbox\": \"1970-01-01T00:00:00\", \"promotion_name\": null, \"qty_available\": \"\", \"qty_sold\": \"\", \"expire_at\": \"\", \"url_image0\": \"https://media.pichau.com.br/media/catalog/product/cache/2f958555330323e505eba7ce930bdf27/c/o/combat-intel-sgpu_1__5.jpg\", \"url_image1\": \"https://media.pichau.com.br/media/catalog/product/cache/2f958555330323e505eba7ce930bdf27/c/o/combat-intel-sgpu_2__4.jpg\", \"value_promo\": 0.0, \"value_regular\": 0.0, \"value_cash\": 0.0, \"dt_hr_captura\": \"2022-07-21T22:50:47.100862\", \"url_image2\": \"https://media.pichau.com.br/media/catalog/product/cache/2f958555330323e505eba7ce930bdf27/c/o/combat-intel-sgpu_3__4.jpg\", \"url_image3\": \"https://media.pichau.com.br/media/catalog/product/cache/2f958555330323e505eba7ce930bdf27/_/m/_mg_5995_1_4.jpg\", \"url_image4\": \"https://media.pichau.com.br/media/catalog/product/cache/2f958555330323e505eba7ce930bdf27/_/m/_mg_6003_1_6.jpg\", \"url_image5\": \"https://media.pichau.com.br/media/catalog/product/cache/2f958555330323e505eba7ce930bdf27/_/m/_mg_59952_1_3.jpg\"}, {\"potencia\": null, \"name\": \"Storage NAS QNAP TS-230, Realtek RTD1296 4-core 1.4GHz, 2GB DDR4, 2x Baia S/ HD, TS-230-US\", \"stock_status\": \"IN_STOCK\", \"codigo_barra\": null, \"is_openbox\": \"1970-01-01T00:00:00\", \"promotion_name\": null, \"qty_available\": \"\", \"qty_sold\": \"\", \"expire_at\": \"\", \"url_image0\": \"https://media.pichau.com.br/media/catalog/product/cache/2f958555330323e505eba7ce930bdf27/t/s/ts-230-us.jpg\", \"url_image1\": \"https://media.pichau.com.br/media/catalog/product/cache/2f958555330323e505eba7ce930bdf27/t/s/ts-230-us1.jpg\", \"value_promo\": 2499.89, \"value_regular\": 2499.89, \"value_cash\": 2199.9, \"dt_hr_captura\": \"2022-07-21T22:50:47.650483\", \"url_image2\": \"https://media.pichau.com.br/media/catalog/product/cache/2f958555330323e505eba7ce930bdf27/t/s/ts-230-us2.jpg\", \"url_image3\": \"https://media.pichau.com.br/media/catalog/product/cache/2f958555330323e505eba7ce930bdf27/t/s/ts-230-us8.jpg\", \"url_image4\": \"https://media.pichau.com.br/media/catalog/product/cache/2f958555330323e505eba7ce930bdf27/t/s/ts-230-us4.jpg\", \"url_image5\": \"https://media.pichau.com.br/media/catalog/product/cache/2f958555330323e505eba7ce930bdf27/t/s/ts-230-us6.jpg\"}, {\"potencia\": null, \"name\": \"Adaptador MD9 DVI Macho Para HDMI F\\u00eamea Preto, 7239\", \"stock_status\": \"OUT_OF_STOCK\", \"codigo_barra\": \"7897054611749\", \"is_openbox\": \"1970-01-01T00:00:00\", \"promotion_name\": null, \"qty_available\": \"\", \"qty_sold\": \"\", \"expire_at\": \"\", \"url_image0\": \"https://media.pichau.com.br/media/catalog/product/cache/2f958555330323e505eba7ce930bdf27/m/d/md9-dvi-macho-para-hdmi-femea.jpg\", \"url_image1\": null, \"value_promo\": 11.25, \"value_regular\": 11.25, \"value_cash\": 9.9, \"dt_hr_captura\": \"2022-07-21T22:50:48.258268\", \"url_image2\": null, \"url_image3\": null, \"url_image4\": null, \"url_image5\": null}, {\"potencia\": null, \"name\": \"Gabinete Vinik VX Gaming Twister V2 Preto LED Azul, 25348\", \"stock_status\": \"OUT_OF_STOCK\", \"codigo_barra\": \"7898547289322\", \"is_openbox\": \"1970-01-01T00:00:00\", \"promotion_name\": null, \"qty_available\": \"\", \"qty_sold\": \"\", \"expire_at\": \"\", \"url_image0\": \"https://media.pichau.com.br/media/catalog/product/cache/2f958555330323e505eba7ce930bdf27/8/1/81097_1475603223_gg.jpg\", \"url_image1\": \"https://media.pichau.com.br/media/catalog/product/cache/2f958555330323e505eba7ce930bdf27/8/1/81097_1475603212_gg.jpg\", \"value_promo\": 214.76, \"value_regular\": 214.76, \"value_cash\": 188.99, \"dt_hr_captura\": \"2022-07-21T22:50:48.813651\", \"url_image2\": \"https://media.pichau.com.br/media/catalog/product/cache/2f958555330323e505eba7ce930bdf27/8/1/81097_1475603218_gg.jpg\", \"url_image3\": \"https://media.pichau.com.br/media/catalog/product/cache/2f958555330323e505eba7ce930bdf27/8/1/81097_index_gg.jpg\", \"url_image4\": \"https://media.pichau.com.br/media/catalog/product/cache/2f958555330323e505eba7ce930bdf27/8/1/81097_1475603229_gg.jpg\", \"url_image5\": null}, {\"potencia\": null, \"name\": \"SSD Kingston A1000 240GB M.2, SA1000M8/240G\", \"stock_status\": \"OUT_OF_STOCK\", \"codigo_barra\": \"0740617277333\", \"is_openbox\": \"1970-01-01T00:00:00\", \"promotion_name\": null, \"qty_available\": \"\", \"qty_sold\": \"\", \"expire_at\": \"\", \"url_image0\": \"https://media.pichau.com.br/media/catalog/product/cache/2f958555330323e505eba7ce930bdf27/s/a/sa1000m8240g1.jpg\", \"url_image1\": \"https://media.pichau.com.br/media/catalog/product/cache/2f958555330323e505eba7ce930bdf27/s/a/sa1000m8240g.jpg\", \"value_promo\": 317.05, \"value_regular\": 317.05, \"value_cash\": 279.0, \"dt_hr_captura\": \"2022-07-21T22:50:49.353034\", \"url_image2\": null, \"url_image3\": null, \"url_image4\": null, \"url_image5\": null}, {\"potencia\": null, \"name\": \"Pichau Kit Upgrade, Gabinete Gamer Pichau Komor LED RGB + Fonte Azza 650W RGB\", \"stock_status\": \"OUT_OF_STOCK\", \"codigo_barra\": null, \"is_openbox\": \"1970-01-01T00:00:00\", \"promotion_name\": null, \"qty_available\": \"\", \"qty_sold\": \"\", \"expire_at\": \"\", \"url_image0\": \"https://media.pichau.com.br/media/catalog/product/cache/2f958555330323e505eba7ce930bdf27/k/o/komor-650w-rgb.jpg\", \"url_image1\": null, \"value_promo\": 320.0, \"value_regular\": 320.0, \"value_cash\": 281.6, \"dt_hr_captura\": \"2022-07-21T22:50:49.859103\", \"url_image2\": null, \"url_image3\": null, \"url_image4\": null, \"url_image5\": null}, {\"potencia\": \"58\", \"name\": \"Processador Intel Celeron G5900, 2-Core, 2-Threads, 3.4GHz, Cache 2MB, LGA1200, BX80701G5900\", \"stock_status\": \"OUT_OF_STOCK\", \"codigo_barra\": \"5032037186995\", \"is_openbox\": \"1970-01-01T00:00:00\", \"promotion_name\": null, \"qty_available\": \"\", \"qty_sold\": \"\", \"expire_at\": \"\", \"url_image0\": \"https://media.pichau.com.br/media/catalog/product/cache/2f958555330323e505eba7ce930bdf27/b/x/bx80701g5900.jpg\", \"url_image1\": null, \"value_promo\": 420.34, \"value_regular\": 420.34, \"value_cash\": 369.9, \"dt_hr_captura\": \"2022-07-21T22:50:50.376845\", \"url_image2\": null, \"url_image3\": null, \"url_image4\": null, \"url_image5\": null}, {\"potencia\": null, \"name\": \"Placa Mae Biostar TB250-BTC DDR4 Socket LGA1151 Chipset Intel B250\", \"stock_status\": \"OUT_OF_STOCK\", \"codigo_barra\": \"4712960680579\", \"is_openbox\": \"1970-01-01T00:00:00\", \"promotion_name\": null, \"qty_available\": \"\", \"qty_sold\": \"\", \"expire_at\": \"\", \"url_image0\": \"https://media.pichau.com.br/media/catalog/product/cache/2f958555330323e505eba7ce930bdf27/t/b/tb250-btc1.jpg\", \"url_image1\": \"https://media.pichau.com.br/media/catalog/product/cache/2f958555330323e505eba7ce930bdf27/t/b/tb250-btc.jpg\", \"value_promo\": 620.46, \"value_regular\": 620.46, \"value_cash\": 546.0, \"dt_hr_captura\": \"2022-07-21T22:50:50.906604\", \"url_image2\": \"https://media.pichau.com.br/media/catalog/product/cache/2f958555330323e505eba7ce930bdf27/t/b/tb250-btc3.jpg\", \"url_image3\": \"https://media.pichau.com.br/media/catalog/product/cache/2f958555330323e505eba7ce930bdf27/t/b/tb250-btc2.jpg\", \"url_image4\": null, \"url_image5\": null}, {\"potencia\": null, \"name\": \"Ventoinha Corsair LL120 RGB Branca 2018, 120mm, CO-9050091-WW\", \"stock_status\": \"OUT_OF_STOCK\", \"codigo_barra\": \"0840006605577\", \"is_openbox\": \"1970-01-01T00:00:00\", \"promotion_name\": null, \"qty_available\": \"\", \"qty_sold\": \"\", \"expire_at\": \"\", \"url_image0\": \"https://media.pichau.com.br/media/catalog/product/cache/2f958555330323e505eba7ce930bdf27/c/o/co-9050091-ww3.jpg\", \"url_image1\": \"https://media.pichau.com.br/media/catalog/product/cache/2f958555330323e505eba7ce930bdf27/c/o/co-9050091-ww2.jpg\", \"value_promo\": 215.9, \"value_regular\": 215.9, \"value_cash\": 189.99, \"dt_hr_captura\": \"2022-07-21T22:50:51.450497\", \"url_image2\": \"https://media.pichau.com.br/media/catalog/product/cache/2f958555330323e505eba7ce930bdf27/c/o/co-9050091-ww1.jpg\", \"url_image3\": \"https://media.pichau.com.br/media/catalog/product/cache/2f958555330323e505eba7ce930bdf27/c/o/co-9050091-ww.jpg\", \"url_image4\": null, \"url_image5\": null}, {\"potencia\": null, \"name\": \"Mousepad Cougar Control EX-L 450x400x4mm, CGR-CONTROL EX L\", \"stock_status\": \"OUT_OF_STOCK\", \"codigo_barra\": \"4715302442392\", \"is_openbox\": \"1970-01-01T00:00:00\", \"promotion_name\": null, \"qty_available\": \"\", \"qty_sold\": \"\", \"expire_at\": \"\", \"url_image0\": \"https://media.pichau.com.br/media/catalog/product/cache/2f958555330323e505eba7ce930bdf27/c/g/cgr-control-ex-l2.jpg\", \"url_image1\": \"https://media.pichau.com.br/media/catalog/product/cache/2f958555330323e505eba7ce930bdf27/c/g/cgr-control-ex-l.jpg\", \"value_promo\": 96.47, \"value_regular\": 96.47, \"value_cash\": 84.89, \"dt_hr_captura\": \"2022-07-21T22:50:52.008412\", \"url_image2\": \"https://media.pichau.com.br/media/catalog/product/cache/2f958555330323e505eba7ce930bdf27/c/g/cgr-control-ex-l1.jpg\", \"url_image3\": null, \"url_image4\": null, \"url_image5\": null}, {\"potencia\": null, \"name\": \"Pichau Kit upgrade, Intel i7-12700KF, B660M DDR4, 8GB DDR4\", \"stock_status\": \"OUT_OF_STOCK\", \"codigo_barra\": null, \"is_openbox\": \"1970-01-01T00:00:00\", \"promotion_name\": null, \"qty_available\": \"\", \"qty_sold\": \"\", \"expire_at\": \"\", \"url_image0\": \"https://media.pichau.com.br/media/catalog/product/cache/2f958555330323e505eba7ce930bdf27/k/i/kit-up-i7-12-b660m-4slots-mem_ria-001.jpg\", \"url_image1\": null, \"value_promo\": 4670.0, \"value_regular\": 4670.0, \"value_cash\": 4109.6, \"dt_hr_captura\": \"2022-07-21T22:50:52.560408\", \"url_image2\": null, \"url_image3\": null, \"url_image4\": null, \"url_image5\": null}, {\"potencia\": null, \"name\": \"Teclado Mecanico Asus ROG Claymore RGB Switch Cherry MX Red, 90MP00E0-B0UA00 \", \"stock_status\": \"OUT_OF_STOCK\", \"codigo_barra\": \"4712900475265\", \"is_openbox\": \"1970-01-01T00:00:00\", \"promotion_name\": null, \"qty_available\": \"\", \"qty_sold\": \"\", \"expire_at\": \"\", \"url_image0\": \"https://media.pichau.com.br/media/catalog/product/cache/2f958555330323e505eba7ce930bdf27/9/0/90mp00e0-b0ua0033.jpg\", \"url_image1\": \"https://media.pichau.com.br/media/catalog/product/cache/2f958555330323e505eba7ce930bdf27/9/0/90mp00e0-b0ua002.jpg\", \"value_promo\": 1852.21, \"value_regular\": 1852.21, \"value_cash\": 1629.94, \"dt_hr_captura\": \"2022-07-21T22:50:53.066752\", \"url_image2\": \"https://media.pichau.com.br/media/catalog/product/cache/2f958555330323e505eba7ce930bdf27/9/0/90mp00e0-b0ua005.jpg\", \"url_image3\": \"https://media.pichau.com.br/media/catalog/product/cache/2f958555330323e505eba7ce930bdf27/9/0/90mp00e0-b0ua00.jpg\", \"url_image4\": \"https://media.pichau.com.br/media/catalog/product/cache/2f958555330323e505eba7ce930bdf27/9/0/90mp00e0-b0ua001.jpg\", \"url_image5\": \"https://media.pichau.com.br/media/catalog/product/cache/2f958555330323e505eba7ce930bdf27/9/0/90mp00e0-b0ua004.jpg\"}, {\"potencia\": null, \"name\": \"Headset Element G G351 7.1 USB RGB PRETO/ROXO \", \"stock_status\": \"OUT_OF_STOCK\", \"codigo_barra\": \"4713095604898\", \"is_openbox\": \"1970-01-01T00:00:00\", \"promotion_name\": null, \"qty_available\": \"\", \"qty_sold\": \"\", \"expire_at\": \"\", \"url_image0\": \"https://media.pichau.com.br/media/catalog/product/cache/2f958555330323e505eba7ce930bdf27/g/3/g3511.jpg\", \"url_image1\": \"https://media.pichau.com.br/media/catalog/product/cache/2f958555330323e505eba7ce930bdf27/g/3/g351321.jpg\", \"value_promo\": 193.07, \"value_regular\": 193.07, \"value_cash\": 169.9, \"dt_hr_captura\": \"2022-07-21T22:50:53.553142\", \"url_image2\": null, \"url_image3\": null, \"url_image4\": null, \"url_image5\": null}, {\"potencia\": null, \"name\": \"Ventoinha Scythe KazeFlex 120 RGB PWM 800RPM, SU1225FD12LR-RDP\", \"stock_status\": \"IN_STOCK\", \"codigo_barra\": \"4571225056890\", \"is_openbox\": \"1970-01-01T00:00:00\", \"promotion_name\": null, \"qty_available\": \"\", \"qty_sold\": \"\", \"expire_at\": \"\", \"url_image0\": \"https://media.pichau.com.br/media/catalog/product/cache/2f958555330323e505eba7ce930bdf27/s/u/su1225fd12lr-rdp3.jpg\", \"url_image1\": \"https://media.pichau.com.br/media/catalog/product/cache/2f958555330323e505eba7ce930bdf27/s/u/su1225fd12lr-rdp.jpg\", \"value_promo\": 90.79, \"value_regular\": 90.79, \"value_cash\": 79.9, \"dt_hr_captura\": \"2022-07-21T22:50:54.061019\", \"url_image2\": \"https://media.pichau.com.br/media/catalog/product/cache/2f958555330323e505eba7ce930bdf27/s/u/su1225fd12lr-rdp2.jpg\", \"url_image3\": \"https://media.pichau.com.br/media/catalog/product/cache/2f958555330323e505eba7ce930bdf27/s/u/su1225fd12lr-rdp1.jpg\", \"url_image4\": null, \"url_image5\": null}, {\"potencia\": null, \"name\": \"Cadeira Gamer AKRacing ProX Bigger Preta, 12319-6\", \"stock_status\": \"OUT_OF_STOCK\", \"codigo_barra\": \"0853845007860\", \"is_openbox\": \"1970-01-01T00:00:00\", \"promotion_name\": null, \"qty_available\": \"\", \"qty_sold\": \"\", \"expire_at\": \"\", \"url_image0\": \"https://media.pichau.com.br/media/catalog/product/cache/2f958555330323e505eba7ce930bdf27/1/2/12319-6.jpg\", \"url_image1\": \"https://media.pichau.com.br/media/catalog/product/cache/2f958555330323e505eba7ce930bdf27/1/2/12319-61.jpg\", \"value_promo\": 2954.43, \"value_regular\": 2954.43, \"value_cash\": 2599.9, \"dt_hr_captura\": \"2022-07-21T22:50:54.560767\", \"url_image2\": \"https://media.pichau.com.br/media/catalog/product/cache/2f958555330323e505eba7ce930bdf27/1/2/12319-623213.jpg\", \"url_image3\": \"https://media.pichau.com.br/media/catalog/product/cache/2f958555330323e505eba7ce930bdf27/1/2/12319-623215.jpg\", \"url_image4\": \"https://media.pichau.com.br/media/catalog/product/cache/2f958555330323e505eba7ce930bdf27/1/2/12319-623216.jpg\", \"url_image5\": \"https://media.pichau.com.br/media/catalog/product/cache/2f958555330323e505eba7ce930bdf27/1/2/12319-623214.jpg\"}, {\"potencia\": \"35\", \"name\": \"Water Cooler Corsair Hydro H90 140mm, CW-9060013-WW\", \"stock_status\": \"OUT_OF_STOCK\", \"codigo_barra\": \"843591037426\", \"is_openbox\": \"1970-01-01T00:00:00\", \"promotion_name\": null, \"qty_available\": \"\", \"qty_sold\": \"\", \"expire_at\": \"\", \"url_image0\": \"https://media.pichau.com.br/media/catalog/product/cache/2f958555330323e505eba7ce930bdf27/p/r/produto6444.872e6b16bb63b96399e993547a54b098.jpg\", \"url_image1\": \"https://media.pichau.com.br/media/catalog/product/cache/2f958555330323e505eba7ce930bdf27/c/w/cw-9060013-ww.jpg\", \"value_promo\": 420.35, \"value_regular\": 420.35, \"value_cash\": 369.91, \"dt_hr_captura\": \"2022-07-21T22:50:55.084351\", \"url_image2\": \"https://media.pichau.com.br/media/catalog/product/cache/2f958555330323e505eba7ce930bdf27/c/w/cw-9060013-ww2.jpg\", \"url_image3\": \"https://media.pichau.com.br/media/catalog/product/cache/2f958555330323e505eba7ce930bdf27/c/w/cw-9060013-ww3.jpg\", \"url_image4\": null, \"url_image5\": null}, {\"potencia\": \"150\", \"name\": \"Placa de Video PowerColor Radeon RX 550 2GB GDDR5 Red Dragon 128-bit, AXRX 550 2GBD5-DHV2/OC\", \"stock_status\": \"OUT_OF_STOCK\", \"codigo_barra\": \"4715409189459\", \"is_openbox\": \"1970-01-01T00:00:00\", \"promotion_name\": null, \"qty_available\": \"\", \"qty_sold\": \"\", \"expire_at\": \"\", \"url_image0\": \"https://media.pichau.com.br/media/catalog/product/cache/2f958555330323e505eba7ce930bdf27/a/x/axrx_550_2gbd5-dhv2oc4545545.jpg\", \"url_image1\": \"https://media.pichau.com.br/media/catalog/product/cache/2f958555330323e505eba7ce930bdf27/a/x/axrx-550-2gbd5-dhv2oc45455452.jpg\", \"value_promo\": 386.35, \"value_regular\": 386.35, \"value_cash\": 339.99, \"dt_hr_captura\": \"2022-07-21T22:50:55.890475\", \"url_image2\": \"https://media.pichau.com.br/media/catalog/product/cache/2f958555330323e505eba7ce930bdf27/a/x/axrx-550-2gbd5-dhv2oc454554523.jpg\", \"url_image3\": null, \"url_image4\": null, \"url_image5\": null}, {\"potencia\": null, \"name\": \"Memoria Kingston Fury Beast, 32GB (2x16GB), DDR5, 4800MHz, C38, Preta, KF548C38BBK2-32\", \"stock_status\": \"IN_STOCK\", \"codigo_barra\": \"0740617324365\", \"is_openbox\": \"1970-01-01T00:00:00\", \"promotion_name\": null, \"qty_available\": \"\", \"qty_sold\": \"\", \"expire_at\": \"\", \"url_image0\": \"https://media.pichau.com.br/media/catalog/product/cache/2f958555330323e505eba7ce930bdf27/k/f/kf548c38bbk2-32.jpg\", \"url_image1\": \"https://media.pichau.com.br/media/catalog/product/cache/2f958555330323e505eba7ce930bdf27/k/f/kf548c38bbk2-321.jpg\", \"value_promo\": 2942.14, \"value_regular\": 2942.14, \"value_cash\": 2589.08, \"dt_hr_captura\": \"2022-07-21T22:50:56.459589\", \"url_image2\": \"https://media.pichau.com.br/media/catalog/product/cache/2f958555330323e505eba7ce930bdf27/k/f/kf548c38bbk2-322.jpg\", \"url_image3\": null, \"url_image4\": null, \"url_image5\": null}, {\"potencia\": null, \"name\": \"Computador Pichau WorkStation WS235, Intel Core I7-9700F, GeForce GTX 750ti 4GB, 16GB DDR4, HD 1TB + SSD 240GB \", \"stock_status\": \"OUT_OF_STOCK\", \"codigo_barra\": \"7908446208819\", \"is_openbox\": \"1970-01-01T00:00:00\", \"promotion_name\": null, \"qty_available\": \"\", \"qty_sold\": \"\", \"expire_at\": \"\", \"url_image0\": \"https://media.pichau.com.br/media/catalog/product/cache/2f958555330323e505eba7ce930bdf27/d/r/dragoon_intel_gtx_1__1_1.jpg\", \"url_image1\": \"https://media.pichau.com.br/media/catalog/product/cache/2f958555330323e505eba7ce930bdf27/d/r/dragoon_intel_gtx_5_.jpg\", \"value_promo\": 7439.47, \"value_regular\": 7439.47, \"value_cash\": 6546.73, \"dt_hr_captura\": \"2022-07-21T22:50:56.989271\", \"url_image2\": \"https://media.pichau.com.br/media/catalog/product/cache/2f958555330323e505eba7ce930bdf27/d/r/dragoon_intel_gtx_4__2_1.jpg\", \"url_image3\": \"https://media.pichau.com.br/media/catalog/product/cache/2f958555330323e505eba7ce930bdf27/d/r/dragoon_intel_gtx_2_.jpg\", \"url_image4\": \"https://media.pichau.com.br/media/catalog/product/cache/2f958555330323e505eba7ce930bdf27/d/r/dragoon_intel_gtx_3_.jpg\", \"url_image5\": null}, {\"potencia\": null, \"name\": \"Roteador TP-Link VPN Broadband Gigabit SafeStream, TL-R600VPN\", \"stock_status\": \"OUT_OF_STOCK\", \"codigo_barra\": \"6935364041250\", \"is_openbox\": \"1970-01-01T00:00:00\", \"promotion_name\": null, \"qty_available\": \"\", \"qty_sold\": \"\", \"expire_at\": \"\", \"url_image0\": \"https://media.pichau.com.br/media/catalog/product/cache/2f958555330323e505eba7ce930bdf27/t/l/tl-r600vpn.jpg\", \"url_image1\": \"https://media.pichau.com.br/media/catalog/product/cache/2f958555330323e505eba7ce930bdf27/t/l/tl-r600vpn2.jpg\", \"value_promo\": 443.19, \"value_regular\": 443.19, \"value_cash\": 390.01, \"dt_hr_captura\": \"2022-07-21T22:50:57.511280\", \"url_image2\": \"https://media.pichau.com.br/media/catalog/product/cache/2f958555330323e505eba7ce930bdf27/t/l/tl-r600vpn1.jpg\", \"url_image3\": null, \"url_image4\": null, \"url_image5\": null}, {\"potencia\": null, \"name\": \"Cooler Para Processador Mancer F100 Branco, MCR-F100-01\", \"stock_status\": \"OUT_OF_STOCK\", \"codigo_barra\": \"7898663065039\", \"is_openbox\": \"1970-01-01T00:00:00\", \"promotion_name\": null, \"qty_available\": \"\", \"qty_sold\": \"\", \"expire_at\": \"\", \"url_image0\": \"https://media.pichau.com.br/media/catalog/product/cache/2f958555330323e505eba7ce930bdf27/m/c/mcr-f100-011.jpg\", \"url_image1\": \"https://media.pichau.com.br/media/catalog/product/cache/2f958555330323e505eba7ce930bdf27/m/c/mcr-f100-012.jpg\", \"value_promo\": 90.79, \"value_regular\": 90.79, \"value_cash\": 79.9, \"dt_hr_captura\": \"2022-07-21T22:50:58.055376\", \"url_image2\": \"https://media.pichau.com.br/media/catalog/product/cache/2f958555330323e505eba7ce930bdf27/m/c/mcr-f100-013.jpg\", \"url_image3\": \"https://media.pichau.com.br/media/catalog/product/cache/2f958555330323e505eba7ce930bdf27/m/c/mcr-f100-0154.jpg\", \"url_image4\": \"https://media.pichau.com.br/media/catalog/product/cache/2f958555330323e505eba7ce930bdf27/m/c/mcr-f100-014.jpg\", \"url_image5\": null}, {\"potencia\": \"75\", \"name\": \"Memoria Kingston HyperX Predator 16GB (2x8) DDR4 3333MHz Preta, HX433C16PB3K2/16\", \"stock_status\": \"OUT_OF_STOCK\", \"codigo_barra\": \"740617258424\", \"is_openbox\": \"1970-01-01T00:00:00\", \"promotion_name\": null, \"qty_available\": \"\", \"qty_sold\": \"\", \"expire_at\": \"\", \"url_image0\": \"https://media.pichau.com.br/media/catalog/product/cache/2f958555330323e505eba7ce930bdf27/h/x/hx433c16pb3k216.jpg\", \"url_image1\": null, \"value_promo\": 1248.9, \"value_regular\": 1248.9, \"value_cash\": 1099.03, \"dt_hr_captura\": \"2022-07-21T22:50:58.541039\", \"url_image2\": null, \"url_image3\": null, \"url_image4\": null, \"url_image5\": null}, {\"potencia\": null, \"name\": \"Computador Pichau Gamer Arawn, AMD Ryzen 7 5800X, Radeon RX 6900 XT 16GB, 32GB DDR4, SSD M.2 480GB + SSD Sata 480GB\", \"stock_status\": \"OUT_OF_STOCK\", \"codigo_barra\": \"7908446215091\", \"is_openbox\": \"1970-01-01T00:00:00\", \"promotion_name\": null, \"qty_available\": \"\", \"qty_sold\": \"\", \"expire_at\": \"\", \"url_image0\": \"https://media.pichau.com.br/media/catalog/product/cache/2f958555330323e505eba7ce930bdf27/1/_/1_15_29.jpg\", \"url_image1\": \"https://media.pichau.com.br/media/catalog/product/cache/2f958555330323e505eba7ce930bdf27/2/_/2_13_70.jpg\", \"value_promo\": 23749.98, \"value_regular\": 23749.98, \"value_cash\": 20899.98, \"dt_hr_captura\": \"2022-07-21T22:50:59.060405\", \"url_image2\": \"https://media.pichau.com.br/media/catalog/product/cache/2f958555330323e505eba7ce930bdf27/w/a/warg3_2_1.jpg\", \"url_image3\": \"https://media.pichau.com.br/media/catalog/product/cache/2f958555330323e505eba7ce930bdf27/m/a/mancer-warg-water-002.jpg\", \"url_image4\": \"https://media.pichau.com.br/media/catalog/product/cache/2f958555330323e505eba7ce930bdf27/m/a/mancer-warg-water-001.jpg\", \"url_image5\": null}, {\"potencia\": null, \"name\": \"Headset Razer Kraken 7.1 V2 Oval Chroma Preto, RZ04-02060200-R3U1\", \"stock_status\": \"OUT_OF_STOCK\", \"codigo_barra\": \"8886419371113\", \"is_openbox\": \"1970-01-01T00:00:00\", \"promotion_name\": null, \"qty_available\": \"\", \"qty_sold\": \"\", \"expire_at\": \"\", \"url_image0\": \"https://media.pichau.com.br/media/catalog/product/cache/2f958555330323e505eba7ce930bdf27/r/z/rz04-02060200-r3u1.jpg\", \"url_image1\": \"https://media.pichau.com.br/media/catalog/product/cache/2f958555330323e505eba7ce930bdf27/r/z/rz04-02060200-r3u11.jpg\", \"value_promo\": 662.4, \"value_regular\": 662.4, \"value_cash\": 582.91, \"dt_hr_captura\": \"2022-07-21T22:50:59.620191\", \"url_image2\": \"https://media.pichau.com.br/media/catalog/product/cache/2f958555330323e505eba7ce930bdf27/r/z/rz04-02060200-r3u14.jpg\", \"url_image3\": \"https://media.pichau.com.br/media/catalog/product/cache/2f958555330323e505eba7ce930bdf27/r/z/rz04-02060200-r3u12.jpg\", \"url_image4\": \"https://media.pichau.com.br/media/catalog/product/cache/2f958555330323e505eba7ce930bdf27/r/z/rz04-02060200-r3u13.jpg\", \"url_image5\": null}, {\"potencia\": null, \"name\": \"Gabinete Gamer Aigo DarkFlash DLM 21 Mesh Preto Lateral Vidro\", \"stock_status\": \"IN_STOCK\", \"codigo_barra\": \"6926170082070\", \"is_openbox\": \"1970-01-01T00:00:00\", \"promotion_name\": \"Ferias com o Pombo\", \"qty_available\": \"1970-01-01T00:00:00.000000025\", \"qty_sold\": \"1970-01-01T00:00:00.000000015\", \"expire_at\": \"2022-08-01T17:00:00\", \"url_image0\": \"https://media.pichau.com.br/media/catalog/product/cache/2f958555330323e505eba7ce930bdf27/d/a/darkflash-dlm-21-mesh2.jpg\", \"url_image1\": \"https://media.pichau.com.br/media/catalog/product/cache/2f958555330323e505eba7ce930bdf27/d/a/darkflash-dlm-21-mesh1.jpg\", \"value_promo\": 363.52, \"value_regular\": 647.61, \"value_cash\": 319.9, \"dt_hr_captura\": \"2022-07-21T22:51:00.140955\", \"url_image2\": \"https://media.pichau.com.br/media/catalog/product/cache/2f958555330323e505eba7ce930bdf27/d/a/darkflash-dlm-21-mesh3.jpg\", \"url_image3\": \"https://media.pichau.com.br/media/catalog/product/cache/2f958555330323e505eba7ce930bdf27/d/a/darkflash-dlm-21-mesh4.jpg\", \"url_image4\": \"https://media.pichau.com.br/media/catalog/product/cache/2f958555330323e505eba7ce930bdf27/d/a/darkflash-dlm-21-mesh5.jpg\", \"url_image5\": \"https://media.pichau.com.br/media/catalog/product/cache/2f958555330323e505eba7ce930bdf27/d/a/darkflash-dlm-21-mesh6.jpg\"}, {\"potencia\": null, \"name\": \"Computador Pichau Home, AMD 4700S, Radeon R5 230 1GB, 16GB RAM, SSD 120GB \", \"stock_status\": \"IN_STOCK\", \"codigo_barra\": null, \"is_openbox\": \"1970-01-01T00:00:00\", \"promotion_name\": \"PC Master Race\", \"qty_available\": \"1970-01-01T00:00:00.000000019\", \"qty_sold\": \"1970-01-01T00:00:00.000000001\", \"expire_at\": \"2022-07-31T23:50:00\", \"url_image0\": \"https://media.pichau.com.br/media/catalog/product/cache/2f958555330323e505eba7ce930bdf27/t/g/tgt_b110_-_01_110.jpg\", \"url_image1\": \"https://media.pichau.com.br/media/catalog/product/cache/2f958555330323e505eba7ce930bdf27/t/g/tgt_b110_-_02_110.jpg\", \"value_promo\": 1874.09, \"value_regular\": 2113.65, \"value_cash\": 1649.2, \"dt_hr_captura\": \"2022-07-21T22:51:00.671309\", \"url_image2\": \"https://media.pichau.com.br/media/catalog/product/cache/2f958555330323e505eba7ce930bdf27/t/g/tgt_b110_-_03_108.jpg\", \"url_image3\": \"https://media.pichau.com.br/media/catalog/product/cache/2f958555330323e505eba7ce930bdf27/t/g/tgt_b110_-_04_108.jpg\", \"url_image4\": \"https://media.pichau.com.br/media/catalog/product/cache/2f958555330323e505eba7ce930bdf27/t/g/tgt_b110_-_05_108.jpg\", \"url_image5\": null}, {\"potencia\": null, \"name\": \"Placa Mae Gigabyte TRX40 Aorus Pro Wifi DDR4 Socket sTRX4 Chipset AMD TRX40\", \"stock_status\": \"OUT_OF_STOCK\", \"codigo_barra\": \"4719331807658\", \"is_openbox\": \"1970-01-01T00:00:00\", \"promotion_name\": null, \"qty_available\": \"\", \"qty_sold\": \"\", \"expire_at\": \"\", \"url_image0\": \"https://media.pichau.com.br/media/catalog/product/cache/2f958555330323e505eba7ce930bdf27/t/r/trx40-aorus-pro-wifi3.jpg\", \"url_image1\": \"https://media.pichau.com.br/media/catalog/product/cache/2f958555330323e505eba7ce930bdf27/t/r/trx40-aorus-pro-wifi4.jpg\", \"value_promo\": 5680.56, \"value_regular\": 5680.56, \"value_cash\": 4998.89, \"dt_hr_captura\": \"2022-07-21T22:51:01.195879\", \"url_image2\": \"https://media.pichau.com.br/media/catalog/product/cache/2f958555330323e505eba7ce930bdf27/t/r/trx40-aorus-pro-wifi1.jpg\", \"url_image3\": \"https://media.pichau.com.br/media/catalog/product/cache/2f958555330323e505eba7ce930bdf27/t/r/trx40-aorus-pro-wifi2.jpg\", \"url_image4\": \"https://media.pichau.com.br/media/catalog/product/cache/2f958555330323e505eba7ce930bdf27/t/r/trx40-aorus-pro-wifi.jpg\", \"url_image5\": null}, {\"potencia\": null, \"name\": \"Caixa de Som Havit USB 2.0 Preta/Azul, HV-SK430\", \"stock_status\": \"OUT_OF_STOCK\", \"codigo_barra\": \"6950676227253\", \"is_openbox\": \"1970-01-01T00:00:00\", \"promotion_name\": null, \"qty_available\": \"\", \"qty_sold\": \"\", \"expire_at\": \"\", \"url_image0\": \"https://media.pichau.com.br/media/catalog/product/cache/2f958555330323e505eba7ce930bdf27/h/v/hv-sk430.jpg\", \"url_image1\": null, \"value_promo\": 33.98, \"value_regular\": 33.98, \"value_cash\": 29.9, \"dt_hr_captura\": \"2022-07-21T22:51:01.716086\", \"url_image2\": null, \"url_image3\": null, \"url_image4\": null, \"url_image5\": null}, {\"potencia\": null, \"name\": \"Cabo HDMI MaxPrint 2mts, 601037-6\", \"stock_status\": \"OUT_OF_STOCK\", \"codigo_barra\": \"7897975064983\", \"is_openbox\": \"1970-01-01T00:00:00\", \"promotion_name\": null, \"qty_available\": \"\", \"qty_sold\": \"\", \"expire_at\": \"\", \"url_image0\": \"https://media.pichau.com.br/media/catalog/product/cache/2f958555330323e505eba7ce930bdf27/6/0/601037-6.jpg\", \"url_image1\": null, \"value_promo\": 18.06, \"value_regular\": 18.06, \"value_cash\": 15.89, \"dt_hr_captura\": \"2022-07-21T22:51:02.236055\", \"url_image2\": null, \"url_image3\": null, \"url_image4\": null, \"url_image5\": null}, {\"potencia\": \"170\", \"name\": \"Placa de Video Zotac GeForce RTX 2060 6GB GDDR6 192-bit, ZT-T20600H-10M\", \"stock_status\": \"OUT_OF_STOCK\", \"codigo_barra\": \"4895173618352\", \"is_openbox\": \"1970-01-01T00:00:00\", \"promotion_name\": null, \"qty_available\": \"\", \"qty_sold\": \"\", \"expire_at\": \"\", \"url_image0\": \"https://media.pichau.com.br/media/catalog/product/cache/2f958555330323e505eba7ce930bdf27/z/t/zt-t20600h-10m3.jpg\", \"url_image1\": \"https://media.pichau.com.br/media/catalog/product/cache/2f958555330323e505eba7ce930bdf27/z/t/zt-t20600h-10m4.jpg\", \"value_promo\": 2999.9, \"value_regular\": 2999.9, \"value_cash\": 2639.91, \"dt_hr_captura\": \"2022-07-21T22:51:02.843343\", \"url_image2\": \"https://media.pichau.com.br/media/catalog/product/cache/2f958555330323e505eba7ce930bdf27/z/t/zt-t20600h-10m.jpg\", \"url_image3\": \"https://media.pichau.com.br/media/catalog/product/cache/2f958555330323e505eba7ce930bdf27/z/t/zt-t20600h-10m5.jpg\", \"url_image4\": \"https://media.pichau.com.br/media/catalog/product/cache/2f958555330323e505eba7ce930bdf27/z/t/zt-t20600h-10m2.jpg\", \"url_image5\": \"https://media.pichau.com.br/media/catalog/product/cache/2f958555330323e505eba7ce930bdf27/z/t/zt-t20600h-10m1.jpg\"}, {\"potencia\": \"180\", \"name\": \"Placa de Video Asus GeForce GTX 1070 OC 8GB GDDR5 ROG Strix 256-bit, STRIX-GTX1070-O8G-GAMING\", \"stock_status\": \"OUT_OF_STOCK\", \"codigo_barra\": \"4712900441697\", \"is_openbox\": \"1970-01-01T00:00:00\", \"promotion_name\": null, \"qty_available\": \"\", \"qty_sold\": \"\", \"expire_at\": \"\", \"url_image0\": \"https://media.pichau.com.br/media/catalog/product/cache/2f958555330323e505eba7ce930bdf27/s/t/strix-gtx1070-o8g-gaming4.jpg\", \"url_image1\": \"https://media.pichau.com.br/media/catalog/product/cache/2f958555330323e505eba7ce930bdf27/s/t/strix-gtx1070-o8g-gaming3.jpg\", \"value_promo\": 2670.41, \"value_regular\": 2670.41, \"value_cash\": 2349.96, \"dt_hr_captura\": \"2022-07-21T22:51:03.390682\", \"url_image2\": \"https://media.pichau.com.br/media/catalog/product/cache/2f958555330323e505eba7ce930bdf27/s/t/strix-gtx1070-o8g-gaming.jpg\", \"url_image3\": \"https://media.pichau.com.br/media/catalog/product/cache/2f958555330323e505eba7ce930bdf27/s/t/strix-gtx1070-o8g-gaming5.jpg\", \"url_image4\": \"https://media.pichau.com.br/media/catalog/product/cache/2f958555330323e505eba7ce930bdf27/s/t/strix-gtx1070-o8g-gaming2.jpg\", \"url_image5\": null}, {\"potencia\": null, \"name\": \"Monitor AOC 18.5\\\" LED 5ms 60Hz HD VGA/DVI/HDMI, E970PWHEN\", \"stock_status\": \"OUT_OF_STOCK\", \"codigo_barra\": \"7898930919843\", \"is_openbox\": \"1970-01-01T00:00:00\", \"promotion_name\": null, \"qty_available\": \"\", \"qty_sold\": \"\", \"expire_at\": \"\", \"url_image0\": \"https://media.pichau.com.br/media/catalog/product/cache/2f958555330323e505eba7ce930bdf27/p/r/produto_aoc_10_e970p_97.jpg\", \"url_image1\": \"https://media.pichau.com.br/media/catalog/product/cache/2f958555330323e505eba7ce930bdf27/0/0/0015417_700_0.jpg\", \"value_promo\": 589.79, \"value_regular\": 589.79, \"value_cash\": 519.02, \"dt_hr_captura\": \"2022-07-21T22:51:03.899333\", \"url_image2\": \"https://media.pichau.com.br/media/catalog/product/cache/2f958555330323e505eba7ce930bdf27/0/0/0015417_700_3.jpg\", \"url_image3\": \"https://media.pichau.com.br/media/catalog/product/cache/2f958555330323e505eba7ce930bdf27/0/0/0015417_700_5.jpg\", \"url_image4\": null, \"url_image5\": null}, {\"potencia\": \"0\", \"name\": \"Placa Mae Gigabyte GA-H270-GAMING 3 DDR4 Socket LGA1151 Chipset Intel H270\", \"stock_status\": \"OUT_OF_STOCK\", \"codigo_barra\": \"4719331846428\", \"is_openbox\": \"1970-01-01T00:00:00\", \"promotion_name\": null, \"qty_available\": \"\", \"qty_sold\": \"\", \"expire_at\": \"\", \"url_image0\": \"https://media.pichau.com.br/media/catalog/product/cache/2f958555330323e505eba7ce930bdf27/g/a/ga-h270-gaming-32.jpg\", \"url_image1\": \"https://media.pichau.com.br/media/catalog/product/cache/2f958555330323e505eba7ce930bdf27/g/a/ga-h270-gaming-33.jpg\", \"value_promo\": 749.98, \"value_regular\": 749.98, \"value_cash\": 659.98, \"dt_hr_captura\": \"2022-07-21T22:51:04.526531\", \"url_image2\": \"https://media.pichau.com.br/media/catalog/product/cache/2f958555330323e505eba7ce930bdf27/g/a/ga-h270-gaming-34.jpg\", \"url_image3\": \"https://media.pichau.com.br/media/catalog/product/cache/2f958555330323e505eba7ce930bdf27/g/a/ga-h270-gaming-3.jpg\", \"url_image4\": \"https://media.pichau.com.br/media/catalog/product/cache/2f958555330323e505eba7ce930bdf27/g/a/ga-h270-gaming-35.jpg\", \"url_image5\": null}, {\"potencia\": \"150\", \"name\": \"Placa de Video MSI Radeon RX 5500 XT 8GB Mech OC 128-bit, 912-V382-005\", \"stock_status\": \"OUT_OF_STOCK\", \"codigo_barra\": \"4719072690076\", \"is_openbox\": \"1970-01-01T00:00:00\", \"promotion_name\": null, \"qty_available\": \"\", \"qty_sold\": \"\", \"expire_at\": \"\", \"url_image0\": \"https://media.pichau.com.br/media/catalog/product/cache/2f958555330323e505eba7ce930bdf27/9/1/912-v382-0053.jpg\", \"url_image1\": \"https://media.pichau.com.br/media/catalog/product/cache/2f958555330323e505eba7ce930bdf27/9/1/912-v382-0054.jpg\", \"value_promo\": 1761.33, \"value_regular\": 1761.33, \"value_cash\": 1549.97, \"dt_hr_captura\": \"2022-07-21T22:51:05.039068\", \"url_image2\": \"https://media.pichau.com.br/media/catalog/product/cache/2f958555330323e505eba7ce930bdf27/9/1/912-v382-0052.jpg\", \"url_image3\": \"https://media.pichau.com.br/media/catalog/product/cache/2f958555330323e505eba7ce930bdf27/9/1/912-v382-005.jpg\", \"url_image4\": \"https://media.pichau.com.br/media/catalog/product/cache/2f958555330323e505eba7ce930bdf27/9/1/912-v382-0051.jpg\", \"url_image5\": null}, {\"potencia\": null, \"name\": \"Gabinete Gamer KMEX Preto, CG6B6C - BOX\", \"stock_status\": \"OUT_OF_STOCK\", \"codigo_barra\": null, \"is_openbox\": \"1970-01-01T00:00:00\", \"promotion_name\": null, \"qty_available\": \"\", \"qty_sold\": \"\", \"expire_at\": \"\", \"url_image0\": \"https://media.pichau.com.br/media/catalog/product/cache/2f958555330323e505eba7ce930bdf27/1/_/1_19_77.jpg\", \"url_image1\": null, \"value_promo\": 299.0, \"value_regular\": 299.0, \"value_cash\": 263.12, \"dt_hr_captura\": \"2022-07-21T22:51:05.548646\", \"url_image2\": null, \"url_image3\": null, \"url_image4\": null, \"url_image5\": null}, {\"potencia\": null, \"name\": \"Gabinete Mymax Gamer New Shark Preto Com LED Vermelho, MCA-FC-E29A\", \"stock_status\": \"OUT_OF_STOCK\", \"codigo_barra\": \"7898554982254\", \"is_openbox\": \"1970-01-01T00:00:00\", \"promotion_name\": null, \"qty_available\": \"\", \"qty_sold\": \"\", \"expire_at\": \"\", \"url_image0\": \"https://media.pichau.com.br/media/catalog/product/cache/2f958555330323e505eba7ce930bdf27/m/c/mca-fc-e29a3.jpg\", \"url_image1\": \"https://media.pichau.com.br/media/catalog/product/cache/2f958555330323e505eba7ce930bdf27/m/c/mca-fc-e29a4.jpg\", \"value_promo\": 204.44, \"value_regular\": 204.44, \"value_cash\": 179.91, \"dt_hr_captura\": \"2022-07-21T22:51:06.041242\", \"url_image2\": \"https://media.pichau.com.br/media/catalog/product/cache/2f958555330323e505eba7ce930bdf27/m/c/mca-fc-e29a2.jpg\", \"url_image3\": \"https://media.pichau.com.br/media/catalog/product/cache/2f958555330323e505eba7ce930bdf27/m/c/mca-fc-e29a.jpg\", \"url_image4\": null, \"url_image5\": null}, {\"potencia\": null, \"name\": \"Pendrive ADATA Durable UD310 32GB Black, AUD310-32G-RBK - BOX\", \"stock_status\": \"OUT_OF_STOCK\", \"codigo_barra\": null, \"is_openbox\": \"1970-01-01T00:00:00\", \"promotion_name\": null, \"qty_available\": \"\", \"qty_sold\": \"\", \"expire_at\": \"\", \"url_image0\": \"https://media.pichau.com.br/media/catalog/product/cache/2f958555330323e505eba7ce930bdf27/m/e/me-607478-04_med.jpg\", \"url_image1\": null, \"value_promo\": 99.0, \"value_regular\": 99.0, \"value_cash\": 87.12, \"dt_hr_captura\": \"2022-07-21T22:51:06.557511\", \"url_image2\": null, \"url_image3\": null, \"url_image4\": null, \"url_image5\": null}, {\"potencia\": null, \"name\": \"Mousepad Aorus AMP300 324,273,1.8mm, GP-AMP300\", \"stock_status\": \"OUT_OF_STOCK\", \"codigo_barra\": \"4719331550196\", \"is_openbox\": \"1970-01-01T00:00:00\", \"promotion_name\": null, \"qty_available\": \"\", \"qty_sold\": \"\", \"expire_at\": \"\", \"url_image0\": \"https://media.pichau.com.br/media/catalog/product/cache/2f958555330323e505eba7ce930bdf27/g/p/gp-amp3002.jpg\", \"url_image1\": \"https://media.pichau.com.br/media/catalog/product/cache/2f958555330323e505eba7ce930bdf27/g/p/gp-amp300.jpg\", \"value_promo\": 193.07, \"value_regular\": 193.07, \"value_cash\": 169.9, \"dt_hr_captura\": \"2022-07-21T22:51:07.080665\", \"url_image2\": \"https://media.pichau.com.br/media/catalog/product/cache/2f958555330323e505eba7ce930bdf27/g/p/gp-amp3004.jpg\", \"url_image3\": \"https://media.pichau.com.br/media/catalog/product/cache/2f958555330323e505eba7ce930bdf27/g/p/gp-amp3003.jpg\", \"url_image4\": null, \"url_image5\": null}, {\"potencia\": null, \"name\": \"Computador Pichau WorkStation WS239, Intel Core I9-12900k, RTX 3090 24GB, 32GB DDR5, HD 2TB + SSD M.2 480GB\", \"stock_status\": \"IN_STOCK\", \"codigo_barra\": null, \"is_openbox\": \"1970-01-01T00:00:00\", \"promotion_name\": \"PC Master Race\", \"qty_available\": \"1970-01-01T00:00:00.000000010\", \"qty_sold\": \"1970-01-01T00:00:00\", \"expire_at\": \"2022-07-31T23:50:00\", \"url_image0\": \"https://media.pichau.com.br/media/catalog/product/cache/2f958555330323e505eba7ce930bdf27/p/o/pouter-intel-rtx-rx-001_3.jpg\", \"url_image1\": \"https://media.pichau.com.br/media/catalog/product/cache/2f958555330323e505eba7ce930bdf27/p/o/pouter-intel-rtx-rx-002_3.jpg\", \"value_promo\": 29559.81, \"value_regular\": 32229.94, \"value_cash\": 26012.63, \"dt_hr_captura\": \"2022-07-21T22:51:07.605134\", \"url_image2\": \"https://media.pichau.com.br/media/catalog/product/cache/2f958555330323e505eba7ce930bdf27/p/o/pouter3-009_11.jpg\", \"url_image3\": \"https://media.pichau.com.br/media/catalog/product/cache/2f958555330323e505eba7ce930bdf27/p/o/pouter3-012_1_2.jpg\", \"url_image4\": \"https://media.pichau.com.br/media/catalog/product/cache/2f958555330323e505eba7ce930bdf27/p/o/pouter3-013_1_8.jpg\", \"url_image5\": \"https://media.pichau.com.br/media/catalog/product/cache/2f958555330323e505eba7ce930bdf27/p/o/pouter3-007_1_9.jpg\"}, {\"potencia\": \"180\", \"name\": \"Placa de Video Galax GeForce RTX 2060 Super 8GB GDDR6 1-Click OC 265-bits, 26ISL6HP39SS\", \"stock_status\": \"OUT_OF_STOCK\", \"codigo_barra\": \"4895147136516\", \"is_openbox\": \"1970-01-01T00:00:00\", \"promotion_name\": null, \"qty_available\": \"\", \"qty_sold\": \"\", \"expire_at\": \"\", \"url_image0\": \"https://media.pichau.com.br/media/catalog/product/cache/2f958555330323e505eba7ce930bdf27/2/6/26isl6hp39ss1.jpg\", \"url_image1\": \"https://media.pichau.com.br/media/catalog/product/cache/2f958555330323e505eba7ce930bdf27/2/6/26isl6hp39ss4.jpg\", \"value_promo\": 2443.14, \"value_regular\": 2443.14, \"value_cash\": 2149.96, \"dt_hr_captura\": \"2022-07-21T22:51:08.118001\", \"url_image2\": \"https://media.pichau.com.br/media/catalog/product/cache/2f958555330323e505eba7ce930bdf27/2/6/26isl6hp39ss5.jpg\", \"url_image3\": \"https://media.pichau.com.br/media/catalog/product/cache/2f958555330323e505eba7ce930bdf27/2/6/26isl6hp39ss3.jpg\", \"url_image4\": \"https://media.pichau.com.br/media/catalog/product/cache/2f958555330323e505eba7ce930bdf27/2/6/26isl6hp39ss2.jpg\", \"url_image5\": \"https://media.pichau.com.br/media/catalog/product/cache/2f958555330323e505eba7ce930bdf27/2/6/26isl6hp39ss6.jpg\"}, {\"potencia\": null, \"name\": \"Gabinete Cooler Master Masterbox MB510L Lateral Acrilico Preto/Vermelho, MCB-B510L-KANN-S00\", \"stock_status\": \"OUT_OF_STOCK\", \"codigo_barra\": \"4719512072196\", \"is_openbox\": \"1970-01-01T00:00:00\", \"promotion_name\": null, \"qty_available\": \"\", \"qty_sold\": \"\", \"expire_at\": \"\", \"url_image0\": \"https://media.pichau.com.br/media/catalog/product/cache/2f958555330323e505eba7ce930bdf27/m/c/mcb-b510l-kann-s008.jpg\", \"url_image1\": \"https://media.pichau.com.br/media/catalog/product/cache/2f958555330323e505eba7ce930bdf27/m/c/mcb-b510l-kann-s009.jpg\", \"value_promo\": 454.43, \"value_regular\": 454.43, \"value_cash\": 399.9, \"dt_hr_captura\": \"2022-07-21T22:51:08.654516\", \"url_image2\": \"https://media.pichau.com.br/media/catalog/product/cache/2f958555330323e505eba7ce930bdf27/m/c/mcb-b510l-kann-s006.jpg\", \"url_image3\": \"https://media.pichau.com.br/media/catalog/product/cache/2f958555330323e505eba7ce930bdf27/m/c/mcb-b510l-kann-s007.jpg\", \"url_image4\": \"https://media.pichau.com.br/media/catalog/product/cache/2f958555330323e505eba7ce930bdf27/m/c/mcb-b510l-kann-s005.jpg\", \"url_image5\": \"https://media.pichau.com.br/media/catalog/product/cache/2f958555330323e505eba7ce930bdf27/m/c/mcb-b510l-kann-s0044.jpg\"}, {\"potencia\": null, \"name\": \" Computador Pichau Gamer, AMD Ryzen 7 5700X, Radeon RX 6650 XT 8GB, 8GB DDR4, SSD 480GB\", \"stock_status\": \"OUT_OF_STOCK\", \"codigo_barra\": null, \"is_openbox\": \"1970-01-01T00:00:00\", \"promotion_name\": null, \"qty_available\": \"\", \"qty_sold\": \"\", \"expire_at\": \"\", \"url_image0\": \"https://media.pichau.com.br/media/catalog/product/cache/2f958555330323e505eba7ce930bdf27/d/k/dk300-grande-001_6_1_1.jpg\", \"url_image1\": \"https://media.pichau.com.br/media/catalog/product/cache/2f958555330323e505eba7ce930bdf27/d/k/dk300-grande-002_6_1_1.jpg\", \"value_promo\": 4647.0, \"value_regular\": 4647.0, \"value_cash\": 4089.36, \"dt_hr_captura\": \"2022-07-21T22:51:09.192295\", \"url_image2\": \"https://media.pichau.com.br/media/catalog/product/cache/2f958555330323e505eba7ce930bdf27/d/k/dk300-grande-0033_4_1_1.jpg\", \"url_image3\": \"https://media.pichau.com.br/media/catalog/product/cache/2f958555330323e505eba7ce930bdf27/d/k/dk300-grande-0044_1_2_1_1.jpg\", \"url_image4\": \"https://media.pichau.com.br/media/catalog/product/cache/2f958555330323e505eba7ce930bdf27/a/i/aigo-dk-300-pichau-01_18_1_1.jpg\", \"url_image5\": \"https://media.pichau.com.br/media/catalog/product/cache/2f958555330323e505eba7ce930bdf27/a/i/aigo-dk-300-pichau-04_1_7_1_1.jpg\"}, {\"potencia\": null, \"name\": \"Controlador de Fan Externo NZXT Sentry LXE Touch Screen - BOX\", \"stock_status\": \"OUT_OF_STOCK\", \"codigo_barra\": \"5060301691654\", \"is_openbox\": \"1970-01-01T00:00:00\", \"promotion_name\": null, \"qty_available\": \"\", \"qty_sold\": \"\", \"expire_at\": \"\", \"url_image0\": \"https://media.pichau.com.br/media/catalog/product/cache/2f958555330323e505eba7ce930bdf27/p/r/produto_detalhe4090.e499cd88c22d0c5a232a66dd656aa248.jpg\", \"url_image1\": \"https://media.pichau.com.br/media/catalog/product/cache/2f958555330323e505eba7ce930bdf27/p/r/produto183.7e723e9b4b13913fdfa79e9c5ee8c74d.jpg\", \"value_promo\": 399.0, \"value_regular\": 399.0, \"value_cash\": 351.12, \"dt_hr_captura\": \"2022-07-21T22:51:09.707116\", \"url_image2\": \"https://media.pichau.com.br/media/catalog/product/cache/2f958555330323e505eba7ce930bdf27/p/r/produto_detalhe4085.16a36135ea2c102b3325dd606c8eae67.jpg\", \"url_image3\": null, \"url_image4\": null, \"url_image5\": null}, {\"potencia\": null, \"name\": \"Mouse Gamer Razer Abyssus V2 5000DPI 3 Cores, RZ01-01900100-R3U1\", \"stock_status\": \"OUT_OF_STOCK\", \"codigo_barra\": \"8886419332008\", \"is_openbox\": \"1970-01-01T00:00:00\", \"promotion_name\": null, \"qty_available\": \"\", \"qty_sold\": \"\", \"expire_at\": \"\", \"url_image0\": \"https://media.pichau.com.br/media/catalog/product/cache/2f958555330323e505eba7ce930bdf27/r/z/rz01-01900100-r3u13.jpg\", \"url_image1\": \"https://media.pichau.com.br/media/catalog/product/cache/2f958555330323e505eba7ce930bdf27/r/z/rz01-01900100-r3u15.jpg\", \"value_promo\": 313.64, \"value_regular\": 313.64, \"value_cash\": 276.0, \"dt_hr_captura\": \"2022-07-21T22:51:10.250907\", \"url_image2\": \"https://media.pichau.com.br/media/catalog/product/cache/2f958555330323e505eba7ce930bdf27/r/z/rz01-01900100-r3u16.jpg\", \"url_image3\": \"https://media.pichau.com.br/media/catalog/product/cache/2f958555330323e505eba7ce930bdf27/r/z/rz01-01900100-r3u12.jpg\", \"url_image4\": \"https://media.pichau.com.br/media/catalog/product/cache/2f958555330323e505eba7ce930bdf27/r/z/rz01-01900100-r3u11.jpg\", \"url_image5\": \"https://media.pichau.com.br/media/catalog/product/cache/2f958555330323e505eba7ce930bdf27/r/z/rz01-01900100-r3u14.jpg\"}, {\"potencia\": null, \"name\": \"Gabinete Gamer Cougar MX331 Mesh-G  RGB Lateral Vidro Temp Preto, 385NC20.0002\", \"stock_status\": \"OUT_OF_STOCK\", \"codigo_barra\": \"4710483770647\", \"is_openbox\": \"1970-01-01T00:00:00\", \"promotion_name\": null, \"qty_available\": \"\", \"qty_sold\": \"\", \"expire_at\": \"\", \"url_image0\": \"https://media.pichau.com.br/media/catalog/product/cache/2f958555330323e505eba7ce930bdf27/3/8/385nc20.000232132.jpg\", \"url_image1\": \"https://media.pichau.com.br/media/catalog/product/cache/2f958555330323e505eba7ce930bdf27/3/8/385nc20.0002321325.jpg\", \"value_promo\": 488.52, \"value_regular\": 488.52, \"value_cash\": 429.9, \"dt_hr_captura\": \"2022-07-21T22:51:10.795066\", \"url_image2\": \"https://media.pichau.com.br/media/catalog/product/cache/2f958555330323e505eba7ce930bdf27/3/8/385nc20.0002321324.jpg\", \"url_image3\": \"https://media.pichau.com.br/media/catalog/product/cache/2f958555330323e505eba7ce930bdf27/3/8/385nc20.0002321323.jpg\", \"url_image4\": \"https://media.pichau.com.br/media/catalog/product/cache/2f958555330323e505eba7ce930bdf27/3/8/385nc20.0002321322.jpg\", \"url_image5\": \"https://media.pichau.com.br/media/catalog/product/cache/2f958555330323e505eba7ce930bdf27/3/8/385nc20.0002321321.jpg\"}, {\"potencia\": null, \"name\": \"Mouse Kross Elegance Economico USB 1000DPI Preto, KE-M090\", \"stock_status\": \"OUT_OF_STOCK\", \"codigo_barra\": \"7899980100045\", \"is_openbox\": \"1970-01-01T00:00:00\", \"promotion_name\": null, \"qty_available\": \"\", \"qty_sold\": \"\", \"expire_at\": \"\", \"url_image0\": \"https://media.pichau.com.br/media/catalog/product/cache/2f958555330323e505eba7ce930bdf27/k/e/ke-m0902.jpg\", \"url_image1\": \"https://media.pichau.com.br/media/catalog/product/cache/2f958555330323e505eba7ce930bdf27/k/e/ke-m0903.jpg\", \"value_promo\": 15.9, \"value_regular\": 15.9, \"value_cash\": 13.99, \"dt_hr_captura\": \"2022-07-21T22:51:11.325295\", \"url_image2\": \"https://media.pichau.com.br/media/catalog/product/cache/2f958555330323e505eba7ce930bdf27/k/e/ke-m090.jpg\", \"url_image3\": null, \"url_image4\": null, \"url_image5\": null}, {\"potencia\": null, \"name\": \"Computador Mancer Home HM224, Intel Core I5-3470, 8GB DDR3, SSD 120GB \", \"stock_status\": \"OUT_OF_STOCK\", \"codigo_barra\": null, \"is_openbox\": \"1970-01-01T00:00:00\", \"promotion_name\": null, \"qty_available\": \"\", \"qty_sold\": \"\", \"expire_at\": \"\", \"url_image0\": \"https://media.pichau.com.br/media/catalog/product/cache/2f958555330323e505eba7ce930bdf27/t/g/tgt_b110_-_01_68.jpg\", \"url_image1\": \"https://media.pichau.com.br/media/catalog/product/cache/2f958555330323e505eba7ce930bdf27/t/g/tgt_b110_-_02_68.jpg\", \"value_promo\": 873.64, \"value_regular\": 873.64, \"value_cash\": 768.8, \"dt_hr_captura\": \"2022-07-21T22:51:11.860928\", \"url_image2\": \"https://media.pichau.com.br/media/catalog/product/cache/2f958555330323e505eba7ce930bdf27/t/g/tgt_b110_-_03_65.jpg\", \"url_image3\": \"https://media.pichau.com.br/media/catalog/product/cache/2f958555330323e505eba7ce930bdf27/t/g/tgt_b110_-_04_65.jpg\", \"url_image4\": \"https://media.pichau.com.br/media/catalog/product/cache/2f958555330323e505eba7ce930bdf27/t/g/tgt_b110_-_05_65.jpg\", \"url_image5\": null}, {\"potencia\": null, \"name\": \"Fone de Ouvido Philips Extra Bass Azul Claro, SHE3010TL/00\", \"stock_status\": \"OUT_OF_STOCK\", \"codigo_barra\": \"6925970701969\", \"is_openbox\": \"1970-01-01T00:00:00\", \"promotion_name\": null, \"qty_available\": \"\", \"qty_sold\": \"\", \"expire_at\": \"\", \"url_image0\": \"https://media.pichau.com.br/media/catalog/product/cache/2f958555330323e505eba7ce930bdf27/s/h/she3010tl.jpg\", \"url_image1\": null, \"value_promo\": 22.61, \"value_regular\": 22.61, \"value_cash\": 19.9, \"dt_hr_captura\": \"2022-07-21T22:51:12.384850\", \"url_image2\": null, \"url_image3\": null, \"url_image4\": null, \"url_image5\": null}, {\"potencia\": null, \"name\": \"Mouse Gamer Dazz Kirata  3200DPI LED Vermelho, 621667\", \"stock_status\": \"OUT_OF_STOCK\", \"codigo_barra\": \"7897975061807\", \"is_openbox\": \"1970-01-01T00:00:00\", \"promotion_name\": null, \"qty_available\": \"\", \"qty_sold\": \"\", \"expire_at\": \"\", \"url_image0\": \"https://media.pichau.com.br/media/catalog/product/cache/2f958555330323e505eba7ce930bdf27/6/2/62166-7.jpg\", \"url_image1\": \"https://media.pichau.com.br/media/catalog/product/cache/2f958555330323e505eba7ce930bdf27/6/2/62166-72.jpg\", \"value_promo\": 74.89, \"value_regular\": 74.89, \"value_cash\": 65.9, \"dt_hr_captura\": \"2022-07-21T22:51:12.922080\", \"url_image2\": null, \"url_image3\": null, \"url_image4\": null, \"url_image5\": null}, {\"potencia\": null, \"name\": \"Tubo de PETG Barrow 50cm 12*16cm Verde, PG1612-L VERDE\", \"stock_status\": \"IN_STOCK\", \"codigo_barra\": \"6937826603174\", \"is_openbox\": \"1970-01-01T00:00:00\", \"promotion_name\": null, \"qty_available\": \"\", \"qty_sold\": \"\", \"expire_at\": \"\", \"url_image0\": \"https://media.pichau.com.br/media/catalog/product/cache/2f958555330323e505eba7ce930bdf27/p/g/pg1612-l-verde.jpg\", \"url_image1\": \"https://media.pichau.com.br/media/catalog/product/cache/2f958555330323e505eba7ce930bdf27/p/g/pg1612-l-verde1.jpg\", \"value_promo\": 37.39, \"value_regular\": 37.39, \"value_cash\": 32.9, \"dt_hr_captura\": \"2022-07-21T22:51:13.446831\", \"url_image2\": null, \"url_image3\": null, \"url_image4\": null, \"url_image5\": null}, {\"potencia\": null, \"name\": \"Memoria PNY XLR8 Gaming EPIC-X RGB, 16GB (1x16GB), DDR4, 3200MHz, C16, Branca, MD16GD4320016XRGBW\", \"stock_status\": \"IN_STOCK\", \"codigo_barra\": \"4718006450229\", \"is_openbox\": \"1970-01-01T00:00:00\", \"promotion_name\": null, \"qty_available\": \"\", \"qty_sold\": \"\", \"expire_at\": \"\", \"url_image0\": \"https://media.pichau.com.br/media/catalog/product/cache/2f958555330323e505eba7ce930bdf27/m/d/md16gd4320016xwrgb2.jpg\", \"url_image1\": \"https://media.pichau.com.br/media/catalog/product/cache/2f958555330323e505eba7ce930bdf27/m/d/md16gd4320016xwrgb1.jpg\", \"value_promo\": 675.55, \"value_regular\": 675.55, \"value_cash\": 594.48, \"dt_hr_captura\": \"2022-07-21T22:51:13.962978\", \"url_image2\": \"https://media.pichau.com.br/media/catalog/product/cache/2f958555330323e505eba7ce930bdf27/m/d/md16gd4320016xwrgb.jpg\", \"url_image3\": null, \"url_image4\": null, \"url_image5\": null}, {\"potencia\": null, \"name\": \"Caixa de Som PCYES! Cross 6W RMS Preta, 18662 - BOX \", \"stock_status\": \"OUT_OF_STOCK\", \"codigo_barra\": null, \"is_openbox\": \"1970-01-01T00:00:00\", \"promotion_name\": null, \"qty_available\": \"\", \"qty_sold\": \"\", \"expire_at\": \"\", \"url_image0\": \"https://media.pichau.com.br/media/catalog/product/cache/2f958555330323e505eba7ce930bdf27/1/8/18662_6.jpg\", \"url_image1\": \"https://media.pichau.com.br/media/catalog/product/cache/2f958555330323e505eba7ce930bdf27/1/8/18662_5.jpg\", \"value_promo\": 49.0, \"value_regular\": 49.0, \"value_cash\": 43.12, \"dt_hr_captura\": \"2022-07-21T22:51:14.459137\", \"url_image2\": \"https://media.pichau.com.br/media/catalog/product/cache/2f958555330323e505eba7ce930bdf27/1/8/18662_4.jpg\", \"url_image3\": \"https://media.pichau.com.br/media/catalog/product/cache/2f958555330323e505eba7ce930bdf27/1/8/18662_1.jpg\", \"url_image4\": \"https://media.pichau.com.br/media/catalog/product/cache/2f958555330323e505eba7ce930bdf27/1/8/18662_8.jpg\", \"url_image5\": \"https://media.pichau.com.br/media/catalog/product/cache/2f958555330323e505eba7ce930bdf27/1/8/18662_2.jpg\"}, {\"potencia\": null, \"name\": \"Mouse Gamer Roccat Kone Pure 4000 Dpi Black, ROC-11-710 - BOX\", \"stock_status\": \"OUT_OF_STOCK\", \"codigo_barra\": \"4250288117105\", \"is_openbox\": \"1970-01-01T00:00:00\", \"promotion_name\": null, \"qty_available\": \"\", \"qty_sold\": \"\", \"expire_at\": \"\", \"url_image0\": \"https://media.pichau.com.br/media/catalog/product/cache/2f958555330323e505eba7ce930bdf27/0/0/0002154_700_0.jpg\", \"url_image1\": \"https://media.pichau.com.br/media/catalog/product/cache/2f958555330323e505eba7ce930bdf27/6/1/61836roc_11_710.jpg\", \"value_promo\": 414.0, \"value_regular\": 414.0, \"value_cash\": 364.32, \"dt_hr_captura\": \"2022-07-21T22:51:15.061713\", \"url_image2\": \"https://media.pichau.com.br/media/catalog/product/cache/2f958555330323e505eba7ce930bdf27/9/0/90846.jpg\", \"url_image3\": \"https://media.pichau.com.br/media/catalog/product/cache/2f958555330323e505eba7ce930bdf27/r/o/roc-11-710_bigproductimage.jpg\", \"url_image4\": null, \"url_image5\": null}, {\"potencia\": null, \"name\": \"Mousepad Razer Goliathus Fissure Control Medio, RZ02-01070600-R3U2\", \"stock_status\": \"OUT_OF_STOCK\", \"codigo_barra\": \"8886419317791\", \"is_openbox\": \"1970-01-01T00:00:00\", \"promotion_name\": null, \"qty_available\": \"\", \"qty_sold\": \"\", \"expire_at\": \"\", \"url_image0\": \"https://media.pichau.com.br/media/catalog/product/cache/2f958555330323e505eba7ce930bdf27/o/t/ot1_3_27.jpg\", \"url_image1\": \"https://media.pichau.com.br/media/catalog/product/cache/2f958555330323e505eba7ce930bdf27/o/t/ot4_3_18.jpg\", \"value_promo\": 165.8, \"value_regular\": 165.8, \"value_cash\": 145.9, \"dt_hr_captura\": \"2022-07-21T22:51:15.577857\", \"url_image2\": \"https://media.pichau.com.br/media/catalog/product/cache/2f958555330323e505eba7ce930bdf27/o/t/ot3_4_19.jpg\", \"url_image3\": \"https://media.pichau.com.br/media/catalog/product/cache/2f958555330323e505eba7ce930bdf27/o/t/ot2_4_23.jpg\", \"url_image4\": null, \"url_image5\": null}, {\"potencia\": null, \"name\": \"Computador Mancer Gamer, Intel i7-12700KF, Radeon RX 6900 XT 16GB, 16GB DDR4, SSD 960GB + M.2 256GB\", \"stock_status\": \"OUT_OF_STOCK\", \"codigo_barra\": null, \"is_openbox\": \"1970-01-01T00:00:00\", \"promotion_name\": null, \"qty_available\": \"\", \"qty_sold\": \"\", \"expire_at\": \"\", \"url_image0\": \"https://media.pichau.com.br/media/catalog/product/cache/2f958555330323e505eba7ce930bdf27/s/e/seraph_e-004_14_1_1_1_1.jpg\", \"url_image1\": \"https://media.pichau.com.br/media/catalog/product/cache/2f958555330323e505eba7ce930bdf27/s/e/seraph_e-001_12_1_1_1_1.jpg\", \"value_promo\": 18904.0, \"value_regular\": 18904.0, \"value_cash\": 16635.52, \"dt_hr_captura\": \"2022-07-21T22:51:16.145345\", \"url_image2\": \"https://media.pichau.com.br/media/catalog/product/cache/2f958555330323e505eba7ce930bdf27/s/e/seraph_e-002_12_1_1_1_1.jpg\", \"url_image3\": \"https://media.pichau.com.br/media/catalog/product/cache/2f958555330323e505eba7ce930bdf27/s/e/seraph_e-005_1_3_1_1_1_1.jpg\", \"url_image4\": \"https://media.pichau.com.br/media/catalog/product/cache/2f958555330323e505eba7ce930bdf27/s/e/seraph_e-003_14_1_1_1_1.jpg\", \"url_image5\": \"https://media.pichau.com.br/media/catalog/product/cache/2f958555330323e505eba7ce930bdf27/s/e/seraph-e-pichau-rx-6800-water-004_4_1_1.jpg\"}, {\"potencia\": null, \"name\": \"Teclado Gaming TESORO Colada Aluminum Edition Saint Switch Brown, TS-G3NL (S) BW\", \"stock_status\": \"OUT_OF_STOCK\", \"codigo_barra\": \"0609132867347\", \"is_openbox\": \"1970-01-01T00:00:00\", \"promotion_name\": null, \"qty_available\": \"\", \"qty_sold\": \"\", \"expire_at\": \"\", \"url_image0\": \"https://media.pichau.com.br/media/catalog/product/cache/2f958555330323e505eba7ce930bdf27/c/o/colada5_1.jpg\", \"url_image1\": \"https://media.pichau.com.br/media/catalog/product/cache/2f958555330323e505eba7ce930bdf27/c/o/colada3_1.jpg\", \"value_promo\": 1157.99, \"value_regular\": 1157.99, \"value_cash\": 1019.03, \"dt_hr_captura\": \"2022-07-21T22:51:16.670834\", \"url_image2\": \"https://media.pichau.com.br/media/catalog/product/cache/2f958555330323e505eba7ce930bdf27/c/o/colada4_1.jpg\", \"url_image3\": \"https://media.pichau.com.br/media/catalog/product/cache/2f958555330323e505eba7ce930bdf27/c/o/colada_1_1.jpg\", \"url_image4\": \"https://media.pichau.com.br/media/catalog/product/cache/2f958555330323e505eba7ce930bdf27/c/o/colada2_1_1.jpg\", \"url_image5\": null}, {\"potencia\": null, \"name\": \"Fone de Ouvido JBL Tune 110  Intra-auricular Branco, JBLT110WHT\", \"stock_status\": \"OUT_OF_STOCK\", \"codigo_barra\": \"6925281918933\", \"is_openbox\": \"1970-01-01T00:00:00\", \"promotion_name\": null, \"qty_available\": \"\", \"qty_sold\": \"\", \"expire_at\": \"\", \"url_image0\": \"https://media.pichau.com.br/media/catalog/product/cache/2f958555330323e505eba7ce930bdf27/j/b/jblt110wht1.jpg\", \"url_image1\": \"https://media.pichau.com.br/media/catalog/product/cache/2f958555330323e505eba7ce930bdf27/j/b/jblt110wht.jpg\", \"value_promo\": 79.43, \"value_regular\": 79.43, \"value_cash\": 69.9, \"dt_hr_captura\": \"2022-07-21T22:51:17.180133\", \"url_image2\": null, \"url_image3\": null, \"url_image4\": null, \"url_image5\": null}, {\"potencia\": \"15\", \"name\": \"Cooler CPU EVGA ACX 120mm, 100-FS-C201-KR - BOX\", \"stock_status\": \"OUT_OF_STOCK\", \"codigo_barra\": null, \"is_openbox\": \"1970-01-01T00:00:00\", \"promotion_name\": null, \"qty_available\": \"\", \"qty_sold\": \"\", \"expire_at\": \"\", \"url_image0\": \"https://media.pichau.com.br/media/catalog/product/cache/2f958555330323e505eba7ce930bdf27/1/0/100-fs-c201-kr_lg_7.jpg\", \"url_image1\": \"https://media.pichau.com.br/media/catalog/product/cache/2f958555330323e505eba7ce930bdf27/1/0/100-fs-c201-kr_lg_1.jpg\", \"value_promo\": 345.0, \"value_regular\": 345.0, \"value_cash\": 303.6, \"dt_hr_captura\": \"2022-07-21T22:51:17.753547\", \"url_image2\": \"https://media.pichau.com.br/media/catalog/product/cache/2f958555330323e505eba7ce930bdf27/1/0/100-fs-c201-kr_lg_4.jpg\", \"url_image3\": \"https://media.pichau.com.br/media/catalog/product/cache/2f958555330323e505eba7ce930bdf27/1/0/100-fs-c201-kr_lg_8.jpg\", \"url_image4\": \"https://media.pichau.com.br/media/catalog/product/cache/2f958555330323e505eba7ce930bdf27/1/0/100-fs-c201-kr_lg_6_1_.jpg\", \"url_image5\": \"https://media.pichau.com.br/media/catalog/product/cache/2f958555330323e505eba7ce930bdf27/1/0/100-fs-c201-kr_lg_3.jpg\"}, {\"potencia\": null, \"name\": \"Placa Mae MSI B450M PRO-VDH MAX AM4 Chipset B450\", \"stock_status\": \"OUT_OF_STOCK\", \"codigo_barra\": \"4719072665968\", \"is_openbox\": \"1970-01-01T00:00:00\", \"promotion_name\": null, \"qty_available\": \"\", \"qty_sold\": \"\", \"expire_at\": \"\", \"url_image0\": \"https://media.pichau.com.br/media/catalog/product/cache/2f958555330323e505eba7ce930bdf27/b/4/b450m-pro-vdh-max3.jpg\", \"url_image1\": \"https://media.pichau.com.br/media/catalog/product/cache/2f958555330323e505eba7ce930bdf27/b/4/b450m-pro-vdh-max4.jpg\", \"value_promo\": 852.25, \"value_regular\": 852.25, \"value_cash\": 749.98, \"dt_hr_captura\": \"2022-07-21T22:51:18.246608\", \"url_image2\": \"https://media.pichau.com.br/media/catalog/product/cache/2f958555330323e505eba7ce930bdf27/b/4/b450m-pro-vdh-max1.jpg\", \"url_image3\": \"https://media.pichau.com.br/media/catalog/product/cache/2f958555330323e505eba7ce930bdf27/b/4/b450m-pro-vdh-max2.jpg\", \"url_image4\": \"https://media.pichau.com.br/media/catalog/product/cache/2f958555330323e505eba7ce930bdf27/b/4/b450m-pro-vdh-max.jpg\", \"url_image5\": null}, {\"potencia\": null, \"name\": \"Gabinete Aerocool CYCLOPS Black Edition Window, EN52933\", \"stock_status\": \"OUT_OF_STOCK\", \"codigo_barra\": \"4713105952933\", \"is_openbox\": \"1970-01-01T00:00:00\", \"promotion_name\": null, \"qty_available\": \"\", \"qty_sold\": \"\", \"expire_at\": \"\", \"url_image0\": \"https://media.pichau.com.br/media/catalog/product/cache/2f958555330323e505eba7ce930bdf27/c/y/cyclops.jpg\", \"url_image1\": \"https://media.pichau.com.br/media/catalog/product/cache/2f958555330323e505eba7ce930bdf27/c/y/cyclops3.jpg\", \"value_promo\": 196.56, \"value_regular\": 196.56, \"value_cash\": 172.97, \"dt_hr_captura\": \"2022-07-21T22:51:18.752296\", \"url_image2\": \"https://media.pichau.com.br/media/catalog/product/cache/2f958555330323e505eba7ce930bdf27/c/y/cyclops2.jpg\", \"url_image3\": \"https://media.pichau.com.br/media/catalog/product/cache/2f958555330323e505eba7ce930bdf27/c/y/cyclops12.jpg\", \"url_image4\": \"https://media.pichau.com.br/media/catalog/product/cache/2f958555330323e505eba7ce930bdf27/c/y/cyclops42.jpg\", \"url_image5\": null}, {\"potencia\": \"220\", \"name\": \"Placa de Video MSI GeForce RTX 3070 Gaming Trio 8GB GDDR6 256-bit, RTX 3070 GAMING TRIO\", \"stock_status\": \"OUT_OF_STOCK\", \"codigo_barra\": \"0\", \"is_openbox\": \"1970-01-01T00:00:00\", \"promotion_name\": null, \"qty_available\": \"\", \"qty_sold\": \"\", \"expire_at\": \"\", \"url_image0\": \"https://media.pichau.com.br/media/catalog/product/cache/2f958555330323e505eba7ce930bdf27/r/t/rtx-3070-gaming-trio3_1.jpg\", \"url_image1\": \"https://media.pichau.com.br/media/catalog/product/cache/2f958555330323e505eba7ce930bdf27/r/t/rtx-3070-gaming-trio_1.jpg\", \"value_promo\": 5795.37, \"value_regular\": 5795.37, \"value_cash\": 5099.93, \"dt_hr_captura\": \"2022-07-21T22:51:19.304858\", \"url_image2\": \"https://media.pichau.com.br/media/catalog/product/cache/2f958555330323e505eba7ce930bdf27/r/t/rtx-3070-gaming-trio1_1.jpg\", \"url_image3\": \"https://media.pichau.com.br/media/catalog/product/cache/2f958555330323e505eba7ce930bdf27/r/t/rtx-3070-gaming-trio2_1.jpg\", \"url_image4\": null, \"url_image5\": null}, {\"potencia\": null, \"name\": \"Headset Gaming Corsair HS50 Stereo Drivers 50mm, CA-9011170-NA\", \"stock_status\": \"OUT_OF_STOCK\", \"codigo_barra\": \"0843591049801\", \"is_openbox\": \"1970-01-01T00:00:00\", \"promotion_name\": null, \"qty_available\": \"\", \"qty_sold\": \"\", \"expire_at\": \"\", \"url_image0\": \"https://media.pichau.com.br/media/catalog/product/cache/2f958555330323e505eba7ce930bdf27/c/a/ca-9011170-na1.jpg\", \"url_image1\": \"https://media.pichau.com.br/media/catalog/product/cache/2f958555330323e505eba7ce930bdf27/c/a/ca-9011170-na2.jpg\", \"value_promo\": 245.35, \"value_regular\": 245.35, \"value_cash\": 215.91, \"dt_hr_captura\": \"2022-07-21T22:51:19.803682\", \"url_image2\": \"https://media.pichau.com.br/media/catalog/product/cache/2f958555330323e505eba7ce930bdf27/c/a/ca-9011170-na.jpg\", \"url_image3\": \"https://media.pichau.com.br/media/catalog/product/cache/2f958555330323e505eba7ce930bdf27/c/a/ca-9011170-na3.jpg\", \"url_image4\": null, \"url_image5\": null}, {\"potencia\": null, \"name\": \"Computador Pichau Home, AMD A6-9500E, 8GB DDR4, SSD 256GB\", \"stock_status\": \"OUT_OF_STOCK\", \"codigo_barra\": null, \"is_openbox\": \"1970-01-01T00:00:00\", \"promotion_name\": null, \"qty_available\": \"\", \"qty_sold\": \"\", \"expire_at\": \"\", \"url_image0\": \"https://media.pichau.com.br/media/catalog/product/cache/2f958555330323e505eba7ce930bdf27/r/a/raideramdsgpu_1__17.jpg\", \"url_image1\": \"https://media.pichau.com.br/media/catalog/product/cache/2f958555330323e505eba7ce930bdf27/_/m/_mg_5980_5_13.jpg\", \"value_promo\": 1305.91, \"value_regular\": 1305.91, \"value_cash\": 1149.2, \"dt_hr_captura\": \"2022-07-21T22:51:20.389110\", \"url_image2\": \"https://media.pichau.com.br/media/catalog/product/cache/2f958555330323e505eba7ce930bdf27/d/e/detalhe1456_2_13.jpg\", \"url_image3\": \"https://media.pichau.com.br/media/catalog/product/cache/2f958555330323e505eba7ce930bdf27/m/g/mg_5934_4_12.jpg\", \"url_image4\": \"https://media.pichau.com.br/media/catalog/product/cache/2f958555330323e505eba7ce930bdf27/-/_/-_mg_5975_12.jpg\", \"url_image5\": null}, {\"potencia\": null, \"name\": \"SSD Team Group T-Force Cardea Liquid 1TB M.2 NVMe PCIe Gen3.0 x4, TM8FP5001T0C119\", \"stock_status\": \"IN_STOCK\", \"codigo_barra\": \"0765441646926\", \"is_openbox\": \"1970-01-01T00:00:00\", \"promotion_name\": \"Ferias com o Pombo\", \"qty_available\": \"1970-01-01T00:00:00.000000015\", \"qty_sold\": \"1970-01-01T00:00:00\", \"expire_at\": \"2022-08-01T17:00:00\", \"url_image0\": \"https://media.pichau.com.br/media/catalog/product/cache/2f958555330323e505eba7ce930bdf27/t/m/tm8fp5512g0c1192_1.jpg\", \"url_image1\": \"https://media.pichau.com.br/media/catalog/product/cache/2f958555330323e505eba7ce930bdf27/t/m/tm8fp5512g0c119_1.jpg\", \"value_promo\": 1420.44, \"value_regular\": 1585.89, \"value_cash\": 1249.99, \"dt_hr_captura\": \"2022-07-21T22:51:20.929456\", \"url_image2\": \"https://media.pichau.com.br/media/catalog/product/cache/2f958555330323e505eba7ce930bdf27/t/m/tm8fp5512g0c1191_1.jpg\", \"url_image3\": null, \"url_image4\": null, \"url_image5\": null}, {\"potencia\": null, \"name\": \"Fone de Ouvido Intra-Auricular HP 100 Branco, 2NV39AA#ABL\", \"stock_status\": \"OUT_OF_STOCK\", \"codigo_barra\": \"0191628716654\", \"is_openbox\": \"1970-01-01T00:00:00\", \"promotion_name\": null, \"qty_available\": \"\", \"qty_sold\": \"\", \"expire_at\": \"\", \"url_image0\": \"https://media.pichau.com.br/media/catalog/product/cache/2f958555330323e505eba7ce930bdf27/2/n/2nv39aa-abl.jpg\", \"url_image1\": null, \"value_promo\": 36.32, \"value_regular\": 36.32, \"value_cash\": 31.96, \"dt_hr_captura\": \"2022-07-21T22:51:21.458250\", \"url_image2\": null, \"url_image3\": null, \"url_image4\": null, \"url_image5\": null}, {\"potencia\": \"0\", \"name\": \"Placa Mae MSI H110M GAMING DDR4 Socket LGA1151 Chipset Intel H110\", \"stock_status\": \"OUT_OF_STOCK\", \"codigo_barra\": \"4719072448578\", \"is_openbox\": \"1970-01-01T00:00:00\", \"promotion_name\": null, \"qty_available\": \"\", \"qty_sold\": \"\", \"expire_at\": \"\", \"url_image0\": \"https://media.pichau.com.br/media/catalog/product/cache/2f958555330323e505eba7ce930bdf27/h/1/h110m-gaming-3.jpg\", \"url_image1\": \"https://media.pichau.com.br/media/catalog/product/cache/2f958555330323e505eba7ce930bdf27/h/1/h110m-gaming-1.jpg\", \"value_promo\": 448.63, \"value_regular\": 448.63, \"value_cash\": 394.79, \"dt_hr_captura\": \"2022-07-21T22:51:22.040168\", \"url_image2\": \"https://media.pichau.com.br/media/catalog/product/cache/2f958555330323e505eba7ce930bdf27/h/1/h110m-gaming-2.jpg\", \"url_image3\": null, \"url_image4\": null, \"url_image5\": null}, {\"potencia\": null, \"name\": \"Carregador Portatil Multilaser Smartogo Power Bank 2200 Mah Rosa, CB078R\", \"stock_status\": \"OUT_OF_STOCK\", \"codigo_barra\": \"7899838826936\", \"is_openbox\": \"1970-01-01T00:00:00\", \"promotion_name\": null, \"qty_available\": \"\", \"qty_sold\": \"\", \"expire_at\": \"\", \"url_image0\": \"https://media.pichau.com.br/media/catalog/product/cache/2f958555330323e505eba7ce930bdf27/c/b/cb078r.jpg\", \"url_image1\": null, \"value_promo\": 22.61, \"value_regular\": 22.61, \"value_cash\": 19.9, \"dt_hr_captura\": \"2022-07-21T22:51:22.560017\", \"url_image2\": null, \"url_image3\": null, \"url_image4\": null, \"url_image5\": null}, {\"potencia\": \"125\", \"name\": \"Placa de Video Galax GeForce GTX 1660 Super 6GB EX White 1-Click OC 192-bit, 60SRL7DS04WS\", \"stock_status\": \"OUT_OF_STOCK\", \"codigo_barra\": \"4895147137742\", \"is_openbox\": \"1970-01-01T00:00:00\", \"promotion_name\": null, \"qty_available\": \"\", \"qty_sold\": \"\", \"expire_at\": \"\", \"url_image0\": \"https://media.pichau.com.br/media/catalog/product/cache/2f958555330323e505eba7ce930bdf27/6/0/60srl7ds04ws3.jpg\", \"url_image1\": \"https://media.pichau.com.br/media/catalog/product/cache/2f958555330323e505eba7ce930bdf27/6/0/60srl7ds04ws.jpg\", \"value_promo\": 2045.42, \"value_regular\": 2045.42, \"value_cash\": 1799.97, \"dt_hr_captura\": \"2022-07-21T22:51:23.067433\", \"url_image2\": \"https://media.pichau.com.br/media/catalog/product/cache/2f958555330323e505eba7ce930bdf27/6/0/60srl7ds04ws9.jpg\", \"url_image3\": \"https://media.pichau.com.br/media/catalog/product/cache/2f958555330323e505eba7ce930bdf27/6/0/60srl7ds04ws1.jpg\", \"url_image4\": \"https://media.pichau.com.br/media/catalog/product/cache/2f958555330323e505eba7ce930bdf27/6/0/60srl7ds04ws5.jpg\", \"url_image5\": \"https://media.pichau.com.br/media/catalog/product/cache/2f958555330323e505eba7ce930bdf27/6/0/60srl7ds04ws6.jpg\"}, {\"potencia\": null, \"name\": \"Webcam Redragon Streaming APEX 2 Full HD 1080p, GW900-1\", \"stock_status\": \"IN_STOCK\", \"codigo_barra\": \"6950376772299\", \"is_openbox\": \"1970-01-01T00:00:00\", \"promotion_name\": null, \"qty_available\": \"\", \"qty_sold\": \"\", \"expire_at\": \"\", \"url_image0\": \"https://media.pichau.com.br/media/catalog/product/cache/2f958555330323e505eba7ce930bdf27/g/w/gw900-12.jpg\", \"url_image1\": \"https://media.pichau.com.br/media/catalog/product/cache/2f958555330323e505eba7ce930bdf27/g/w/gw900-11.jpg\", \"value_promo\": 420.34, \"value_regular\": 420.34, \"value_cash\": 369.9, \"dt_hr_captura\": \"2022-07-21T22:51:23.610523\", \"url_image2\": \"https://media.pichau.com.br/media/catalog/product/cache/2f958555330323e505eba7ce930bdf27/g/w/gw900-13.jpg\", \"url_image3\": \"https://media.pichau.com.br/media/catalog/product/cache/2f958555330323e505eba7ce930bdf27/g/w/gw900-1.jpg\", \"url_image4\": \"https://media.pichau.com.br/media/catalog/product/cache/2f958555330323e505eba7ce930bdf27/g/w/gw900-14.jpg\", \"url_image5\": null}, {\"potencia\": null, \"name\": \"Pen Drive Sandisk 64GB Ultra Fit USB 3.0, SDCZ43-064G-GAM46\", \"stock_status\": \"OUT_OF_STOCK\", \"codigo_barra\": \"0619659140496\", \"is_openbox\": \"1970-01-01T00:00:00\", \"promotion_name\": null, \"qty_available\": \"\", \"qty_sold\": \"\", \"expire_at\": \"\", \"url_image0\": \"https://media.pichau.com.br/media/catalog/product/cache/2f958555330323e505eba7ce930bdf27/s/d/sdcz43-064g-gam46.jpg\", \"url_image1\": \"https://media.pichau.com.br/media/catalog/product/cache/2f958555330323e505eba7ce930bdf27/s/d/sdcz43-064g-gam462.jpg\", \"value_promo\": 169.9, \"value_regular\": 169.9, \"value_cash\": 149.51, \"dt_hr_captura\": \"2022-07-21T22:51:24.139309\", \"url_image2\": \"https://media.pichau.com.br/media/catalog/product/cache/2f958555330323e505eba7ce930bdf27/s/d/sdcz43-064g-gam463.jpg\", \"url_image3\": null, \"url_image4\": null, \"url_image5\": null}, {\"potencia\": null, \"name\": \"Fone de Ouvido Philips Extra Bass C/ Gancho Branco, SHS3201/10\", \"stock_status\": \"OUT_OF_STOCK\", \"codigo_barra\": \"8712581497729\", \"is_openbox\": \"1970-01-01T00:00:00\", \"promotion_name\": null, \"qty_available\": \"\", \"qty_sold\": \"\", \"expire_at\": \"\", \"url_image0\": \"https://media.pichau.com.br/media/catalog/product/cache/2f958555330323e505eba7ce930bdf27/s/h/shs3201-2.jpg\", \"url_image1\": \"https://media.pichau.com.br/media/catalog/product/cache/2f958555330323e505eba7ce930bdf27/s/h/shs3201.jpg\", \"value_promo\": 42.04, \"value_regular\": 42.04, \"value_cash\": 37.0, \"dt_hr_captura\": \"2022-07-21T22:51:24.651186\", \"url_image2\": null, \"url_image3\": null, \"url_image4\": null, \"url_image5\": null}, {\"potencia\": null, \"name\": \"Charger Kit Multilaser Carregador + 2 Pilhas AA 2500mAh + 2 Pilhas AAA 1000mAh, CB045\", \"stock_status\": \"OUT_OF_STOCK\", \"codigo_barra\": \"7898506451609\", \"is_openbox\": \"1970-01-01T00:00:00\", \"promotion_name\": null, \"qty_available\": \"\", \"qty_sold\": \"\", \"expire_at\": \"\", \"url_image0\": \"https://media.pichau.com.br/media/catalog/product/cache/2f958555330323e505eba7ce930bdf27/c/b/cb045.jpg\", \"url_image1\": null, \"value_promo\": 113.52, \"value_regular\": 113.52, \"value_cash\": 99.9, \"dt_hr_captura\": \"2022-07-21T22:51:25.173352\", \"url_image2\": null, \"url_image3\": null, \"url_image4\": null, \"url_image5\": null}, {\"potencia\": null, \"name\": \"Computador Pichau Gamer Paymon, Intel i5-11400F, GeForce GTX 1660 TI 6GB, 8GB DDR4, SSD 240GB\", \"stock_status\": \"OUT_OF_STOCK\", \"codigo_barra\": null, \"is_openbox\": \"1970-01-01T00:00:00\", \"promotion_name\": null, \"qty_available\": \"\", \"qty_sold\": \"\", \"expire_at\": \"\", \"url_image0\": \"https://media.pichau.com.br/media/catalog/product/cache/2f958555330323e505eba7ce930bdf27/n/a/narok-mancer-intel-gtx-0022_3_2.jpg\", \"url_image1\": \"https://media.pichau.com.br/media/catalog/product/cache/2f958555330323e505eba7ce930bdf27/n/a/narok-mancer-intel-gtx-004_1_4.jpg\", \"value_promo\": 5677.01, \"value_regular\": 5677.01, \"value_cash\": 4995.77, \"dt_hr_captura\": \"2022-07-21T22:51:25.684865\", \"url_image2\": \"https://media.pichau.com.br/media/catalog/product/cache/2f958555330323e505eba7ce930bdf27/n/a/narok-mancer-rgb-sem-config-pc-003_1_19.jpg\", \"url_image3\": \"https://media.pichau.com.br/media/catalog/product/cache/2f958555330323e505eba7ce930bdf27/n/a/narok-mancer-rgb-sem-config-pc-002_1_19.jpg\", \"url_image4\": \"https://media.pichau.com.br/media/catalog/product/cache/2f958555330323e505eba7ce930bdf27/n/a/narok-mancer-rgb-sem-config-pc-005_1_12.jpg\", \"url_image5\": \"https://media.pichau.com.br/media/catalog/product/cache/2f958555330323e505eba7ce930bdf27/n/a/narok-mancer-rgb-sem-config-pc-004_1_13.jpg\"}, {\"potencia\": null, \"name\": \"Mouse Gamer Redragon Cobra Chroma RGB 10000DPI, M711\", \"stock_status\": \"OUT_OF_STOCK\", \"codigo_barra\": \"6950376750549\", \"is_openbox\": \"1970-01-01T00:00:00\", \"promotion_name\": null, \"qty_available\": \"\", \"qty_sold\": \"\", \"expire_at\": \"\", \"url_image0\": \"https://media.pichau.com.br/media/catalog/product/cache/2f958555330323e505eba7ce930bdf27/m/7/m71123126.jpg\", \"url_image1\": \"https://media.pichau.com.br/media/catalog/product/cache/2f958555330323e505eba7ce930bdf27/m/7/m71123125.jpg\", \"value_promo\": 158.98, \"value_regular\": 158.98, \"value_cash\": 139.9, \"dt_hr_captura\": \"2022-07-21T22:51:26.204620\", \"url_image2\": \"https://media.pichau.com.br/media/catalog/product/cache/2f958555330323e505eba7ce930bdf27/m/7/m71123122.jpg\", \"url_image3\": \"https://media.pichau.com.br/media/catalog/product/cache/2f958555330323e505eba7ce930bdf27/m/7/m71123121.jpg\", \"url_image4\": \"https://media.pichau.com.br/media/catalog/product/cache/2f958555330323e505eba7ce930bdf27/m/7/m71123123.jpg\", \"url_image5\": \"https://media.pichau.com.br/media/catalog/product/cache/2f958555330323e505eba7ce930bdf27/m/7/m71123124.jpg\"}, {\"potencia\": null, \"name\": \"Computador Pichau WorkStation, Intel i5-10600K, Quadro P1000, 16GB RAM, HD 1TB + SSD 512GB M.2, 500W, Cooler Sage X, Dragoon\", \"stock_status\": \"OUT_OF_STOCK\", \"codigo_barra\": null, \"is_openbox\": \"1970-01-01T00:00:00\", \"promotion_name\": null, \"qty_available\": \"\", \"qty_sold\": \"\", \"expire_at\": \"\", \"url_image0\": \"https://media.pichau.com.br/media/catalog/product/cache/2f958555330323e505eba7ce930bdf27/w/o/workstation-intel-p1000-01_3_5.jpg\", \"url_image1\": \"https://media.pichau.com.br/media/catalog/product/cache/2f958555330323e505eba7ce930bdf27/w/o/workstation-intel-p1000-02_3_4.jpg\", \"value_promo\": 2716.34, \"value_regular\": 2716.34, \"value_cash\": 2390.38, \"dt_hr_captura\": \"2022-07-21T22:51:26.710080\", \"url_image2\": \"https://media.pichau.com.br/media/catalog/product/cache/2f958555330323e505eba7ce930bdf27/w/o/workstation-intel-p1000-05_12.jpg\", \"url_image3\": \"https://media.pichau.com.br/media/catalog/product/cache/2f958555330323e505eba7ce930bdf27/w/o/workstation-intel-p1000-03_2_1.jpg\", \"url_image4\": \"https://media.pichau.com.br/media/catalog/product/cache/2f958555330323e505eba7ce930bdf27/w/o/workstation-intel-p1000-06_12.jpg\", \"url_image5\": \"https://media.pichau.com.br/media/catalog/product/cache/2f958555330323e505eba7ce930bdf27/w/o/workstation-intel-p1000-07_12.jpg\"}, {\"potencia\": null, \"name\": \"Caixa de Som Multilaser Bluetooth 8w ROSA, SP175 - BOX\", \"stock_status\": \"OUT_OF_STOCK\", \"codigo_barra\": \"7898506475476\", \"is_openbox\": \"1970-01-01T00:00:00\", \"promotion_name\": null, \"qty_available\": \"\", \"qty_sold\": \"\", \"expire_at\": \"\", \"url_image0\": \"https://media.pichau.com.br/media/catalog/product/cache/2f958555330323e505eba7ce930bdf27/1/_/1_21_36.jpg\", \"url_image1\": \"https://media.pichau.com.br/media/catalog/product/cache/2f958555330323e505eba7ce930bdf27/2/_/2_13_52.jpg\", \"value_promo\": 85.11, \"value_regular\": 85.11, \"value_cash\": 74.9, \"dt_hr_captura\": \"2022-07-21T22:51:27.194514\", \"url_image2\": \"https://media.pichau.com.br/media/catalog/product/cache/2f958555330323e505eba7ce930bdf27/3/_/3_296.jpg\", \"url_image3\": null, \"url_image4\": null, \"url_image5\": null}, {\"potencia\": \"150\", \"name\": \"Placa de Video Asus Radeon RX 580 OC 8GB GDDR5 ROG Strix 256-bit, ROG-STRIX-RX580-O8G-GAMING\", \"stock_status\": \"OUT_OF_STOCK\", \"codigo_barra\": \"4712900696295\", \"is_openbox\": \"1970-01-01T00:00:00\", \"promotion_name\": null, \"qty_available\": \"\", \"qty_sold\": \"\", \"expire_at\": \"\", \"url_image0\": \"https://media.pichau.com.br/media/catalog/product/cache/2f958555330323e505eba7ce930bdf27/r/o/rog-strix-rx580-o8g-gaming2.jpg\", \"url_image1\": \"https://media.pichau.com.br/media/catalog/product/cache/2f958555330323e505eba7ce930bdf27/r/o/rog-strix-rx580-o8g-gaming3.jpg\", \"value_promo\": 5227.21, \"value_regular\": 5227.21, \"value_cash\": 4599.94, \"dt_hr_captura\": \"2022-07-21T22:51:27.695444\", \"url_image2\": \"https://media.pichau.com.br/media/catalog/product/cache/2f958555330323e505eba7ce930bdf27/r/o/rog-strix-rx580-o8g-gaming6.jpg\", \"url_image3\": \"https://media.pichau.com.br/media/catalog/product/cache/2f958555330323e505eba7ce930bdf27/r/o/rog-strix-rx580-o8g-gaming4.jpg\", \"url_image4\": \"https://media.pichau.com.br/media/catalog/product/cache/2f958555330323e505eba7ce930bdf27/r/o/rog-strix-rx580-o8g-gaming5.jpg\", \"url_image5\": \"https://media.pichau.com.br/media/catalog/product/cache/2f958555330323e505eba7ce930bdf27/r/o/rog-strix-rx580-o8g-gaming7.jpg\"}, {\"potencia\": null, \"name\": \"Gabinete Gamer KWG Vela M2 RGB Preto\", \"stock_status\": \"OUT_OF_STOCK\", \"codigo_barra\": \"4712960134393\", \"is_openbox\": \"1970-01-01T00:00:00\", \"promotion_name\": null, \"qty_available\": \"\", \"qty_sold\": \"\", \"expire_at\": \"\", \"url_image0\": \"https://media.pichau.com.br/media/catalog/product/cache/2f958555330323e505eba7ce930bdf27/v/e/vela-m2-rgb-preto1.jpg\", \"url_image1\": \"https://media.pichau.com.br/media/catalog/product/cache/2f958555330323e505eba7ce930bdf27/v/e/vela-m2-rgb-preto.jpg\", \"value_promo\": 254.55, \"value_regular\": 254.55, \"value_cash\": 224.0, \"dt_hr_captura\": \"2022-07-21T22:51:28.201906\", \"url_image2\": \"https://media.pichau.com.br/media/catalog/product/cache/2f958555330323e505eba7ce930bdf27/v/e/vela-m2-rgb-preto2.jpg\", \"url_image3\": \"https://media.pichau.com.br/media/catalog/product/cache/2f958555330323e505eba7ce930bdf27/v/e/vela-m2-rgb-preto3.jpg\", \"url_image4\": null, \"url_image5\": null}, {\"potencia\": \"5\", \"name\": \"Cooler para Processador PcYes! Notus LP, PAC93PTSL 32845\", \"stock_status\": \"OUT_OF_STOCK\", \"codigo_barra\": \"7908020913535\", \"is_openbox\": \"1970-01-01T00:00:00\", \"promotion_name\": null, \"qty_available\": \"\", \"qty_sold\": \"\", \"expire_at\": \"\", \"url_image0\": \"https://media.pichau.com.br/media/catalog/product/cache/2f958555330323e505eba7ce930bdf27/p/a/pac93ptsl.jpg\", \"url_image1\": null, \"value_promo\": 113.52, \"value_regular\": 113.52, \"value_cash\": 99.9, \"dt_hr_captura\": \"2022-07-21T22:51:28.727285\", \"url_image2\": null, \"url_image3\": null, \"url_image4\": null, \"url_image5\": null}, {\"potencia\": \"275\", \"name\": \"Placa de Video Radeon MSI R9 390X GAMING 8G 8GB GDDR5 512Bit, R9-390X-GAMING-8G - BOX\", \"stock_status\": \"OUT_OF_STOCK\", \"codigo_barra\": \"4719072403393\", \"is_openbox\": \"1970-01-01T00:00:00\", \"promotion_name\": null, \"qty_available\": \"\", \"qty_sold\": \"\", \"expire_at\": \"\", \"url_image0\": \"https://media.pichau.com.br/media/catalog/product/cache/2f958555330323e505eba7ce930bdf27/5/_/5_1_114.jpg\", \"url_image1\": \"https://media.pichau.com.br/media/catalog/product/cache/2f958555330323e505eba7ce930bdf27/4/_/4_181.jpg\", \"value_promo\": 2317.12, \"value_regular\": 2317.12, \"value_cash\": 2039.07, \"dt_hr_captura\": \"2022-07-21T22:51:29.213791\", \"url_image2\": \"https://media.pichau.com.br/media/catalog/product/cache/2f958555330323e505eba7ce930bdf27/3/_/3_243.jpg\", \"url_image3\": \"https://media.pichau.com.br/media/catalog/product/cache/2f958555330323e505eba7ce930bdf27/1/_/1_19_94.jpg\", \"url_image4\": \"https://media.pichau.com.br/media/catalog/product/cache/2f958555330323e505eba7ce930bdf27/2/_/2_12_104.jpg\", \"url_image5\": null}, {\"potencia\": null, \"name\": \"Pichau Kit Upgrade, Intel i5-10400F, B460M, 8GB DDR4, Cooler\", \"stock_status\": \"OUT_OF_STOCK\", \"codigo_barra\": null, \"is_openbox\": \"1970-01-01T00:00:00\", \"promotion_name\": null, \"qty_available\": \"\", \"qty_sold\": \"\", \"expire_at\": \"\", \"url_image0\": \"https://media.pichau.com.br/media/catalog/product/cache/2f958555330323e505eba7ce930bdf27/k/i/kit-26570-001.jpg\", \"url_image1\": null, \"value_promo\": 1670.34, \"value_regular\": 1670.34, \"value_cash\": 1469.9, \"dt_hr_captura\": \"2022-07-21T22:51:29.749004\", \"url_image2\": null, \"url_image3\": null, \"url_image4\": null, \"url_image5\": null}, {\"potencia\": null, \"name\": \"Roteador Multilaser 150mbps 1 Antena Destac 4 Portas LAN, RE058\", \"stock_status\": \"OUT_OF_STOCK\", \"codigo_barra\": \"7899838810966\", \"is_openbox\": \"1970-01-01T00:00:00\", \"promotion_name\": null, \"qty_available\": \"\", \"qty_sold\": \"\", \"expire_at\": \"\", \"url_image0\": \"https://media.pichau.com.br/media/catalog/product/cache/2f958555330323e505eba7ce930bdf27/r/e/re058.jpg\", \"url_image1\": null, \"value_promo\": 66.93, \"value_regular\": 66.93, \"value_cash\": 58.9, \"dt_hr_captura\": \"2022-07-21T22:51:30.299898\", \"url_image2\": null, \"url_image3\": null, \"url_image4\": null, \"url_image5\": null}, {\"potencia\": null, \"name\": \"Mouse Gamer Logitech G PRO Hero RGB 16000Dpi USB, 910-005536\", \"stock_status\": \"OUT_OF_STOCK\", \"codigo_barra\": \"097855143624\", \"is_openbox\": \"1970-01-01T00:00:00\", \"promotion_name\": null, \"qty_available\": \"\", \"qty_sold\": \"\", \"expire_at\": \"\", \"url_image0\": \"https://media.pichau.com.br/media/catalog/product/cache/2f958555330323e505eba7ce930bdf27/9/1/910-005536.jpg\", \"url_image1\": \"https://media.pichau.com.br/media/catalog/product/cache/2f958555330323e505eba7ce930bdf27/9/1/910-0055362.jpg\", \"value_promo\": 312.38, \"value_regular\": 312.38, \"value_cash\": 274.89, \"dt_hr_captura\": \"2022-07-21T22:51:30.818170\", \"url_image2\": \"https://media.pichau.com.br/media/catalog/product/cache/2f958555330323e505eba7ce930bdf27/9/1/910-0055363.jpg\", \"url_image3\": \"https://media.pichau.com.br/media/catalog/product/cache/2f958555330323e505eba7ce930bdf27/9/1/910-0055361.jpg\", \"url_image4\": \"https://media.pichau.com.br/media/catalog/product/cache/2f958555330323e505eba7ce930bdf27/9/1/910-0055364.jpg\", \"url_image5\": null}, {\"potencia\": null, \"name\": \"SSD Kingston HyperX Predator 480GB M.2 2280, SHPM2280P2/480G\", \"stock_status\": \"OUT_OF_STOCK\", \"codigo_barra\": \"0740617237481\", \"is_openbox\": \"1970-01-01T00:00:00\", \"promotion_name\": null, \"qty_available\": \"\", \"qty_sold\": \"\", \"expire_at\": \"\", \"url_image0\": \"https://media.pichau.com.br/media/catalog/product/cache/2f958555330323e505eba7ce930bdf27/s/h/shpm2280p2-480g2.jpg\", \"url_image1\": \"https://media.pichau.com.br/media/catalog/product/cache/2f958555330323e505eba7ce930bdf27/s/h/shpm2280p2-480g.jpg\", \"value_promo\": 1818.13, \"value_regular\": 1818.13, \"value_cash\": 1599.95, \"dt_hr_captura\": \"2022-07-21T22:51:31.305621\", \"url_image2\": \"https://media.pichau.com.br/media/catalog/product/cache/2f958555330323e505eba7ce930bdf27/s/h/shpm2280p2-480g3.jpg\", \"url_image3\": null, \"url_image4\": null, \"url_image5\": null}, {\"potencia\": null, \"name\": \"Headset Gamer Gamdias Hebe E2 RGB\", \"stock_status\": \"OUT_OF_STOCK\", \"codigo_barra\": \"4712960134645\", \"is_openbox\": \"1970-01-01T00:00:00\", \"promotion_name\": null, \"qty_available\": \"\", \"qty_sold\": \"\", \"expire_at\": \"\", \"url_image0\": \"https://media.pichau.com.br/media/catalog/product/cache/2f958555330323e505eba7ce930bdf27/h/e/hebe-e22.jpg\", \"url_image1\": \"https://media.pichau.com.br/media/catalog/product/cache/2f958555330323e505eba7ce930bdf27/h/e/hebe-e21.jpg\", \"value_promo\": 193.07, \"value_regular\": 193.07, \"value_cash\": 169.9, \"dt_hr_captura\": \"2022-07-21T22:51:31.826134\", \"url_image2\": \"https://media.pichau.com.br/media/catalog/product/cache/2f958555330323e505eba7ce930bdf27/h/e/hebe-e23.jpg\", \"url_image3\": \"https://media.pichau.com.br/media/catalog/product/cache/2f958555330323e505eba7ce930bdf27/h/e/hebe-e2.jpg\", \"url_image4\": null, \"url_image5\": null}, {\"potencia\": null, \"name\": \"Computador Pichau Home, AMD A6-9500, 8GB DDR3, HD 500GB \", \"stock_status\": \"OUT_OF_STOCK\", \"codigo_barra\": null, \"is_openbox\": \"1970-01-01T00:00:00\", \"promotion_name\": null, \"qty_available\": \"\", \"qty_sold\": \"\", \"expire_at\": \"\", \"url_image0\": \"https://media.pichau.com.br/media/catalog/product/cache/2f958555330323e505eba7ce930bdf27/t/g/tgt_b110_-_01_107_1_1_1.jpg\", \"url_image1\": \"https://media.pichau.com.br/media/catalog/product/cache/2f958555330323e505eba7ce930bdf27/t/g/tgt_b110_-_02_107_1_1_1.jpg\", \"value_promo\": 1225.57, \"value_regular\": 1225.57, \"value_cash\": 1078.5, \"dt_hr_captura\": \"2022-07-21T22:51:32.328502\", \"url_image2\": \"https://media.pichau.com.br/media/catalog/product/cache/2f958555330323e505eba7ce930bdf27/t/g/tgt_b110_-_03_105_1_1_1.jpg\", \"url_image3\": \"https://media.pichau.com.br/media/catalog/product/cache/2f958555330323e505eba7ce930bdf27/t/g/tgt_b110_-_04_105_1_1_1.jpg\", \"url_image4\": \"https://media.pichau.com.br/media/catalog/product/cache/2f958555330323e505eba7ce930bdf27/t/g/tgt_b110_-_05_105_1_1_1.jpg\", \"url_image5\": null}, {\"potencia\": null, \"name\": \"Gabinete Gamer BlueCase Lateral de Vidro, BG-017\", \"stock_status\": \"OUT_OF_STOCK\", \"codigo_barra\": \"5000000039258\", \"is_openbox\": \"1970-01-01T00:00:00\", \"promotion_name\": null, \"qty_available\": \"\", \"qty_sold\": \"\", \"expire_at\": \"\", \"url_image0\": \"https://media.pichau.com.br/media/catalog/product/cache/2f958555330323e505eba7ce930bdf27/b/g/bg-0172.jpg\", \"url_image1\": \"https://media.pichau.com.br/media/catalog/product/cache/2f958555330323e505eba7ce930bdf27/b/g/bg-0174.jpg\", \"value_promo\": 340.8, \"value_regular\": 340.8, \"value_cash\": 299.9, \"dt_hr_captura\": \"2022-07-21T22:51:32.893042\", \"url_image2\": \"https://media.pichau.com.br/media/catalog/product/cache/2f958555330323e505eba7ce930bdf27/b/g/bg-0171.jpg\", \"url_image3\": \"https://media.pichau.com.br/media/catalog/product/cache/2f958555330323e505eba7ce930bdf27/b/g/bg-0173.jpg\", \"url_image4\": \"https://media.pichau.com.br/media/catalog/product/cache/2f958555330323e505eba7ce930bdf27/b/g/bg-017.jpg\", \"url_image5\": \"https://media.pichau.com.br/media/catalog/product/cache/2f958555330323e505eba7ce930bdf27/b/g/bg-0177.jpg\"}, {\"potencia\": null, \"name\": \"Gabinete SENTEY Gamer, GS-6020 ENTUSIASTA EAGLE PLUS PRETO - BOX\", \"stock_status\": \"OUT_OF_STOCK\", \"codigo_barra\": \"9771411160201\", \"is_openbox\": \"1970-01-01T00:00:00\", \"promotion_name\": null, \"qty_available\": \"\", \"qty_sold\": \"\", \"expire_at\": \"\", \"url_image0\": \"https://media.pichau.com.br/media/catalog/product/cache/2f958555330323e505eba7ce930bdf27/x/g/xgf.jpg\", \"url_image1\": \"https://media.pichau.com.br/media/catalog/product/cache/2f958555330323e505eba7ce930bdf27/d/g/dgg.jpg\", \"value_promo\": 318.0, \"value_regular\": 318.0, \"value_cash\": 279.84, \"dt_hr_captura\": \"2022-07-21T22:51:33.430222\", \"url_image2\": \"https://media.pichau.com.br/media/catalog/product/cache/2f958555330323e505eba7ce930bdf27/c/h/chd.jpg\", \"url_image3\": \"https://media.pichau.com.br/media/catalog/product/cache/2f958555330323e505eba7ce930bdf27/d/c/dcfg.jpg\", \"url_image4\": \"https://media.pichau.com.br/media/catalog/product/cache/2f958555330323e505eba7ce930bdf27/s/d/sdf.jpg\", \"url_image5\": \"https://media.pichau.com.br/media/catalog/product/cache/2f958555330323e505eba7ce930bdf27/d/r/drgtdr.jpg\"}, {\"potencia\": null, \"name\": \"Computador Pichau Home, Intel Core I5-12400, UHD INTEL 730, 8GB DDR4, SSD 120GB \", \"stock_status\": \"IN_STOCK\", \"codigo_barra\": null, \"is_openbox\": \"1970-01-01T00:00:00\", \"promotion_name\": \"PC Master Race\", \"qty_available\": \"1970-01-01T00:00:00.000000020\", \"qty_sold\": \"1970-01-01T00:00:00\", \"expire_at\": \"2022-07-31T23:50:00\", \"url_image0\": \"https://media.pichau.com.br/media/catalog/product/cache/2f958555330323e505eba7ce930bdf27/t/g/tgt-raider-01_9.jpg\", \"url_image1\": \"https://media.pichau.com.br/media/catalog/product/cache/2f958555330323e505eba7ce930bdf27/t/g/tgt-raider-02_9.jpg\", \"value_promo\": 3259.94, \"value_regular\": 3622.18, \"value_cash\": 2868.75, \"dt_hr_captura\": \"2022-07-21T22:51:33.972289\", \"url_image2\": \"https://media.pichau.com.br/media/catalog/product/cache/2f958555330323e505eba7ce930bdf27/r/a/raider002_11.jpg\", \"url_image3\": \"https://media.pichau.com.br/media/catalog/product/cache/2f958555330323e505eba7ce930bdf27/r/a/raider_30.jpg\", \"url_image4\": \"https://media.pichau.com.br/media/catalog/product/cache/2f958555330323e505eba7ce930bdf27/r/a/raider001_10.jpg\", \"url_image5\": \"https://media.pichau.com.br/media/catalog/product/cache/2f958555330323e505eba7ce930bdf27/r/a/raider003_1_5.jpg\"}, {\"potencia\": null, \"name\": \"Headset Razer Kraken 7.1 Chroma Preto, RZ04-01250100-R3U1\", \"stock_status\": \"OUT_OF_STOCK\", \"codigo_barra\": \"8886419370536\", \"is_openbox\": \"1970-01-01T00:00:00\", \"promotion_name\": null, \"qty_available\": \"\", \"qty_sold\": \"\", \"expire_at\": \"\", \"url_image0\": \"https://media.pichau.com.br/media/catalog/product/cache/2f958555330323e505eba7ce930bdf27/5/9/59844_1415972082_g.jpg\", \"url_image1\": \"https://media.pichau.com.br/media/catalog/product/cache/2f958555330323e505eba7ce930bdf27/5/9/59844_1415972069_g.jpg\", \"value_promo\": 465.81, \"value_regular\": 465.81, \"value_cash\": 409.91, \"dt_hr_captura\": \"2022-07-21T22:51:34.488712\", \"url_image2\": \"https://media.pichau.com.br/media/catalog/product/cache/2f958555330323e505eba7ce930bdf27/4/1/41sgc6ez1dl_1.jpg\", \"url_image3\": \"https://media.pichau.com.br/media/catalog/product/cache/2f958555330323e505eba7ce930bdf27/d/o/download_2.jpg\", \"url_image4\": null, \"url_image5\": null}, {\"potencia\": null, \"name\": \"Headset Gamer Redragon Themis 2, Drivers 50mm, Branco, H220W-N\", \"stock_status\": \"OUT_OF_STOCK\", \"codigo_barra\": \"6950376772503\", \"is_openbox\": \"1970-01-01T00:00:00\", \"promotion_name\": null, \"qty_available\": \"\", \"qty_sold\": \"\", \"expire_at\": \"\", \"url_image0\": \"https://media.pichau.com.br/media/catalog/product/cache/2f958555330323e505eba7ce930bdf27/h/2/h220w-n6.jpg\", \"url_image1\": \"https://media.pichau.com.br/media/catalog/product/cache/2f958555330323e505eba7ce930bdf27/h/2/h220w-n2.jpg\", \"value_promo\": 141.93, \"value_regular\": 141.93, \"value_cash\": 124.9, \"dt_hr_captura\": \"2022-07-21T22:51:35.005397\", \"url_image2\": \"https://media.pichau.com.br/media/catalog/product/cache/2f958555330323e505eba7ce930bdf27/h/2/h220w-n.jpg\", \"url_image3\": \"https://media.pichau.com.br/media/catalog/product/cache/2f958555330323e505eba7ce930bdf27/h/2/h220w-n5.jpg\", \"url_image4\": \"https://media.pichau.com.br/media/catalog/product/cache/2f958555330323e505eba7ce930bdf27/h/2/h220w-n1.jpg\", \"url_image5\": \"https://media.pichau.com.br/media/catalog/product/cache/2f958555330323e505eba7ce930bdf27/h/2/h220w-n3.jpg\"}, {\"potencia\": null, \"name\": \"Caixa de Som Edifier R1580MB 2.0 42W Bluetooth Preto\", \"stock_status\": \"OUT_OF_STOCK\", \"codigo_barra\": \"6923520265671\", \"is_openbox\": \"1970-01-01T00:00:00\", \"promotion_name\": null, \"qty_available\": \"\", \"qty_sold\": \"\", \"expire_at\": \"\", \"url_image0\": \"https://media.pichau.com.br/media/catalog/product/cache/2f958555330323e505eba7ce930bdf27/r/1/r1580mb_1.jpg\", \"url_image1\": \"https://media.pichau.com.br/media/catalog/product/cache/2f958555330323e505eba7ce930bdf27/r/1/r1580mb-1_1.jpg\", \"value_promo\": 670.36, \"value_regular\": 670.36, \"value_cash\": 589.92, \"dt_hr_captura\": \"2022-07-21T22:51:35.526719\", \"url_image2\": null, \"url_image3\": null, \"url_image4\": null, \"url_image5\": null}, {\"potencia\": null, \"name\": \"Gabinete Gamer PCYES! JAVA Preto com Laranja\", \"stock_status\": \"OUT_OF_STOCK\", \"codigo_barra\": \"7898547286161\", \"is_openbox\": \"1970-01-01T00:00:00\", \"promotion_name\": null, \"qty_available\": \"\", \"qty_sold\": \"\", \"expire_at\": \"\", \"url_image0\": \"https://media.pichau.com.br/media/catalog/product/cache/2f958555330323e505eba7ce930bdf27/6/_/6_2_16.jpg\", \"url_image1\": \"https://media.pichau.com.br/media/catalog/product/cache/2f958555330323e505eba7ce930bdf27/5/_/5_4_9.jpg\", \"value_promo\": 215.8, \"value_regular\": 215.8, \"value_cash\": 189.9, \"dt_hr_captura\": \"2022-07-21T22:51:36.048470\", \"url_image2\": \"https://media.pichau.com.br/media/catalog/product/cache/2f958555330323e505eba7ce930bdf27/3/_/3_8_3.jpg\", \"url_image3\": \"https://media.pichau.com.br/media/catalog/product/cache/2f958555330323e505eba7ce930bdf27/1/_/1_56_4.jpg\", \"url_image4\": \"https://media.pichau.com.br/media/catalog/product/cache/2f958555330323e505eba7ce930bdf27/4/_/4_6_4.jpg\", \"url_image5\": \"https://media.pichau.com.br/media/catalog/product/cache/2f958555330323e505eba7ce930bdf27/2/_/2_41_1.jpg\"}, {\"potencia\": \"12\", \"name\": \"Ventoinha Thermaltake Riing PLUS 12 RGB (3 Unidades), CL-F053-PL12SW-A\", \"stock_status\": \"OUT_OF_STOCK\", \"codigo_barra\": \"4717964407856\", \"is_openbox\": \"1970-01-01T00:00:00\", \"promotion_name\": null, \"qty_available\": \"\", \"qty_sold\": \"\", \"expire_at\": \"\", \"url_image0\": \"https://media.pichau.com.br/media/catalog/product/cache/2f958555330323e505eba7ce930bdf27/c/l/cl-f053-pl12sw-a.jpg\", \"url_image1\": \"https://media.pichau.com.br/media/catalog/product/cache/2f958555330323e505eba7ce930bdf27/c/l/cl-f053-pl12sw-a4.jpg\", \"value_promo\": 596.49, \"value_regular\": 596.49, \"value_cash\": 524.91, \"dt_hr_captura\": \"2022-07-21T22:51:36.563279\", \"url_image2\": \"https://media.pichau.com.br/media/catalog/product/cache/2f958555330323e505eba7ce930bdf27/c/l/cl-f053-pl12sw-a3.jpg\", \"url_image3\": \"https://media.pichau.com.br/media/catalog/product/cache/2f958555330323e505eba7ce930bdf27/c/l/cl-f053-pl12sw-a5.jpg\", \"url_image4\": \"https://media.pichau.com.br/media/catalog/product/cache/2f958555330323e505eba7ce930bdf27/c/l/cl-f053-pl12sw-a2.jpg\", \"url_image5\": null}, {\"potencia\": null, \"name\": \"Fonte Cooler Master V1000 1000W Certificado 80 Plus Gold PFC Ativo RSA00-AFBAG1-WO\", \"stock_status\": \"IN_STOCK\", \"codigo_barra\": \"4719512041611\", \"is_openbox\": \"1970-01-01T00:00:00\", \"promotion_name\": null, \"qty_available\": \"\", \"qty_sold\": \"\", \"expire_at\": \"\", \"url_image0\": \"https://media.pichau.com.br/media/catalog/product/cache/2f958555330323e505eba7ce930bdf27/r/s/rsa00-afbag1-wo3214.jpg\", \"url_image1\": \"https://media.pichau.com.br/media/catalog/product/cache/2f958555330323e505eba7ce930bdf27/r/s/rsa00-afbag1-wo3213.jpg\", \"value_promo\": 1624.89, \"value_regular\": 1624.89, \"value_cash\": 1429.9, \"dt_hr_captura\": \"2022-07-21T22:51:37.107190\", \"url_image2\": \"https://media.pichau.com.br/media/catalog/product/cache/2f958555330323e505eba7ce930bdf27/r/s/rsa00-afbag1-wo3211.jpg\", \"url_image3\": \"https://media.pichau.com.br/media/catalog/product/cache/2f958555330323e505eba7ce930bdf27/r/s/rsa00-afbag1-wo3212.jpg\", \"url_image4\": \"https://media.pichau.com.br/media/catalog/product/cache/2f958555330323e505eba7ce930bdf27/r/s/rsa00-afbag1-wo321.jpg\", \"url_image5\": null}, {\"potencia\": null, \"name\": \"Gabinete Cooler Master Masterbox NR400 Lateral Vidro Temp Preto com ODD, MCB-NR400-KG5N-S00\", \"stock_status\": \"OUT_OF_STOCK\", \"codigo_barra\": \"4719512080269\", \"is_openbox\": \"1970-01-01T00:00:00\", \"promotion_name\": null, \"qty_available\": \"\", \"qty_sold\": \"\", \"expire_at\": \"\", \"url_image0\": \"https://media.pichau.com.br/media/catalog/product/cache/2f958555330323e505eba7ce930bdf27/m/c/mcb-nr400-kg5n-s009.jpg\", \"url_image1\": \"https://media.pichau.com.br/media/catalog/product/cache/2f958555330323e505eba7ce930bdf27/m/c/mcb-nr400-kg5n-s007.jpg\", \"value_promo\": 540.8, \"value_regular\": 540.8, \"value_cash\": 475.9, \"dt_hr_captura\": \"2022-07-21T22:51:37.610962\", \"url_image2\": \"https://media.pichau.com.br/media/catalog/product/cache/2f958555330323e505eba7ce930bdf27/m/c/mcb-nr400-kg5n-s0034.jpg\", \"url_image3\": \"https://media.pichau.com.br/media/catalog/product/cache/2f958555330323e505eba7ce930bdf27/m/c/mcb-nr400-kg5n-s002.jpg\", \"url_image4\": \"https://media.pichau.com.br/media/catalog/product/cache/2f958555330323e505eba7ce930bdf27/m/c/mcb-nr400-kg5n-s0056.jpg\", \"url_image5\": \"https://media.pichau.com.br/media/catalog/product/cache/2f958555330323e505eba7ce930bdf27/m/c/mcb-nr400-kg5n-s008.jpg\"}, {\"potencia\": null, \"name\": \"Gabinete NZXT H200 Lateral em Vidro Preto/Vermelho, CA-H200B-BR\", \"stock_status\": \"OUT_OF_STOCK\", \"codigo_barra\": \"5060301694242\", \"is_openbox\": \"1970-01-01T00:00:00\", \"promotion_name\": null, \"qty_available\": \"\", \"qty_sold\": \"\", \"expire_at\": \"\", \"url_image0\": \"https://media.pichau.com.br/media/catalog/product/cache/2f958555330323e505eba7ce930bdf27/c/a/ca-h200b-br5.jpg\", \"url_image1\": \"https://media.pichau.com.br/media/catalog/product/cache/2f958555330323e505eba7ce930bdf27/c/a/ca-h200b-br.jpg\", \"value_promo\": 590.81, \"value_regular\": 590.81, \"value_cash\": 519.91, \"dt_hr_captura\": \"2022-07-21T22:51:38.117852\", \"url_image2\": \"https://media.pichau.com.br/media/catalog/product/cache/2f958555330323e505eba7ce930bdf27/c/a/ca-h200b-br1.jpg\", \"url_image3\": \"https://media.pichau.com.br/media/catalog/product/cache/2f958555330323e505eba7ce930bdf27/c/a/ca-h200b-br2.jpg\", \"url_image4\": \"https://media.pichau.com.br/media/catalog/product/cache/2f958555330323e505eba7ce930bdf27/c/a/ca-h200b-br3.jpg\", \"url_image5\": \"https://media.pichau.com.br/media/catalog/product/cache/2f958555330323e505eba7ce930bdf27/c/a/ca-h200b-br4.jpg\"}, {\"potencia\": null, \"name\": \"Adaptador de plugue bipolar Force Line Multiplicador para 4 tomadas, 0180100005 - BOX\", \"stock_status\": \"OUT_OF_STOCK\", \"codigo_barra\": null, \"is_openbox\": \"1970-01-01T00:00:00\", \"promotion_name\": null, \"qty_available\": \"\", \"qty_sold\": \"\", \"expire_at\": \"\", \"url_image0\": \"https://media.pichau.com.br/media/catalog/product/cache/2f958555330323e505eba7ce930bdf27/p/r/produto5246.7648df1237e702622d42d42a7721e38d.jpg\", \"url_image1\": null, \"value_promo\": 6.37, \"value_regular\": 6.37, \"value_cash\": 5.61, \"dt_hr_captura\": \"2022-07-21T22:51:38.648246\", \"url_image2\": null, \"url_image3\": null, \"url_image4\": null, \"url_image5\": null}, {\"potencia\": null, \"name\": \"Memoria G.Skill Trident Z Royal Elite, RGB, 16GB (2x8GB), DDR4, 5333MHz, C22, Dourada, F4-5333C22D-16GTEG\", \"stock_status\": \"OUT_OF_STOCK\", \"codigo_barra\": \"4713294228857\", \"is_openbox\": \"1970-01-01T00:00:00\", \"promotion_name\": null, \"qty_available\": \"\", \"qty_sold\": \"\", \"expire_at\": \"\", \"url_image0\": \"https://media.pichau.com.br/media/catalog/product/cache/2f958555330323e505eba7ce930bdf27/f/4/f4-5333c22d-16gteg_1.jpg\", \"url_image1\": \"https://media.pichau.com.br/media/catalog/product/cache/2f958555330323e505eba7ce930bdf27/f/4/f4-5333c22d-16gteg2.jpg\", \"value_promo\": 3992.44, \"value_regular\": 3992.44, \"value_cash\": 3513.35, \"dt_hr_captura\": \"2022-07-21T22:51:39.264155\", \"url_image2\": \"https://media.pichau.com.br/media/catalog/product/cache/2f958555330323e505eba7ce930bdf27/f/4/f4-5333c22d-16gteg1.jpg\", \"url_image3\": null, \"url_image4\": null, \"url_image5\": null}, {\"potencia\": null, \"name\": \"Fone com Microfone ASUS VULCAN-ANC, Pro Gaming Headset - BOX\", \"stock_status\": \"OUT_OF_STOCK\", \"codigo_barra\": null, \"is_openbox\": \"1970-01-01T00:00:00\", \"promotion_name\": null, \"qty_available\": \"\", \"qty_sold\": \"\", \"expire_at\": \"\", \"url_image0\": \"https://media.pichau.com.br/media/catalog/product/cache/2f958555330323e505eba7ce930bdf27/p/r/produto4432.1503bc8bf18b027fc8b90a6c6db2d011.jpg\", \"url_image1\": \"https://media.pichau.com.br/media/catalog/product/cache/2f958555330323e505eba7ce930bdf27/p/r/produto_detalhe7569.fbc6fef3a6a4307b3622d8e6aa3684b8.jpg\", \"value_promo\": 481.86, \"value_regular\": 481.86, \"value_cash\": 424.04, \"dt_hr_captura\": \"2022-07-21T22:51:40.893994\", \"url_image2\": \"https://media.pichau.com.br/media/catalog/product/cache/2f958555330323e505eba7ce930bdf27/p/r/produto_detalhe7570.6f3123235aa1ab80a24dc93e16cf0985.jpg\", \"url_image3\": \"https://media.pichau.com.br/media/catalog/product/cache/2f958555330323e505eba7ce930bdf27/p/r/produto_detalhe7571.6930b9d2634cdaa11c8012557d0fc9bd.jpg\", \"url_image4\": null, \"url_image5\": null}, {\"potencia\": null, \"name\": \"Fone com Microfone Corsair Vengeance 1300, CA-901111-WW - BOX\", \"stock_status\": \"OUT_OF_STOCK\", \"codigo_barra\": null, \"is_openbox\": \"1970-01-01T00:00:00\", \"promotion_name\": null, \"qty_available\": \"\", \"qty_sold\": \"\", \"expire_at\": \"\", \"url_image0\": \"https://media.pichau.com.br/media/catalog/product/cache/2f958555330323e505eba7ce930bdf27/1/3/1300_right_1_1_1_.png\", \"url_image1\": null, \"value_promo\": 249.41, \"value_regular\": 249.41, \"value_cash\": 219.48, \"dt_hr_captura\": \"2022-07-21T22:51:42.195544\", \"url_image2\": null, \"url_image3\": null, \"url_image4\": null, \"url_image5\": null}, {\"potencia\": null, \"name\": \"Cadeira Gamer ThunderX3 BC1 Boss Brown Chocolate, BC1 BB-CHOC 68837\", \"stock_status\": \"OUT_OF_STOCK\", \"codigo_barra\": \"4718009158344\", \"is_openbox\": \"1970-01-01T00:00:00\", \"promotion_name\": null, \"qty_available\": \"\", \"qty_sold\": \"\", \"expire_at\": \"\", \"url_image0\": \"https://media.pichau.com.br/media/catalog/product/cache/2f958555330323e505eba7ce930bdf27/b/c/bc1-bb-choc-688371.jpg\", \"url_image1\": \"https://media.pichau.com.br/media/catalog/product/cache/2f958555330323e505eba7ce930bdf27/b/c/bc1-bb-choc-688373.jpg\", \"value_promo\": 829.43, \"value_regular\": 829.43, \"value_cash\": 729.9, \"dt_hr_captura\": \"2022-07-21T22:51:43.589876\", \"url_image2\": \"https://media.pichau.com.br/media/catalog/product/cache/2f958555330323e505eba7ce930bdf27/b/c/bc1-bb-choc-68837.jpg\", \"url_image3\": \"https://media.pichau.com.br/media/catalog/product/cache/2f958555330323e505eba7ce930bdf27/b/c/bc1-bb-choc-688372.jpg\", \"url_image4\": null, \"url_image5\": null}, {\"potencia\": null, \"name\": \"Filtro de Linha Vinik 6 Tomadas FL1, Bivolt Preto - BOX\", \"stock_status\": \"OUT_OF_STOCK\", \"codigo_barra\": null, \"is_openbox\": \"1970-01-01T00:00:00\", \"promotion_name\": null, \"qty_available\": \"\", \"qty_sold\": \"\", \"expire_at\": \"\", \"url_image0\": \"https://media.pichau.com.br/media/catalog/product/cache/2f958555330323e505eba7ce930bdf27/1/_/1_18_187.jpg\", \"url_image1\": null, \"value_promo\": 19.0, \"value_regular\": 19.0, \"value_cash\": 16.72, \"dt_hr_captura\": \"2022-07-21T22:51:44.536075\", \"url_image2\": null, \"url_image3\": null, \"url_image4\": null, \"url_image5\": null}, {\"potencia\": null, \"name\": \"Computador Pichau Home HM115, AMD A6-7480, GeForce GT 610 2GB, 8GB DDR3, SSD 120GB\", \"stock_status\": \"OUT_OF_STOCK\", \"codigo_barra\": \"7908446207195\", \"is_openbox\": \"1970-01-01T00:00:00\", \"promotion_name\": null, \"qty_available\": \"\", \"qty_sold\": \"\", \"expire_at\": \"\", \"url_image0\": \"https://media.pichau.com.br/media/catalog/product/cache/2f958555330323e505eba7ce930bdf27/c/o/combat_amd_1030_01_4.jpg\", \"url_image1\": \"https://media.pichau.com.br/media/catalog/product/cache/2f958555330323e505eba7ce930bdf27/c/o/combat_amd_1030_02_4.jpg\", \"value_promo\": 2107.05, \"value_regular\": 2107.05, \"value_cash\": 1854.2, \"dt_hr_captura\": \"2022-07-21T22:51:45.780933\", \"url_image2\": \"https://media.pichau.com.br/media/catalog/product/cache/2f958555330323e505eba7ce930bdf27/c/o/combat_amd_1030_03_4.jpg\", \"url_image3\": \"https://media.pichau.com.br/media/catalog/product/cache/2f958555330323e505eba7ce930bdf27/c/o/combat_amd_1030_04_4.jpg\", \"url_image4\": \"https://media.pichau.com.br/media/catalog/product/cache/2f958555330323e505eba7ce930bdf27/c/o/combat_amd_1030_05_4.jpg\", \"url_image5\": \"https://media.pichau.com.br/media/catalog/product/cache/2f958555330323e505eba7ce930bdf27/c/o/combat_amd_1030_06_4.jpg\"}, {\"potencia\": \"3\", \"name\": \"Memoria Team Group T-Force Dark 8GB (1x8) DDR4 2666Mhz Vermelha, TDRED48G2666HC15B01\", \"stock_status\": \"OUT_OF_STOCK\", \"codigo_barra\": \"765441635647\", \"is_openbox\": \"1970-01-01T00:00:00\", \"promotion_name\": null, \"qty_available\": \"\", \"qty_sold\": \"\", \"expire_at\": \"\", \"url_image0\": \"https://media.pichau.com.br/media/catalog/product/cache/2f958555330323e505eba7ce930bdf27/t/d/tdred48g2666hc15b01.jpg\", \"url_image1\": \"https://media.pichau.com.br/media/catalog/product/cache/2f958555330323e505eba7ce930bdf27/t/d/tdred48g2666hc15b011.jpg\", \"value_promo\": 282.96, \"value_regular\": 282.96, \"value_cash\": 249.0, \"dt_hr_captura\": \"2022-07-21T22:51:46.688457\", \"url_image2\": null, \"url_image3\": null, \"url_image4\": null, \"url_image5\": null}, {\"potencia\": null, \"name\": \"SSD Crucial P1 1TB M.2 2280 3D NAND NVMe, CT1000P1SSD8\", \"stock_status\": \"OUT_OF_STOCK\", \"codigo_barra\": \"0649528787354\", \"is_openbox\": \"1970-01-01T00:00:00\", \"promotion_name\": null, \"qty_available\": \"\", \"qty_sold\": \"\", \"expire_at\": \"\", \"url_image0\": \"https://media.pichau.com.br/media/catalog/product/cache/2f958555330323e505eba7ce930bdf27/c/t/ct1000p1ssd8.jpg\", \"url_image1\": null, \"value_promo\": 782.98, \"value_regular\": 782.98, \"value_cash\": 689.02, \"dt_hr_captura\": \"2022-07-21T22:51:48.172986\", \"url_image2\": null, \"url_image3\": null, \"url_image4\": null, \"url_image5\": null}, {\"potencia\": \"57\", \"name\": \"Memoria Crucial Ballistix Sport LT 4GB (1x4) DDR4 2400MHz Vermelho, BLS4G4D240FSE\", \"stock_status\": \"OUT_OF_STOCK\", \"codigo_barra\": \"0649528777225\", \"is_openbox\": \"1970-01-01T00:00:00\", \"promotion_name\": null, \"qty_available\": \"\", \"qty_sold\": \"\", \"expire_at\": \"\", \"url_image0\": \"https://media.pichau.com.br/media/catalog/product/cache/2f958555330323e505eba7ce930bdf27/b/l/bls4g4d240fse.jpg\", \"url_image1\": null, \"value_promo\": 227.17, \"value_regular\": 227.17, \"value_cash\": 199.91, \"dt_hr_captura\": \"2022-07-21T22:51:49.046554\", \"url_image2\": null, \"url_image3\": null, \"url_image4\": null, \"url_image5\": null}, {\"potencia\": null, \"name\": \"Cabo HDMI 2.0 ELG, 4K Ultra HD, 2,5m, Preto, HD25\", \"stock_status\": \"OUT_OF_STOCK\", \"codigo_barra\": \"7898378704360\", \"is_openbox\": \"1970-01-01T00:00:00\", \"promotion_name\": null, \"qty_available\": \"\", \"qty_sold\": \"\", \"expire_at\": \"\", \"url_image0\": \"https://media.pichau.com.br/media/catalog/product/cache/2f958555330323e505eba7ce930bdf27/h/d/hd25.jpg\", \"url_image1\": \"https://media.pichau.com.br/media/catalog/product/cache/2f958555330323e505eba7ce930bdf27/h/d/hd251.jpg\", \"value_promo\": 33.98, \"value_regular\": 33.98, \"value_cash\": 29.9, \"dt_hr_captura\": \"2022-07-21T22:51:50.810394\", \"url_image2\": null, \"url_image3\": null, \"url_image4\": null, \"url_image5\": null}, {\"potencia\": null, \"name\": \"Fonte Thermaltake Smart M 850W Modular, Certificado 80 Plus Bronze, PFC Ativo, SP-850M - BOX\", \"stock_status\": \"OUT_OF_STOCK\", \"codigo_barra\": \"4716872054121\", \"is_openbox\": \"1970-01-01T00:00:00\", \"promotion_name\": null, \"qty_available\": \"\", \"qty_sold\": \"\", \"expire_at\": \"\", \"url_image0\": \"https://media.pichau.com.br/media/catalog/product/cache/2f958555330323e505eba7ce930bdf27/p/r/produto_detalhe7384.c87e5a8e9d88ef27791705210545527f.jpg\", \"url_image1\": \"https://media.pichau.com.br/media/catalog/product/cache/2f958555330323e505eba7ce930bdf27/p/r/produto4304.177f6f9b3d88d394fcafd92f7199f282.jpg\", \"value_promo\": 590.81, \"value_regular\": 590.81, \"value_cash\": 519.91, \"dt_hr_captura\": \"2022-07-21T22:51:52.501118\", \"url_image2\": \"https://media.pichau.com.br/media/catalog/product/cache/2f958555330323e505eba7ce930bdf27/p/r/produto_detalhe7385.b1c31a081b900a44d131707bb6015864.jpg\", \"url_image3\": null, \"url_image4\": null, \"url_image5\": null}, {\"potencia\": \"160\", \"name\": \"Placa de Video Galax GeForce RTX 2060 Plus 1-Click OC, 6GB, GDDR6, 192-bit, 26NRL7HP68CX\", \"stock_status\": \"OUT_OF_STOCK\", \"codigo_barra\": \"4895147142111\", \"is_openbox\": \"1970-01-01T00:00:00\", \"promotion_name\": null, \"qty_available\": \"\", \"qty_sold\": \"\", \"expire_at\": \"\", \"url_image0\": \"https://media.pichau.com.br/media/catalog/product/cache/2f958555330323e505eba7ce930bdf27/2/6/26nrl7hp68cx1.jpg\", \"url_image1\": \"https://media.pichau.com.br/media/catalog/product/cache/2f958555330323e505eba7ce930bdf27/2/6/26nrl7hp68cx.jpg\", \"value_promo\": 3128.08, \"value_regular\": 3128.08, \"value_cash\": 2752.71, \"dt_hr_captura\": \"2022-07-21T22:51:53.016229\", \"url_image2\": \"https://media.pichau.com.br/media/catalog/product/cache/2f958555330323e505eba7ce930bdf27/2/6/26nrl7hp68cx5.jpg\", \"url_image3\": \"https://media.pichau.com.br/media/catalog/product/cache/2f958555330323e505eba7ce930bdf27/2/6/26nrl7hp68cx2.jpg\", \"url_image4\": \"https://media.pichau.com.br/media/catalog/product/cache/2f958555330323e505eba7ce930bdf27/2/6/26nrl7hp68cx4.jpg\", \"url_image5\": \"https://media.pichau.com.br/media/catalog/product/cache/2f958555330323e505eba7ce930bdf27/2/6/26nrl7hp68cx3.jpg\"}, {\"potencia\": null, \"name\": \"Memoria G.Skill Trident Z5 RGB, 32GB (2x16GB), DDR5, 5600MHz, C40, Prata, F5-5600J4040C16GX2-TZ5RS\", \"stock_status\": \"IN_STOCK\", \"codigo_barra\": \"4713294230775\", \"is_openbox\": \"1970-01-01T00:00:00\", \"promotion_name\": \"Ferias com o Pombo\", \"qty_available\": \"1970-01-01T00:00:00.000000005\", \"qty_sold\": \"1970-01-01T00:00:00\", \"expire_at\": \"2022-08-01T17:00:00\", \"url_image0\": \"https://media.pichau.com.br/media/catalog/product/cache/2f958555330323e505eba7ce930bdf27/f/5/f5-5600j4040c16gx2-tz5rs3.jpg\", \"url_image1\": \"https://media.pichau.com.br/media/catalog/product/cache/2f958555330323e505eba7ce930bdf27/f/5/f5-5600j4040c16gx2-tz5rs.jpg\", \"value_promo\": 4069.18, \"value_regular\": 4500.03, \"value_cash\": 3580.88, \"dt_hr_captura\": \"2022-07-21T22:51:54.733833\", \"url_image2\": \"https://media.pichau.com.br/media/catalog/product/cache/2f958555330323e505eba7ce930bdf27/f/5/f5-5600j4040c16gx2-tz5rs1.jpg\", \"url_image3\": \"https://media.pichau.com.br/media/catalog/product/cache/2f958555330323e505eba7ce930bdf27/f/5/f5-5600j4040c16gx2-tz5rs2.jpg\", \"url_image4\": null, \"url_image5\": null}, {\"potencia\": null, \"name\": \"Teclado Mecanico Gamer Cooler Master CK530 V2, RGB, Switch Marrom, CK-530-GKTM1-US\", \"stock_status\": \"OUT_OF_STOCK\", \"codigo_barra\": \"4719512101919\", \"is_openbox\": \"1970-01-01T00:00:00\", \"promotion_name\": null, \"qty_available\": \"\", \"qty_sold\": \"\", \"expire_at\": \"\", \"url_image0\": \"https://media.pichau.com.br/media/catalog/product/cache/2f958555330323e505eba7ce930bdf27/c/k/ck-530-gktm1-us5.jpg\", \"url_image1\": \"https://media.pichau.com.br/media/catalog/product/cache/2f958555330323e505eba7ce930bdf27/c/k/ck-530-gktm1-us4.jpg\", \"value_promo\": 545.34, \"value_regular\": 545.34, \"value_cash\": 479.9, \"dt_hr_captura\": \"2022-07-21T22:51:55.547929\", \"url_image2\": \"https://media.pichau.com.br/media/catalog/product/cache/2f958555330323e505eba7ce930bdf27/c/k/ck-530-gktm1-us3.jpg\", \"url_image3\": \"https://media.pichau.com.br/media/catalog/product/cache/2f958555330323e505eba7ce930bdf27/c/k/ck-530-gktm1-us2.jpg\", \"url_image4\": \"https://media.pichau.com.br/media/catalog/product/cache/2f958555330323e505eba7ce930bdf27/c/k/ck-530-gktm1-us1.jpg\", \"url_image5\": \"https://media.pichau.com.br/media/catalog/product/cache/2f958555330323e505eba7ce930bdf27/c/k/ck-530-gktm1-us.jpg\"}, {\"potencia\": null, \"name\": \"Gabinete Bluecase BG-2523 Preto + Fonte 250W, BG2523GCASE\", \"stock_status\": \"OUT_OF_STOCK\", \"codigo_barra\": \"5000000039227\", \"is_openbox\": \"1970-01-01T00:00:00\", \"promotion_name\": null, \"qty_available\": \"\", \"qty_sold\": \"\", \"expire_at\": \"\", \"url_image0\": \"https://media.pichau.com.br/media/catalog/product/cache/2f958555330323e505eba7ce930bdf27/b/g/bg2523gcase.jpg\", \"url_image1\": \"https://media.pichau.com.br/media/catalog/product/cache/2f958555330323e505eba7ce930bdf27/b/g/bg2523gcase1.jpg\", \"value_promo\": 185.48, \"value_regular\": 185.48, \"value_cash\": 163.22, \"dt_hr_captura\": \"2022-07-21T22:51:56.721892\", \"url_image2\": \"https://media.pichau.com.br/media/catalog/product/cache/2f958555330323e505eba7ce930bdf27/b/g/bg2523gcase2.jpg\", \"url_image3\": \"https://media.pichau.com.br/media/catalog/product/cache/2f958555330323e505eba7ce930bdf27/b/g/bg2523gcase4.jpg\", \"url_image4\": \"https://media.pichau.com.br/media/catalog/product/cache/2f958555330323e505eba7ce930bdf27/b/g/bg2523gcase3.jpg\", \"url_image5\": null}, {\"potencia\": \"35\", \"name\": \"Memoria Crucial Ballistix Elite 4GB (1x4) DDR4 2666MHz Preta, BLE4G4D26AFEA\", \"stock_status\": \"OUT_OF_STOCK\", \"codigo_barra\": \"649528770516\", \"is_openbox\": \"1970-01-01T00:00:00\", \"promotion_name\": null, \"qty_available\": \"\", \"qty_sold\": \"\", \"expire_at\": \"\", \"url_image0\": \"https://media.pichau.com.br/media/catalog/product/cache/2f958555330323e505eba7ce930bdf27/b/l/ble4g4d30aeea_1.jpg\", \"url_image1\": null, \"value_promo\": 370.0, \"value_regular\": 370.0, \"value_cash\": 325.6, \"dt_hr_captura\": \"2022-07-21T22:51:57.605751\", \"url_image2\": null, \"url_image3\": null, \"url_image4\": null, \"url_image5\": null}, {\"potencia\": null, \"name\": \"SSD Adata XPG SX6000 256GB M.2 2280 NVMe, ASX6000NP-256GT-C\", \"stock_status\": \"OUT_OF_STOCK\", \"codigo_barra\": \"4713218461414\", \"is_openbox\": \"1970-01-01T00:00:00\", \"promotion_name\": null, \"qty_available\": \"\", \"qty_sold\": \"\", \"expire_at\": \"\", \"url_image0\": \"https://media.pichau.com.br/media/catalog/product/cache/2f958555330323e505eba7ce930bdf27/a/s/asx6000np-256gt-c.jpg\", \"url_image1\": null, \"value_promo\": 567.06, \"value_regular\": 567.06, \"value_cash\": 499.01, \"dt_hr_captura\": \"2022-07-21T22:51:58.209781\", \"url_image2\": null, \"url_image3\": null, \"url_image4\": null, \"url_image5\": null}, {\"potencia\": null, \"name\": \"Fonte DeepCool DA500 ATX 80Plus Bronze 500W, DP-BZ-DA500N\", \"stock_status\": \"OUT_OF_STOCK\", \"codigo_barra\": \"6933412798699\", \"is_openbox\": \"1970-01-01T00:00:00\", \"promotion_name\": null, \"qty_available\": \"\", \"qty_sold\": \"\", \"expire_at\": \"\", \"url_image0\": \"https://media.pichau.com.br/media/catalog/product/cache/2f958555330323e505eba7ce930bdf27/d/p/dp-bz-da500n3.jpg\", \"url_image1\": \"https://media.pichau.com.br/media/catalog/product/cache/2f958555330323e505eba7ce930bdf27/d/p/dp-bz-da500n.jpg\", \"value_promo\": 340.8, \"value_regular\": 340.8, \"value_cash\": 299.9, \"dt_hr_captura\": \"2022-07-21T22:51:59.388218\", \"url_image2\": \"https://media.pichau.com.br/media/catalog/product/cache/2f958555330323e505eba7ce930bdf27/d/p/dp-bz-da500n2.jpg\", \"url_image3\": \"https://media.pichau.com.br/media/catalog/product/cache/2f958555330323e505eba7ce930bdf27/d/p/dp-bz-da500n1.jpg\", \"url_image4\": null, \"url_image5\": null}, {\"potencia\": null, \"name\": \"Mouse Wireless Genius NX-7000 BlueEye Verde 1200Dpi, 31030109121\", \"stock_status\": \"OUT_OF_STOCK\", \"codigo_barra\": \"4710268250869\", \"is_openbox\": \"1970-01-01T00:00:00\", \"promotion_name\": null, \"qty_available\": \"\", \"qty_sold\": \"\", \"expire_at\": \"\", \"url_image0\": \"https://media.pichau.com.br/media/catalog/product/cache/2f958555330323e505eba7ce930bdf27/3/1/31793-4_100516095016.jpg\", \"url_image1\": \"https://media.pichau.com.br/media/catalog/product/cache/2f958555330323e505eba7ce930bdf27/3/1/31793-4_100516095011.jpg\", \"value_promo\": 32.84, \"value_regular\": 32.84, \"value_cash\": 28.9, \"dt_hr_captura\": \"2022-07-21T22:52:00.274372\", \"url_image2\": null, \"url_image3\": null, \"url_image4\": null, \"url_image5\": null}, {\"potencia\": null, \"name\": \"Mouse AOC AGON Preto USB, AGM3050/D\", \"stock_status\": \"OUT_OF_STOCK\", \"codigo_barra\": \"6923408911232\", \"is_openbox\": \"1970-01-01T00:00:00\", \"promotion_name\": null, \"qty_available\": \"\", \"qty_sold\": \"\", \"expire_at\": \"\", \"url_image0\": \"https://media.pichau.com.br/media/catalog/product/cache/2f958555330323e505eba7ce930bdf27/a/g/agm3050-d3213233.jpg\", \"url_image1\": \"https://media.pichau.com.br/media/catalog/product/cache/2f958555330323e505eba7ce930bdf27/a/g/agm3050-d321321.jpg\", \"value_promo\": 203.4, \"value_regular\": 203.4, \"value_cash\": 178.99, \"dt_hr_captura\": \"2022-07-21T22:52:01.118624\", \"url_image2\": \"https://media.pichau.com.br/media/catalog/product/cache/2f958555330323e505eba7ce930bdf27/a/g/agm3050-d321322.jpg\", \"url_image3\": \"https://media.pichau.com.br/media/catalog/product/cache/2f958555330323e505eba7ce930bdf27/a/g/agm3050-d32132.jpg\", \"url_image4\": null, \"url_image5\": null}, {\"potencia\": null, \"name\": \"Gabinete SENTEY Gamer, GS-6400B ENTUSIASTA ARVINA AZUL - BOX\", \"stock_status\": \"OUT_OF_STOCK\", \"codigo_barra\": null, \"is_openbox\": \"1970-01-01T00:00:00\", \"promotion_name\": null, \"qty_available\": \"\", \"qty_sold\": \"\", \"expire_at\": \"\", \"url_image0\": \"https://media.pichau.com.br/media/catalog/product/cache/2f958555330323e505eba7ce930bdf27/5/_/5_1_14.jpg\", \"url_image1\": \"https://media.pichau.com.br/media/catalog/product/cache/2f958555330323e505eba7ce930bdf27/8/_/8_2.jpg\", \"value_promo\": 539.0, \"value_regular\": 539.0, \"value_cash\": 474.32, \"dt_hr_captura\": \"2022-07-21T22:52:02.195410\", \"url_image2\": \"https://media.pichau.com.br/media/catalog/product/cache/2f958555330323e505eba7ce930bdf27/7/_/7_8.jpg\", \"url_image3\": \"https://media.pichau.com.br/media/catalog/product/cache/2f958555330323e505eba7ce930bdf27/6/_/6_10.jpg\", \"url_image4\": \"https://media.pichau.com.br/media/catalog/product/cache/2f958555330323e505eba7ce930bdf27/3/_/3_24.jpg\", \"url_image5\": \"https://media.pichau.com.br/media/catalog/product/cache/2f958555330323e505eba7ce930bdf27/1/_/1_18_8.jpg\"}, {\"potencia\": null, \"name\": \"Computador Pichau Home HM118, AMD A12-9800E, 8GB DDR4, SSD 240GB\", \"stock_status\": \"OUT_OF_STOCK\", \"codigo_barra\": \"7908446207775\", \"is_openbox\": \"1970-01-01T00:00:00\", \"promotion_name\": null, \"qty_available\": \"\", \"qty_sold\": \"\", \"expire_at\": \"\", \"url_image0\": \"https://media.pichau.com.br/media/catalog/product/cache/2f958555330323e505eba7ce930bdf27/c/o/combat_amd_sgpu_01_3.jpg\", \"url_image1\": \"https://media.pichau.com.br/media/catalog/product/cache/2f958555330323e505eba7ce930bdf27/c/o/combat_amd_sgpu_02_3.jpg\", \"value_promo\": 2598.15, \"value_regular\": 2598.15, \"value_cash\": 2286.37, \"dt_hr_captura\": \"2022-07-21T22:52:03.945395\", \"url_image2\": \"https://media.pichau.com.br/media/catalog/product/cache/2f958555330323e505eba7ce930bdf27/c/o/combat_amd_sgpu_03_3.jpg\", \"url_image3\": \"https://media.pichau.com.br/media/catalog/product/cache/2f958555330323e505eba7ce930bdf27/c/o/combat_amd_sgpu_04_3.jpg\", \"url_image4\": \"https://media.pichau.com.br/media/catalog/product/cache/2f958555330323e505eba7ce930bdf27/c/o/combat_amd_sgpu_05_3.jpg\", \"url_image5\": \"https://media.pichau.com.br/media/catalog/product/cache/2f958555330323e505eba7ce930bdf27/c/o/combat_amd_sgpu_06_3.jpg\"}, {\"potencia\": null, \"name\": \"Camiseta Gamer Pichau Gamer Raiz Preta Tamanho P, PG-GR-P-P\", \"stock_status\": \"OUT_OF_STOCK\", \"codigo_barra\": null, \"is_openbox\": \"1970-01-01T00:00:00\", \"promotion_name\": null, \"qty_available\": \"\", \"qty_sold\": \"\", \"expire_at\": \"\", \"url_image0\": \"https://media.pichau.com.br/media/catalog/product/cache/2f958555330323e505eba7ce930bdf27/p/g/pg-gr-p1.jpg\", \"url_image1\": \"https://media.pichau.com.br/media/catalog/product/cache/2f958555330323e505eba7ce930bdf27/p/g/pg-gr-p.jpg\", \"value_promo\": 45.44, \"value_regular\": 45.44, \"value_cash\": 39.99, \"dt_hr_captura\": \"2022-07-21T22:52:05.608973\", \"url_image2\": null, \"url_image3\": null, \"url_image4\": null, \"url_image5\": null}, {\"potencia\": null, \"name\": \"Hd Externo Toshiba Canvio Connect II 1TB USB 3.0 Azul, HDTC810XL3A1\", \"stock_status\": \"OUT_OF_STOCK\", \"codigo_barra\": \"022265902363\", \"is_openbox\": \"1970-01-01T00:00:00\", \"promotion_name\": null, \"qty_available\": \"\", \"qty_sold\": \"\", \"expire_at\": \"\", \"url_image0\": \"https://media.pichau.com.br/media/catalog/product/cache/2f958555330323e505eba7ce930bdf27/h/d/hdtc810xl3a12.jpg\", \"url_image1\": \"https://media.pichau.com.br/media/catalog/product/cache/2f958555330323e505eba7ce930bdf27/h/d/hdtc810xl3a1.jpg\", \"value_promo\": 339.9, \"value_regular\": 339.9, \"value_cash\": 299.11, \"dt_hr_captura\": \"2022-07-21T22:52:06.489225\", \"url_image2\": \"https://media.pichau.com.br/media/catalog/product/cache/2f958555330323e505eba7ce930bdf27/h/d/hdtc810xl3a13.jpg\", \"url_image3\": \"https://media.pichau.com.br/media/catalog/product/cache/2f958555330323e505eba7ce930bdf27/h/d/hdtc810xl3a14.jpg\", \"url_image4\": \"https://media.pichau.com.br/media/catalog/product/cache/2f958555330323e505eba7ce930bdf27/h/d/hdtc810xl3a16.jpg\", \"url_image5\": \"https://media.pichau.com.br/media/catalog/product/cache/2f958555330323e505eba7ce930bdf27/h/d/hdtc810xl3a15.jpg\"}, {\"potencia\": null, \"name\": \"Almofada De Reposi\\u00e7\\u00e3o Para Headset Thresher Oval, RC30-01480600-R3M1\", \"stock_status\": \"OUT_OF_STOCK\", \"codigo_barra\": \"8886419382218\", \"is_openbox\": \"1970-01-01T00:00:00\", \"promotion_name\": null, \"qty_available\": \"\", \"qty_sold\": \"\", \"expire_at\": \"\", \"url_image0\": \"https://media.pichau.com.br/media/catalog/product/cache/2f958555330323e505eba7ce930bdf27/r/c/rc30-01480600-r3m1.jpg\", \"url_image1\": null, \"value_promo\": 90.8, \"value_regular\": 90.8, \"value_cash\": 79.9, \"dt_hr_captura\": \"2022-07-21T22:52:07.381457\", \"url_image2\": null, \"url_image3\": null, \"url_image4\": null, \"url_image5\": null}, {\"potencia\": \"65\", \"name\": \"Processador AMD A8-9600 Quad-Core 3.1GHz (3.4GHz Turbo) 2MB Cache AM4, AD9600AGABBOX\", \"stock_status\": \"OUT_OF_STOCK\", \"codigo_barra\": \"0730143308618\", \"is_openbox\": \"1970-01-01T00:00:00\", \"promotion_name\": null, \"qty_available\": \"\", \"qty_sold\": \"\", \"expire_at\": \"\", \"url_image0\": \"https://media.pichau.com.br/media/catalog/product/cache/2f958555330323e505eba7ce930bdf27/a/d/ad9600agabbox.jpg\", \"url_image1\": null, \"value_promo\": 511.25, \"value_regular\": 511.25, \"value_cash\": 449.9, \"dt_hr_captura\": \"2022-07-21T22:52:08.264010\", \"url_image2\": null, \"url_image3\": null, \"url_image4\": null, \"url_image5\": null}, {\"potencia\": null, \"name\": \"Gabinete Gamer AZZA Crimson 211G Lateral de Vidro LED Vermelho, CSAZ-211G\", \"stock_status\": \"OUT_OF_STOCK\", \"codigo_barra\": \"0690568011664\", \"is_openbox\": \"1970-01-01T00:00:00\", \"promotion_name\": null, \"qty_available\": \"\", \"qty_sold\": \"\", \"expire_at\": \"\", \"url_image0\": \"https://media.pichau.com.br/media/catalog/product/cache/2f958555330323e505eba7ce930bdf27/a/z/azza-211g5.jpg\", \"url_image1\": \"https://media.pichau.com.br/media/catalog/product/cache/2f958555330323e505eba7ce930bdf27/a/z/azza-211g3.jpg\", \"value_promo\": 363.52, \"value_regular\": 363.52, \"value_cash\": 319.9, \"dt_hr_captura\": \"2022-07-21T22:52:09.052317\", \"url_image2\": \"https://media.pichau.com.br/media/catalog/product/cache/2f958555330323e505eba7ce930bdf27/a/z/azza-211g4.jpg\", \"url_image3\": \"https://media.pichau.com.br/media/catalog/product/cache/2f958555330323e505eba7ce930bdf27/a/z/azza-211g2.jpg\", \"url_image4\": \"https://media.pichau.com.br/media/catalog/product/cache/2f958555330323e505eba7ce930bdf27/a/z/azza-211g1.jpg\", \"url_image5\": \"https://media.pichau.com.br/media/catalog/product/cache/2f958555330323e505eba7ce930bdf27/a/z/azza-211g7.jpg\"}, {\"potencia\": null, \"name\": \"Headset Gamer HyperX Cloud Stinger Core, Wireless, Som Surround 7.1, Drivers 40mm, Preto, HHSS1C-BA-BK/G\", \"stock_status\": \"OUT_OF_STOCK\", \"codigo_barra\": \"0740617299809\", \"is_openbox\": \"1970-01-01T00:00:00\", \"promotion_name\": null, \"qty_available\": \"\", \"qty_sold\": \"\", \"expire_at\": \"\", \"url_image0\": \"https://media.pichau.com.br/media/catalog/product/cache/2f958555330323e505eba7ce930bdf27/h/h/hhss1c-ba-bkg6.jpg\", \"url_image1\": \"https://media.pichau.com.br/media/catalog/product/cache/2f958555330323e505eba7ce930bdf27/h/h/hhss1c-ba-bkg4.jpg\", \"value_promo\": 727.16, \"value_regular\": 727.16, \"value_cash\": 639.9, \"dt_hr_captura\": \"2022-07-21T22:52:09.883371\", \"url_image2\": \"https://media.pichau.com.br/media/catalog/product/cache/2f958555330323e505eba7ce930bdf27/h/h/hhss1c-ba-bkg3.jpg\", \"url_image3\": \"https://media.pichau.com.br/media/catalog/product/cache/2f958555330323e505eba7ce930bdf27/h/h/hhss1c-ba-bkg12.jpg\", \"url_image4\": \"https://media.pichau.com.br/media/catalog/product/cache/2f958555330323e505eba7ce930bdf27/h/h/hhss1c-ba-bkg.jpg\", \"url_image5\": \"https://media.pichau.com.br/media/catalog/product/cache/2f958555330323e505eba7ce930bdf27/h/h/hhss1c-ba-bkg5.jpg\"}, {\"potencia\": \"290\", \"name\": \"Placa de Video Gainward GeForce RTX 3070 Ti Phoenix, 8GB,  GDDR6X, 256-bit, NED307T019P2-1046X-NAC\", \"stock_status\": \"IN_STOCK\", \"codigo_barra\": \"4710562242713\", \"is_openbox\": \"1970-01-01T00:00:00\", \"promotion_name\": \"Ferias com o Pombo\", \"qty_available\": \"1970-01-01T00:00:00.000000001\", \"qty_sold\": \"1970-01-01T00:00:00\", \"expire_at\": \"2022-08-01T17:00:00\", \"url_image0\": \"https://media.pichau.com.br/media/catalog/product/cache/2f958555330323e505eba7ce930bdf27/n/e/ned307t019p2-1046x-nac6.jpg\", \"url_image1\": \"https://media.pichau.com.br/media/catalog/product/cache/2f958555330323e505eba7ce930bdf27/n/e/ned307t019p2-1046x-nac5.jpg\", \"value_promo\": 8465.9, \"value_regular\": 10454.43, \"value_cash\": 7449.99, \"dt_hr_captura\": \"2022-07-21T22:52:12.791851\", \"url_image2\": \"https://media.pichau.com.br/media/catalog/product/cache/2f958555330323e505eba7ce930bdf27/n/e/ned307t019p2-1046x-nac4.jpg\", \"url_image3\": \"https://media.pichau.com.br/media/catalog/product/cache/2f958555330323e505eba7ce930bdf27/n/e/ned307t019p2-1046x-nac3.jpg\", \"url_image4\": \"https://media.pichau.com.br/media/catalog/product/cache/2f958555330323e505eba7ce930bdf27/n/e/ned307t019p2-1046x-nac2.jpg\", \"url_image5\": \"https://media.pichau.com.br/media/catalog/product/cache/2f958555330323e505eba7ce930bdf27/n/e/ned307t019p2-1046x-nac1.jpg\"}, {\"potencia\": \"75\", \"name\": \"Placa de Video Zotac GeForce GTX 1650 4GB GDDR5 OC 128-bit, ZT-T16500F-10L\", \"stock_status\": \"OUT_OF_STOCK\", \"codigo_barra\": \"4895173618604\", \"is_openbox\": \"1970-01-01T00:00:00\", \"promotion_name\": null, \"qty_available\": \"\", \"qty_sold\": \"\", \"expire_at\": \"\", \"url_image0\": \"https://media.pichau.com.br/media/catalog/product/cache/2f958555330323e505eba7ce930bdf27/z/t/zt-t16500f-10l4.jpg\", \"url_image1\": \"https://media.pichau.com.br/media/catalog/product/cache/2f958555330323e505eba7ce930bdf27/z/t/zt-t16500f-10l5.jpg\", \"value_promo\": 863.61, \"value_regular\": 863.61, \"value_cash\": 759.98, \"dt_hr_captura\": \"2022-07-21T22:52:13.649143\", \"url_image2\": \"https://media.pichau.com.br/media/catalog/product/cache/2f958555330323e505eba7ce930bdf27/z/t/zt-t16500f-10l1.jpg\", \"url_image3\": \"https://media.pichau.com.br/media/catalog/product/cache/2f958555330323e505eba7ce930bdf27/z/t/zt-t16500f-10l.jpg\", \"url_image4\": \"https://media.pichau.com.br/media/catalog/product/cache/2f958555330323e505eba7ce930bdf27/z/t/zt-t16500f-10l3.jpg\", \"url_image5\": \"https://media.pichau.com.br/media/catalog/product/cache/2f958555330323e505eba7ce930bdf27/z/t/zt-t16500f-10l2.jpg\"}, {\"potencia\": null, \"name\": \"Mousepad Rise Black Mode Gamer Grande Costurado, RG-MP-05-FBK\", \"stock_status\": \"OUT_OF_STOCK\", \"codigo_barra\": \"7895099201017\", \"is_openbox\": \"1970-01-01T00:00:00\", \"promotion_name\": null, \"qty_available\": \"\", \"qty_sold\": \"\", \"expire_at\": \"\", \"url_image0\": \"https://media.pichau.com.br/media/catalog/product/cache/2f958555330323e505eba7ce930bdf27/r/g/rg-mp-05-fbk-013.jpg\", \"url_image1\": \"https://media.pichau.com.br/media/catalog/product/cache/2f958555330323e505eba7ce930bdf27/r/g/rg-mp-05-fbk-011.jpg\", \"value_promo\": 33.97, \"value_regular\": 33.97, \"value_cash\": 29.89, \"dt_hr_captura\": \"2022-07-21T22:52:15.282241\", \"url_image2\": \"https://media.pichau.com.br/media/catalog/product/cache/2f958555330323e505eba7ce930bdf27/r/g/rg-mp-05-fbk-014.jpg\", \"url_image3\": \"https://media.pichau.com.br/media/catalog/product/cache/2f958555330323e505eba7ce930bdf27/r/g/rg-mp-05-fbk-015.jpg\", \"url_image4\": \"https://media.pichau.com.br/media/catalog/product/cache/2f958555330323e505eba7ce930bdf27/r/g/rg-mp-05-fbk-012.jpg\", \"url_image5\": \"https://media.pichau.com.br/media/catalog/product/cache/2f958555330323e505eba7ce930bdf27/r/g/rg-mp-05-fbk-01.jpg\"}, {\"potencia\": \"3\", \"name\": \"Ventoinha Dex 120mm LED Roxo, DX-12L RX\", \"stock_status\": \"OUT_OF_STOCK\", \"codigo_barra\": \"6955581350645\", \"is_openbox\": \"1970-01-01T00:00:00\", \"promotion_name\": null, \"qty_available\": \"\", \"qty_sold\": \"\", \"expire_at\": \"\", \"url_image0\": \"https://media.pichau.com.br/media/catalog/product/cache/2f958555330323e505eba7ce930bdf27/d/x/dx-12l-rx.jpg\", \"url_image1\": \"https://media.pichau.com.br/media/catalog/product/cache/2f958555330323e505eba7ce930bdf27/d/x/dx-12l-rx-2.jpg\", \"value_promo\": 12.39, \"value_regular\": 12.39, \"value_cash\": 10.9, \"dt_hr_captura\": \"2022-07-21T22:52:16.677939\", \"url_image2\": null, \"url_image3\": null, \"url_image4\": null, \"url_image5\": null}, {\"potencia\": null, \"name\": \"Fonte Vinik 500W, VX500 - BOX\", \"stock_status\": \"OUT_OF_STOCK\", \"codigo_barra\": null, \"is_openbox\": \"1970-01-01T00:00:00\", \"promotion_name\": null, \"qty_available\": \"\", \"qty_sold\": \"\", \"expire_at\": \"\", \"url_image0\": \"https://media.pichau.com.br/media/catalog/product/cache/2f958555330323e505eba7ce930bdf27/5/_/5_1_79.jpg\", \"url_image1\": \"https://media.pichau.com.br/media/catalog/product/cache/2f958555330323e505eba7ce930bdf27/1/_/1_18_182.jpg\", \"value_promo\": 199.0, \"value_regular\": 199.0, \"value_cash\": 175.12, \"dt_hr_captura\": \"2022-07-21T22:52:17.684279\", \"url_image2\": \"https://media.pichau.com.br/media/catalog/product/cache/2f958555330323e505eba7ce930bdf27/7/_/7_1_13.jpg\", \"url_image3\": \"https://media.pichau.com.br/media/catalog/product/cache/2f958555330323e505eba7ce930bdf27/4/_/4_120.jpg\", \"url_image4\": \"https://media.pichau.com.br/media/catalog/product/cache/2f958555330323e505eba7ce930bdf27/2/_/2_11_164.jpg\", \"url_image5\": \"https://media.pichau.com.br/media/catalog/product/cache/2f958555330323e505eba7ce930bdf27/3/_/3_153.jpg\"}, {\"potencia\": null, \"name\": \"Caixa de Som JBL GO 3 Bluetooth 4.2W Preto, JBLGO3BLK\", \"stock_status\": \"IN_STOCK\", \"codigo_barra\": \"6925281975615\", \"is_openbox\": \"1970-01-01T00:00:00\", \"promotion_name\": \"Ferias com o Pombo\", \"qty_available\": \"1970-01-01T00:00:00.000000004\", \"qty_sold\": \"1970-01-01T00:00:00.000000009\", \"expire_at\": \"2022-08-01T17:00:00\", \"url_image0\": \"https://media.pichau.com.br/media/catalog/product/cache/2f958555330323e505eba7ce930bdf27/j/b/jblgo3blk3.jpg\", \"url_image1\": \"https://media.pichau.com.br/media/catalog/product/cache/2f958555330323e505eba7ce930bdf27/j/b/jblgo3blk1.jpg\", \"value_promo\": 248.86, \"value_regular\": 272.61, \"value_cash\": 219.0, \"dt_hr_captura\": \"2022-07-21T22:52:18.291215\", \"url_image2\": \"https://media.pichau.com.br/media/catalog/product/cache/2f958555330323e505eba7ce930bdf27/j/b/jblgo3blk2.jpg\", \"url_image3\": \"https://media.pichau.com.br/media/catalog/product/cache/2f958555330323e505eba7ce930bdf27/j/b/jblgo3blk4.jpg\", \"url_image4\": \"https://media.pichau.com.br/media/catalog/product/cache/2f958555330323e505eba7ce930bdf27/j/b/jblgo3blk5.jpg\", \"url_image5\": \"https://media.pichau.com.br/media/catalog/product/cache/2f958555330323e505eba7ce930bdf27/j/b/jblgo3blk6.jpg\"}, {\"potencia\": null, \"name\": \"Impressora Brother Laser Monocromatica Wireless - HL-1212W\", \"stock_status\": \"OUT_OF_STOCK\", \"codigo_barra\": \"012502639824\", \"is_openbox\": \"1970-01-01T00:00:00\", \"promotion_name\": null, \"qty_available\": \"\", \"qty_sold\": \"\", \"expire_at\": \"\", \"url_image0\": \"https://media.pichau.com.br/media/catalog/product/cache/2f958555330323e505eba7ce930bdf27/h/l/hl1212w.jpg\", \"url_image1\": \"https://media.pichau.com.br/media/catalog/product/cache/2f958555330323e505eba7ce930bdf27/h/l/hl1212w1.jpg\", \"value_promo\": 1022.61, \"value_regular\": 1022.61, \"value_cash\": 899.9, \"dt_hr_captura\": \"2022-07-21T22:52:19.237531\", \"url_image2\": null, \"url_image3\": null, \"url_image4\": null, \"url_image5\": null}, {\"potencia\": null, \"name\": \"Cadeira DXRacer F-Series OH/FE06/NW - BOX\", \"stock_status\": \"OUT_OF_STOCK\", \"codigo_barra\": null, \"is_openbox\": \"1970-01-01T00:00:00\", \"promotion_name\": null, \"qty_available\": \"\", \"qty_sold\": \"\", \"expire_at\": \"\", \"url_image0\": \"https://media.pichau.com.br/media/catalog/product/cache/2f958555330323e505eba7ce930bdf27/d/x/dxracer_formula_gaming_chair_-_ohfe06nw_19.jpg\", \"url_image1\": \"https://media.pichau.com.br/media/catalog/product/cache/2f958555330323e505eba7ce930bdf27/d/x/dxracer_formula_gaming_chair_-_ohfe06nw_10.jpg\", \"value_promo\": 1549.99, \"value_regular\": 1549.99, \"value_cash\": 1363.99, \"dt_hr_captura\": \"2022-07-21T22:52:20.235109\", \"url_image2\": \"https://media.pichau.com.br/media/catalog/product/cache/2f958555330323e505eba7ce930bdf27/d/x/dxracer_formula_gaming_chair_-_ohfe06nw_18.jpg\", \"url_image3\": \"https://media.pichau.com.br/media/catalog/product/cache/2f958555330323e505eba7ce930bdf27/d/x/dxracer_formula_gaming_chair_-_ohfe06nw_13.jpg\", \"url_image4\": \"https://media.pichau.com.br/media/catalog/product/cache/2f958555330323e505eba7ce930bdf27/d/x/dxracer_formula_gaming_chair_-_ohfe06nw_17.jpg\", \"url_image5\": \"https://media.pichau.com.br/media/catalog/product/cache/2f958555330323e505eba7ce930bdf27/d/x/dxracer_formula_gaming_chair_-_ohfe06nw_14.jpg\"}, {\"potencia\": null, \"name\": \"Computador Mancer Gamer Ares, Ryzen 3 2200G, 8GB DDR4, SSD 240GB\", \"stock_status\": \"OUT_OF_STOCK\", \"codigo_barra\": \"7908446206051\", \"is_openbox\": \"1970-01-01T00:00:00\", \"promotion_name\": null, \"qty_available\": \"\", \"qty_sold\": \"\", \"expire_at\": \"\", \"url_image0\": \"https://media.pichau.com.br/media/catalog/product/cache/2f958555330323e505eba7ce930bdf27/k/r/kronen-sem-gpu-amd_7_.jpg\", \"url_image1\": \"https://media.pichau.com.br/media/catalog/product/cache/2f958555330323e505eba7ce930bdf27/k/r/kronen-sem-gpu-amd_8_.jpg\", \"value_promo\": 2877.27, \"value_regular\": 2877.27, \"value_cash\": 2532.0, \"dt_hr_captura\": \"2022-07-21T22:52:21.068081\", \"url_image2\": \"https://media.pichau.com.br/media/catalog/product/cache/2f958555330323e505eba7ce930bdf27/k/r/kronen-sem-gpu-amd_9_.jpg\", \"url_image3\": \"https://media.pichau.com.br/media/catalog/product/cache/2f958555330323e505eba7ce930bdf27/k/r/kronen-sem-gpu-amd_1_.jpg\", \"url_image4\": \"https://media.pichau.com.br/media/catalog/product/cache/2f958555330323e505eba7ce930bdf27/k/r/kronen-sem-gpu-amd_3_.jpg\", \"url_image5\": \"https://media.pichau.com.br/media/catalog/product/cache/2f958555330323e505eba7ce930bdf27/k/r/kronen-sem-gpu-amd_4_.jpg\"}, {\"potencia\": \"70\", \"name\": \"Placa de Video PNY Quadro RTX A2000, 6GB, GDDR6, 192-bit, VCNRTXA2000-PB-NAC\", \"stock_status\": \"OUT_OF_STOCK\", \"codigo_barra\": \"3536403387150\", \"is_openbox\": \"1970-01-01T00:00:00\", \"promotion_name\": null, \"qty_available\": \"\", \"qty_sold\": \"\", \"expire_at\": \"\", \"url_image0\": \"https://media.pichau.com.br/media/catalog/product/cache/2f958555330323e505eba7ce930bdf27/v/c/vcnrtxa2000-pb-nac2.jpg\", \"url_image1\": \"https://media.pichau.com.br/media/catalog/product/cache/2f958555330323e505eba7ce930bdf27/v/c/vcnrtxa2000-pb-nac1.jpg\", \"value_promo\": 7541.12, \"value_regular\": 7541.12, \"value_cash\": 6636.19, \"dt_hr_captura\": \"2022-07-21T22:52:21.953148\", \"url_image2\": \"https://media.pichau.com.br/media/catalog/product/cache/2f958555330323e505eba7ce930bdf27/v/c/vcnrtxa2000-pb-nac3.jpg\", \"url_image3\": \"https://media.pichau.com.br/media/catalog/product/cache/2f958555330323e505eba7ce930bdf27/v/c/vcnrtxa2000-pb-nac.jpg\", \"url_image4\": null, \"url_image5\": null}, {\"potencia\": null, \"name\": \"Mouse Microsoft Wireless Mobile 1000, 2CF-00002 - BOX\", \"stock_status\": \"OUT_OF_STOCK\", \"codigo_barra\": null, \"is_openbox\": \"1970-01-01T00:00:00\", \"promotion_name\": null, \"qty_available\": \"\", \"qty_sold\": \"\", \"expire_at\": \"\", \"url_image0\": \"https://media.pichau.com.br/media/catalog/product/cache/2f958555330323e505eba7ce930bdf27/p/r/produto1320.4363a9b103f218dd4904d724c622c7e1.jpg\", \"url_image1\": \"https://media.pichau.com.br/media/catalog/product/cache/2f958555330323e505eba7ce930bdf27/p/r/produto_detalhe2360.bbb534f4e361a2cfbf1152e2baaee513.png\", \"value_promo\": 79.9, \"value_regular\": 79.9, \"value_cash\": 70.31, \"dt_hr_captura\": \"2022-07-21T22:52:22.816396\", \"url_image2\": \"https://media.pichau.com.br/media/catalog/product/cache/2f958555330323e505eba7ce930bdf27/p/r/produto_detalhe2363.3f1b32156e67969ae286a36a4fa98d72.png\", \"url_image3\": \"https://media.pichau.com.br/media/catalog/product/cache/2f958555330323e505eba7ce930bdf27/p/r/produto_detalhe2361.ffbaa675f4b4c504ee204f4417e02a45.png\", \"url_image4\": null, \"url_image5\": null}, {\"potencia\": null, \"name\": \"Filtro de linha DPS Clamper iClamper Energia 5 Tomadas Branco, 010871\", \"stock_status\": \"OUT_OF_STOCK\", \"codigo_barra\": \"7899495208717\", \"is_openbox\": \"1970-01-01T00:00:00\", \"promotion_name\": null, \"qty_available\": \"\", \"qty_sold\": \"\", \"expire_at\": \"\", \"url_image0\": \"https://media.pichau.com.br/media/catalog/product/cache/2f958555330323e505eba7ce930bdf27/0/1/010871.jpg\", \"url_image1\": null, \"value_promo\": 53.98, \"value_regular\": 53.98, \"value_cash\": 47.5, \"dt_hr_captura\": \"2022-07-21T22:52:23.672071\", \"url_image2\": null, \"url_image3\": null, \"url_image4\": null, \"url_image5\": null}, {\"potencia\": null, \"name\": \"SSD Team Group CX2 512GB 2.5\\\" Sata 6GB/s, T253X6512G0C101\", \"stock_status\": \"IN_STOCK\", \"codigo_barra\": \"0765441051935\", \"is_openbox\": \"1970-01-01T00:00:00\", \"promotion_name\": \"Ferias com o Pombo\", \"qty_available\": \"1970-01-01T00:00:00.000000001\", \"qty_sold\": \"1970-01-01T00:00:00\", \"expire_at\": \"2022-08-01T17:00:00\", \"url_image0\": \"https://media.pichau.com.br/media/catalog/product/cache/2f958555330323e505eba7ce930bdf27/t/2/t253x6512g0c1013.jpg\", \"url_image1\": \"https://media.pichau.com.br/media/catalog/product/cache/2f958555330323e505eba7ce930bdf27/t/2/t253x6512g0c1012.jpg\", \"value_promo\": 477.26, \"value_regular\": 579.45, \"value_cash\": 419.99, \"dt_hr_captura\": \"2022-07-21T22:52:24.644288\", \"url_image2\": \"https://media.pichau.com.br/media/catalog/product/cache/2f958555330323e505eba7ce930bdf27/t/2/t253x6512g0c1011.jpg\", \"url_image3\": \"https://media.pichau.com.br/media/catalog/product/cache/2f958555330323e505eba7ce930bdf27/t/2/t253x6512g0c101.jpg\", \"url_image4\": null, \"url_image5\": null}, {\"potencia\": null, \"name\": \"Computador Pichau Gamer, AMD Ryzen 7 5800X, GeForce RTX 3050 8GB, 16GB DDR4, SSD 480GB\", \"stock_status\": \"IN_STOCK\", \"codigo_barra\": null, \"is_openbox\": \"1970-01-01T00:00:00\", \"promotion_name\": \"PC Master Race\", \"qty_available\": \"1970-01-01T00:00:00.000000020\", \"qty_sold\": \"1970-01-01T00:00:00\", \"expire_at\": \"2022-07-31T23:50:00\", \"url_image0\": \"https://media.pichau.com.br/media/catalog/product/cache/2f958555330323e505eba7ce930bdf27/f/r/frost-amd-rx-001_1_8.jpg\", \"url_image1\": \"https://media.pichau.com.br/media/catalog/product/cache/2f958555330323e505eba7ce930bdf27/f/r/frost-amd-rx-002_1_8.jpg\", \"value_promo\": 7647.72, \"value_regular\": 8912.0, \"value_cash\": 6729.99, \"dt_hr_captura\": \"2022-07-21T22:52:25.237568\", \"url_image2\": \"https://media.pichau.com.br/media/catalog/product/cache/2f958555330323e505eba7ce930bdf27/f/r/frost-amd-rx-004_2_8.jpg\", \"url_image3\": \"https://media.pichau.com.br/media/catalog/product/cache/2f958555330323e505eba7ce930bdf27/f/r/frost-amd-rx-005_1_8.jpg\", \"url_image4\": \"https://media.pichau.com.br/media/catalog/product/cache/2f958555330323e505eba7ce930bdf27/f/r/frost-amd-rx-006_1_8.jpg\", \"url_image5\": \"https://media.pichau.com.br/media/catalog/product/cache/2f958555330323e505eba7ce930bdf27/f/r/frost-amd-rx-007_1_8.jpg\"}, {\"potencia\": null, \"name\": \"Notebook Vaio C14 I7-6500U 8GB SSD 256GB 14\\\" Windows 10 Home, VJC141F11X-B1311L\", \"stock_status\": \"OUT_OF_STOCK\", \"codigo_barra\": \"7896904604450\", \"is_openbox\": \"1970-01-01T00:00:00\", \"promotion_name\": null, \"qty_available\": \"\", \"qty_sold\": \"\", \"expire_at\": \"\", \"url_image0\": \"https://media.pichau.com.br/media/catalog/product/cache/2f958555330323e505eba7ce930bdf27/v/j/vjc141f11x-b1211l6_1_1.jpg\", \"url_image1\": \"https://media.pichau.com.br/media/catalog/product/cache/2f958555330323e505eba7ce930bdf27/v/j/vjc141f11x-b1211l5_1.jpg\", \"value_promo\": 4089.9, \"value_regular\": 4089.9, \"value_cash\": 3599.11, \"dt_hr_captura\": \"2022-07-21T22:52:26.104339\", \"url_image2\": \"https://media.pichau.com.br/media/catalog/product/cache/2f958555330323e505eba7ce930bdf27/v/j/vjc141f11x-b1211l3_1.jpg\", \"url_image3\": \"https://media.pichau.com.br/media/catalog/product/cache/2f958555330323e505eba7ce930bdf27/v/j/vjc141f11x-b1211l4_1.jpg\", \"url_image4\": \"https://media.pichau.com.br/media/catalog/product/cache/2f958555330323e505eba7ce930bdf27/v/j/vjc141f11x-b1211l2_1.jpg\", \"url_image5\": \"https://media.pichau.com.br/media/catalog/product/cache/2f958555330323e505eba7ce930bdf27/v/j/vjc141f11x-b1211l_1.jpg\"}, {\"potencia\": null, \"name\": \"Teclado Mecanico Corsair K70 MK.2 RapidFire RGB Switch Cherry MX Speed ABNT2, CH-9109014-BR\", \"stock_status\": \"OUT_OF_STOCK\", \"codigo_barra\": \"0843591061711\", \"is_openbox\": \"1970-01-01T00:00:00\", \"promotion_name\": null, \"qty_available\": \"\", \"qty_sold\": \"\", \"expire_at\": \"\", \"url_image0\": \"https://media.pichau.com.br/media/catalog/product/cache/2f958555330323e505eba7ce930bdf27/c/a/ca-9011153-na1_1.jpg\", \"url_image1\": \"https://media.pichau.com.br/media/catalog/product/cache/2f958555330323e505eba7ce930bdf27/c/a/ca-9011153-na_1.jpg\", \"value_promo\": 1187.16, \"value_regular\": 1187.16, \"value_cash\": 1044.7, \"dt_hr_captura\": \"2022-07-21T22:52:26.688577\", \"url_image2\": \"https://media.pichau.com.br/media/catalog/product/cache/2f958555330323e505eba7ce930bdf27/c/a/ca-9011153-na2_1.jpg\", \"url_image3\": null, \"url_image4\": null, \"url_image5\": null}, {\"potencia\": null, \"name\": \"Kit Teclado e Mouse Vinik VX Gaming Striker Vermelho, 25979\", \"stock_status\": \"OUT_OF_STOCK\", \"codigo_barra\": \"7898547283528\", \"is_openbox\": \"1970-01-01T00:00:00\", \"promotion_name\": null, \"qty_available\": \"\", \"qty_sold\": \"\", \"expire_at\": \"\", \"url_image0\": \"https://media.pichau.com.br/media/catalog/product/cache/2f958555330323e505eba7ce930bdf27/2/5/25979_1.jpg\", \"url_image1\": \"https://media.pichau.com.br/media/catalog/product/cache/2f958555330323e505eba7ce930bdf27/2/5/25979_2_1.jpg\", \"value_promo\": 97.61, \"value_regular\": 97.61, \"value_cash\": 85.9, \"dt_hr_captura\": \"2022-07-21T22:52:27.547394\", \"url_image2\": \"https://media.pichau.com.br/media/catalog/product/cache/2f958555330323e505eba7ce930bdf27/2/5/25979_3_1.jpg\", \"url_image3\": \"https://media.pichau.com.br/media/catalog/product/cache/2f958555330323e505eba7ce930bdf27/2/5/25979_6_1.jpg\", \"url_image4\": \"https://media.pichau.com.br/media/catalog/product/cache/2f958555330323e505eba7ce930bdf27/2/5/25979_7_1.jpg\", \"url_image5\": \"https://media.pichau.com.br/media/catalog/product/cache/2f958555330323e505eba7ce930bdf27/2/5/25979_9_1.jpg\"}, {\"potencia\": null, \"name\": \"Gabinete Thermaltake Commander C33 ARGB Lateral Vidro Temp, CA-1N4-00M1WN-00\", \"stock_status\": \"OUT_OF_STOCK\", \"codigo_barra\": \"4713227520515\", \"is_openbox\": \"1970-01-01T00:00:00\", \"promotion_name\": null, \"qty_available\": \"\", \"qty_sold\": \"\", \"expire_at\": \"\", \"url_image0\": \"https://media.pichau.com.br/media/catalog/product/cache/2f958555330323e505eba7ce930bdf27/c/a/ca-1n4-00m1wn-00.jpg\", \"url_image1\": \"https://media.pichau.com.br/media/catalog/product/cache/2f958555330323e505eba7ce930bdf27/c/a/ca-1n4-00m1wn-006.jpg\", \"value_promo\": 744.22, \"value_regular\": 744.22, \"value_cash\": 654.91, \"dt_hr_captura\": \"2022-07-21T22:52:28.533227\", \"url_image2\": \"https://media.pichau.com.br/media/catalog/product/cache/2f958555330323e505eba7ce930bdf27/c/a/ca-1n4-00m1wn-005.jpg\", \"url_image3\": \"https://media.pichau.com.br/media/catalog/product/cache/2f958555330323e505eba7ce930bdf27/c/a/ca-1n4-00m1wn-001.jpg\", \"url_image4\": \"https://media.pichau.com.br/media/catalog/product/cache/2f958555330323e505eba7ce930bdf27/c/a/ca-1n4-00m1wn-004.jpg\", \"url_image5\": \"https://media.pichau.com.br/media/catalog/product/cache/2f958555330323e505eba7ce930bdf27/c/a/ca-1n4-00m1wn-002.jpg\"}, {\"potencia\": null, \"name\": \"Case Multilaser Hd 2,5\\\" Aluminio USB 2.0, GA122\", \"stock_status\": \"OUT_OF_STOCK\", \"codigo_barra\": \"7898506469901\", \"is_openbox\": \"1970-01-01T00:00:00\", \"promotion_name\": null, \"qty_available\": \"\", \"qty_sold\": \"\", \"expire_at\": \"\", \"url_image0\": \"https://media.pichau.com.br/media/catalog/product/cache/2f958555330323e505eba7ce930bdf27/5/5/55802_1407434174_g.jpg\", \"url_image1\": \"https://media.pichau.com.br/media/catalog/product/cache/2f958555330323e505eba7ce930bdf27/g/a/ga122_casehd_pos1_alta.jpg\", \"value_promo\": 57.84, \"value_regular\": 57.84, \"value_cash\": 50.9, \"dt_hr_captura\": \"2022-07-21T22:52:29.531543\", \"url_image2\": null, \"url_image3\": null, \"url_image4\": null, \"url_image5\": null}, {\"potencia\": null, \"name\": \"Mouse Gamer Tt eSports Azurues 1600Dpi retailer, MOARS003DTD - BOX\", \"stock_status\": \"OUT_OF_STOCK\", \"codigo_barra\": \"4716872052097\", \"is_openbox\": \"1970-01-01T00:00:00\", \"promotion_name\": null, \"qty_available\": \"\", \"qty_sold\": \"\", \"expire_at\": \"\", \"url_image0\": \"https://media.pichau.com.br/media/catalog/product/cache/2f958555330323e505eba7ce930bdf27/x/h/xhgh.jpg\", \"url_image1\": \"https://media.pichau.com.br/media/catalog/product/cache/2f958555330323e505eba7ce930bdf27/d/r/drtgd.jpg\", \"value_promo\": 143.06, \"value_regular\": 143.06, \"value_cash\": 125.89, \"dt_hr_captura\": \"2022-07-21T22:52:30.453883\", \"url_image2\": \"https://media.pichau.com.br/media/catalog/product/cache/2f958555330323e505eba7ce930bdf27/x/f/xfhh.jpg\", \"url_image3\": \"https://media.pichau.com.br/media/catalog/product/cache/2f958555330323e505eba7ce930bdf27/f/d/fdh.jpg\", \"url_image4\": \"https://media.pichau.com.br/media/catalog/product/cache/2f958555330323e505eba7ce930bdf27/z/d/zdfgdfh.jpg\", \"url_image5\": \"https://media.pichau.com.br/media/catalog/product/cache/2f958555330323e505eba7ce930bdf27/d/g/dgdfh_1.jpg\"}, {\"potencia\": null, \"name\": \"Sistema Wi-Fi Mesh Tenda Nova MW6 x2 1200Mbps Dual-Band AC1200\", \"stock_status\": \"IN_STOCK\", \"codigo_barra\": \"6932849428230\", \"is_openbox\": \"1970-01-01T00:00:00\", \"promotion_name\": null, \"qty_available\": \"\", \"qty_sold\": \"\", \"expire_at\": \"\", \"url_image0\": \"https://media.pichau.com.br/media/catalog/product/cache/2f958555330323e505eba7ce930bdf27/t/e/tenda-mw6x2.jpg\", \"url_image1\": \"https://media.pichau.com.br/media/catalog/product/cache/2f958555330323e505eba7ce930bdf27/t/e/tenda-mw6x21.jpg\", \"value_promo\": 1136.25, \"value_regular\": 1136.25, \"value_cash\": 999.9, \"dt_hr_captura\": \"2022-07-21T22:52:31.451645\", \"url_image2\": \"https://media.pichau.com.br/media/catalog/product/cache/2f958555330323e505eba7ce930bdf27/b/_/b_201711021505391412.jpg\", \"url_image3\": null, \"url_image4\": null, \"url_image5\": null}, {\"potencia\": null, \"name\": \"Caixa de Som ELG, 10W RMS, Bluetooth, Preto e Vermelha, PWC-AUDBL-RD\", \"stock_status\": \"IN_STOCK\", \"codigo_barra\": \"7898378707828\", \"is_openbox\": \"1970-01-01T00:00:00\", \"promotion_name\": \"Ferias com o Pombo\", \"qty_available\": \"1970-01-01T00:00:00.000000015\", \"qty_sold\": \"1970-01-01T00:00:00\", \"expire_at\": \"2022-08-01T17:00:00\", \"url_image0\": \"https://media.pichau.com.br/media/catalog/product/cache/2f958555330323e505eba7ce930bdf27/p/w/pwc-audbl-rd.jpg\", \"url_image1\": \"https://media.pichau.com.br/media/catalog/product/cache/2f958555330323e505eba7ce930bdf27/p/w/pwc-audbl-rd1.jpg\", \"value_promo\": 135.12, \"value_regular\": 256.2, \"value_cash\": 118.91, \"dt_hr_captura\": \"2022-07-21T22:52:32.317621\", \"url_image2\": null, \"url_image3\": null, \"url_image4\": null, \"url_image5\": null}, {\"potencia\": null, \"name\": \"Cabo HDMI MD9 10 Metros, 7550\", \"stock_status\": \"OUT_OF_STOCK\", \"codigo_barra\": \"7897054600880\", \"is_openbox\": \"1970-01-01T00:00:00\", \"promotion_name\": null, \"qty_available\": \"\", \"qty_sold\": \"\", \"expire_at\": \"\", \"url_image0\": \"https://media.pichau.com.br/media/catalog/product/cache/2f958555330323e505eba7ce930bdf27/7/5/7550_1.jpg\", \"url_image1\": null, \"value_promo\": 86.25, \"value_regular\": 86.25, \"value_cash\": 75.9, \"dt_hr_captura\": \"2022-07-21T22:52:33.725347\", \"url_image2\": null, \"url_image3\": null, \"url_image4\": null, \"url_image5\": null}, {\"potencia\": \"70\", \"name\": \"Memoria Corsair Vengeance RGB 16GB (2x8) DDR4 3466MHz Preta, CMR16GX4M2C3466C16\", \"stock_status\": \"OUT_OF_STOCK\", \"codigo_barra\": \"843591029803\", \"is_openbox\": \"1970-01-01T00:00:00\", \"promotion_name\": null, \"qty_available\": \"\", \"qty_sold\": \"\", \"expire_at\": \"\", \"url_image0\": \"https://media.pichau.com.br/media/catalog/product/cache/2f958555330323e505eba7ce930bdf27/c/m/cmr16gx4m2c3000c152_7.jpg\", \"url_image1\": \"https://media.pichau.com.br/media/catalog/product/cache/2f958555330323e505eba7ce930bdf27/c/m/cmr32gx4m2c3200c16545_1.jpg\", \"value_promo\": 1078.44, \"value_regular\": 1078.44, \"value_cash\": 949.03, \"dt_hr_captura\": \"2022-07-21T22:52:34.745308\", \"url_image2\": null, \"url_image3\": null, \"url_image4\": null, \"url_image5\": null}, {\"potencia\": \"12\", \"name\": \"Cooler Para Processador Cooler Master i70C Azul Intel, RR-I70C-20PK-R1\", \"stock_status\": \"IN_STOCK\", \"codigo_barra\": \"4719512063477\", \"is_openbox\": \"1970-01-01T00:00:00\", \"promotion_name\": null, \"qty_available\": \"\", \"qty_sold\": \"\", \"expire_at\": \"\", \"url_image0\": \"https://media.pichau.com.br/media/catalog/product/cache/2f958555330323e505eba7ce930bdf27/r/r/rr-i70c-20pk-r1.jpg\", \"url_image1\": \"https://media.pichau.com.br/media/catalog/product/cache/2f958555330323e505eba7ce930bdf27/r/r/rr-i70c-20pk-r11.jpg\", \"value_promo\": 102.16, \"value_regular\": 102.16, \"value_cash\": 89.9, \"dt_hr_captura\": \"2022-07-21T22:52:35.836626\", \"url_image2\": null, \"url_image3\": null, \"url_image4\": null, \"url_image5\": null}, {\"potencia\": null, \"name\": \"Ventoinha Pichau Gaming Feather X Led Verde, PG-FX120-GREEN\", \"stock_status\": \"OUT_OF_STOCK\", \"codigo_barra\": \"7898663063325\", \"is_openbox\": \"1970-01-01T00:00:00\", \"promotion_name\": null, \"qty_available\": \"\", \"qty_sold\": \"\", \"expire_at\": \"\", \"url_image0\": \"https://media.pichau.com.br/media/catalog/product/cache/2f958555330323e505eba7ce930bdf27/p/g/pg-fx120-green.jpg\", \"url_image1\": \"https://media.pichau.com.br/media/catalog/product/cache/2f958555330323e505eba7ce930bdf27/p/g/pg-fx120-green2.jpg\", \"value_promo\": 56.7, \"value_regular\": 56.7, \"value_cash\": 49.9, \"dt_hr_captura\": \"2022-07-21T22:52:37.097005\", \"url_image2\": \"https://media.pichau.com.br/media/catalog/product/cache/2f958555330323e505eba7ce930bdf27/p/g/pg-fx120-green1.jpg\", \"url_image3\": \"https://media.pichau.com.br/media/catalog/product/cache/2f958555330323e505eba7ce930bdf27/p/g/pg-fx120-green65123.jpg\", \"url_image4\": \"https://media.pichau.com.br/media/catalog/product/cache/2f958555330323e505eba7ce930bdf27/p/g/pg-fx120-green1231.jpg\", \"url_image5\": \"https://media.pichau.com.br/media/catalog/product/cache/2f958555330323e505eba7ce930bdf27/p/g/pg-fx120-green3221.jpg\"}, {\"potencia\": null, \"name\": \"Computador Pichau Gamer, Intel i7-11700KF, GeForce RTX 3060 Ti 8GB, 16GB DDR4, SSD M.2 240GB\", \"stock_status\": \"OUT_OF_STOCK\", \"codigo_barra\": null, \"is_openbox\": \"1970-01-01T00:00:00\", \"promotion_name\": null, \"qty_available\": \"\", \"qty_sold\": \"\", \"expire_at\": \"\", \"url_image0\": \"https://media.pichau.com.br/media/catalog/product/cache/2f958555330323e505eba7ce930bdf27/a/p/apus-black-intel-rtx-001_1_7_1_3.jpg\", \"url_image1\": \"https://media.pichau.com.br/media/catalog/product/cache/2f958555330323e505eba7ce930bdf27/a/p/apus-black-intel-rtx-002_1_7_1_3.jpg\", \"value_promo\": 10282.0, \"value_regular\": 10282.0, \"value_cash\": 9048.16, \"dt_hr_captura\": \"2022-07-21T22:52:38.191670\", \"url_image2\": \"https://media.pichau.com.br/media/catalog/product/cache/2f958555330323e505eba7ce930bdf27/a/p/apus-black-pichau-003_28_1_3.jpg\", \"url_image3\": \"https://media.pichau.com.br/media/catalog/product/cache/2f958555330323e505eba7ce930bdf27/a/p/apus-black-pichau-004_31_1_3.jpg\", \"url_image4\": \"https://media.pichau.com.br/media/catalog/product/cache/2f958555330323e505eba7ce930bdf27/a/p/apus-black-pichau-005_38_1_3.jpg\", \"url_image5\": \"https://media.pichau.com.br/media/catalog/product/cache/2f958555330323e505eba7ce930bdf27/a/p/apus-black-pichau-006_42_1_3.jpg\"}, {\"potencia\": null, \"name\": \"Mouse Motospeed G20 Wireless 1600Dpi Branco, FMSMS0065BRO\", \"stock_status\": \"OUT_OF_STOCK\", \"codigo_barra\": \"6953460597525\", \"is_openbox\": \"1970-01-01T00:00:00\", \"promotion_name\": null, \"qty_available\": \"\", \"qty_sold\": \"\", \"expire_at\": \"\", \"url_image0\": \"https://media.pichau.com.br/media/catalog/product/cache/2f958555330323e505eba7ce930bdf27/f/m/fmsms0065bro1.jpg\", \"url_image1\": \"https://media.pichau.com.br/media/catalog/product/cache/2f958555330323e505eba7ce930bdf27/f/m/fmsms0065bro.jpg\", \"value_promo\": 68.18, \"value_regular\": 68.18, \"value_cash\": 60.0, \"dt_hr_captura\": \"2022-07-21T22:52:39.506445\", \"url_image2\": \"https://media.pichau.com.br/media/catalog/product/cache/2f958555330323e505eba7ce930bdf27/f/m/fmsms0065bro2.jpg\", \"url_image3\": null, \"url_image4\": null, \"url_image5\": null}, {\"potencia\": null, \"name\": \"Mouse Gamer EVGA TORQ X5 6400Dpi, 902-X2-1052-KR\", \"stock_status\": \"OUT_OF_STOCK\", \"codigo_barra\": \"4250812406446\", \"is_openbox\": \"1970-01-01T00:00:00\", \"promotion_name\": null, \"qty_available\": \"\", \"qty_sold\": \"\", \"expire_at\": \"\", \"url_image0\": \"https://media.pichau.com.br/media/catalog/product/cache/2f958555330323e505eba7ce930bdf27/9/0/902-x2-1052-kr-1.jpg\", \"url_image1\": \"https://media.pichau.com.br/media/catalog/product/cache/2f958555330323e505eba7ce930bdf27/9/0/902-x2-1052-kr-3.jpg\", \"value_promo\": 146.59, \"value_regular\": 146.59, \"value_cash\": 129.0, \"dt_hr_captura\": \"2022-07-21T22:52:40.486928\", \"url_image2\": \"https://media.pichau.com.br/media/catalog/product/cache/2f958555330323e505eba7ce930bdf27/9/0/902-x2-1052-kr-4.jpg\", \"url_image3\": \"https://media.pichau.com.br/media/catalog/product/cache/2f958555330323e505eba7ce930bdf27/9/0/902-x2-1052-kr-2.jpg\", \"url_image4\": \"https://media.pichau.com.br/media/catalog/product/cache/2f958555330323e505eba7ce930bdf27/9/0/902-x2-1052-kr-5.jpg\", \"url_image5\": null}, {\"potencia\": null, \"name\": \"Computador Pichau Gamer, AMD Ryzen 5 4600G, 16GB DDR4, SSD 480GB \", \"stock_status\": \"IN_STOCK\", \"codigo_barra\": null, \"is_openbox\": \"1970-01-01T00:00:00\", \"promotion_name\": \"PC Master Race\", \"qty_available\": \"1970-01-01T00:00:00.000000193\", \"qty_sold\": \"1970-01-01T00:00:00.000000307\", \"expire_at\": \"2022-07-31T23:50:00\", \"url_image0\": \"https://media.pichau.com.br/media/catalog/product/cache/2f958555330323e505eba7ce930bdf27/s/k/skylancer-001-amd-sem-gpu_2__7.jpg\", \"url_image1\": \"https://media.pichau.com.br/media/catalog/product/cache/2f958555330323e505eba7ce930bdf27/s/k/skylancer-001-amd-sem-gpu_1__1_6.jpg\", \"value_promo\": 2806.8, \"value_regular\": 3234.01, \"value_cash\": 2469.98, \"dt_hr_captura\": \"2022-07-21T22:52:41.105259\", \"url_image2\": \"https://media.pichau.com.br/media/catalog/product/cache/2f958555330323e505eba7ce930bdf27/s/k/skylancer-pret-pichau-005_1_9.jpg\", \"url_image3\": \"https://media.pichau.com.br/media/catalog/product/cache/2f958555330323e505eba7ce930bdf27/s/k/skylancer-pret-pichau-008_1_9.jpg\", \"url_image4\": \"https://media.pichau.com.br/media/catalog/product/cache/2f958555330323e505eba7ce930bdf27/s/k/skylancer-pret-pichau-004_2_13.jpg\", \"url_image5\": null}, {\"potencia\": null, \"name\": \"Cadeira Gamer Dazz Extreme Preto/Laranja, 624776\", \"stock_status\": \"OUT_OF_STOCK\", \"codigo_barra\": \"7897975078188\", \"is_openbox\": \"1970-01-01T00:00:00\", \"promotion_name\": null, \"qty_available\": \"\", \"qty_sold\": \"\", \"expire_at\": \"\", \"url_image0\": \"https://media.pichau.com.br/media/catalog/product/cache/2f958555330323e505eba7ce930bdf27/6/2/624776_1.jpg\", \"url_image1\": null, \"value_promo\": 873.89, \"value_regular\": 873.89, \"value_cash\": 769.02, \"dt_hr_captura\": \"2022-07-21T22:52:41.677614\", \"url_image2\": null, \"url_image3\": null, \"url_image4\": null, \"url_image5\": null}, {\"potencia\": \"220\", \"name\": \"Memoria Corsair Vengeance LPX 16GB (4x4) DDR4 2800MHz Preta, CMK16GX4M4A2800C16\", \"stock_status\": \"OUT_OF_STOCK\", \"codigo_barra\": \"0843591054966\", \"is_openbox\": \"1970-01-01T00:00:00\", \"promotion_name\": null, \"qty_available\": \"\", \"qty_sold\": \"\", \"expire_at\": \"\", \"url_image0\": \"https://media.pichau.com.br/media/catalog/product/cache/2f958555330323e505eba7ce930bdf27/r/a/ra3_1.jpg\", \"url_image1\": \"https://media.pichau.com.br/media/catalog/product/cache/2f958555330323e505eba7ce930bdf27/r/a/ra4_1.jpg\", \"value_promo\": 1192.05, \"value_regular\": 1192.05, \"value_cash\": 1049.0, \"dt_hr_captura\": \"2022-07-21T22:52:42.574594\", \"url_image2\": \"https://media.pichau.com.br/media/catalog/product/cache/2f958555330323e505eba7ce930bdf27/r/a/ra2_1.jpg\", \"url_image3\": \"https://media.pichau.com.br/media/catalog/product/cache/2f958555330323e505eba7ce930bdf27/r/a/ra1_1.jpg\", \"url_image4\": null, \"url_image5\": null}, {\"potencia\": null, \"name\": \"HD Seagate SkyHawk 2TB 3.5\\\" Sata III 6GB/s, ST2000VX000\", \"stock_status\": \"OUT_OF_STOCK\", \"codigo_barra\": \"763649032077\", \"is_openbox\": \"1970-01-01T00:00:00\", \"promotion_name\": null, \"qty_available\": \"\", \"qty_sold\": \"\", \"expire_at\": \"\", \"url_image0\": \"https://media.pichau.com.br/media/catalog/product/cache/2f958555330323e505eba7ce930bdf27/0/1/01_312_1_1_1.jpg\", \"url_image1\": null, \"value_promo\": 399.9, \"value_regular\": 399.9, \"value_cash\": 351.91, \"dt_hr_captura\": \"2022-07-21T22:52:43.892114\", \"url_image2\": null, \"url_image3\": null, \"url_image4\": null, \"url_image5\": null}, {\"potencia\": null, \"name\": \"Fone de Ouvido JBL Everest 710 GA Wireless Preto, JBLV710GABTGML\", \"stock_status\": \"OUT_OF_STOCK\", \"codigo_barra\": \"6925281938634\", \"is_openbox\": \"1970-01-01T00:00:00\", \"promotion_name\": null, \"qty_available\": \"\", \"qty_sold\": \"\", \"expire_at\": \"\", \"url_image0\": \"https://media.pichau.com.br/media/catalog/product/cache/2f958555330323e505eba7ce930bdf27/j/b/jblv710gabtgml.jpg\", \"url_image1\": \"https://media.pichau.com.br/media/catalog/product/cache/2f958555330323e505eba7ce930bdf27/j/b/jblv710gabtgml1.jpg\", \"value_promo\": 738.54, \"value_regular\": 738.54, \"value_cash\": 649.92, \"dt_hr_captura\": \"2022-07-21T22:52:45.355807\", \"url_image2\": \"https://media.pichau.com.br/media/catalog/product/cache/2f958555330323e505eba7ce930bdf27/j/b/jblv710gabtgml3.jpg\", \"url_image3\": \"https://media.pichau.com.br/media/catalog/product/cache/2f958555330323e505eba7ce930bdf27/j/b/jblv710gabtgml2.jpg\", \"url_image4\": null, \"url_image5\": null}, {\"potencia\": \"40\", \"name\": \"Memoria Corsair Vengeance LPX 4GB (1x4) DDR4 2400MHz Vermelha, CMK4GX4M1A2400C16R\", \"stock_status\": \"OUT_OF_STOCK\", \"codigo_barra\": \"843591084734\", \"is_openbox\": \"1970-01-01T00:00:00\", \"promotion_name\": null, \"qty_available\": \"\", \"qty_sold\": \"\", \"expire_at\": \"\", \"url_image0\": \"https://media.pichau.com.br/media/catalog/product/cache/2f958555330323e505eba7ce930bdf27/c/m/cmk4gx4m1a2400c16r.jpg\", \"url_image1\": \"https://media.pichau.com.br/media/catalog/product/cache/2f958555330323e505eba7ce930bdf27/c/m/cmk8gx4m1a2400c16r12_1.jpg\", \"value_promo\": 229.9, \"value_regular\": 229.9, \"value_cash\": 202.31, \"dt_hr_captura\": \"2022-07-21T22:52:46.520132\", \"url_image2\": null, \"url_image3\": null, \"url_image4\": null, \"url_image5\": null}, {\"potencia\": null, \"name\": \"Ventoinha Aigo DarkFlash DR12 PRO RGB 120mm\", \"stock_status\": \"OUT_OF_STOCK\", \"codigo_barra\": \"6926170075188\", \"is_openbox\": \"1970-01-01T00:00:00\", \"promotion_name\": null, \"qty_available\": \"\", \"qty_sold\": \"\", \"expire_at\": \"\", \"url_image0\": \"https://media.pichau.com.br/media/catalog/product/cache/2f958555330323e505eba7ce930bdf27/a/i/aigo-darkflash-dr12-pro.jpg\", \"url_image1\": \"https://media.pichau.com.br/media/catalog/product/cache/2f958555330323e505eba7ce930bdf27/a/i/aigo-darkflash-dr12-pro2.jpg\", \"value_promo\": 68.07, \"value_regular\": 68.07, \"value_cash\": 59.9, \"dt_hr_captura\": \"2022-07-21T22:52:47.125512\", \"url_image2\": null, \"url_image3\": null, \"url_image4\": null, \"url_image5\": null}, {\"potencia\": null, \"name\": \"Fonte Thermaltake TR2 500W Bronze, PS-TR2-0500NPCB - BOX \", \"stock_status\": \"OUT_OF_STOCK\", \"codigo_barra\": \"4717964397706\", \"is_openbox\": \"1970-01-01T00:00:00\", \"promotion_name\": null, \"qty_available\": \"\", \"qty_sold\": \"\", \"expire_at\": \"\", \"url_image0\": \"https://media.pichau.com.br/media/catalog/product/cache/2f958555330323e505eba7ce930bdf27/1/_/1_18_196.jpg\", \"url_image1\": null, \"value_promo\": 324.89, \"value_regular\": 324.89, \"value_cash\": 285.9, \"dt_hr_captura\": \"2022-07-21T22:52:48.290434\", \"url_image2\": null, \"url_image3\": null, \"url_image4\": null, \"url_image5\": null}, {\"potencia\": null, \"name\": \"OPENBOX Teclado Mecanico Corsair K68 Cherry MX Red, CH-9102020-BR\", \"stock_status\": \"IN_STOCK\", \"codigo_barra\": null, \"is_openbox\": \"1970-01-01T00:00:00.000000001\", \"promotion_name\": null, \"qty_available\": \"\", \"qty_sold\": \"\", \"expire_at\": \"\", \"url_image0\": \"https://media.pichau.com.br/media/catalog/product/cache/2f958555330323e505eba7ce930bdf27/c/h/ch-9102020-br_2_1.jpg\", \"url_image1\": \"https://media.pichau.com.br/media/catalog/product/cache/2f958555330323e505eba7ce930bdf27/c/h/ch-9102020-br1_2_1.jpg\", \"value_promo\": 590.8, \"value_regular\": 590.8, \"value_cash\": 519.9, \"dt_hr_captura\": \"2022-07-21T22:52:49.134447\", \"url_image2\": \"https://media.pichau.com.br/media/catalog/product/cache/2f958555330323e505eba7ce930bdf27/c/h/ch-9102020-br2_2_1.jpg\", \"url_image3\": \"https://media.pichau.com.br/media/catalog/product/cache/2f958555330323e505eba7ce930bdf27/c/h/ch-9102020-br3_2_1.jpg\", \"url_image4\": null, \"url_image5\": null}, {\"potencia\": null, \"name\": \"Monitor Duex DX M190T 19\\\" HDMI/VGA 75Hz, DX M190T\", \"stock_status\": \"OUT_OF_STOCK\", \"codigo_barra\": \"6015034198191\", \"is_openbox\": \"1970-01-01T00:00:00\", \"promotion_name\": null, \"qty_available\": \"\", \"qty_sold\": \"\", \"expire_at\": \"\", \"url_image0\": \"https://media.pichau.com.br/media/catalog/product/cache/2f958555330323e505eba7ce930bdf27/d/x/dx-m190t.jpg\", \"url_image1\": \"https://media.pichau.com.br/media/catalog/product/cache/2f958555330323e505eba7ce930bdf27/d/x/dx-m190t1.jpg\", \"value_promo\": 704.43, \"value_regular\": 704.43, \"value_cash\": 619.9, \"dt_hr_captura\": \"2022-07-21T22:52:50.031422\", \"url_image2\": null, \"url_image3\": null, \"url_image4\": null, \"url_image5\": null}, {\"potencia\": \"10\", \"name\": \"Water Cooler GamerStorm by DeepCool Maelstrom 120K, DP-GS-H12L-MS120K\", \"stock_status\": \"OUT_OF_STOCK\", \"codigo_barra\": \"6933412795148\", \"is_openbox\": \"1970-01-01T00:00:00\", \"promotion_name\": null, \"qty_available\": \"\", \"qty_sold\": \"\", \"expire_at\": \"\", \"url_image0\": \"https://media.pichau.com.br/media/catalog/product/cache/2f958555330323e505eba7ce930bdf27/7/_/7_5_9.jpg\", \"url_image1\": \"https://media.pichau.com.br/media/catalog/product/cache/2f958555330323e505eba7ce930bdf27/2/_/2_68_9.jpg\", \"value_promo\": 336.83, \"value_regular\": 336.83, \"value_cash\": 296.41, \"dt_hr_captura\": \"2022-07-21T22:52:50.988318\", \"url_image2\": \"https://media.pichau.com.br/media/catalog/product/cache/2f958555330323e505eba7ce930bdf27/4/_/4_24_10.jpg\", \"url_image3\": \"https://media.pichau.com.br/media/catalog/product/cache/2f958555330323e505eba7ce930bdf27/9/_/9_3_6.jpg\", \"url_image4\": \"https://media.pichau.com.br/media/catalog/product/cache/2f958555330323e505eba7ce930bdf27/1/_/1_92_6.jpg\", \"url_image5\": \"https://media.pichau.com.br/media/catalog/product/cache/2f958555330323e505eba7ce930bdf27/0/_/0_1_4.jpg\"}, {\"potencia\": null, \"name\": \"Cabo de Audio MD9 P2/P2 2 Metros, 6869\", \"stock_status\": \"OUT_OF_STOCK\", \"codigo_barra\": \"7897054609449\", \"is_openbox\": \"1970-01-01T00:00:00\", \"promotion_name\": null, \"qty_available\": \"\", \"qty_sold\": \"\", \"expire_at\": \"\", \"url_image0\": \"https://media.pichau.com.br/media/catalog/product/cache/2f958555330323e505eba7ce930bdf27/6/9/6989.jpg\", \"url_image1\": null, \"value_promo\": 9.9, \"value_regular\": 9.9, \"value_cash\": 8.71, \"dt_hr_captura\": \"2022-07-21T22:52:51.800306\", \"url_image2\": null, \"url_image3\": null, \"url_image4\": null, \"url_image5\": null}, {\"potencia\": null, \"name\": \"Webcam Razer Stargazer, RZ20-01800100-R3U1\", \"stock_status\": \"OUT_OF_STOCK\", \"codigo_barra\": \"8886419377641\", \"is_openbox\": \"1970-01-01T00:00:00\", \"promotion_name\": null, \"qty_available\": \"\", \"qty_sold\": \"\", \"expire_at\": \"\", \"url_image0\": \"https://media.pichau.com.br/media/catalog/product/cache/2f958555330323e505eba7ce930bdf27/r/z/rz20-01800100-r3u14_1.jpg\", \"url_image1\": null, \"value_promo\": 1406.71, \"value_regular\": 1406.71, \"value_cash\": 1237.9, \"dt_hr_captura\": \"2022-07-21T22:52:53.208008\", \"url_image2\": null, \"url_image3\": null, \"url_image4\": null, \"url_image5\": null}, {\"potencia\": \"75\", \"name\": \"Placa de Video Galax GeForce GTX 1050 2GB GDDR5 EXOC 128-bit, 50NPH8DVN6EC\", \"stock_status\": \"OUT_OF_STOCK\", \"codigo_barra\": \"4895147125152\", \"is_openbox\": \"1970-01-01T00:00:00\", \"promotion_name\": null, \"qty_available\": \"\", \"qty_sold\": \"\", \"expire_at\": \"\", \"url_image0\": \"https://media.pichau.com.br/media/catalog/product/cache/2f958555330323e505eba7ce930bdf27/5/0/50nph8dvn6ec.jpg\", \"url_image1\": \"https://media.pichau.com.br/media/catalog/product/cache/2f958555330323e505eba7ce930bdf27/5/0/50nph8dvn6ec5.jpg\", \"value_promo\": 619.42, \"value_regular\": 619.42, \"value_cash\": 545.09, \"dt_hr_captura\": \"2022-07-21T22:52:53.963115\", \"url_image2\": \"https://media.pichau.com.br/media/catalog/product/cache/2f958555330323e505eba7ce930bdf27/5/0/50nph8dvn6ec2.jpg\", \"url_image3\": \"https://media.pichau.com.br/media/catalog/product/cache/2f958555330323e505eba7ce930bdf27/5/0/50nph8dvn6ec3.jpg\", \"url_image4\": \"https://media.pichau.com.br/media/catalog/product/cache/2f958555330323e505eba7ce930bdf27/5/0/50nph8dvn6ec4.jpg\", \"url_image5\": \"https://media.pichau.com.br/media/catalog/product/cache/2f958555330323e505eba7ce930bdf27/5/0/50nph8dvn6ec6.jpg\"}, {\"potencia\": null, \"name\": \"Gabinete Cooler Master Masterbox MB500 Preto, MCB-B500D-KGNN-S00\", \"stock_status\": \"OUT_OF_STOCK\", \"codigo_barra\": \"4719512067345\", \"is_openbox\": \"1970-01-01T00:00:00\", \"promotion_name\": null, \"qty_available\": \"\", \"qty_sold\": \"\", \"expire_at\": \"\", \"url_image0\": \"https://media.pichau.com.br/media/catalog/product/cache/2f958555330323e505eba7ce930bdf27/m/c/mcb-b500d-kgnn-s0032129.jpg\", \"url_image1\": \"https://media.pichau.com.br/media/catalog/product/cache/2f958555330323e505eba7ce930bdf27/m/c/mcb-b500d-kgnn-s0032124.jpg\", \"value_promo\": 647.61, \"value_regular\": 647.61, \"value_cash\": 569.9, \"dt_hr_captura\": \"2022-07-21T22:52:54.907393\", \"url_image2\": \"https://media.pichau.com.br/media/catalog/product/cache/2f958555330323e505eba7ce930bdf27/m/c/mcb-b500d-kgnn-s0032126.jpg\", \"url_image3\": \"https://media.pichau.com.br/media/catalog/product/cache/2f958555330323e505eba7ce930bdf27/m/c/mcb-b500d-kgnn-s0032125.jpg\", \"url_image4\": \"https://media.pichau.com.br/media/catalog/product/cache/2f958555330323e505eba7ce930bdf27/m/c/mcb-b500d-kgnn-s0032121.jpg\", \"url_image5\": \"https://media.pichau.com.br/media/catalog/product/cache/2f958555330323e505eba7ce930bdf27/m/c/mcb-b500d-kgnn-s0032127.jpg\"}, {\"potencia\": null, \"name\": \"Cadeira Gamer DT3 Sports GTS V2, Preta e Branca, 12486-1\", \"stock_status\": \"OUT_OF_STOCK\", \"codigo_barra\": \"7890124861211\", \"is_openbox\": \"1970-01-01T00:00:00\", \"promotion_name\": null, \"qty_available\": \"\", \"qty_sold\": \"\", \"expire_at\": \"\", \"url_image0\": \"https://media.pichau.com.br/media/catalog/product/cache/2f958555330323e505eba7ce930bdf27/1/2/12486-15.jpg\", \"url_image1\": \"https://media.pichau.com.br/media/catalog/product/cache/2f958555330323e505eba7ce930bdf27/1/2/12486-16.jpg\", \"value_promo\": 1136.25, \"value_regular\": 1136.25, \"value_cash\": 999.9, \"dt_hr_captura\": \"2022-07-21T22:52:55.809957\", \"url_image2\": \"https://media.pichau.com.br/media/catalog/product/cache/2f958555330323e505eba7ce930bdf27/1/2/12486-14.jpg\", \"url_image3\": \"https://media.pichau.com.br/media/catalog/product/cache/2f958555330323e505eba7ce930bdf27/1/2/12486-12.jpg\", \"url_image4\": \"https://media.pichau.com.br/media/catalog/product/cache/2f958555330323e505eba7ce930bdf27/1/2/12486-13.jpg\", \"url_image5\": \"https://media.pichau.com.br/media/catalog/product/cache/2f958555330323e505eba7ce930bdf27/1/2/12486-1.jpg\"}, {\"potencia\": null, \"name\": \"HD Seagate Enterprise Exos 7E8 2TB 3.5\\\" SAS 12GB/s, ST2000NM0045\", \"stock_status\": \"OUT_OF_STOCK\", \"codigo_barra\": \"0763649030035\", \"is_openbox\": \"1970-01-01T00:00:00\", \"promotion_name\": null, \"qty_available\": \"\", \"qty_sold\": \"\", \"expire_at\": \"\", \"url_image0\": \"https://media.pichau.com.br/media/catalog/product/cache/2f958555330323e505eba7ce930bdf27/s/t/st2000nm0045_1.jpg\", \"url_image1\": \"https://media.pichau.com.br/media/catalog/product/cache/2f958555330323e505eba7ce930bdf27/s/t/st2000nm00451_1.jpg\", \"value_promo\": 1021.6, \"value_regular\": 1021.6, \"value_cash\": 899.01, \"dt_hr_captura\": \"2022-07-21T22:52:56.399255\", \"url_image2\": null, \"url_image3\": null, \"url_image4\": null, \"url_image5\": null}, {\"potencia\": \"150\", \"name\": \"Water Cooler Mymax Algor 240mm Vermelho, MYC/FC-V2-240-RD\", \"stock_status\": \"OUT_OF_STOCK\", \"codigo_barra\": \"7898554983701\", \"is_openbox\": \"1970-01-01T00:00:00\", \"promotion_name\": null, \"qty_available\": \"\", \"qty_sold\": \"\", \"expire_at\": \"\", \"url_image0\": \"https://media.pichau.com.br/media/catalog/product/cache/2f958555330323e505eba7ce930bdf27/m/y/mycfc-v2-240-rd.jpg\", \"url_image1\": null, \"value_promo\": 362.51, \"value_regular\": 362.51, \"value_cash\": 319.01, \"dt_hr_captura\": \"2022-07-21T22:52:57.279947\", \"url_image2\": null, \"url_image3\": null, \"url_image4\": null, \"url_image5\": null}, {\"potencia\": null, \"name\": \"Cabo Riser Azza ARGB PCIe 3.0 de 180 graus 200mm, ACAZ-20RI\", \"stock_status\": \"OUT_OF_STOCK\", \"codigo_barra\": \"4719867048877\", \"is_openbox\": \"1970-01-01T00:00:00\", \"promotion_name\": null, \"qty_available\": \"\", \"qty_sold\": \"\", \"expire_at\": \"\", \"url_image0\": \"https://media.pichau.com.br/media/catalog/product/cache/2f958555330323e505eba7ce930bdf27/a/c/acaz-20ri.jpg\", \"url_image1\": \"https://media.pichau.com.br/media/catalog/product/cache/2f958555330323e505eba7ce930bdf27/a/c/acaz-20ri1.jpg\", \"value_promo\": 352.16, \"value_regular\": 352.16, \"value_cash\": 309.9, \"dt_hr_captura\": \"2022-07-21T22:52:58.330260\", \"url_image2\": null, \"url_image3\": null, \"url_image4\": null, \"url_image5\": null}, {\"potencia\": null, \"name\": \"Fone de Ouvido Philips DJ HeadBand Branco/Preto, SHL3000WT/00\", \"stock_status\": \"OUT_OF_STOCK\", \"codigo_barra\": \"6923410715866\", \"is_openbox\": \"1970-01-01T00:00:00\", \"promotion_name\": null, \"qty_available\": \"\", \"qty_sold\": \"\", \"expire_at\": \"\", \"url_image0\": \"https://media.pichau.com.br/media/catalog/product/cache/2f958555330323e505eba7ce930bdf27/s/h/shl3000wt00-4.jpg\", \"url_image1\": \"https://media.pichau.com.br/media/catalog/product/cache/2f958555330323e505eba7ce930bdf27/s/h/shl3000wt00-3.jpg\", \"value_promo\": 89.0, \"value_regular\": 89.0, \"value_cash\": 78.32, \"dt_hr_captura\": \"2022-07-21T22:52:59.258020\", \"url_image2\": \"https://media.pichau.com.br/media/catalog/product/cache/2f958555330323e505eba7ce930bdf27/s/h/shl3000wt00-1.jpg\", \"url_image3\": \"https://media.pichau.com.br/media/catalog/product/cache/2f958555330323e505eba7ce930bdf27/s/h/shl3000wt00-2.jpg\", \"url_image4\": \"https://media.pichau.com.br/media/catalog/product/cache/2f958555330323e505eba7ce930bdf27/s/h/shl3000wt00.jpg\", \"url_image5\": null}, {\"potencia\": null, \"name\": \"Computador Pichau Gamer, AMD Ryzen 5 4650G, Radeon RX 550 4GB, 8GB DDR4, SSD 240GB\", \"stock_status\": \"OUT_OF_STOCK\", \"codigo_barra\": null, \"is_openbox\": \"1970-01-01T00:00:00\", \"promotion_name\": null, \"qty_available\": \"\", \"qty_sold\": \"\", \"expire_at\": \"\", \"url_image0\": \"https://media.pichau.com.br/media/catalog/product/cache/2f958555330323e505eba7ce930bdf27/t/e/templar_intel_1650_560_1__1_6.jpg\", \"url_image1\": \"https://media.pichau.com.br/media/catalog/product/cache/2f958555330323e505eba7ce930bdf27/t/e/templar_intel_1650_560_2__1_6.jpg\", \"value_promo\": 3011.0, \"value_regular\": 3011.0, \"value_cash\": 2649.68, \"dt_hr_captura\": \"2022-07-21T22:53:00.520988\", \"url_image2\": \"https://media.pichau.com.br/media/catalog/product/cache/2f958555330323e505eba7ce930bdf27/g/a/gabinete_templar_1__3_13.jpg\", \"url_image3\": \"https://media.pichau.com.br/media/catalog/product/cache/2f958555330323e505eba7ce930bdf27/g/a/gabinete_templar_3__3_13.jpg\", \"url_image4\": \"https://media.pichau.com.br/media/catalog/product/cache/2f958555330323e505eba7ce930bdf27/g/a/gabinete_templar_4__3_13.jpg\", \"url_image5\": \"https://media.pichau.com.br/media/catalog/product/cache/2f958555330323e505eba7ce930bdf27/g/a/gabinete_templar_23__1_6.jpg\"}, {\"potencia\": null, \"name\": \"Teclado Mecanico Motospeed CK89 RGB Switch Branco, FMSTC0044BRO\", \"stock_status\": \"OUT_OF_STOCK\", \"codigo_barra\": \"7898963836773\", \"is_openbox\": \"1970-01-01T00:00:00\", \"promotion_name\": null, \"qty_available\": \"\", \"qty_sold\": \"\", \"expire_at\": \"\", \"url_image0\": \"https://media.pichau.com.br/media/catalog/product/cache/2f958555330323e505eba7ce930bdf27/f/m/fmstc0044bro1.jpg\", \"url_image1\": \"https://media.pichau.com.br/media/catalog/product/cache/2f958555330323e505eba7ce930bdf27/f/m/fmstc0044bro2.jpg\", \"value_promo\": 749.91, \"value_regular\": 749.91, \"value_cash\": 659.92, \"dt_hr_captura\": \"2022-07-21T22:53:01.680745\", \"url_image2\": \"https://media.pichau.com.br/media/catalog/product/cache/2f958555330323e505eba7ce930bdf27/f/m/fmstc0044bro3.jpg\", \"url_image3\": null, \"url_image4\": null, \"url_image5\": null}, {\"potencia\": null, \"name\": \"Mochila Razer Tactical Pro, RC21-00720101-0000 \", \"stock_status\": \"OUT_OF_STOCK\", \"codigo_barra\": \"8886419396550\", \"is_openbox\": \"1970-01-01T00:00:00\", \"promotion_name\": null, \"qty_available\": \"\", \"qty_sold\": \"\", \"expire_at\": \"\", \"url_image0\": \"https://media.pichau.com.br/media/catalog/product/cache/2f958555330323e505eba7ce930bdf27/r/c/rc21-00720101-000012.jpg\", \"url_image1\": \"https://media.pichau.com.br/media/catalog/product/cache/2f958555330323e505eba7ce930bdf27/r/c/rc21-00720101-00003.jpg\", \"value_promo\": 802.18, \"value_regular\": 802.18, \"value_cash\": 705.92, \"dt_hr_captura\": \"2022-07-21T22:53:02.994590\", \"url_image2\": \"https://media.pichau.com.br/media/catalog/product/cache/2f958555330323e505eba7ce930bdf27/r/c/rc21-00720101-00002.jpg\", \"url_image3\": \"https://media.pichau.com.br/media/catalog/product/cache/2f958555330323e505eba7ce930bdf27/r/c/rc21-00720101-0000.jpg\", \"url_image4\": null, \"url_image5\": null}, {\"potencia\": \"75\", \"name\": \"Memoria Team Group T-Force Dark 16GB (2x8) 3200MHz DDR4 Cinza, TDGED416G320HC16CDC\", \"stock_status\": \"OUT_OF_STOCK\", \"codigo_barra\": null, \"is_openbox\": \"1970-01-01T00:00:00\", \"promotion_name\": null, \"qty_available\": \"\", \"qty_sold\": \"\", \"expire_at\": \"\", \"url_image0\": \"https://media.pichau.com.br/media/catalog/product/cache/2f958555330323e505eba7ce930bdf27/t/d/tdged416g320hc16cdc.jpg\", \"url_image1\": \"https://media.pichau.com.br/media/catalog/product/cache/2f958555330323e505eba7ce930bdf27/t/d/tdged416g320hc16cdc1.jpg\", \"value_promo\": 714.8, \"value_regular\": 714.8, \"value_cash\": 629.02, \"dt_hr_captura\": \"2022-07-21T22:53:04.413215\", \"url_image2\": null, \"url_image3\": null, \"url_image4\": null, \"url_image5\": null}, {\"potencia\": null, \"name\": \"Mouse Multilaser Warrior Preto/Verde, MO245\", \"stock_status\": \"OUT_OF_STOCK\", \"codigo_barra\": \"7899838813271\", \"is_openbox\": \"1970-01-01T00:00:00\", \"promotion_name\": null, \"qty_available\": \"\", \"qty_sold\": \"\", \"expire_at\": \"\", \"url_image0\": \"https://media.pichau.com.br/media/catalog/product/cache/2f958555330323e505eba7ce930bdf27/m/o/mo245.jpg\", \"url_image1\": \"https://media.pichau.com.br/media/catalog/product/cache/2f958555330323e505eba7ce930bdf27/m/o/mo2452.jpg\", \"value_promo\": 96.48, \"value_regular\": 96.48, \"value_cash\": 84.9, \"dt_hr_captura\": \"2022-07-21T22:53:06.634193\", \"url_image2\": \"https://media.pichau.com.br/media/catalog/product/cache/2f958555330323e505eba7ce930bdf27/m/o/mo2453.jpg\", \"url_image3\": \"https://media.pichau.com.br/media/catalog/product/cache/2f958555330323e505eba7ce930bdf27/m/o/mo2454.jpg\", \"url_image4\": null, \"url_image5\": null}, {\"potencia\": null, \"name\": \"Placa Mae ASRock H470M Pro4 DDR4 Socket LGA1200 Chipset Intel H470\", \"stock_status\": \"OUT_OF_STOCK\", \"codigo_barra\": \"4710483931208\", \"is_openbox\": \"1970-01-01T00:00:00\", \"promotion_name\": null, \"qty_available\": \"\", \"qty_sold\": \"\", \"expire_at\": \"\", \"url_image0\": \"https://media.pichau.com.br/media/catalog/product/cache/2f958555330323e505eba7ce930bdf27/h/4/h470m-pro44.jpg\", \"url_image1\": \"https://media.pichau.com.br/media/catalog/product/cache/2f958555330323e505eba7ce930bdf27/h/4/h470m-pro43.jpg\", \"value_promo\": 1249.89, \"value_regular\": 1249.89, \"value_cash\": 1099.9, \"dt_hr_captura\": \"2022-07-21T22:53:08.751943\", \"url_image2\": \"https://media.pichau.com.br/media/catalog/product/cache/2f958555330323e505eba7ce930bdf27/h/4/h470m-pro41.jpg\", \"url_image3\": \"https://media.pichau.com.br/media/catalog/product/cache/2f958555330323e505eba7ce930bdf27/h/4/h470m-pro42.jpg\", \"url_image4\": \"https://media.pichau.com.br/media/catalog/product/cache/2f958555330323e505eba7ce930bdf27/h/4/h470m-pro4.jpg\", \"url_image5\": null}, {\"potencia\": null, \"name\": \"Caixa de Som Microlab MD213 4W RMS Preto, MD213B\", \"stock_status\": \"OUT_OF_STOCK\", \"codigo_barra\": \"6945198853912\", \"is_openbox\": \"1970-01-01T00:00:00\", \"promotion_name\": null, \"qty_available\": \"\", \"qty_sold\": \"\", \"expire_at\": \"\", \"url_image0\": \"https://media.pichau.com.br/media/catalog/product/cache/2f958555330323e505eba7ce930bdf27/m/d/md213b.jpg\", \"url_image1\": null, \"value_promo\": 105.91, \"value_regular\": 105.91, \"value_cash\": 93.2, \"dt_hr_captura\": \"2022-07-21T22:53:09.264211\", \"url_image2\": null, \"url_image3\": null, \"url_image4\": null, \"url_image5\": null}, {\"potencia\": null, \"name\": \"Gabinete AeroCool RIFT RGB Mid Tower Lateral Acr\\u00edlico Preto, EAN53134\", \"stock_status\": \"OUT_OF_STOCK\", \"codigo_barra\": \"4718009153134\", \"is_openbox\": \"1970-01-01T00:00:00\", \"promotion_name\": null, \"qty_available\": \"\", \"qty_sold\": \"\", \"expire_at\": \"\", \"url_image0\": \"https://media.pichau.com.br/media/catalog/product/cache/2f958555330323e505eba7ce930bdf27/e/a/ean531346.jpg\", \"url_image1\": \"https://media.pichau.com.br/media/catalog/product/cache/2f958555330323e505eba7ce930bdf27/e/a/ean531342.jpg\", \"value_promo\": 440.34, \"value_regular\": 440.34, \"value_cash\": 387.5, \"dt_hr_captura\": \"2022-07-21T22:53:10.839544\", \"url_image2\": \"https://media.pichau.com.br/media/catalog/product/cache/2f958555330323e505eba7ce930bdf27/e/a/ean531348_1.jpg\", \"url_image3\": \"https://media.pichau.com.br/media/catalog/product/cache/2f958555330323e505eba7ce930bdf27/e/a/ean531345.jpg\", \"url_image4\": \"https://media.pichau.com.br/media/catalog/product/cache/2f958555330323e505eba7ce930bdf27/e/a/ean53134.jpg\", \"url_image5\": \"https://media.pichau.com.br/media/catalog/product/cache/2f958555330323e505eba7ce930bdf27/e/a/ean531341.jpg\"}, {\"potencia\": null, \"name\": \"Gabinete K-Mex Home com fonte 250W Black/White, CM9F8A - BOX\", \"stock_status\": \"OUT_OF_STOCK\", \"codigo_barra\": null, \"is_openbox\": \"1970-01-01T00:00:00\", \"promotion_name\": null, \"qty_available\": \"\", \"qty_sold\": \"\", \"expire_at\": \"\", \"url_image0\": \"https://media.pichau.com.br/media/catalog/product/cache/2f958555330323e505eba7ce930bdf27/p/r/produto-gm-9f8a_branco_img_644.jpg\", \"url_image1\": null, \"value_promo\": 219.0, \"value_regular\": 219.0, \"value_cash\": 192.72, \"dt_hr_captura\": \"2022-07-21T22:53:11.873285\", \"url_image2\": null, \"url_image3\": null, \"url_image4\": null, \"url_image5\": null}, {\"potencia\": \"30\", \"name\": \"Placa de Video EVGA GeForce GT 210 1GB DDR3 Low Profile 64-bit, 01G-P3-1313-KR\", \"stock_status\": \"OUT_OF_STOCK\", \"codigo_barra\": \"4250223633134\", \"is_openbox\": \"1970-01-01T00:00:00\", \"promotion_name\": null, \"qty_available\": \"\", \"qty_sold\": \"\", \"expire_at\": \"\", \"url_image0\": \"https://media.pichau.com.br/media/catalog/product/cache/2f958555330323e505eba7ce930bdf27/0/1/01g-p3-1313-kr_xl_1.jpg\", \"url_image1\": \"https://media.pichau.com.br/media/catalog/product/cache/2f958555330323e505eba7ce930bdf27/0/1/01g-p3-1313-kr_xl_6.jpg\", \"value_promo\": 150.0, \"value_regular\": 150.0, \"value_cash\": 132.0, \"dt_hr_captura\": \"2022-07-21T22:53:12.755474\", \"url_image2\": \"https://media.pichau.com.br/media/catalog/product/cache/2f958555330323e505eba7ce930bdf27/0/1/01g-p3-1313-kr_xl_4.jpg\", \"url_image3\": \"https://media.pichau.com.br/media/catalog/product/cache/2f958555330323e505eba7ce930bdf27/0/1/01g-p3-1313-kr_xl_5.jpg\", \"url_image4\": \"https://media.pichau.com.br/media/catalog/product/cache/2f958555330323e505eba7ce930bdf27/0/1/01g-p3-1313-kr_xl_2.jpg\", \"url_image5\": \"https://media.pichau.com.br/media/catalog/product/cache/2f958555330323e505eba7ce930bdf27/0/1/01g-p3-1313-kr_xl_7.jpg\"}, {\"potencia\": \"600\", \"name\": \"Fonte Redragon RGPS 600W Bronze 80 Plus, GC-PS002\", \"stock_status\": \"IN_STOCK\", \"codigo_barra\": \"6950376778277\", \"is_openbox\": \"1970-01-01T00:00:00\", \"promotion_name\": null, \"qty_available\": \"\", \"qty_sold\": \"\", \"expire_at\": \"\", \"url_image0\": \"https://media.pichau.com.br/media/catalog/product/cache/2f958555330323e505eba7ce930bdf27/r/g/rgps600w3.jpg\", \"url_image1\": \"https://media.pichau.com.br/media/catalog/product/cache/2f958555330323e505eba7ce930bdf27/r/g/rgps600w7.jpg\", \"value_promo\": 465.79, \"value_regular\": 465.79, \"value_cash\": 409.9, \"dt_hr_captura\": \"2022-07-21T22:53:13.326278\", \"url_image2\": \"https://media.pichau.com.br/media/catalog/product/cache/2f958555330323e505eba7ce930bdf27/r/g/rgps600w6.jpg\", \"url_image3\": \"https://media.pichau.com.br/media/catalog/product/cache/2f958555330323e505eba7ce930bdf27/r/g/rgps600w.jpg\", \"url_image4\": \"https://media.pichau.com.br/media/catalog/product/cache/2f958555330323e505eba7ce930bdf27/r/g/rgps600w2.jpg\", \"url_image5\": \"https://media.pichau.com.br/media/catalog/product/cache/2f958555330323e505eba7ce930bdf27/r/g/rgps600w4.jpg\"}]}}, {\"actions\": false, \"mode\": \"vega-lite\"});\n</script>",
      "text/plain": "alt.Chart(...)"
     },
     "metadata": {}
    }
   ],
   "execution_count": null
  },
  {
   "cell_type": "code",
   "source": "#pesquisa\nfor ik in lista_url:\n    if \"md9\" in ik:\n        print(ik)",
   "metadata": {
    "cell_id": "511c5ffb539847a1bcd207374d85622d",
    "tags": [],
    "deepnote_to_be_reexecuted": true,
    "source_hash": "4c67efb8",
    "execution_start": 1658447943326,
    "execution_millis": 778,
    "deepnote_cell_type": "code",
    "deepnote_cell_height": 376.3999938964844
   },
   "outputs": [
    {
     "name": "stdout",
     "text": "https://www.pichau.com.br/perifericos/cabos-e-adaptadores/cabo-md9-extensor-usb-macho-femea-1-80-metros\nhttps://www.pichau.com.br/perifericos/cabos-e-adaptadores/cabo-hdmi-md9-1-8mt-1-4-filtro-tela-7615\nhttps://www.pichau.com.br/perifericos/cabos-e-adaptadores/adaptador-md9-usb-para-fone-e-microfone-7674\nhttps://www.pichau.com.br/perifericos/cabos-e-adaptadores/adaptador-md9-dvi-femea-para-hdmi-macho\nhttps://www.pichau.com.br/perifericos/cabos-e-adaptadores/cabo-md9-p2-p2-2metros-7672\nhttps://www.pichau.com.br/perifericos/cabos-e-adaptadores/cabo-extensor-usb-md9-3-metros-3-0-niquelado\nhttps://www.pichau.com.br/perifericos/cabos-e-adaptadores/cabo-hdmi-md9-10-metros-7550\nhttps://www.pichau.com.br/perifericos/cabos-e-adaptadores/cabo-extensor-usb-md9-10-metros-7483\nhttps://www.pichau.com.br/perifericos/cabos-e-adaptadores/cabo-de-forca-md9-30-cm-hd-sata-preto\nhttps://www.pichau.com.br/perifericos/cabos-e-adaptadores/adaptador-md9-hdmi-f-para-micro-hdmi-m-6634\nhttps://www.pichau.com.br/perifericos/cabos-e-adaptadores/cabo-display-port-md9-1-8mt-dourado-5702\nhttps://www.pichau.com.br/perifericos/cabos-e-adaptadores/adaptador-md9-usb-pra-p2-audio-microfone-6647\n",
     "output_type": "stream"
    }
   ],
   "execution_count": null
  },
  {
   "cell_type": "code",
   "source": "_deepnote_run_altair(df, \"\"\"{\"$schema\":\"https://vega.github.io/schema/vega-lite/v4.json\",\"mark\":{\"type\":\"bar\",\"tooltip\":true},\"height\":220,\"autosize\":{\"type\":\"fit\"},\"data\":{\"name\":\"placeholder\"},\"encoding\":{\"x\":{\"field\":\"name\",\"type\":\"nominal\",\"sort\":null,\"scale\":{\"type\":\"linear\",\"zero\":false}},\"y\":{\"field\":\"qty_available\",\"type\":\"nominal\",\"sort\":null,\"scale\":{\"type\":\"linear\",\"zero\":true}},\"color\":{\"field\":\"\",\"type\":\"nominal\",\"sort\":null,\"scale\":{\"type\":\"linear\",\"zero\":false}}}}\"\"\")",
   "metadata": {
    "cell_id": "7d1a9aee5c8c42ada42ba4826a3ae02d",
    "deepnote_variable_name": "df",
    "deepnote_visualization_spec": {
     "$schema": "https://vega.github.io/schema/vega-lite/v4.json",
     "mark": {
      "type": "bar",
      "tooltip": true
     },
     "height": 220,
     "autosize": {
      "type": "fit"
     },
     "data": {
      "name": "placeholder"
     },
     "encoding": {
      "x": {
       "field": "name",
       "type": "nominal",
       "sort": null,
       "scale": {
        "type": "linear",
        "zero": false
       }
      },
      "y": {
       "field": "qty_available",
       "type": "nominal",
       "sort": null,
       "scale": {
        "type": "linear",
        "zero": true
       }
      },
      "color": {
       "field": "",
       "type": "nominal",
       "sort": null,
       "scale": {
        "type": "linear",
        "zero": false
       }
      }
     }
    },
    "deepnote_to_be_reexecuted": true,
    "source_hash": "54aa1fe6",
    "execution_start": 1658442000790,
    "execution_millis": 862,
    "deepnote_cell_type": "visualization"
   },
   "outputs": [
    {
     "output_type": "execute_result",
     "execution_count": 225,
     "data": {
      "text/html": "\n<div id=\"altair-viz-469b22391ffb4729bb257a0e0bdb0482\"></div>\n<script type=\"text/javascript\">\n  (function(spec, embedOpt){\n    let outputDiv = document.currentScript.previousElementSibling;\n    if (outputDiv.id !== \"altair-viz-469b22391ffb4729bb257a0e0bdb0482\") {\n      outputDiv = document.getElementById(\"altair-viz-469b22391ffb4729bb257a0e0bdb0482\");\n    }\n    const paths = {\n      \"vega\": \"https://cdn.jsdelivr.net/npm//vega@5?noext\",\n      \"vega-lib\": \"https://cdn.jsdelivr.net/npm//vega-lib?noext\",\n      \"vega-lite\": \"https://cdn.jsdelivr.net/npm//vega-lite@4.8.1?noext\",\n      \"vega-embed\": \"https://cdn.jsdelivr.net/npm//vega-embed@6?noext\",\n    };\n\n    function loadScript(lib) {\n      return new Promise(function(resolve, reject) {\n        var s = document.createElement('script');\n        s.src = paths[lib];\n        s.async = true;\n        s.onload = () => resolve(paths[lib]);\n        s.onerror = () => reject(`Error loading script: ${paths[lib]}`);\n        document.getElementsByTagName(\"head\")[0].appendChild(s);\n      });\n    }\n\n    function showError(err) {\n      outputDiv.innerHTML = `<div class=\"error\" style=\"color:red;\">${err}</div>`;\n      throw err;\n    }\n\n    function displayChart(vegaEmbed) {\n      vegaEmbed(outputDiv, spec, embedOpt)\n        .catch(err => showError(`Javascript Error: ${err.message}<br>This usually means there's a typo in your chart specification. See the javascript console for the full traceback.`));\n    }\n\n    if(typeof define === \"function\" && define.amd) {\n      requirejs.config({paths});\n      require([\"vega-embed\"], displayChart, err => showError(`Error loading script: ${err.message}`));\n    } else if (typeof vegaEmbed === \"function\") {\n      displayChart(vegaEmbed);\n    } else {\n      loadScript(\"vega\")\n        .then(() => loadScript(\"vega-lite\"))\n        .then(() => loadScript(\"vega-embed\"))\n        .catch(showError)\n        .then(() => displayChart(vegaEmbed));\n    }\n  })({\"config\": {\"view\": {\"continuousWidth\": 400, \"continuousHeight\": 300}, \"area\": {\"fill\": \"#51C0E9\"}, \"axis\": {\"labelFont\": \"Inter, sans-serif\", \"labelFontSize\": 12, \"labelFontWeight\": \"normal\", \"labelLimit\": 60, \"labelOverlap\": \"greedy\", \"titleFont\": \"Inter, sans-serif\", \"titleFontSize\": 12, \"titleFontWeight\": \"bold\"}, \"background\": \"#ffffff\", \"legend\": {\"labelFont\": \"Inter, sans-serif\", \"labelFontSize\": 12, \"titleFont\": \"Inter, sans-serif\", \"titleFontSize\": 12, \"titleFontWeight\": \"bold\"}, \"line\": {\"stroke\": \"#51C0E9\", \"strokeWidth\": 2}, \"rect\": {\"fill\": \"#51C0E9\"}, \"title\": {\"anchor\": \"start\", \"color\": \"#000000\", \"font\": \"Inter, sans-serif\", \"fontSize\": 22, \"fontWeight\": \"normal\"}}, \"data\": {\"name\": \"data-82bc058040bdf32855ae2b5262703e23\"}, \"mark\": {\"type\": \"bar\", \"tooltip\": true}, \"autosize\": {\"type\": \"fit\"}, \"encoding\": {\"color\": {\"type\": \"nominal\", \"field\": \"\", \"scale\": {\"type\": \"linear\", \"zero\": false}, \"sort\": null}, \"x\": {\"type\": \"nominal\", \"field\": \"name\", \"scale\": {\"type\": \"linear\", \"zero\": false}, \"sort\": null}, \"y\": {\"type\": \"nominal\", \"field\": \"qty_available\", \"scale\": {\"type\": \"linear\", \"zero\": true}, \"sort\": null}}, \"height\": 300, \"width\": \"container\", \"$schema\": \"https://vega.github.io/schema/vega-lite/v4.json\", \"datasets\": {\"data-82bc058040bdf32855ae2b5262703e23\": [{\"potencia\": \"65\", \"name\": \"Processador AMD Ryzen 5 5600, 6-Core, 12-Threads, 3.5GHz (4.4GHz Turbo), Cache 35MB, AM4, 100-100000927BOX\", \"stock_status\": \"IN_STOCK\", \"codigo_barra\": \"0730143314190\", \"is_openbox\": \"1970-01-01T00:00:00\", \"promotion_name\": \"Ferias com o Pombo\", \"qty_available\": \"1970-01-01T00:00:00.000000079\", \"qty_sold\": \"1970-01-01T00:00:00.000000268\", \"expire_at\": \"2022-08-01T17:00:00\", \"url_image0\": \"https://media.pichau.com.br/media/catalog/product/cache/2f958555330323e505eba7ce930bdf27/1/0/100-100000927box_1.jpg\", \"url_image1\": \"https://media.pichau.com.br/media/catalog/product/cache/2f958555330323e505eba7ce930bdf27/1/0/100-100000927box1_1.jpg\", \"value_promo\": 1269.32, \"value_regular\": 1697.3, \"value_cash\": 1117.0016, \"dt_hr_captura\": \"2022-07-21T22:18:53.613173\", \"url_image2\": null, \"url_image3\": null, \"url_image4\": null}, {\"potencia\": null, \"name\": \"Headset Gamer TGT Diver, Rainbow, Drivers 40mm, Preto, TGT-DVR-RGB01\", \"stock_status\": \"IN_STOCK\", \"codigo_barra\": \"7908446214148\", \"is_openbox\": \"1970-01-01T00:00:00\", \"promotion_name\": \"Ferias com o Pombo\", \"qty_available\": \"1970-01-01T00:00:00.000000252\", \"qty_sold\": \"1970-01-01T00:00:00.000000048\", \"expire_at\": \"2022-08-01T17:00:00\", \"url_image0\": \"https://media.pichau.com.br/media/catalog/product/cache/2f958555330323e505eba7ce930bdf27/t/g/tgt-dvr-rgb013.jpg\", \"url_image1\": \"https://media.pichau.com.br/media/catalog/product/cache/2f958555330323e505eba7ce930bdf27/t/g/tgt-dvr-rgb012.jpg\", \"value_promo\": 85.11, \"value_regular\": 129.9, \"value_cash\": 74.8968, \"dt_hr_captura\": \"2022-07-21T22:18:53.761329\", \"url_image2\": \"https://media.pichau.com.br/media/catalog/product/cache/2f958555330323e505eba7ce930bdf27/t/g/tgt-dvr-rgb011.jpg\", \"url_image3\": \"https://media.pichau.com.br/media/catalog/product/cache/2f958555330323e505eba7ce930bdf27/t/g/tgt-dvr-rgb01.jpg\", \"url_image4\": \"https://media.pichau.com.br/media/catalog/product/cache/2f958555330323e505eba7ce930bdf27/t/g/tgt-dvr-rgb011211.jpg\"}]}}, {\"actions\": false, \"mode\": \"vega-lite\"});\n</script>",
      "text/plain": "alt.Chart(...)"
     },
     "metadata": {}
    }
   ],
   "execution_count": null
  },
  {
   "cell_type": "code",
   "source": "df_temp",
   "metadata": {
    "cell_id": "475762749c37422394e8ed1ed831abad",
    "tags": [],
    "deepnote_to_be_reexecuted": true,
    "source_hash": "319bd502",
    "execution_start": 1658441569357,
    "execution_millis": 94,
    "deepnote_cell_type": "code",
    "deepnote_cell_height": 231
   },
   "outputs": [
    {
     "output_type": "execute_result",
     "execution_count": 201,
     "data": {
      "application/vnd.deepnote.dataframe.v3+json": {
       "column_count": 15,
       "row_count": 1,
       "columns": [
        {
         "name": "potencia",
         "dtype": "object",
         "stats": {
          "unique_count": 1,
          "nan_count": 0,
          "categories": [
           {
            "name": "65",
            "count": 1
           }
          ]
         }
        },
        {
         "name": "name",
         "dtype": "object",
         "stats": {
          "unique_count": 1,
          "nan_count": 0,
          "categories": [
           {
            "name": "Processador AMD Ryzen 5 5600, 6-Core, 12-Threads, 3.5GHz (4.4GHz Turbo), Cache 35MB, AM4, 100-100000927BOX",
            "count": 1
           }
          ]
         }
        },
        {
         "name": "stock_status",
         "dtype": "object",
         "stats": {
          "unique_count": 1,
          "nan_count": 0,
          "categories": [
           {
            "name": "IN_STOCK",
            "count": 1
           }
          ]
         }
        },
        {
         "name": "codigo_barra",
         "dtype": "object",
         "stats": {
          "unique_count": 1,
          "nan_count": 0,
          "categories": [
           {
            "name": "0730143314190",
            "count": 1
           }
          ]
         }
        },
        {
         "name": "is_openbox",
         "dtype": "int64",
         "stats": {
          "unique_count": 1,
          "nan_count": 0,
          "min": "0",
          "max": "0",
          "histogram": [
           {
            "bin_start": -0.5,
            "bin_end": -0.4,
            "count": 0
           },
           {
            "bin_start": -0.4,
            "bin_end": -0.3,
            "count": 0
           },
           {
            "bin_start": -0.3,
            "bin_end": -0.19999999999999996,
            "count": 0
           },
           {
            "bin_start": -0.19999999999999996,
            "bin_end": -0.09999999999999998,
            "count": 0
           },
           {
            "bin_start": -0.09999999999999998,
            "bin_end": 0,
            "count": 0
           },
           {
            "bin_start": 0,
            "bin_end": 0.10000000000000009,
            "count": 1
           },
           {
            "bin_start": 0.10000000000000009,
            "bin_end": 0.20000000000000007,
            "count": 0
           },
           {
            "bin_start": 0.20000000000000007,
            "bin_end": 0.30000000000000004,
            "count": 0
           },
           {
            "bin_start": 0.30000000000000004,
            "bin_end": 0.4,
            "count": 0
           },
           {
            "bin_start": 0.4,
            "bin_end": 0.5,
            "count": 0
           }
          ]
         }
        },
        {
         "name": "promotion_name",
         "dtype": "object",
         "stats": {
          "unique_count": 1,
          "nan_count": 0,
          "categories": [
           {
            "name": "Ferias com o Pombo",
            "count": 1
           }
          ]
         }
        },
        {
         "name": "qty_available",
         "dtype": "int64",
         "stats": {
          "unique_count": 1,
          "nan_count": 0,
          "min": "83",
          "max": "83",
          "histogram": [
           {
            "bin_start": 82.5,
            "bin_end": 82.6,
            "count": 0
           },
           {
            "bin_start": 82.6,
            "bin_end": 82.7,
            "count": 0
           },
           {
            "bin_start": 82.7,
            "bin_end": 82.8,
            "count": 0
           },
           {
            "bin_start": 82.8,
            "bin_end": 82.9,
            "count": 0
           },
           {
            "bin_start": 82.9,
            "bin_end": 83,
            "count": 0
           },
           {
            "bin_start": 83,
            "bin_end": 83.1,
            "count": 1
           },
           {
            "bin_start": 83.1,
            "bin_end": 83.2,
            "count": 0
           },
           {
            "bin_start": 83.2,
            "bin_end": 83.3,
            "count": 0
           },
           {
            "bin_start": 83.3,
            "bin_end": 83.4,
            "count": 0
           },
           {
            "bin_start": 83.4,
            "bin_end": 83.5,
            "count": 0
           }
          ]
         }
        },
        {
         "name": "qty_sold",
         "dtype": "int64",
         "stats": {
          "unique_count": 1,
          "nan_count": 0,
          "min": "264",
          "max": "264",
          "histogram": [
           {
            "bin_start": 263.5,
            "bin_end": 263.6,
            "count": 0
           },
           {
            "bin_start": 263.6,
            "bin_end": 263.7,
            "count": 0
           },
           {
            "bin_start": 263.7,
            "bin_end": 263.8,
            "count": 0
           },
           {
            "bin_start": 263.8,
            "bin_end": 263.9,
            "count": 0
           },
           {
            "bin_start": 263.9,
            "bin_end": 264,
            "count": 0
           },
           {
            "bin_start": 264,
            "bin_end": 264.1,
            "count": 1
           },
           {
            "bin_start": 264.1,
            "bin_end": 264.2,
            "count": 0
           },
           {
            "bin_start": 264.2,
            "bin_end": 264.3,
            "count": 0
           },
           {
            "bin_start": 264.3,
            "bin_end": 264.4,
            "count": 0
           },
           {
            "bin_start": 264.4,
            "bin_end": 264.5,
            "count": 0
           }
          ]
         }
        },
        {
         "name": "expire_at",
         "dtype": "object",
         "stats": {
          "unique_count": 1,
          "nan_count": 0,
          "categories": [
           {
            "name": "2022-08-01 17:00:00",
            "count": 1
           }
          ]
         }
        },
        {
         "name": "url_image0",
         "dtype": "object",
         "stats": {
          "unique_count": 1,
          "nan_count": 0,
          "categories": [
           {
            "name": "https://media.pichau.com.br/media/catalog/product/cache/2f958555330323e505eba7ce930bdf27/1/0/100-100000927box_1.jpg",
            "count": 1
           }
          ]
         }
        },
        {
         "name": "url_image1",
         "dtype": "object",
         "stats": {
          "unique_count": 1,
          "nan_count": 0,
          "categories": [
           {
            "name": "https://media.pichau.com.br/media/catalog/product/cache/2f958555330323e505eba7ce930bdf27/1/0/100-100000927box1_1.jpg",
            "count": 1
           }
          ]
         }
        },
        {
         "name": "value_promo",
         "dtype": "float64",
         "stats": {
          "unique_count": 1,
          "nan_count": 0,
          "min": "1269.32",
          "max": "1269.32",
          "histogram": [
           {
            "bin_start": 1268.82,
            "bin_end": 1268.9199999999998,
            "count": 0
           },
           {
            "bin_start": 1268.9199999999998,
            "bin_end": 1269.02,
            "count": 0
           },
           {
            "bin_start": 1269.02,
            "bin_end": 1269.12,
            "count": 0
           },
           {
            "bin_start": 1269.12,
            "bin_end": 1269.22,
            "count": 0
           },
           {
            "bin_start": 1269.22,
            "bin_end": 1269.32,
            "count": 0
           },
           {
            "bin_start": 1269.32,
            "bin_end": 1269.4199999999998,
            "count": 1
           },
           {
            "bin_start": 1269.4199999999998,
            "bin_end": 1269.52,
            "count": 0
           },
           {
            "bin_start": 1269.52,
            "bin_end": 1269.62,
            "count": 0
           },
           {
            "bin_start": 1269.62,
            "bin_end": 1269.72,
            "count": 0
           },
           {
            "bin_start": 1269.72,
            "bin_end": 1269.82,
            "count": 0
           }
          ]
         }
        },
        {
         "name": "value_regular",
         "dtype": "float64",
         "stats": {
          "unique_count": 1,
          "nan_count": 0,
          "min": "1697.3",
          "max": "1697.3",
          "histogram": [
           {
            "bin_start": 1696.8,
            "bin_end": 1696.8999999999999,
            "count": 0
           },
           {
            "bin_start": 1696.8999999999999,
            "bin_end": 1697,
            "count": 0
           },
           {
            "bin_start": 1697,
            "bin_end": 1697.1,
            "count": 0
           },
           {
            "bin_start": 1697.1,
            "bin_end": 1697.2,
            "count": 0
           },
           {
            "bin_start": 1697.2,
            "bin_end": 1697.3,
            "count": 0
           },
           {
            "bin_start": 1697.3,
            "bin_end": 1697.3999999999999,
            "count": 1
           },
           {
            "bin_start": 1697.3999999999999,
            "bin_end": 1697.5,
            "count": 0
           },
           {
            "bin_start": 1697.5,
            "bin_end": 1697.6,
            "count": 0
           },
           {
            "bin_start": 1697.6,
            "bin_end": 1697.7,
            "count": 0
           },
           {
            "bin_start": 1697.7,
            "bin_end": 1697.8,
            "count": 0
           }
          ]
         }
        },
        {
         "name": "value_cash",
         "dtype": "float64",
         "stats": {
          "unique_count": 1,
          "nan_count": 0,
          "min": "1117.0016",
          "max": "1117.0016",
          "histogram": [
           {
            "bin_start": 1116.5016,
            "bin_end": 1116.6016,
            "count": 0
           },
           {
            "bin_start": 1116.6016,
            "bin_end": 1116.7016,
            "count": 0
           },
           {
            "bin_start": 1116.7016,
            "bin_end": 1116.8016,
            "count": 0
           },
           {
            "bin_start": 1116.8016,
            "bin_end": 1116.9016000000001,
            "count": 0
           },
           {
            "bin_start": 1116.9016000000001,
            "bin_end": 1117.0016,
            "count": 0
           },
           {
            "bin_start": 1117.0016,
            "bin_end": 1117.1016,
            "count": 1
           },
           {
            "bin_start": 1117.1016,
            "bin_end": 1117.2016,
            "count": 0
           },
           {
            "bin_start": 1117.2016,
            "bin_end": 1117.3016,
            "count": 0
           },
           {
            "bin_start": 1117.3016,
            "bin_end": 1117.4016000000001,
            "count": 0
           },
           {
            "bin_start": 1117.4016000000001,
            "bin_end": 1117.5016,
            "count": 0
           }
          ]
         }
        },
        {
         "name": "dt_hr_captura",
         "dtype": "datetime64[ns]",
         "stats": {
          "unique_count": 1,
          "nan_count": 0,
          "min": "2022-07-21 22:12:07.605842",
          "max": "2022-07-21 22:12:07.605842",
          "histogram": null
         }
        },
        {
         "name": "_deepnote_index_column",
         "dtype": "int64"
        }
       ],
       "rows": [
        {
         "potencia": "65",
         "name": "Processador AMD Ryzen 5 5600, 6-Core, 12-Threads, 3.5GHz (4.4GHz Turbo), Cache 35MB, AM4, 100-100000927BOX",
         "stock_status": "IN_STOCK",
         "codigo_barra": "0730143314190",
         "is_openbox": 0,
         "promotion_name": "Ferias com o Pombo",
         "qty_available": 83,
         "qty_sold": 264,
         "expire_at": "2022-08-01 17:00:00",
         "url_image0": "https://media.pichau.com.br/media/catalog/product/cache/2f958555330323e505eba7ce930bdf27/1/0/100-100000927box_1.jpg",
         "url_image1": "https://media.pichau.com.br/media/catalog/product/cache/2f958555330323e505eba7ce930bdf27/1/0/100-100000927box1_1.jpg",
         "value_promo": 1269.32,
         "value_regular": 1697.3,
         "value_cash": 1117.0016,
         "dt_hr_captura": "2022-07-21T22:12:07.605842",
         "_deepnote_index_column": 0
        }
       ]
      },
      "text/plain": "  potencia                                               name stock_status  \\\n0       65  Processador AMD Ryzen 5 5600, 6-Core, 12-Threa...     IN_STOCK   \n\n    codigo_barra  is_openbox      promotion_name  qty_available  qty_sold  \\\n0  0730143314190           0  Ferias com o Pombo             83       264   \n\n             expire_at                                         url_image0  \\\n0  2022-08-01 17:00:00  https://media.pichau.com.br/media/catalog/prod...   \n\n                                          url_image1  value_promo  \\\n0  https://media.pichau.com.br/media/catalog/prod...      1269.32   \n\n   value_regular  value_cash              dt_hr_captura  \n0         1697.3   1117.0016 2022-07-21 22:12:07.605842  ",
      "text/html": "<div>\n<style scoped>\n    .dataframe tbody tr th:only-of-type {\n        vertical-align: middle;\n    }\n\n    .dataframe tbody tr th {\n        vertical-align: top;\n    }\n\n    .dataframe thead th {\n        text-align: right;\n    }\n</style>\n<table border=\"1\" class=\"dataframe\">\n  <thead>\n    <tr style=\"text-align: right;\">\n      <th></th>\n      <th>potencia</th>\n      <th>name</th>\n      <th>stock_status</th>\n      <th>codigo_barra</th>\n      <th>is_openbox</th>\n      <th>promotion_name</th>\n      <th>qty_available</th>\n      <th>qty_sold</th>\n      <th>expire_at</th>\n      <th>url_image0</th>\n      <th>url_image1</th>\n      <th>value_promo</th>\n      <th>value_regular</th>\n      <th>value_cash</th>\n      <th>dt_hr_captura</th>\n    </tr>\n  </thead>\n  <tbody>\n    <tr>\n      <th>0</th>\n      <td>65</td>\n      <td>Processador AMD Ryzen 5 5600, 6-Core, 12-Threa...</td>\n      <td>IN_STOCK</td>\n      <td>0730143314190</td>\n      <td>0</td>\n      <td>Ferias com o Pombo</td>\n      <td>83</td>\n      <td>264</td>\n      <td>2022-08-01 17:00:00</td>\n      <td>https://media.pichau.com.br/media/catalog/prod...</td>\n      <td>https://media.pichau.com.br/media/catalog/prod...</td>\n      <td>1269.32</td>\n      <td>1697.3</td>\n      <td>1117.0016</td>\n      <td>2022-07-21 22:12:07.605842</td>\n    </tr>\n  </tbody>\n</table>\n</div>"
     },
     "metadata": {}
    }
   ],
   "execution_count": null
  },
  {
   "cell_type": "markdown",
   "source": "### Criando a função da Pichau",
   "metadata": {
    "cell_id": "0041ce0df82c4d4bb633c18020eb1cd8",
    "tags": [],
    "deepnote_cell_type": "markdown",
    "deepnote_cell_height": 62
   }
  },
  {
   "cell_type": "code",
   "metadata": {
    "cell_id": "005a3af2b3fb4548b7db3c46b17bd699",
    "tags": [],
    "deepnote_to_be_reexecuted": true,
    "source_hash": "e68788eb",
    "execution_start": 1658443132285,
    "execution_millis": 20,
    "deepnote_cell_type": "code",
    "deepnote_cell_height": 711
   },
   "source": "def get_html_page(url : str, header=None) -> str:\n\n    '''\n    Funcao para o script HTML das paginas a serem monitoradas\n\n    Retorno do metodo\n    str\n\n    Parametros\n\n    url:str\n    link do site a ser obtidos o script\n    '''\n\n    #Checa se existe o header\n    if header is None  :\n        header = {\n            \"user-agent\": \"Mozilla/5.0 (Windows NT 10.0; Win64; x64) AppleWebKit/537.36 (KHTML, like Gecko) Chrome/74.0.3729.169 Safari/537.36\" ,\n            'referer':'https://www.google.com/'\n        }\n\n    #Checa se a url está vazia antes de requisitar\n    if len(url) == 0:\n        print('URL vazia')\n        return None\n\n    r = requests.get(url, headers=header)\n    \n    return_code = r.status_code\n\n    if not return_code in (200, 201, 202):\n        print(f'Houve um erro no processamento da url {url}')\n        return None\n    \n    return r.text\n",
   "outputs": [],
   "execution_count": null
  },
  {
   "cell_type": "code",
   "metadata": {
    "cell_id": "6f61bb10b9bf45ce84b5e936d3d55db9",
    "tags": [],
    "deepnote_to_be_reexecuted": true,
    "source_hash": "25c71916",
    "execution_start": 1658437859015,
    "execution_millis": 273,
    "deepnote_cell_type": "code",
    "deepnote_cell_height": 81
   },
   "source": "res = get_html_page('https://www.pichau.com.br/processador-amd-ryzen-5-5600-6-core-12-threads-3-5ghz-4-4ghz-turbo-cache-35mb-am4-100-100000927box?utm_source=pcbuildwizard')",
   "outputs": [],
   "execution_count": null
  },
  {
   "cell_type": "code",
   "metadata": {
    "cell_id": "889a012dd0884a85ab930224e512c035",
    "tags": [],
    "deepnote_to_be_reexecuted": true,
    "source_hash": "ffcb6283",
    "execution_start": 1658444575645,
    "execution_millis": 850,
    "deepnote_cell_type": "code",
    "deepnote_cell_height": 1089
   },
   "source": "def extract_pichau(html_script : str) -> pd.DataFrame:\n\n    '''\n    Funcao para buscar as informacoes do site da pichau e persisti-las\n\n    Retorno do metodo\n    pandas.DataFrame\n\n    Parametros\n\n    html_script:str\n    script do site a ser obtidos as informações\n    '''\n\n    limite_galeria = 6\n\n    df_retorno = pd.DataFrame()\n\n    soup = BeautifulSoup(html_script, 'html.parser')\n\n    all_data = soup.find('script', {'type':'application/json'})\n\n    jsn = json.loads(all_data.string)\n\n    #Usar esta lista de atributos neste nível: ['props']['pageProps']['pageData']['content']\n    lista_attr_l0 = ['sku', 'potencia', 'name', 'stock_status', 'codigo_barra', 'is_openbox']\n\n    for i in lista_attr_l0:\n        df_retorno[i] = pd.Series(jsn['props']['pageProps']['pageData']['content'][i])\n\n    #Usar esta lista de atributos neste nível: ['props']['pageProps']['pageData']['content']['mysales_promotion']\n    lista_attr_l1 = ['promotion_name', 'qty_available', 'qty_sold', 'expire_at']\n\n    if jsn['props']['pageProps']['pageData']['content']['mysales_promotion'] is not None:\n        for i in lista_attr_l1:\n            df_retorno[i] = pd.Series(jsn['props']['pageProps']['pageData']['content']['mysales_promotion'][i])\n\n    galeria = jsn['props']['pageProps']['pageData']['content']['media_gallery']\n\n    for img, counter in zip(galeria [:min(len(galeria), limite_galeria)], range(limite_galeria)):\n        df_retorno[\"url_image\" + str(counter)] = img['url']\n\n    #df_retorno['currency_promo'] = pd.Series(jsn['props']['pageProps']['pageData']['content']['price_range']['minimum_price']['final_price']['currency'])\n    df_retorno['value_promo'] = pd.Series(jsn['props']['pageProps']['pageData']['content']['price_range']['minimum_price']['final_price']['value'])\n\n    #df_retorno['currency_regular'] = pd.Series(jsn['props']['pageProps']['pageData']['content']['price_range']['minimum_price']['regular_price']['currency'])\n    df_retorno['value_regular'] = pd.Series(jsn['props']['pageProps']['pageData']['content']['price_range']['minimum_price']['regular_price']['value'])\n\n    #df_retorno['currency_cash'] = df_retorno['currency_promo']\n    df_retorno['value_cash'] = round(df_retorno['value_promo'].astype('float64') * 0.88, 2)\n\n    df_retorno['dt_hr_captura'] = [datetime.now()]\n    #print(df_retorno.shape)\n\n    return df_retorno\n    #data hora captura\n",
   "outputs": [],
   "execution_count": null
  },
  {
   "cell_type": "code",
   "metadata": {
    "cell_id": "f05d02d703334015864d9095959cf98b",
    "tags": [],
    "deepnote_to_be_reexecuted": true,
    "source_hash": "ff308cda",
    "execution_start": 1658441409903,
    "execution_millis": 58,
    "deepnote_cell_type": "code",
    "deepnote_cell_height": 111.19999694824219
   },
   "source": "df = extract_pichau(res)",
   "outputs": [
    {
     "name": "stdout",
     "text": "(1, 15)\n",
     "output_type": "stream"
    }
   ],
   "execution_count": null
  },
  {
   "cell_type": "code",
   "source": "df.columns",
   "metadata": {
    "cell_id": "d8c74d4994934632b848c1c88b0204d3",
    "tags": [],
    "deepnote_to_be_reexecuted": true,
    "source_hash": "25d43fa0",
    "execution_start": 1658441415436,
    "execution_millis": 32,
    "deepnote_table_state": {
     "pageSize": 10,
     "pageIndex": 0,
     "filters": [],
     "sortBy": []
    },
    "deepnote_table_loading": false,
    "deepnote_cell_type": "code",
    "deepnote_cell_height": 195,
    "deepnote_output_heights": [
     98
    ]
   },
   "outputs": [
    {
     "output_type": "execute_result",
     "execution_count": 192,
     "data": {
      "text/plain": "Index(['potencia', 'name', 'stock_status', 'codigo_barra', 'is_openbox',\n       'promotion_name', 'qty_available', 'qty_sold', 'expire_at',\n       'url_image0', 'url_image1', 'value_promo', 'value_regular',\n       'value_cash', 'dt_hr_captura'],\n      dtype='object')"
     },
     "metadata": {}
    }
   ],
   "execution_count": null
  },
  {
   "cell_type": "code",
   "metadata": {
    "cell_id": "d9591bb030d94e4bad87cae70a9b2d3a",
    "tags": [],
    "deepnote_to_be_reexecuted": true,
    "source_hash": "91114a7f",
    "execution_start": 1658440558536,
    "execution_millis": 20,
    "deepnote_cell_type": "code",
    "deepnote_cell_height": 99
   },
   "source": "#Usar esta lista de atributos neste nível: ['props']['pageProps']['pageData']['content']\nlista_attr_l0 = ['potencia', 'name', 'stock_status', 'codigo_barra', 'is_openbox']",
   "outputs": [],
   "execution_count": null
  },
  {
   "cell_type": "code",
   "source": "for i in lista_attr_l0:\n    print(jsn['props']['pageProps']['pageData']['content'][i])",
   "metadata": {
    "cell_id": "20889025515d48348654c00b3d555167",
    "tags": [],
    "deepnote_to_be_reexecuted": true,
    "source_hash": "58ffd33f",
    "execution_start": 1658439147211,
    "execution_millis": 348,
    "deepnote_cell_type": "code",
    "deepnote_cell_height": 206
   },
   "outputs": [
    {
     "name": "stdout",
     "text": "65\nProcessador AMD Ryzen 5 5600, 6-Core, 12-Threads, 3.5GHz (4.4GHz Turbo), Cache 35MB, AM4, 100-100000927BOX\nIN_STOCK\n0730143314190\n0\n",
     "output_type": "stream"
    }
   ],
   "execution_count": null
  },
  {
   "cell_type": "code",
   "source": "#Usar esta lista de atributos neste nível: ['props']['pageProps']['pageData']['content']['mysales_promotion']\nlista_attr_l1 = ['promotion_name', 'qty_available', 'qty_sold', 'expire_at']",
   "metadata": {
    "cell_id": "c7366807be2e4a688c6dc1fbb2b0837d",
    "tags": [],
    "deepnote_to_be_reexecuted": true,
    "source_hash": "316b3b65",
    "execution_start": 1658438691466,
    "execution_millis": 763,
    "deepnote_cell_type": "code",
    "deepnote_cell_height": 99
   },
   "outputs": [],
   "execution_count": null
  },
  {
   "cell_type": "code",
   "source": "for i in lista_attr_l1:\n    print(jsn['props']['pageProps']['pageData']['content']['mysales_promotion'][i])",
   "metadata": {
    "cell_id": "11d36b02c45a46fd8cd6afd1528c17c8",
    "tags": [],
    "deepnote_to_be_reexecuted": true,
    "source_hash": "20a3e32e",
    "execution_start": 1658438692234,
    "execution_millis": 23,
    "deepnote_cell_type": "code",
    "deepnote_cell_height": 186.8000030517578
   },
   "outputs": [
    {
     "name": "stdout",
     "text": "Ferias com o Pombo\n83\n264\n2022-08-01 17:00:00\n",
     "output_type": "stream"
    }
   ],
   "execution_count": null
  },
  {
   "cell_type": "code",
   "source": "jsn['props']['pageProps']['pageData']['content']['mysales_promotion']",
   "metadata": {
    "cell_id": "75457ffa03564a5abe915239db3f177a",
    "tags": [],
    "deepnote_to_be_reexecuted": true,
    "source_hash": "fd917070",
    "execution_start": 1658438480064,
    "execution_millis": 27,
    "deepnote_cell_type": "code",
    "deepnote_cell_height": 253,
    "deepnote_output_heights": [
     156
    ]
   },
   "outputs": [
    {
     "output_type": "execute_result",
     "execution_count": 111,
     "data": {
      "text/plain": "{'expire_at': '2022-08-01 17:00:00',\n 'price_discount': 25.22,\n 'price_promotional': 1269.32,\n 'promotion_name': 'Ferias com o Pombo',\n 'promotion_url': 'promocao/feriaspombo',\n 'qty_available': 83,\n 'qty_sold': 264,\n '__typename': 'MySalesPromotionProduct'}"
     },
     "metadata": {}
    }
   ],
   "execution_count": null
  },
  {
   "cell_type": "code",
   "metadata": {
    "cell_id": "83cf7081533d46e89d1c00f38a31e2a8",
    "tags": [],
    "deepnote_to_be_reexecuted": true,
    "source_hash": "a707e18a",
    "deepnote_cell_type": "code",
    "deepnote_cell_height": 156
   },
   "source": "#moeda: ['props']['pageProps']['pageData']['content']['price_range']['minimum_price']['final_price']['currency']\n#value_promocional: ['props']['pageProps']['pageData']['content']['price_range']['minimum_price']['final_price']['value']\n\n#moeda: jsn['props']['pageProps']['pageData']['content']['price_range']['minimum_price']['regular_price']['currency']\n#value_regular: jsn['props']['pageProps']['pageData']['content']['price_range']['minimum_price']['regular_price']['value']\n",
   "execution_count": null,
   "outputs": []
  },
  {
   "cell_type": "code",
   "metadata": {
    "cell_id": "9500aa56dedb444da3eef608f9b091cb",
    "tags": [],
    "deepnote_to_be_reexecuted": true,
    "source_hash": "8d3f08ca",
    "execution_start": 1658435702266,
    "execution_millis": 2,
    "deepnote_cell_type": "code",
    "deepnote_cell_height": 184.39999389648438
   },
   "source": "galeria = jsn['props']['pageProps']['pageData']['content']['media_gallery']]\nlimit = 6\nfor i in galeria [:min(len(galeria), limit)]:\n    print(i['url'])",
   "outputs": [
    {
     "name": "stdout",
     "text": "https://media.pichau.com.br/media/catalog/product/cache/2f958555330323e505eba7ce930bdf27/1/0/100-100000927box_1.jpg\nhttps://media.pichau.com.br/media/catalog/product/cache/2f958555330323e505eba7ce930bdf27/1/0/100-100000927box1_1.jpg\n",
     "output_type": "stream"
    }
   ],
   "execution_count": null
  },
  {
   "cell_type": "code",
   "metadata": {
    "cell_id": "ca5eabaf6852453aaa1612c8dc60283f",
    "tags": [],
    "deepnote_to_be_reexecuted": true,
    "source_hash": "b623e53d",
    "deepnote_cell_type": "code",
    "deepnote_cell_height": 66
   },
   "source": "",
   "execution_count": null,
   "outputs": []
  },
  {
   "cell_type": "markdown",
   "source": "### Obtendo o sitemap da Pichau",
   "metadata": {
    "cell_id": "7aa98b7bba4749f3b7293bf2b58df2b4",
    "tags": [],
    "deepnote_cell_type": "markdown",
    "deepnote_cell_height": 62
   }
  },
  {
   "cell_type": "code",
   "source": "df_sitemap = pd.read_xml('https://www.pichau.com.br/media/sitemap.xml', headers=header)",
   "metadata": {
    "cell_id": "5ec76e8ff9a1461cbc0e2bce34b10e2d",
    "tags": [],
    "deepnote_to_be_reexecuted": true,
    "source_hash": "eb80dfcc",
    "execution_start": 1658442500736,
    "execution_millis": 35,
    "deepnote_cell_type": "code",
    "deepnote_cell_height": 144.1999969482422
   },
   "outputs": [
    {
     "output_type": "error",
     "ename": "TypeError",
     "evalue": "read_xml() got an unexpected keyword argument 'headers'",
     "traceback": [
      "\u001b[0;31m---------------------------------------------------------------------------\u001b[0m",
      "\u001b[0;31mTypeError\u001b[0m                                 Traceback (most recent call last)",
      "\u001b[0;32m<ipython-input-9-4b585a06f4e2>\u001b[0m in \u001b[0;36m<cell line: 1>\u001b[0;34m()\u001b[0m\n\u001b[0;32m----> 1\u001b[0;31m \u001b[0mdf_sitemap\u001b[0m \u001b[0;34m=\u001b[0m \u001b[0mpd\u001b[0m\u001b[0;34m.\u001b[0m\u001b[0mread_xml\u001b[0m\u001b[0;34m(\u001b[0m\u001b[0;34m'https://www.pichau.com.br/media/sitemap.xml'\u001b[0m\u001b[0;34m,\u001b[0m \u001b[0mheaders\u001b[0m\u001b[0;34m=\u001b[0m\u001b[0mheader\u001b[0m\u001b[0;34m)\u001b[0m\u001b[0;34m\u001b[0m\u001b[0;34m\u001b[0m\u001b[0m\n\u001b[0m",
      "\u001b[0;32m~/venv/lib/python3.9/site-packages/pandas/util/_decorators.py\u001b[0m in \u001b[0;36mwrapper\u001b[0;34m(*args, **kwargs)\u001b[0m\n\u001b[1;32m    309\u001b[0m                     \u001b[0mstacklevel\u001b[0m\u001b[0;34m=\u001b[0m\u001b[0mstacklevel\u001b[0m\u001b[0;34m,\u001b[0m\u001b[0;34m\u001b[0m\u001b[0;34m\u001b[0m\u001b[0m\n\u001b[1;32m    310\u001b[0m                 )\n\u001b[0;32m--> 311\u001b[0;31m             \u001b[0;32mreturn\u001b[0m \u001b[0mfunc\u001b[0m\u001b[0;34m(\u001b[0m\u001b[0;34m*\u001b[0m\u001b[0margs\u001b[0m\u001b[0;34m,\u001b[0m \u001b[0;34m**\u001b[0m\u001b[0mkwargs\u001b[0m\u001b[0;34m)\u001b[0m\u001b[0;34m\u001b[0m\u001b[0;34m\u001b[0m\u001b[0m\n\u001b[0m\u001b[1;32m    312\u001b[0m \u001b[0;34m\u001b[0m\u001b[0m\n\u001b[1;32m    313\u001b[0m         \u001b[0;32mreturn\u001b[0m \u001b[0mwrapper\u001b[0m\u001b[0;34m\u001b[0m\u001b[0;34m\u001b[0m\u001b[0m\n",
      "\u001b[0;31mTypeError\u001b[0m: read_xml() got an unexpected keyword argument 'headers'"
     ]
    }
   ],
   "execution_count": null
  },
  {
   "cell_type": "code",
   "source": "r = requests.get('https://www.pichau.com.br/media/sitemap.xml', headers=header)\nxml = r.text",
   "metadata": {
    "cell_id": "a38cf8fbee084fe18e51cf8cd13afc7b",
    "tags": [],
    "deepnote_to_be_reexecuted": true,
    "source_hash": "93e0bb29",
    "execution_start": 1658442496789,
    "execution_millis": 499,
    "deepnote_cell_type": "code",
    "deepnote_cell_height": 99
   },
   "outputs": [],
   "execution_count": null
  },
  {
   "cell_type": "code",
   "source": "df_sitemap = pd.read_xml(xml)\ndf_sitemap[116:]",
   "metadata": {
    "cell_id": "3c466d06d4a6422eb180ec2efd987a51",
    "tags": [],
    "deepnote_to_be_reexecuted": true,
    "source_hash": "ff3979b2",
    "execution_start": 1658442605574,
    "execution_millis": 900,
    "deepnote_table_state": {
     "pageSize": 10,
     "pageIndex": 0,
     "filters": [],
     "sortBy": []
    },
    "deepnote_table_loading": false,
    "deepnote_cell_type": "code",
    "deepnote_cell_height": 618
   },
   "outputs": [
    {
     "output_type": "execute_result",
     "execution_count": 15,
     "data": {
      "application/vnd.deepnote.dataframe.v3+json": {
       "column_count": 4,
       "row_count": 20756,
       "columns": [
        {
         "name": "loc",
         "dtype": "object",
         "stats": {
          "unique_count": 20692,
          "nan_count": 0,
          "categories": [
           {
            "name": "https://www.pichau.com.br/",
            "count": 64
           },
           {
            "name": "https://www.pichau.com.br/marca/xtech",
            "count": 2
           },
           {
            "name": "20690 others",
            "count": 20690
           }
          ]
         }
        },
        {
         "name": "changefreq",
         "dtype": "object",
         "stats": {
          "unique_count": 1,
          "nan_count": 292,
          "categories": [
           {
            "name": "daily",
            "count": 20464
           },
           {
            "name": "Missing",
            "count": 292
           }
          ]
         }
        },
        {
         "name": "priority",
         "dtype": "float64",
         "stats": {
          "unique_count": 2,
          "nan_count": 0,
          "min": "0.5",
          "max": "1.0",
          "histogram": [
           {
            "bin_start": 0.5,
            "bin_end": 0.55,
            "count": 292
           },
           {
            "bin_start": 0.55,
            "bin_end": 0.6,
            "count": 0
           },
           {
            "bin_start": 0.6,
            "bin_end": 0.65,
            "count": 0
           },
           {
            "bin_start": 0.65,
            "bin_end": 0.7,
            "count": 0
           },
           {
            "bin_start": 0.7,
            "bin_end": 0.75,
            "count": 0
           },
           {
            "bin_start": 0.75,
            "bin_end": 0.8,
            "count": 0
           },
           {
            "bin_start": 0.8,
            "bin_end": 0.8500000000000001,
            "count": 0
           },
           {
            "bin_start": 0.8500000000000001,
            "bin_end": 0.9,
            "count": 0
           },
           {
            "bin_start": 0.9,
            "bin_end": 0.95,
            "count": 0
           },
           {
            "bin_start": 0.95,
            "bin_end": 1,
            "count": 20464
           }
          ]
         }
        },
        {
         "name": "lastmod",
         "dtype": "object",
         "stats": {
          "unique_count": 17908,
          "nan_count": 292,
          "categories": [
           {
            "name": "2021-04-12T20:48:08+00:00",
            "count": 1414
           },
           {
            "name": "17907 others",
            "count": 19050
           },
           {
            "name": "Missing",
            "count": 292
           }
          ]
         }
        },
        {
         "name": "_deepnote_index_column",
         "dtype": "int64"
        }
       ],
       "rows": [
        {
         "loc": "https://www.pichau.com.br/hardware/placa-m-e/placa-mae-asus-h81m-c-br-ddr3-socket-lga1150-chipset-intel-h81",
         "changefreq": "daily",
         "priority": 1,
         "lastmod": "2021-08-12T14:02:51+00:00",
         "_deepnote_index_column": 116
        },
        {
         "loc": "https://www.pichau.com.br/hardware/placa-m-e/placa-mae-asus-m5a78l-m-lx-br-ddr3-socket-am3-chipset-amd-760g",
         "changefreq": "daily",
         "priority": 1,
         "lastmod": "2021-08-12T14:02:17+00:00",
         "_deepnote_index_column": 117
        },
        {
         "loc": "https://www.pichau.com.br/hardware/placa-m-e/placa-mae-gigabyte-ga-970a-d3p-ddr3-socket-am3-chipset-amd-970",
         "changefreq": "daily",
         "priority": 1,
         "lastmod": "2021-08-12T14:01:55+00:00",
         "_deepnote_index_column": 118
        },
        {
         "loc": "https://www.pichau.com.br/hardware/placa-m-e/placa-mae-asus-m5a97-le-r2-0-ddr3-socket-am3-chipset-amd-970",
         "changefreq": "daily",
         "priority": 1,
         "lastmod": "2021-08-12T14:01:39+00:00",
         "_deepnote_index_column": 119
        },
        {
         "loc": "https://www.pichau.com.br/hardware/placa-m-e/placa-mae-asus-sabertooth-990fx-r2-0-ddr3-socket-am3-chipset-amd-990fx",
         "changefreq": "daily",
         "priority": 1,
         "lastmod": "2021-08-12T14:01:34+00:00",
         "_deepnote_index_column": 120
        },
        {
         "loc": "https://www.pichau.com.br/hardware/placa-m-e/placa-mae-gigabyte-ga-78lmt-s2-ddr3-socket-am3-chipset-amd-760g",
         "changefreq": "daily",
         "priority": 1,
         "lastmod": "2021-08-12T14:01:30+00:00",
         "_deepnote_index_column": 121
        },
        {
         "loc": "https://www.pichau.com.br/hardware/placa-m-e/placa-mae-gigabyte-ga-990fxa-ud5-ddr3-socket-am3-chipset-amd-990fx",
         "changefreq": "daily",
         "priority": 1,
         "lastmod": "2021-08-12T14:01:26+00:00",
         "_deepnote_index_column": 122
        },
        {
         "loc": "https://www.pichau.com.br/hardware/processadores/amd/processador-amd-fx-6300-hexa-core-3-5ghz-3-8ghz-turbo-14-mb-cache-am3-fd6300wmhkbox",
         "changefreq": "daily",
         "priority": 1,
         "lastmod": "2021-08-10T18:21:00+00:00",
         "_deepnote_index_column": 123
        },
        {
         "loc": "https://www.pichau.com.br/hardware/memorias/memoria-g-skill-ares-16gb-4x4-1600mhz-f3-1600c9q-16gab-box",
         "changefreq": "daily",
         "priority": 1,
         "lastmod": "2021-09-24T21:12:36+00:00",
         "_deepnote_index_column": 124
        },
        {
         "loc": "https://www.pichau.com.br/hardware/memorias/memoria-g-skill-sniper-8gb-2x4-1600mhz-f3-12800cl9d-8gbsr-box",
         "changefreq": "daily",
         "priority": 1,
         "lastmod": "2021-09-24T21:12:06+00:00",
         "_deepnote_index_column": 125
        }
       ]
      },
      "text/plain": "                                                     loc changefreq  priority  \\\n116    https://www.pichau.com.br/hardware/placa-m-e/p...      daily       1.0   \n117    https://www.pichau.com.br/hardware/placa-m-e/p...      daily       1.0   \n118    https://www.pichau.com.br/hardware/placa-m-e/p...      daily       1.0   \n119    https://www.pichau.com.br/hardware/placa-m-e/p...      daily       1.0   \n120    https://www.pichau.com.br/hardware/placa-m-e/p...      daily       1.0   \n...                                                  ...        ...       ...   \n20867               https://www.pichau.com.br/marca/zion       None       0.5   \n20868              https://www.pichau.com.br/marca/zogis       None       0.5   \n20869              https://www.pichau.com.br/marca/zotac       None       0.5   \n20870              https://www.pichau.com.br/marca/zowie       None       0.5   \n20871            https://www.pichau.com.br/marca/zq_link       None       0.5   \n\n                         lastmod  \n116    2021-08-12T14:02:51+00:00  \n117    2021-08-12T14:02:17+00:00  \n118    2021-08-12T14:01:55+00:00  \n119    2021-08-12T14:01:39+00:00  \n120    2021-08-12T14:01:34+00:00  \n...                          ...  \n20867                       None  \n20868                       None  \n20869                       None  \n20870                       None  \n20871                       None  \n\n[20756 rows x 4 columns]",
      "text/html": "<div>\n<style scoped>\n    .dataframe tbody tr th:only-of-type {\n        vertical-align: middle;\n    }\n\n    .dataframe tbody tr th {\n        vertical-align: top;\n    }\n\n    .dataframe thead th {\n        text-align: right;\n    }\n</style>\n<table border=\"1\" class=\"dataframe\">\n  <thead>\n    <tr style=\"text-align: right;\">\n      <th></th>\n      <th>loc</th>\n      <th>changefreq</th>\n      <th>priority</th>\n      <th>lastmod</th>\n    </tr>\n  </thead>\n  <tbody>\n    <tr>\n      <th>116</th>\n      <td>https://www.pichau.com.br/hardware/placa-m-e/p...</td>\n      <td>daily</td>\n      <td>1.0</td>\n      <td>2021-08-12T14:02:51+00:00</td>\n    </tr>\n    <tr>\n      <th>117</th>\n      <td>https://www.pichau.com.br/hardware/placa-m-e/p...</td>\n      <td>daily</td>\n      <td>1.0</td>\n      <td>2021-08-12T14:02:17+00:00</td>\n    </tr>\n    <tr>\n      <th>118</th>\n      <td>https://www.pichau.com.br/hardware/placa-m-e/p...</td>\n      <td>daily</td>\n      <td>1.0</td>\n      <td>2021-08-12T14:01:55+00:00</td>\n    </tr>\n    <tr>\n      <th>119</th>\n      <td>https://www.pichau.com.br/hardware/placa-m-e/p...</td>\n      <td>daily</td>\n      <td>1.0</td>\n      <td>2021-08-12T14:01:39+00:00</td>\n    </tr>\n    <tr>\n      <th>120</th>\n      <td>https://www.pichau.com.br/hardware/placa-m-e/p...</td>\n      <td>daily</td>\n      <td>1.0</td>\n      <td>2021-08-12T14:01:34+00:00</td>\n    </tr>\n    <tr>\n      <th>...</th>\n      <td>...</td>\n      <td>...</td>\n      <td>...</td>\n      <td>...</td>\n    </tr>\n    <tr>\n      <th>20867</th>\n      <td>https://www.pichau.com.br/marca/zion</td>\n      <td>None</td>\n      <td>0.5</td>\n      <td>None</td>\n    </tr>\n    <tr>\n      <th>20868</th>\n      <td>https://www.pichau.com.br/marca/zogis</td>\n      <td>None</td>\n      <td>0.5</td>\n      <td>None</td>\n    </tr>\n    <tr>\n      <th>20869</th>\n      <td>https://www.pichau.com.br/marca/zotac</td>\n      <td>None</td>\n      <td>0.5</td>\n      <td>None</td>\n    </tr>\n    <tr>\n      <th>20870</th>\n      <td>https://www.pichau.com.br/marca/zowie</td>\n      <td>None</td>\n      <td>0.5</td>\n      <td>None</td>\n    </tr>\n    <tr>\n      <th>20871</th>\n      <td>https://www.pichau.com.br/marca/zq_link</td>\n      <td>None</td>\n      <td>0.5</td>\n      <td>None</td>\n    </tr>\n  </tbody>\n</table>\n<p>20756 rows × 4 columns</p>\n</div>"
     },
     "metadata": {}
    }
   ],
   "execution_count": null
  },
  {
   "cell_type": "code",
   "source": "df_a_consultar = df_sitemap[116:].sample(2390)",
   "metadata": {
    "cell_id": "1f4c6a0b37df43f496aa54f57b669be0",
    "tags": [],
    "deepnote_to_be_reexecuted": true,
    "source_hash": "e17b196",
    "execution_start": 1658444902394,
    "execution_millis": 663,
    "deepnote_cell_type": "code",
    "deepnote_cell_height": 81
   },
   "outputs": [],
   "execution_count": null
  },
  {
   "cell_type": "code",
   "metadata": {
    "cell_id": "837c872b125a4d26a06143694ee5e2e9",
    "tags": [],
    "deepnote_to_be_reexecuted": true,
    "source_hash": "609bf1ce",
    "execution_start": 1658435850696,
    "execution_millis": 32,
    "deepnote_cell_type": "code",
    "deepnote_cell_height": 708,
    "deepnote_output_heights": [
     611
    ]
   },
   "source": "jsn['props']['pageProps']['pageData']['content']",
   "outputs": [
    {
     "output_type": "execute_result",
     "execution_count": 74,
     "data": {
      "text/plain": "{'id': 31200,\n 'sku': '100-100000927BOX',\n 'url_key': 'processador-amd-ryzen-5-5600-6-core-12-threads-3-5ghz-4-4ghz-turbo-cache-35mb-am4-100-100000927box',\n 'name': 'Processador AMD Ryzen 5 5600, 6-Core, 12-Threads, 3.5GHz (4.4GHz Turbo), Cache 35MB, AM4, 100-100000927BOX',\n 'special_price': 1269.32,\n 'socket': '539',\n 'hide_from_search': 0,\n 'is_openbox': 0,\n 'openbox_state': None,\n 'openbox_condition': None,\n 'tipo_de_memoria': None,\n 'caracteristicas': None,\n 'slots_memoria': None,\n 'marcas': 116,\n 'marcas_info': {'name': 'AMD', '__typename': 'MarcasProduct'},\n 'formato_placa': None,\n 'plataforma': '7',\n 'portas_sata': None,\n 'slot_cooler_120': None,\n 'slot_cooler_80': None,\n 'slot_cooler_140': None,\n 'slot_cooler_200': None,\n 'coolerbox_included': 1,\n 'potencia': '65',\n 'quantidade_pacote': None,\n 'alerta_monteseupc': None,\n 'vgaintegrado': 153,\n 'product_set_name': 'Processador',\n 'categories': [{'name': 'Hardware', '__typename': 'CategoryTree'},\n  {'name': 'Processadores', '__typename': 'CategoryTree'},\n  {'name': 'AMD', '__typename': 'CategoryTree'}],\n 'price_range': {'minimum_price': {'final_price': {'currency': 'BRL',\n    'value': 1269.32,\n    '__typename': 'Money'},\n   'regular_price': {'currency': 'BRL',\n    'value': 1697.3,\n    '__typename': 'Money'},\n   '__typename': 'ProductPrice'},\n  'maximum_price': {'final_price': {'currency': 'BRL',\n    'value': 1269.32,\n    '__typename': 'Money'},\n   'regular_price': {'currency': 'BRL',\n    'value': 1697.3,\n    '__typename': 'Money'},\n   '__typename': 'ProductPrice'},\n  '__typename': 'PriceRange'},\n 'description': {'html': '', '__typename': 'ComplexTextValue'},\n 'garantia': '12 Meses',\n 'informacoes_adicionais': '<table class=\"table table-specification\" cellspacing=\"0\">\\r\\n<tbody>\\r\\n<tr>\\r\\n<th scope=\"row\" class=\"name-field Marca\"> Marca:</th>\\r\\n<td class=\"value-field Marca\"> AMD </td>\\r\\n</tr>\\r\\n<tr>\\r\\n<th scope=\"row\" class=\"name-field Modelo\"> Modelo:</th>\\r\\n<td class=\"value-field Modelo\"> 100-100000927BOX </td>\\r\\n</tr>\\r\\n<tr>\\r\\n<th scope=\"row\" class=\"name-field Soquete\"> Soquete: </th>\\r\\n<td class=\"value-field Soquete\"> AM4 </td>\\r\\n</tr>\\r\\n<tr>\\r\\n<th scope=\"row\" class=\"name-field Nucleos\"> Núcleos: </th>\\r\\n<td class=\"value-field Nucleos\"> 6 </td>\\r\\n</tr>\\r\\n<tr>\\r\\n<th scope=\"row\" class=\"name-field Threads\"> Threads: </th>\\r\\n<td class=\"value-field Threads\"> 12 </td>\\r\\n</tr>\\r\\n<tr>\\r\\n<th scope=\"row\" class=\"name-field Frequencia\"> Frequência: </th>\\r\\n<td class=\"value-field Frequencia\"> 3.5 GHz </td>\\r\\n</tr>\\r\\n<tr>\\r\\n<th scope=\"row\" class=\"name-field Frequencia-max\"> Frequência Max Turbo: </th>\\r\\n<td class=\"value-field Frequencia-max\"> 4,4 GHz </td>\\r\\n</tr>\\r\\n<tr>\\r\\n<th scope=\"row\" class=\"name-field Cache-l2\"> Cache L2: </th>\\r\\n<td class=\"value-field Cache-l2\"> 3MB </td>\\r\\n</tr>\\r\\n<tr>\\r\\n<th scope=\"row\" class=\"name-field Cache-l3\"> Cache L3: </th>\\r\\n<td class=\"value-field Cache-l3\"> 32MB </td>\\r\\n</tr>\\r\\n<tr>\\r\\n<th scope=\"row\" class=\"name-field Cmos\"> CMOS: </th>\\r\\n<td class=\"value-field Cmos\"> TSMC 7nm FinFET </td>\\r\\n</tr>\\r\\n<tr>\\r\\n<th scope=\"row\" class=\"name-field Versao\"> Versão do PCI Express: </th>\\r\\n<td class=\"value-field Versao\"> PCIe 4.0 </td>\\r\\n</tr>\\r\\n<tr>\\r\\n<th scope=\"row\" class=\"name-field Memoria\"> Memória: </th>\\r\\n<td class=\"value-field Memoria\"> Velocidade máxima: 2x1R: DDR4-3200<br>\\r\\n2x2R: DDR4-3200<br>\\r\\n4x1R: DDR4-2933<br>\\r\\n4x2R: DDR4-2667<br><br>\\r\\nTipo: DDR4 </td>\\r\\n</tr>\\r\\n<tr>\\r\\n<th scope=\"row\" class=\"name-field Tecnologias\"> Tecnologias compatíveis: </th>\\r\\n<td class=\"value-field Tecnologias\"> Tecnologia AMD StoreMI <br>\\r\\nAMD \"Zen 3\" Core Architecture<br>\\r\\nAMD Ryzen™ VR-Ready Premium </td>\\r\\n</tr>\\r\\n<tr>\\r\\n<th scope=\"row\" class=\"name-field Solucao\"> Solução térmica: </th>\\r\\n<td class=\"value-field Solucao\"> AMD Wraith Stealth </td>\\r\\n</tr>\\r\\n<tr>\\r\\n<th scope=\"row\" class=\"name-field Tdp\"> TDP / TDP Padrão: </th>\\r\\n<td class=\"value-field Tdp\"> 65W </td>\\r\\n</tr>\\r\\n</tbody>\\r\\n</table>',\n 'image': {'url': 'https://media.pichau.com.br/media/catalog/product/cache/2f958555330323e505eba7ce930bdf27/1/0/100-100000927box_1.jpg',\n  'url_listing': 'https://media.pichau.com.br/media/catalog/product/cache/ef72d3c27864510e5d4c0ce69bade259/1/0/100-100000927box_1.jpg',\n  'path': '/1/0/100-100000927box_1.jpg',\n  'label': 'Processador AMD Ryzen 5 5600, 6-Core, 12-Threads, 3.5GHz (4.4GHz Turbo), Cache 35MB, AM4, 100-100000927BOX',\n  '__typename': 'ProductImage'},\n 'media_gallery': [{'url': 'https://media.pichau.com.br/media/catalog/product/cache/2f958555330323e505eba7ce930bdf27/1/0/100-100000927box_1.jpg',\n   'path': '/1/0/100-100000927box_1.jpg',\n   'label': None,\n   'position': 1,\n   '__typename': 'ProductImage'},\n  {'url': 'https://media.pichau.com.br/media/catalog/product/cache/2f958555330323e505eba7ce930bdf27/1/0/100-100000927box1_1.jpg',\n   'path': '/1/0/100-100000927box1_1.jpg',\n   'label': None,\n   'position': 2,\n   '__typename': 'ProductImage'}],\n 'short_description': {'html': '', '__typename': 'ComplexTextValue'},\n 'amasty_label': None,\n 'reviews': {'rating': 100, 'count': 2, '__typename': 'ProductReviews'},\n 'dailydeal_info': None,\n 'mysales_promotion': {'expire_at': '2022-08-01 17:00:00',\n  'price_discount': 25.22,\n  'price_promotional': 1269.32,\n  'promotion_name': 'Ferias com o Pombo',\n  'promotion_url': 'promocao/feriaspombo',\n  'qty_available': 83,\n  'qty_sold': 264,\n  '__typename': 'MySalesPromotionProduct'},\n 'only_x_left_in_stock': None,\n 'stock_status': 'IN_STOCK',\n 'codigo_barra': '0730143314190',\n 'codigo_ncm': '85423120',\n 'meta_title': 'Processador AMD Ryzen 5 5600, 6-Core, 12-Threads, 3.5GHz (4.4GHz Turbo), Cache 35MB, AM4, 100-100000927BOX',\n 'meta_keyword': 'Processador AMD Ryzen 5 5600, 6-Core, 12-Threads, 3.5GHz (4.4GHz Turbo), Cache 35MB, AM4, 100-100000927BOX',\n 'meta_description': 'Processador AMD Ryzen 5 5600, 6-Core, 12-Threads, 3.5GHz (4.4GHz Turbo), Cache 35MB, AM4, 100-100000927BOX, Soquete AM4, Núcleos 6, Pichau info',\n '__typename': 'SimpleProduct'}"
     },
     "metadata": {}
    }
   ],
   "execution_count": null
  },
  {
   "cell_type": "code",
   "metadata": {
    "cell_id": "3e9a85c0e78a4a31844d123ffa361644",
    "tags": [],
    "deepnote_to_be_reexecuted": true,
    "source_hash": "5633099c",
    "execution_start": 1658438639896,
    "execution_millis": 309,
    "deepnote_cell_type": "code",
    "deepnote_cell_height": 888,
    "deepnote_output_heights": [
     611
    ]
   },
   "source": "#teste url\nr_teste = requests.get('https://www.kabum.com.br/produto/320798/processador-amd-ryzen-5-5600-cache-35mb-3-5ghz-4-4ghz-max-turbo-am4-sem-video-100-100000927box', headers=header)\nr_teste.status_code\n\nhtml_doc_teste = r_teste.text\nsoup_teste = BeautifulSoup(html_doc_teste, 'html.parser')\nall_data_teste = soup_teste.find('script', {'type':'application/json'})\njsn_teste = json.loads(all_data_teste.string)\njsn_teste\n\n",
   "outputs": [
    {
     "output_type": "execute_result",
     "execution_count": 116,
     "data": {
      "text/plain": "{'props': {'pageProps': {'flagBlackFriday': False,\n   'data': {'offerBannerImage': 'https://themes.kabum.com.br/conteudo/oferta/108/banner/julho-gamer_descricao.jpg',\n    'productCatalog': '{\"code\":320798,\"productSpecie\":0,\"name\":\"Processador AMD Ryzen 5 5600, Cache 35MB, 3.5GHz (4.4GHz Max Turbo), AM4, Sem Vídeo - 100-100000927BOX\",\"description\":\"<h2>Processador AMD Ryzen 5 5600</h2>\\\\n<p>&nbsp;</p>\\\\n<p>Quando voc&ecirc; tem a arquitetura de processador&nbsp;de desktop&nbsp;mais avan&ccedil;ada do mundo2&nbsp;para jogadores e criadores de conte&uacute;do, as possibilidades s&atilde;o infinitas. Esteja voc&ecirc; jogando os jogos mais recentes, projetando o pr&oacute;ximo pr&eacute;dio ou processando dados, voc&ecirc; precisa de um processador poderoso que possa lidar com tudo - e muito mais. Sem d&uacute;vida, os processadores AMD Ryzen &trade; s&eacute;rie 5000 definem o padr&atilde;o para jogadores e artistas.</p>\\\\n<p>&nbsp;</p>\\\\n<h2>A ferramenta certa para o trabalho</h2>\\\\n<div>\\\\n<p>Quando voc&ecirc; tem o processador mais avan&ccedil;ado do mundo para designers e criadores de conte&uacute;do, as possibilidades s&atilde;o infinitas. Esteja voc&ecirc; projetando o pr&oacute;ximo arranha-c&eacute;u ou animando um personagem complexo, voc&ecirc; precisa de um processador poderoso que possa lidar com todo o espectro de demandas de computa&ccedil;&atilde;o do seu fluxo de trabalho.</p>\\\\n<h3><br />Processador AMD &eacute; no KaBuM!</h3>\\\\n</div>\",\"tagDescription\":\"Sem dúvida, os processadores AMD Ryzen Série 5000 definem o padrão para artistas e engenheiros que buscam desempenho. Garanta já o seu no KaBuM!\",\"weight\":450,\"friendlyName\":\"processador-amd-ryzen-5-5600-cache-35mb-3-5ghz-4-4ghz-max-turbo-am4-sem-video-100-100000927box\",\"sellerName\":\"KaBuM!\",\"sellerId\":0,\"offerIdMarketplace\":0,\"category\":\"Hardware/Processadores/Processador AMD\",\"externalUrl\":\"\",\"manufacturer\":{\"id\":5,\"name\":\"Amd\",\"img\":\"https://images4.kabum.com.br/produtos/fabricantes/logo-amd.jpg\"},\"iframeUrl\":\"\",\"image\":\"h\",\"images\":[\"https://images.kabum.com.br/produtos/fotos/320798/processador-amd-ryzen-5-5600-cache-35mb-3-7ghz-4-4ghz-max-turbo-am4-100-100000927box_1647636743_original.jpg\",\"https://images.kabum.com.br/produtos/fotos/320798/processador-amd-ryzen-5-5600-cache-35mb-3-7ghz-4-4ghz-max-turbo-am4-100-100000927box_1647636744_original.jpg\"],\"price\":1646.94,\"primePrice\":0,\"primePriceWithDiscount\":0,\"discountPercentagePrime\":0,\"oldPrice\":1646.94,\"oldPrimePrice\":1646.94,\"priceWithDiscount\":1399.9,\"priceMarketplace\":0,\"discountPercentage\":15,\"quantity\":68,\"rating\":5,\"ratingCount\":21,\"available\":true,\"preOrderDate\":0,\"warranty\":\"1 ano de garantia (9 meses de garantia contratual junto ao fabricante + 3 meses referentes à garantia legal, nos termos do artigo 26, II, do Código de Defesa do Consumidor)\",\"dateProductArrived\":null,\"html\":\"<p><strong><strong>Caracter&iacute;sticas:</strong></strong><br />- Marca: AMD<br />- Modelo: 100-100000927BOX</p>\\\\r\\\\n<p class=\\\\\"MsoNormal\\\\\"><br /><strong><strong><strong>Especifica&ccedil;&otilde;es:</strong></strong><br /></strong></p>\\\\r\\\\n<p class=\\\\\"MsoNormal\\\\\">- Arquitetura: \\\\\"Zen 3\\\\\"</p>\\\\r\\\\n<p class=\\\\\"MsoNormal\\\\\">- N&ordm; de n&uacute;cleos de CPU: 6</p>\\\\r\\\\n<p class=\\\\\"MsoNormal\\\\\">- Multithreading (SMT): sim</p>\\\\r\\\\n<p class=\\\\\"MsoNormal\\\\\">- N&ordm; de threads: 12</p>\\\\r\\\\n<p class=\\\\\"MsoNormal\\\\\">- Clock Max Boost: At&eacute; 4.4GHz</p>\\\\r\\\\n<p class=\\\\\"MsoNormal\\\\\">- Clock b&aacute;sico: 3,5 GHz</p>\\\\r\\\\n<p class=\\\\\"MsoNormal\\\\\">- Cach&ecirc; L1 total: 384 KB</p>\\\\r\\\\n<p class=\\\\\"MsoNormal\\\\\">- Cach&ecirc; L2 total: 3 MB</p>\\\\r\\\\n<p class=\\\\\"MsoNormal\\\\\">- Cach&ecirc; L3 total: 32 MB</p>\\\\r\\\\n<p class=\\\\\"MsoNormal\\\\\">- TDP / TDP Padr&atilde;o: 65 W</p>\\\\r\\\\n<p class=\\\\\"MsoNormal\\\\\">- Tecnologia de processador para n&uacute;cleos de CPU: TSMC 7nm FinFET</p>\\\\r\\\\n<p class=\\\\\"MsoNormal\\\\\">- Processor Technology for I/O Die: 12nm (Globalfoundries)</p>\\\\r\\\\n<p class=\\\\\"MsoNormal\\\\\">- Tamanho da matriz de computa&ccedil;&atilde;o da CPU (CCD): 74mm&sup2;</p>\\\\r\\\\n<p class=\\\\\"MsoNormal\\\\\">- Tamanho da matriz de E/S (IOD): 125mm&sup2;</p>\\\\r\\\\n<p class=\\\\\"MsoNormal\\\\\">- Soquete da CPU: AM4</p>\\\\r\\\\n<p class=\\\\\"MsoNormal\\\\\">- Contagem de soquetes: 1P</p>\\\\r\\\\n<p class=\\\\\"MsoNormal\\\\\">- Tecnologia de aumento de CPU</p>\\\\r\\\\n<p class=\\\\\"MsoNormal\\\\\">- Aumento de precis&atilde;o 2</p>\\\\r\\\\n<p class=\\\\\"MsoNormal\\\\\">- Conjunto de instru&ccedil;&otilde;es: x86-64</p>\\\\r\\\\n<p class=\\\\\"MsoNormal\\\\\">- Extens&otilde;es compat&iacute;veis:&nbsp;<span>AES, AMD-V, AVX, AVX2, FMA3, MMX(+), SHA, SSE, SSE2, SSE3, SSE4.1, SSE4.2, SSE4A, SSSE3, x86-64</span></p>\\\\r\\\\n<p class=\\\\\"MsoNormal\\\\\">- Solu&ccedil;&atilde;o t&eacute;rmica (PIB):&nbsp;<span>AMD Wraith Stealth</span></p>\\\\r\\\\n<p class=\\\\\"MsoNormal\\\\\">- Tempo m&aacute;ximo: 90&deg;C</p>\\\\r\\\\n<p class=\\\\\"MsoNormal\\\\\">&nbsp;</p>\\\\r\\\\n<p class=\\\\\"MsoNormal\\\\\"><strong><strong>*Suporte de SO:</strong></strong><br />- Edi&ccedil;&atilde;o Windows 11 - 64-Bit</p>\\\\r\\\\n<p class=\\\\\"MsoNormal\\\\\">- Edi&ccedil;&atilde;o Windows 10 - 64-Bit</p>\\\\r\\\\n<p class=\\\\\"MsoNormal\\\\\">- RHEL x86 64 bits</p>\\\\r\\\\n<p class=\\\\\"MsoNormal\\\\\">- Ubuntu x86 64 bits</p>\\\\r\\\\n<p class=\\\\\"MsoNormal\\\\\"><strong></strong></p>\\\\r\\\\n<p class=\\\\\"MsoNormal\\\\\">*O suporte ao sistema operacional (SO) poder&aacute; variar de acordo com o fabricante.</p>\\\\r\\\\n<p class=\\\\\"MsoNormal\\\\\">&nbsp;</p>\\\\r\\\\n<p class=\\\\\"MsoNormal\\\\\"><strong><strong>Chipsets de suporte:</strong></strong><br />- X570</p>\\\\r\\\\n<p class=\\\\\"MsoNormal\\\\\">- X470</p>\\\\r\\\\n<p class=\\\\\"MsoNormal\\\\\">-&nbsp;<span>X370</span></p>\\\\r\\\\n<p class=\\\\\"MsoNormal\\\\\">- B550</p>\\\\r\\\\n<p class=\\\\\"MsoNormal\\\\\">- B450</p>\\\\r\\\\n<p class=\\\\\"MsoNormal\\\\\">-&nbsp;<span>B350</span></p>\\\\r\\\\n<p class=\\\\\"MsoNormal\\\\\">- A520</p>\\\\r\\\\n<p class=\\\\\"MsoNormal\\\\\">&nbsp;</p>\\\\r\\\\n<p class=\\\\\"MsoNormal\\\\\"><strong><strong>Mem&oacute;ria:</strong></strong></p>\\\\r\\\\n<p class=\\\\\"MsoNormal\\\\\">- Suporte a USB Tipo C: sim</p>\\\\r\\\\n<p class=\\\\\"MsoNormal\\\\\">- Portas nativas USB 3.2 Gen 2 (10 Gbps): 4</p>\\\\r\\\\n<p class=\\\\\"MsoNormal\\\\\">- Portas nativas USB 3.2 Gen 1 (5 Gbps): 0</p>\\\\r\\\\n<p class=\\\\\"MsoNormal\\\\\">- Portas nativas USB 2.0 (480Mbps): 0</p>\\\\r\\\\n<p class=\\\\\"MsoNormal\\\\\">- Portas SATA nativas: 2</p>\\\\r\\\\n<p class=\\\\\"MsoNormal\\\\\">- Vers&atilde;o do PCI Express: PCIe 4.0</p>\\\\r\\\\n<p class=\\\\\"MsoNormal\\\\\">- Pistas PCIe nativas (total/utiliz&aacute;vel): 24/20</p>\\\\r\\\\n<p class=\\\\\"MsoNormal\\\\\">- Suporte NVMe: Boot, RAID0, RAID1, RAID10</p>\\\\r\\\\n<p class=\\\\\"MsoNormal\\\\\">- Tipo de mem&oacute;ria: DDR4</p>\\\\r\\\\n<p class=\\\\\"MsoNormal\\\\\">- Canais de mem&oacute;ria: 2</p>\\\\r\\\\n<p class=\\\\\"MsoNormal\\\\\">- M&aacute;x. Mem&oacute;ria: 128 GB</p>\\\\r\\\\n<p class=\\\\\"MsoNormal\\\\\">- Subtipo de mem&oacute;ria do sistema: UDIMM</p>\\\\r\\\\n<p class=\\\\\"MsoNormal\\\\\">-&nbsp;<span>Velocidade m&aacute;xima da mem&oacute;ria:&nbsp;</span>Up to 3200MHz</p>\\\\r\\\\n<p class=\\\\\"MsoNormal\\\\\">&nbsp;</p>\\\\r\\\\n<p class=\\\\\"MsoNormal\\\\\"><strong><strong>PCIe utiliz&aacute;veis &#8203;&#8203;adicionais da placa-m&atilde;e</strong></strong></p>\\\\r\\\\n<p class=\\\\\"MsoNormal\\\\\">- AMD X570: 16x Gera&ccedil;&atilde;o 4</p>\\\\r\\\\n<p class=\\\\\"MsoNormal\\\\\">- AMD X470: 2x Gera&ccedil;&atilde;o 3</p>\\\\r\\\\n<p class=\\\\\"MsoNormal\\\\\">- AMD X470: 8x Gera&ccedil;&atilde;o 2</p>\\\\r\\\\n<p class=\\\\\"MsoNormal\\\\\">&nbsp;</p>\\\\r\\\\n<p class=\\\\\"MsoNormal\\\\\"><strong><strong>Velocidade m&aacute;xima de mem&oacute;ria</strong></strong></p>\\\\r\\\\n<p class=\\\\\"MsoNormal\\\\\">- 2x1R: DDR4-3200</p>\\\\r\\\\n<p class=\\\\\"MsoNormal\\\\\">- 2x2R: DDR4-3200</p>\\\\r\\\\n<p class=\\\\\"MsoNormal\\\\\">- 4x1R: DDR4-2933</p>\\\\r\\\\n<p class=\\\\\"MsoNormal\\\\\">- 4x2R: DDR4-2667</p>\\\\r\\\\n<p class=\\\\\"MsoNormal\\\\\">&nbsp;</p>\\\\r\\\\n<p class=\\\\\"MsoNormal\\\\\"><strong><strong>Tecnologias compat&iacute;veis</strong></strong></p>\\\\r\\\\n<p class=\\\\\"MsoNormal\\\\\">- Arquitetura de n&uacute;cleo AMD \\\\\"Zen 3\\\\\"</p>\\\\r\\\\n<p class=\\\\\"MsoNormal\\\\\">- Premium AMD Ryzen&trade; VR-Ready</p>\\\\r\\\\n<p class=\\\\\"MsoNormal\\\\\"><strong><strong><br /></strong><strong>Conte&uacute;do da Embalagem:&nbsp;</strong></strong><br />- 01 x&nbsp;<span>Processador AMD Ryzen 5 5600, Cache 35MB, 3.5GHz (4.4GHz Max Turbo), AM4, Sem V&iacute;deo&nbsp;</span></p>\",\"ufsFlash\":[],\"flags\":{\"isMarketplace\":false,\"isOpenbox\":false,\"isFreeShipping\":false,\"isFreeShippingPrime\":false,\"isPixShipping\":false,\"isPreOrder\":false,\"isFlash\":false,\"isPrime\":false,\"isOffer\":true,\"hasGift\":false},\"origin\":{\"id\":null,\"name\":null},\"prime\":null,\"offer\":{\"id\":\"582632\",\"name\":\"Julho Gamer\",\"referenceBanner\":\"julhogamer\",\"endsAt\":1659351600,\"startsAt\":1657796280,\"price\":1341.06,\"priceWithDiscount\":1139.9,\"discountPercentage\":18,\"quantityAvailable\":68,\"hashCode\":\"1381bebbb18863cae0da9796d353ba0d9a6c5396\"},\"paymentMethodsDefault\":[{\"category\":\"boleto\",\"method\":\"Boleto Bancário\",\"bestInstallment\":null,\"installments\":[{\"id\":1,\"paymentTerms\":\"Até 15% de desconto\",\"installment\":1,\"amount\":1139.9,\"total\":1139.9,\"hasFee\":false}]},{\"category\":\"cartao\",\"method\":\"Cartão de Crédito\",\"bestInstallment\":null,\"installments\":[{\"id\":59,\"paymentTerms\":\"À vista - Até 10% de desconto\",\"installment\":1,\"amount\":1206.95,\"total\":1206.95,\"hasFee\":false},{\"id\":4,\"paymentTerms\":\"2x sem juros\",\"installment\":2,\"amount\":670.53,\"total\":1341.06,\"hasFee\":false},{\"id\":5,\"paymentTerms\":\"3x sem juros\",\"installment\":3,\"amount\":447.02,\"total\":1341.06,\"hasFee\":false},{\"id\":6,\"paymentTerms\":\"4x sem juros\",\"installment\":4,\"amount\":335.26,\"total\":1341.06,\"hasFee\":false},{\"id\":7,\"paymentTerms\":\"5x sem juros\",\"installment\":5,\"amount\":268.21,\"total\":1341.06,\"hasFee\":false},{\"id\":8,\"paymentTerms\":\"6x sem juros\",\"installment\":6,\"amount\":223.51,\"total\":1341.06,\"hasFee\":false},{\"id\":42,\"paymentTerms\":\"7x sem juros\",\"installment\":7,\"amount\":191.58,\"total\":1341.06,\"hasFee\":false},{\"id\":43,\"paymentTerms\":\"8x sem juros\",\"installment\":8,\"amount\":167.63,\"total\":1341.06,\"hasFee\":false},{\"id\":44,\"paymentTerms\":\"9x sem juros\",\"installment\":9,\"amount\":149,\"total\":1341.06,\"hasFee\":false},{\"id\":45,\"paymentTerms\":\"10x sem juros\",\"installment\":10,\"amount\":134.1,\"total\":1341.06,\"hasFee\":false},{\"id\":55,\"paymentTerms\":\"11x com juros\",\"installment\":11,\"amount\":123.49,\"total\":1358.49,\"hasFee\":true},{\"id\":56,\"paymentTerms\":\"12x com juros\",\"installment\":12,\"amount\":114.66,\"total\":1375.93,\"hasFee\":true}]},{\"category\":\"paypal\",\"method\":\"PayPal\",\"bestInstallment\":null,\"installments\":[{\"id\":67,\"paymentTerms\":\"PayPal\",\"installment\":1,\"amount\":1341.06,\"total\":1341.06,\"hasFee\":false}]},{\"category\":\"pix\",\"method\":\"PIX\",\"bestInstallment\":null,\"installments\":[{\"id\":98,\"paymentTerms\":\"À vista\",\"installment\":1,\"amount\":1139.9,\"total\":1139.9,\"hasFee\":false}]},{\"category\":\"cobranded\",\"method\":\"Cartão de Crédito KaBuM!\",\"bestInstallment\":{\"installment\":1,\"discountPercentage\":15,\"amount\":1139.9,\"hasFee\":false},\"installments\":[{\"id\":99,\"paymentTerms\":\"À vista - Até 15% de desconto\",\"installment\":1,\"amount\":1139.9,\"total\":1139.9,\"hasFee\":false},{\"id\":101,\"paymentTerms\":\"2x sem juros\",\"installment\":2,\"amount\":670.53,\"total\":1341.06,\"hasFee\":false},{\"id\":102,\"paymentTerms\":\"3x sem juros\",\"installment\":3,\"amount\":447.02,\"total\":1341.06,\"hasFee\":false},{\"id\":103,\"paymentTerms\":\"4x sem juros\",\"installment\":4,\"amount\":335.26,\"total\":1341.06,\"hasFee\":false},{\"id\":104,\"paymentTerms\":\"5x sem juros\",\"installment\":5,\"amount\":268.21,\"total\":1341.06,\"hasFee\":false},{\"id\":105,\"paymentTerms\":\"6x sem juros\",\"installment\":6,\"amount\":223.51,\"total\":1341.06,\"hasFee\":false},{\"id\":106,\"paymentTerms\":\"7x sem juros\",\"installment\":7,\"amount\":191.58,\"total\":1341.06,\"hasFee\":false},{\"id\":107,\"paymentTerms\":\"8x sem juros\",\"installment\":8,\"amount\":167.63,\"total\":1341.06,\"hasFee\":false},{\"id\":108,\"paymentTerms\":\"9x sem juros\",\"installment\":9,\"amount\":149,\"total\":1341.06,\"hasFee\":false},{\"id\":109,\"paymentTerms\":\"10x sem juros\",\"installment\":10,\"amount\":134.1,\"total\":1341.06,\"hasFee\":false},{\"id\":110,\"paymentTerms\":\"11x sem juros\",\"installment\":11,\"amount\":121.91,\"total\":1341.06,\"hasFee\":false},{\"id\":111,\"paymentTerms\":\"12x sem juros\",\"installment\":12,\"amount\":111.75,\"total\":1341.06,\"hasFee\":false},{\"id\":112,\"paymentTerms\":\"13x com juros\",\"installment\":13,\"amount\":116.56,\"total\":1515.4,\"hasFee\":true},{\"id\":113,\"paymentTerms\":\"14x com juros\",\"installment\":14,\"amount\":109.2,\"total\":1528.81,\"hasFee\":true},{\"id\":114,\"paymentTerms\":\"15x com juros\",\"installment\":15,\"amount\":102.81,\"total\":1542.22,\"hasFee\":true},{\"id\":115,\"paymentTerms\":\"16x com juros\",\"installment\":16,\"amount\":97.22,\"total\":1555.63,\"hasFee\":true},{\"id\":116,\"paymentTerms\":\"17x com juros\",\"installment\":17,\"amount\":92.29,\"total\":1569.04,\"hasFee\":true},{\"id\":117,\"paymentTerms\":\"18x com juros\",\"installment\":18,\"amount\":87.91,\"total\":1582.45,\"hasFee\":true},{\"id\":118,\"paymentTerms\":\"19x com juros\",\"installment\":19,\"amount\":83.99,\"total\":1595.86,\"hasFee\":true},{\"id\":119,\"paymentTerms\":\"20x com juros\",\"installment\":20,\"amount\":80.46,\"total\":1609.27,\"hasFee\":true},{\"id\":120,\"paymentTerms\":\"21x com juros\",\"installment\":21,\"amount\":77.27,\"total\":1622.68,\"hasFee\":true},{\"id\":121,\"paymentTerms\":\"22x com juros\",\"installment\":22,\"amount\":74.36,\"total\":1636.09,\"hasFee\":true},{\"id\":122,\"paymentTerms\":\"23x com juros\",\"installment\":23,\"amount\":71.71,\"total\":1649.5,\"hasFee\":true},{\"id\":123,\"paymentTerms\":\"24x com juros\",\"installment\":24,\"amount\":69.28,\"total\":1662.91,\"hasFee\":true}]}],\"paymentMethodsPrime\":null,\"photos\":{\"p\":[\"https://images.kabum.com.br/produtos/fotos/320798/processador-amd-ryzen-5-5600-cache-35mb-3-7ghz-4-4ghz-max-turbo-am4-100-100000927box_1647636743_p.jpg\",\"https://images.kabum.com.br/produtos/fotos/320798/processador-amd-ryzen-5-5600-cache-35mb-3-7ghz-4-4ghz-max-turbo-am4-100-100000927box_1647636744_p.jpg\"],\"m\":[\"https://images.kabum.com.br/produtos/fotos/320798/processador-amd-ryzen-5-5600-cache-35mb-3-7ghz-4-4ghz-max-turbo-am4-100-100000927box_1647636743_m.jpg\",\"https://images.kabum.com.br/produtos/fotos/320798/processador-amd-ryzen-5-5600-cache-35mb-3-7ghz-4-4ghz-max-turbo-am4-100-100000927box_1647636744_m.jpg\"],\"g\":[\"https://images.kabum.com.br/produtos/fotos/320798/processador-amd-ryzen-5-5600-cache-35mb-3-7ghz-4-4ghz-max-turbo-am4-100-100000927box_1647636743_g.jpg\",\"https://images.kabum.com.br/produtos/fotos/320798/processador-amd-ryzen-5-5600-cache-35mb-3-7ghz-4-4ghz-max-turbo-am4-100-100000927box_1647636744_g.jpg\"],\"gg\":[\"https://images.kabum.com.br/produtos/fotos/320798/processador-amd-ryzen-5-5600-cache-35mb-3-7ghz-4-4ghz-max-turbo-am4-100-100000927box_1647636743_gg.jpg\",\"https://images.kabum.com.br/produtos/fotos/320798/processador-amd-ryzen-5-5600-cache-35mb-3-7ghz-4-4ghz-max-turbo-am4-100-100000927box_1647636744_gg.jpg\"]},\"thumbnail\":\"https://images.kabum.com.br/produtos/fotos/320798/processador-amd-ryzen-5-5600-cache-35mb-3-7ghz-4-4ghz-max-turbo-am4-100-100000927box_1647636743_m.jpg\",\"promotionBanner\":null,\"campaignBanners\":[],\"crossCart\":[99034,166052,114337,20866,49461,115216,100672,194492],\"crossSelling\":[115216]}',\n    'productData': '{\"type\":\"prime\",\"code\":320798,\"iframeUrl\":\"\",\"description\":\"<h2>Processador AMD Ryzen 5 5600</h2>\\\\n<p>&nbsp;</p>\\\\n<p>Quando voc&ecirc; tem a arquitetura de processador&nbsp;de desktop&nbsp;mais avan&ccedil;ada do mundo2&nbsp;para jogadores e criadores de conte&uacute;do, as possibilidades s&atilde;o infinitas. Esteja voc&ecirc; jogando os jogos mais recentes, projetando o pr&oacute;ximo pr&eacute;dio ou processando dados, voc&ecirc; precisa de um processador poderoso que possa lidar com tudo - e muito mais. Sem d&uacute;vida, os processadores AMD Ryzen &trade; s&eacute;rie 5000 definem o padr&atilde;o para jogadores e artistas.</p>\\\\n<p>&nbsp;</p>\\\\n<h2>A ferramenta certa para o trabalho</h2>\\\\n<div>\\\\n<p>Quando voc&ecirc; tem o processador mais avan&ccedil;ado do mundo para designers e criadores de conte&uacute;do, as possibilidades s&atilde;o infinitas. Esteja voc&ecirc; projetando o pr&oacute;ximo arranha-c&eacute;u ou animando um personagem complexo, voc&ecirc; precisa de um processador poderoso que possa lidar com todo o espectro de demandas de computa&ccedil;&atilde;o do seu fluxo de trabalho.</p>\\\\n<h3><br />Processador AMD &eacute; no KaBuM!</h3>\\\\n</div>\",\"name\":\"Processador AMD Ryzen 5 5600, Cache 35MB, 3.5GHz (4.4GHz Max Turbo), AM4, Sem Vídeo - 100-100000927BOX\",\"friendlyName\":\"processador-amd-ryzen-5-5600-cache-35mb-3-5ghz-4-4ghz-max-turbo-am4-sem-video-100-100000927box\",\"tagCode\":0,\"di\":\"1381bebbb18863cae0da9796d353ba0d9a6c5396\",\"photos\":[\"https://images8.kabum.com.br/produtos/fotos/320798/processador-amd-ryzen-5-5600-cache-35mb-3-7ghz-4-4ghz-max-turbo-am4-100-100000927box_1647636743_g.jpg\",\"https://images8.kabum.com.br/produtos/fotos/320798/processador-amd-ryzen-5-5600-cache-35mb-3-7ghz-4-4ghz-max-turbo-am4-100-100000927box_1647636744_g.jpg\"],\"available\":true,\"category\":\"Hardware/Processadores/Processador AMD\",\"similarProducts\":[{\"name\":\"Processador AMD Ryzen 5 5600X, Cache 35MB, 3.7GHz (4.6GHz Max Turbo), AM4, Sem Vídeo  - 100-100000065BOX\",\"friendlyName\":\"processador-amd-ryzen-5-5600x-cache-35mb-3-7ghz-4-6ghz-max-turbo-am4-sem-video-100-100000065box\",\"code\":129451,\"discountPrice\":1399.9,\"discountPrimePrice\":1999.9,\"image\":\"https://images1.kabum.com.br/produtos/fotos/129451/processador-amd-ryzen-9-5950x-cache-72mb-3-4ghz-4-9ghz-max-turbo-am4-100-100000065box_1602603581_m.jpg\",\"isPrime\":false},{\"name\":\"Processador AMD Ryzen 5 4600G, Cachê 11MB, 3.7GHz (4.2GHz Max Turbo), AM4, Vídeo Integrado - 100-100000147BOX\",\"friendlyName\":\"processador-amd-ryzen-5-4600g-cache-11mb-3-7ghz-4-2ghz-max-turbo-am4-video-integrado-100-100000147box\",\"code\":333145,\"discountPrice\":919.9,\"discountPrimePrice\":987.9,\"image\":\"https://images5.kabum.com.br/produtos/fotos/333145/processador-amd-ryzen-5-4600g-cache-11mb-3-7ghz-4-2ghz-max-turbo-am4-video-integrado-100-100000147box_1653338732_m.jpg\",\"isPrime\":false},{\"name\":\"Processador AMD Ryzen 5 5600G, 3.9GHz (4.4GHz Max Turbo), AM4, Vídeo Integrado, 6 Núcleos - 100-100000252BOX\",\"friendlyName\":\"processador-amd-ryzen-5-5600g-3-9ghz-4-4ghz-max-turbo-am4-video-integrado-6-nucleos-100-100000252box\",\"code\":181088,\"discountPrice\":1299.9,\"discountPrimePrice\":1259.9,\"image\":\"https://images8.kabum.com.br/produtos/fotos/181088/processador-amd-ryzen-5-5600g-3-9ghz-4-4ghz-max-turbo-am4-video-integrado-6-nucleos-100-100000252box_1627588230_m.jpg\",\"isPrime\":true},{\"name\":\"Processador AMD Ryzen 7 5800X, Cache 36MB, 3.8GHz (4.7GHz Max Turbo), AM4 - 100-100000063WOF\",\"friendlyName\":\"processador-amd-ryzen-7-5800x-cache-36mb-3-8ghz-4-7ghz-max-turbo-am4-100-100000063wof\",\"code\":129459,\"discountPrice\":1999.9,\"discountPrimePrice\":3099.9,\"image\":\"https://images9.kabum.com.br/produtos/fotos/129459/processador-amd-ryzen-9-5900x-cache-70mb-3-7ghz-4-8ghz-max-turbo-am4-100-100000063wof_1602600708_m.jpg\",\"isPrime\":false},{\"name\":\"Processador AMD Ryzen 5 5500, Cache 19MB, 3.6GHz (4.2GHz Max Turbo), AM4, Sem Vídeo - 100-100000457BOX\",\"friendlyName\":\"processador-amd-ryzen-5-5500-cache-19mb-3-6ghz-4-2ghz-max-turbo-am4-sem-video-100-100000457box\",\"code\":320799,\"discountPrice\":899.9,\"discountPrimePrice\":1039.9,\"image\":\"https://images9.kabum.com.br/produtos/fotos/320799/processador-amd-ryzen-5-5500-cache-19mb-3-7ghz-4-2ghz-max-turbo-am4-100-100000457box_1647636796_m.jpg\",\"isPrime\":false},{\"name\":\"Processador AMD Ryzen 7 5700X, Cache 36MB, 3.4GHz (4.6GHz Max Turbo), AM4, Sem Vídeo - 100-100000926WOF\",\"friendlyName\":\"processador-amd-ryzen-7-5700x-cache-36mb-3-4ghz-4-6ghz-max-turbo-am4-sem-video-100-100000926wof\",\"code\":320797,\"discountPrice\":1699.9,\"discountPrimePrice\":1824.9,\"image\":\"https://images7.kabum.com.br/produtos/fotos/320797/processador-amd-ryzen-7-5700x-cache-36mb-3-8ghz-4-6ghz-max-turbo-am4-100-100000926wof_1647636511_m.jpg\",\"isPrime\":false},{\"name\":\"Processador AMD Ryzen 7 5700G, 3.8GHz (4.6GHz Max Turbo), AM4, Vídeo Integrado, 8 Núcleos - 100-100000263BOX\",\"friendlyName\":\"processador-amd-ryzen-7-5700g-3-8ghz-4-6ghz-max-turbo-am4-video-integrado-8-nucleos-100-100000263box\",\"code\":181089,\"discountPrice\":1749.9,\"discountPrimePrice\":2499.9,\"image\":\"https://images9.kabum.com.br/produtos/fotos/181089/processador-amd-ryzen-7-5700g-3-8ghz-4-6ghz-max-turbo-am4-video-integrado-8-nucleos-100-100000263box_1627588652_m.jpg\",\"isPrime\":false},{\"name\":\"Processador AMD Ryzen 9 5900X, Cache 70MB, 3.7GHz (4.8GHz Max Turbo), AM4 - 100-100000061WOF\",\"friendlyName\":\"processador-amd-ryzen-9-5900x-cache-70mb-3-7ghz-4-8ghz-max-turbo-am4-100-100000061wof\",\"code\":129460,\"discountPrice\":2599.9,\"discountPrimePrice\":3859.9,\"image\":\"https://images0.kabum.com.br/produtos/fotos/129460/processador-amd-ryzen-9-5900x-cache-70mb-3-8ghz-4-7ghz-max-turbo-am4-100-100000061wof_1604585280_m.jpg\",\"isPrime\":false},{\"name\":\"Processador AMD Ryzen 5 4500, Cachê 11MB, 3.6GHz (4.1GHz Max Turbo), AM4, Sem Vídeo - 100-100000644BOX\",\"friendlyName\":\"processador-amd-ryzen-5-4500-cache-11mb-3-6ghz-4-1ghz-max-turbo-am4-sem-video-100-100000644box\",\"code\":333154,\"discountPrice\":699.9,\"discountPrimePrice\":979.9,\"image\":\"https://images4.kabum.com.br/produtos/fotos/333154/processador-amd-ryzen-5-4500-cache-11mb-3-6ghz-4-1ghz-max-turbo-am4-sem-video-100-100000644box_1652381901_m.jpg\",\"isPrime\":false},{\"name\":\"Processador AMD Ryzen 3 4100, Cachê 6MB, 3.8GHz (4.0GHz Max Turbo), AM4,  Sem Vídeo - 100-100000510BOX\",\"friendlyName\":\"processador-amd-ryzen-3-4100-cache-6mb-3-8ghz-4-0ghz-max-turbo-am4-sem-video-100-100000510box\",\"code\":333155,\"discountPrice\":589.9,\"discountPrimePrice\":659.9,\"image\":\"https://images5.kabum.com.br/produtos/fotos/333155/processador-amd-ryzen-3-4100-cache-6mb-3-8ghz-4-0ghz-max-turbo-am4-sem-video-100-100000510box_1653317439_m.jpg\",\"isPrime\":false}],\"menus\":[{\"code\":1,\"name\":\"Hardware\",\"link\":\"/hardware\"},{\"code\":16,\"name\":\"Processadores\",\"link\":\"/hardware/processadores\"},{\"code\":20077,\"name\":\"Processador AMD\",\"link\":\"/hardware/processadores/processador-amd\"}],\"offer\":{\"quantity\":68,\"endDate\":1659351600,\"event\":\"Julho Gamer\",\"primaryColor\":\"#f17a28\",\"secondaryColor\":\"#000000\",\"letterColor\":\"#FFFFFF\",\"offerDiscount\":18,\"id\":582632,\"pathJson\":\"julhogamer\"},\"offerStartTime\":0,\"priceDetails\":{\"oldPrice\":1646.94,\"price\":1341.06,\"discountPrice\":1139.9,\"primePrice\":1341.06,\"maxParcel\":{\"parcel\":12,\"value\":114.66,\"type\":\"sem juros\"},\"discountPercentage\":15,\"discountPercentagePrime\":0,\"isPrime\":false,\"savePrime\":0,\"discountPricePrime\":1139.9,\"primeParcels\":[],\"maxPrimeParcel\":{},\"maxCobrandedParcel\":{\"parcel\":24,\"value\":69.29,\"type\":\"com juros\"},\"maxCobrandedPrimeParcel\":{}},\"offerIdMarketplace\":null,\"price\":1341.06,\"weight\":450,\"weightString\":\"450 gramas (bruto com embalagem)\",\"warrantyString\":\"12 meses de garantia\",\"sellerId\":\"kabum\",\"sellerName\":\"\",\"parcels\":[{\"parcelNumber\":1,\"value\":1206.95,\"type\":\"sem juros\"},{\"parcelNumber\":2,\"value\":670.53,\"type\":\"sem juros\"},{\"parcelNumber\":3,\"value\":447.02,\"type\":\"sem juros\"},{\"parcelNumber\":4,\"value\":335.26,\"type\":\"sem juros\"},{\"parcelNumber\":5,\"value\":268.21,\"type\":\"sem juros\"},{\"parcelNumber\":6,\"value\":223.51,\"type\":\"sem juros\"},{\"parcelNumber\":7,\"value\":191.58,\"type\":\"sem juros\"},{\"parcelNumber\":8,\"value\":167.63,\"type\":\"sem juros\"},{\"parcelNumber\":9,\"value\":149.01,\"type\":\"sem juros\"},{\"parcelNumber\":10,\"value\":134.11,\"type\":\"sem juros\"},{\"parcelNumber\":11,\"value\":123.5,\"type\":\"sem juros\"},{\"parcelNumber\":12,\"value\":114.66,\"type\":\"sem juros\"}],\"producer\":{\"code\":5,\"name\":\"Amd\",\"img\":\"https://images5.kabum.com.br/produtos/fabricantes/logo-amd.jpg\"},\"rating\":5,\"isOpenbox\":false,\"isBlackFriday\":0,\"isDigital\":false,\"ratingNumber\":21,\"technicalInformation\":\"<p><strong><strong>Caracter&iacute;sticas:</strong></strong><br />- Marca: AMD<br />- Modelo: 100-100000927BOX</p><p class=\\\\\"MsoNormal\\\\\"><br /><strong><strong><strong>Especifica&ccedil;&otilde;es:</strong></strong><br /></strong></p><p class=\\\\\"MsoNormal\\\\\">- Arquitetura: \\\\\"Zen 3\\\\\"</p><p class=\\\\\"MsoNormal\\\\\">- N&ordm; de n&uacute;cleos de CPU: 6</p><p class=\\\\\"MsoNormal\\\\\">- Multithreading (SMT): sim</p><p class=\\\\\"MsoNormal\\\\\">- N&ordm; de threads: 12</p><p class=\\\\\"MsoNormal\\\\\">- Clock Max Boost: At&eacute; 4.4GHz</p><p class=\\\\\"MsoNormal\\\\\">- Clock b&aacute;sico: 3,5 GHz</p><p class=\\\\\"MsoNormal\\\\\">- Cach&ecirc; L1 total: 384 KB</p><p class=\\\\\"MsoNormal\\\\\">- Cach&ecirc; L2 total: 3 MB</p><p class=\\\\\"MsoNormal\\\\\">- Cach&ecirc; L3 total: 32 MB</p><p class=\\\\\"MsoNormal\\\\\">- TDP / TDP Padr&atilde;o: 65 W</p><p class=\\\\\"MsoNormal\\\\\">- Tecnologia de processador para n&uacute;cleos de CPU: TSMC 7nm FinFET</p><p class=\\\\\"MsoNormal\\\\\">- Processor Technology for I/O Die: 12nm (Globalfoundries)</p><p class=\\\\\"MsoNormal\\\\\">- Tamanho da matriz de computa&ccedil;&atilde;o da CPU (CCD): 74mm&sup2;</p><p class=\\\\\"MsoNormal\\\\\">- Tamanho da matriz de E/S (IOD): 125mm&sup2;</p><p class=\\\\\"MsoNormal\\\\\">- Soquete da CPU: AM4</p><p class=\\\\\"MsoNormal\\\\\">- Contagem de soquetes: 1P</p><p class=\\\\\"MsoNormal\\\\\">- Tecnologia de aumento de CPU</p><p class=\\\\\"MsoNormal\\\\\">- Aumento de precis&atilde;o 2</p><p class=\\\\\"MsoNormal\\\\\">- Conjunto de instru&ccedil;&otilde;es: x86-64</p><p class=\\\\\"MsoNormal\\\\\">- Extens&otilde;es compat&iacute;veis:&nbsp;<span>AES, AMD-V, AVX, AVX2, FMA3, MMX(+), SHA, SSE, SSE2, SSE3, SSE4.1, SSE4.2, SSE4A, SSSE3, x86-64</span></p><p class=\\\\\"MsoNormal\\\\\">- Solu&ccedil;&atilde;o t&eacute;rmica (PIB):&nbsp;<span>AMD Wraith Stealth</span></p><p class=\\\\\"MsoNormal\\\\\">- Tempo m&aacute;ximo: 90&deg;C</p><p class=\\\\\"MsoNormal\\\\\">&nbsp;</p><p class=\\\\\"MsoNormal\\\\\"><strong><strong>*Suporte de SO:</strong></strong><br />- Edi&ccedil;&atilde;o Windows 11 - 64-Bit</p><p class=\\\\\"MsoNormal\\\\\">- Edi&ccedil;&atilde;o Windows 10 - 64-Bit</p><p class=\\\\\"MsoNormal\\\\\">- RHEL x86 64 bits</p><p class=\\\\\"MsoNormal\\\\\">- Ubuntu x86 64 bits</p><p class=\\\\\"MsoNormal\\\\\"><strong></strong></p><p class=\\\\\"MsoNormal\\\\\">*O suporte ao sistema operacional (SO) poder&aacute; variar de acordo com o fabricante.</p><p class=\\\\\"MsoNormal\\\\\">&nbsp;</p><p class=\\\\\"MsoNormal\\\\\"><strong><strong>Chipsets de suporte:</strong></strong><br />- X570</p><p class=\\\\\"MsoNormal\\\\\">- X470</p><p class=\\\\\"MsoNormal\\\\\">-&nbsp;<span>X370</span></p><p class=\\\\\"MsoNormal\\\\\">- B550</p><p class=\\\\\"MsoNormal\\\\\">- B450</p><p class=\\\\\"MsoNormal\\\\\">-&nbsp;<span>B350</span></p><p class=\\\\\"MsoNormal\\\\\">- A520</p><p class=\\\\\"MsoNormal\\\\\">&nbsp;</p><p class=\\\\\"MsoNormal\\\\\"><strong><strong>Mem&oacute;ria:</strong></strong></p><p class=\\\\\"MsoNormal\\\\\">- Suporte a USB Tipo C: sim</p><p class=\\\\\"MsoNormal\\\\\">- Portas nativas USB 3.2 Gen 2 (10 Gbps): 4</p><p class=\\\\\"MsoNormal\\\\\">- Portas nativas USB 3.2 Gen 1 (5 Gbps): 0</p><p class=\\\\\"MsoNormal\\\\\">- Portas nativas USB 2.0 (480Mbps): 0</p><p class=\\\\\"MsoNormal\\\\\">- Portas SATA nativas: 2</p><p class=\\\\\"MsoNormal\\\\\">- Vers&atilde;o do PCI Express: PCIe 4.0</p><p class=\\\\\"MsoNormal\\\\\">- Pistas PCIe nativas (total/utiliz&aacute;vel): 24/20</p><p class=\\\\\"MsoNormal\\\\\">- Suporte NVMe: Boot, RAID0, RAID1, RAID10</p><p class=\\\\\"MsoNormal\\\\\">- Tipo de mem&oacute;ria: DDR4</p><p class=\\\\\"MsoNormal\\\\\">- Canais de mem&oacute;ria: 2</p><p class=\\\\\"MsoNormal\\\\\">- M&aacute;x. Mem&oacute;ria: 128 GB</p><p class=\\\\\"MsoNormal\\\\\">- Subtipo de mem&oacute;ria do sistema: UDIMM</p><p class=\\\\\"MsoNormal\\\\\">-&nbsp;<span>Velocidade m&aacute;xima da mem&oacute;ria:&nbsp;</span>Up to 3200MHz</p><p class=\\\\\"MsoNormal\\\\\">&nbsp;</p><p class=\\\\\"MsoNormal\\\\\"><strong><strong>PCIe utiliz&aacute;veis &#8203;&#8203;adicionais da placa-m&atilde;e</strong></strong></p><p class=\\\\\"MsoNormal\\\\\">- AMD X570: 16x Gera&ccedil;&atilde;o 4</p><p class=\\\\\"MsoNormal\\\\\">- AMD X470: 2x Gera&ccedil;&atilde;o 3</p><p class=\\\\\"MsoNormal\\\\\">- AMD X470: 8x Gera&ccedil;&atilde;o 2</p><p class=\\\\\"MsoNormal\\\\\">&nbsp;</p><p class=\\\\\"MsoNormal\\\\\"><strong><strong>Velocidade m&aacute;xima de mem&oacute;ria</strong></strong></p><p class=\\\\\"MsoNormal\\\\\">- 2x1R: DDR4-3200</p><p class=\\\\\"MsoNormal\\\\\">- 2x2R: DDR4-3200</p><p class=\\\\\"MsoNormal\\\\\">- 4x1R: DDR4-2933</p><p class=\\\\\"MsoNormal\\\\\">- 4x2R: DDR4-2667</p><p class=\\\\\"MsoNormal\\\\\">&nbsp;</p><p class=\\\\\"MsoNormal\\\\\"><strong><strong>Tecnologias compat&iacute;veis</strong></strong></p><p class=\\\\\"MsoNormal\\\\\">- Arquitetura de n&uacute;cleo AMD \\\\\"Zen 3\\\\\"</p><p class=\\\\\"MsoNormal\\\\\">- Premium AMD Ryzen&trade; VR-Ready</p><p class=\\\\\"MsoNormal\\\\\"><strong><strong><br /></strong><strong>Conte&uacute;do da Embalagem:&nbsp;</strong></strong><br />- 01 x&nbsp;<span>Processador AMD Ryzen 5 5600, Cache 35MB, 3.5GHz (4.4GHz Max Turbo), AM4, Sem V&iacute;deo&nbsp;</span></p>\",\"link\":\"/produto/320798/processador-amd-ryzen-5-5600-cache-35mb-3-5ghz-4-4ghz-max-turbo-am4-sem-v-deo-100-100000927box\",\"gift\":null,\"origin\":\"0\",\"originName\":\"\",\"dataLayer\":{\"visitor\":{\"campaign\":\"direct\",\"medium\":\"direct\",\"source\":\"direct\",\"clientEmail\":\"\",\"device\":\"desktop\"}},\"tagCanonical\":\"https://www.kabum.com.brundefined\"}'},\n   'initialZustandState': {'descriptionProduct': {'type': 'prime',\n     'code': 320798,\n     'iframeUrl': '',\n     'description': '<h2>Processador AMD Ryzen 5 5600</h2>\\n<p>&nbsp;</p>\\n<p>Quando voc&ecirc; tem a arquitetura de processador&nbsp;de desktop&nbsp;mais avan&ccedil;ada do mundo2&nbsp;para jogadores e criadores de conte&uacute;do, as possibilidades s&atilde;o infinitas. Esteja voc&ecirc; jogando os jogos mais recentes, projetando o pr&oacute;ximo pr&eacute;dio ou processando dados, voc&ecirc; precisa de um processador poderoso que possa lidar com tudo - e muito mais. Sem d&uacute;vida, os processadores AMD Ryzen &trade; s&eacute;rie 5000 definem o padr&atilde;o para jogadores e artistas.</p>\\n<p>&nbsp;</p>\\n<h2>A ferramenta certa para o trabalho</h2>\\n<div>\\n<p>Quando voc&ecirc; tem o processador mais avan&ccedil;ado do mundo para designers e criadores de conte&uacute;do, as possibilidades s&atilde;o infinitas. Esteja voc&ecirc; projetando o pr&oacute;ximo arranha-c&eacute;u ou animando um personagem complexo, voc&ecirc; precisa de um processador poderoso que possa lidar com todo o espectro de demandas de computa&ccedil;&atilde;o do seu fluxo de trabalho.</p>\\n<h3><br />Processador AMD &eacute; no KaBuM!</h3>\\n</div>',\n     'name': 'Processador AMD Ryzen 5 5600, Cache 35MB, 3.5GHz (4.4GHz Max Turbo), AM4, Sem Vídeo - 100-100000927BOX',\n     'friendlyName': 'processador-amd-ryzen-5-5600-cache-35mb-3-5ghz-4-4ghz-max-turbo-am4-sem-video-100-100000927box',\n     'tagCode': 0,\n     'di': '1381bebbb18863cae0da9796d353ba0d9a6c5396',\n     'photos': ['https://images8.kabum.com.br/produtos/fotos/320798/processador-amd-ryzen-5-5600-cache-35mb-3-7ghz-4-4ghz-max-turbo-am4-100-100000927box_1647636743_g.jpg',\n      'https://images8.kabum.com.br/produtos/fotos/320798/processador-amd-ryzen-5-5600-cache-35mb-3-7ghz-4-4ghz-max-turbo-am4-100-100000927box_1647636744_g.jpg'],\n     'available': True,\n     'category': 'Hardware/Processadores/Processador AMD',\n     'similarProducts': [{'name': 'Processador AMD Ryzen 5 5600X, Cache 35MB, 3.7GHz (4.6GHz Max Turbo), AM4, Sem Vídeo  - 100-100000065BOX',\n       'friendlyName': 'processador-amd-ryzen-5-5600x-cache-35mb-3-7ghz-4-6ghz-max-turbo-am4-sem-video-100-100000065box',\n       'code': 129451,\n       'discountPrice': 1399.9,\n       'discountPrimePrice': 1999.9,\n       'image': 'https://images1.kabum.com.br/produtos/fotos/129451/processador-amd-ryzen-9-5950x-cache-72mb-3-4ghz-4-9ghz-max-turbo-am4-100-100000065box_1602603581_m.jpg',\n       'isPrime': False},\n      {'name': 'Processador AMD Ryzen 5 4600G, Cachê 11MB, 3.7GHz (4.2GHz Max Turbo), AM4, Vídeo Integrado - 100-100000147BOX',\n       'friendlyName': 'processador-amd-ryzen-5-4600g-cache-11mb-3-7ghz-4-2ghz-max-turbo-am4-video-integrado-100-100000147box',\n       'code': 333145,\n       'discountPrice': 919.9,\n       'discountPrimePrice': 987.9,\n       'image': 'https://images5.kabum.com.br/produtos/fotos/333145/processador-amd-ryzen-5-4600g-cache-11mb-3-7ghz-4-2ghz-max-turbo-am4-video-integrado-100-100000147box_1653338732_m.jpg',\n       'isPrime': False},\n      {'name': 'Processador AMD Ryzen 5 5600G, 3.9GHz (4.4GHz Max Turbo), AM4, Vídeo Integrado, 6 Núcleos - 100-100000252BOX',\n       'friendlyName': 'processador-amd-ryzen-5-5600g-3-9ghz-4-4ghz-max-turbo-am4-video-integrado-6-nucleos-100-100000252box',\n       'code': 181088,\n       'discountPrice': 1299.9,\n       'discountPrimePrice': 1259.9,\n       'image': 'https://images8.kabum.com.br/produtos/fotos/181088/processador-amd-ryzen-5-5600g-3-9ghz-4-4ghz-max-turbo-am4-video-integrado-6-nucleos-100-100000252box_1627588230_m.jpg',\n       'isPrime': True},\n      {'name': 'Processador AMD Ryzen 7 5800X, Cache 36MB, 3.8GHz (4.7GHz Max Turbo), AM4 - 100-100000063WOF',\n       'friendlyName': 'processador-amd-ryzen-7-5800x-cache-36mb-3-8ghz-4-7ghz-max-turbo-am4-100-100000063wof',\n       'code': 129459,\n       'discountPrice': 1999.9,\n       'discountPrimePrice': 3099.9,\n       'image': 'https://images9.kabum.com.br/produtos/fotos/129459/processador-amd-ryzen-9-5900x-cache-70mb-3-7ghz-4-8ghz-max-turbo-am4-100-100000063wof_1602600708_m.jpg',\n       'isPrime': False},\n      {'name': 'Processador AMD Ryzen 5 5500, Cache 19MB, 3.6GHz (4.2GHz Max Turbo), AM4, Sem Vídeo - 100-100000457BOX',\n       'friendlyName': 'processador-amd-ryzen-5-5500-cache-19mb-3-6ghz-4-2ghz-max-turbo-am4-sem-video-100-100000457box',\n       'code': 320799,\n       'discountPrice': 899.9,\n       'discountPrimePrice': 1039.9,\n       'image': 'https://images9.kabum.com.br/produtos/fotos/320799/processador-amd-ryzen-5-5500-cache-19mb-3-7ghz-4-2ghz-max-turbo-am4-100-100000457box_1647636796_m.jpg',\n       'isPrime': False},\n      {'name': 'Processador AMD Ryzen 7 5700X, Cache 36MB, 3.4GHz (4.6GHz Max Turbo), AM4, Sem Vídeo - 100-100000926WOF',\n       'friendlyName': 'processador-amd-ryzen-7-5700x-cache-36mb-3-4ghz-4-6ghz-max-turbo-am4-sem-video-100-100000926wof',\n       'code': 320797,\n       'discountPrice': 1699.9,\n       'discountPrimePrice': 1824.9,\n       'image': 'https://images7.kabum.com.br/produtos/fotos/320797/processador-amd-ryzen-7-5700x-cache-36mb-3-8ghz-4-6ghz-max-turbo-am4-100-100000926wof_1647636511_m.jpg',\n       'isPrime': False},\n      {'name': 'Processador AMD Ryzen 7 5700G, 3.8GHz (4.6GHz Max Turbo), AM4, Vídeo Integrado, 8 Núcleos - 100-100000263BOX',\n       'friendlyName': 'processador-amd-ryzen-7-5700g-3-8ghz-4-6ghz-max-turbo-am4-video-integrado-8-nucleos-100-100000263box',\n       'code': 181089,\n       'discountPrice': 1749.9,\n       'discountPrimePrice': 2499.9,\n       'image': 'https://images9.kabum.com.br/produtos/fotos/181089/processador-amd-ryzen-7-5700g-3-8ghz-4-6ghz-max-turbo-am4-video-integrado-8-nucleos-100-100000263box_1627588652_m.jpg',\n       'isPrime': False},\n      {'name': 'Processador AMD Ryzen 9 5900X, Cache 70MB, 3.7GHz (4.8GHz Max Turbo), AM4 - 100-100000061WOF',\n       'friendlyName': 'processador-amd-ryzen-9-5900x-cache-70mb-3-7ghz-4-8ghz-max-turbo-am4-100-100000061wof',\n       'code': 129460,\n       'discountPrice': 2599.9,\n       'discountPrimePrice': 3859.9,\n       'image': 'https://images0.kabum.com.br/produtos/fotos/129460/processador-amd-ryzen-9-5900x-cache-70mb-3-8ghz-4-7ghz-max-turbo-am4-100-100000061wof_1604585280_m.jpg',\n       'isPrime': False},\n      {'name': 'Processador AMD Ryzen 5 4500, Cachê 11MB, 3.6GHz (4.1GHz Max Turbo), AM4, Sem Vídeo - 100-100000644BOX',\n       'friendlyName': 'processador-amd-ryzen-5-4500-cache-11mb-3-6ghz-4-1ghz-max-turbo-am4-sem-video-100-100000644box',\n       'code': 333154,\n       'discountPrice': 699.9,\n       'discountPrimePrice': 979.9,\n       'image': 'https://images4.kabum.com.br/produtos/fotos/333154/processador-amd-ryzen-5-4500-cache-11mb-3-6ghz-4-1ghz-max-turbo-am4-sem-video-100-100000644box_1652381901_m.jpg',\n       'isPrime': False},\n      {'name': 'Processador AMD Ryzen 3 4100, Cachê 6MB, 3.8GHz (4.0GHz Max Turbo), AM4,  Sem Vídeo - 100-100000510BOX',\n       'friendlyName': 'processador-amd-ryzen-3-4100-cache-6mb-3-8ghz-4-0ghz-max-turbo-am4-sem-video-100-100000510box',\n       'code': 333155,\n       'discountPrice': 589.9,\n       'discountPrimePrice': 659.9,\n       'image': 'https://images5.kabum.com.br/produtos/fotos/333155/processador-amd-ryzen-3-4100-cache-6mb-3-8ghz-4-0ghz-max-turbo-am4-sem-video-100-100000510box_1653317439_m.jpg',\n       'isPrime': False}],\n     'menus': [{'code': 1, 'name': 'Hardware', 'link': '/hardware'},\n      {'code': 16, 'name': 'Processadores', 'link': '/hardware/processadores'},\n      {'code': 20077,\n       'name': 'Processador AMD',\n       'link': '/hardware/processadores/processador-amd'}],\n     'offer': {'quantity': 68,\n      'endDate': 1659351600,\n      'event': 'Julho Gamer',\n      'primaryColor': '#f17a28',\n      'secondaryColor': '#000000',\n      'letterColor': '#FFFFFF',\n      'offerDiscount': 18,\n      'id': 582632,\n      'pathJson': 'julhogamer'},\n     'offerStartTime': 0,\n     'priceDetails': {'oldPrice': 1646.94,\n      'price': 1341.06,\n      'discountPrice': 1139.9,\n      'primePrice': 1341.06,\n      'maxParcel': {'parcel': 12, 'value': 114.66, 'type': 'sem juros'},\n      'discountPercentage': 15,\n      'discountPercentagePrime': 0,\n      'isPrime': False,\n      'savePrime': 0,\n      'discountPricePrime': 1139.9,\n      'primeParcels': [],\n      'maxPrimeParcel': {},\n      'maxCobrandedParcel': {'parcel': 24,\n       'value': 69.29,\n       'type': 'com juros'},\n      'maxCobrandedPrimeParcel': {}},\n     'offerIdMarketplace': None,\n     'price': 1341.06,\n     'weight': 450,\n     'weightString': '450 gramas (bruto com embalagem)',\n     'warrantyString': '12 meses de garantia',\n     'sellerId': 'kabum',\n     'sellerName': '',\n     'parcels': [{'parcelNumber': 1, 'value': 1206.95, 'type': 'sem juros'},\n      {'parcelNumber': 2, 'value': 670.53, 'type': 'sem juros'},\n      {'parcelNumber': 3, 'value': 447.02, 'type': 'sem juros'},\n      {'parcelNumber': 4, 'value': 335.26, 'type': 'sem juros'},\n      {'parcelNumber': 5, 'value': 268.21, 'type': 'sem juros'},\n      {'parcelNumber': 6, 'value': 223.51, 'type': 'sem juros'},\n      {'parcelNumber': 7, 'value': 191.58, 'type': 'sem juros'},\n      {'parcelNumber': 8, 'value': 167.63, 'type': 'sem juros'},\n      {'parcelNumber': 9, 'value': 149.01, 'type': 'sem juros'},\n      {'parcelNumber': 10, 'value': 134.11, 'type': 'sem juros'},\n      {'parcelNumber': 11, 'value': 123.5, 'type': 'sem juros'},\n      {'parcelNumber': 12, 'value': 114.66, 'type': 'sem juros'}],\n     'producer': {'code': 5,\n      'name': 'Amd',\n      'img': 'https://images5.kabum.com.br/produtos/fabricantes/logo-amd.jpg'},\n     'rating': 5,\n     'isOpenbox': False,\n     'isBlackFriday': 0,\n     'isDigital': False,\n     'ratingNumber': 21,\n     'technicalInformation': '<p><strong><strong>Caracter&iacute;sticas:</strong></strong><br />- Marca: AMD<br />- Modelo: 100-100000927BOX</p><p class=\"MsoNormal\"><br /><strong><strong><strong>Especifica&ccedil;&otilde;es:</strong></strong><br /></strong></p><p class=\"MsoNormal\">- Arquitetura: \"Zen 3\"</p><p class=\"MsoNormal\">- N&ordm; de n&uacute;cleos de CPU: 6</p><p class=\"MsoNormal\">- Multithreading (SMT): sim</p><p class=\"MsoNormal\">- N&ordm; de threads: 12</p><p class=\"MsoNormal\">- Clock Max Boost: At&eacute; 4.4GHz</p><p class=\"MsoNormal\">- Clock b&aacute;sico: 3,5 GHz</p><p class=\"MsoNormal\">- Cach&ecirc; L1 total: 384 KB</p><p class=\"MsoNormal\">- Cach&ecirc; L2 total: 3 MB</p><p class=\"MsoNormal\">- Cach&ecirc; L3 total: 32 MB</p><p class=\"MsoNormal\">- TDP / TDP Padr&atilde;o: 65 W</p><p class=\"MsoNormal\">- Tecnologia de processador para n&uacute;cleos de CPU: TSMC 7nm FinFET</p><p class=\"MsoNormal\">- Processor Technology for I/O Die: 12nm (Globalfoundries)</p><p class=\"MsoNormal\">- Tamanho da matriz de computa&ccedil;&atilde;o da CPU (CCD): 74mm&sup2;</p><p class=\"MsoNormal\">- Tamanho da matriz de E/S (IOD): 125mm&sup2;</p><p class=\"MsoNormal\">- Soquete da CPU: AM4</p><p class=\"MsoNormal\">- Contagem de soquetes: 1P</p><p class=\"MsoNormal\">- Tecnologia de aumento de CPU</p><p class=\"MsoNormal\">- Aumento de precis&atilde;o 2</p><p class=\"MsoNormal\">- Conjunto de instru&ccedil;&otilde;es: x86-64</p><p class=\"MsoNormal\">- Extens&otilde;es compat&iacute;veis:&nbsp;<span>AES, AMD-V, AVX, AVX2, FMA3, MMX(+), SHA, SSE, SSE2, SSE3, SSE4.1, SSE4.2, SSE4A, SSSE3, x86-64</span></p><p class=\"MsoNormal\">- Solu&ccedil;&atilde;o t&eacute;rmica (PIB):&nbsp;<span>AMD Wraith Stealth</span></p><p class=\"MsoNormal\">- Tempo m&aacute;ximo: 90&deg;C</p><p class=\"MsoNormal\">&nbsp;</p><p class=\"MsoNormal\"><strong><strong>*Suporte de SO:</strong></strong><br />- Edi&ccedil;&atilde;o Windows 11 - 64-Bit</p><p class=\"MsoNormal\">- Edi&ccedil;&atilde;o Windows 10 - 64-Bit</p><p class=\"MsoNormal\">- RHEL x86 64 bits</p><p class=\"MsoNormal\">- Ubuntu x86 64 bits</p><p class=\"MsoNormal\"><strong></strong></p><p class=\"MsoNormal\">*O suporte ao sistema operacional (SO) poder&aacute; variar de acordo com o fabricante.</p><p class=\"MsoNormal\">&nbsp;</p><p class=\"MsoNormal\"><strong><strong>Chipsets de suporte:</strong></strong><br />- X570</p><p class=\"MsoNormal\">- X470</p><p class=\"MsoNormal\">-&nbsp;<span>X370</span></p><p class=\"MsoNormal\">- B550</p><p class=\"MsoNormal\">- B450</p><p class=\"MsoNormal\">-&nbsp;<span>B350</span></p><p class=\"MsoNormal\">- A520</p><p class=\"MsoNormal\">&nbsp;</p><p class=\"MsoNormal\"><strong><strong>Mem&oacute;ria:</strong></strong></p><p class=\"MsoNormal\">- Suporte a USB Tipo C: sim</p><p class=\"MsoNormal\">- Portas nativas USB 3.2 Gen 2 (10 Gbps): 4</p><p class=\"MsoNormal\">- Portas nativas USB 3.2 Gen 1 (5 Gbps): 0</p><p class=\"MsoNormal\">- Portas nativas USB 2.0 (480Mbps): 0</p><p class=\"MsoNormal\">- Portas SATA nativas: 2</p><p class=\"MsoNormal\">- Vers&atilde;o do PCI Express: PCIe 4.0</p><p class=\"MsoNormal\">- Pistas PCIe nativas (total/utiliz&aacute;vel): 24/20</p><p class=\"MsoNormal\">- Suporte NVMe: Boot, RAID0, RAID1, RAID10</p><p class=\"MsoNormal\">- Tipo de mem&oacute;ria: DDR4</p><p class=\"MsoNormal\">- Canais de mem&oacute;ria: 2</p><p class=\"MsoNormal\">- M&aacute;x. Mem&oacute;ria: 128 GB</p><p class=\"MsoNormal\">- Subtipo de mem&oacute;ria do sistema: UDIMM</p><p class=\"MsoNormal\">-&nbsp;<span>Velocidade m&aacute;xima da mem&oacute;ria:&nbsp;</span>Up to 3200MHz</p><p class=\"MsoNormal\">&nbsp;</p><p class=\"MsoNormal\"><strong><strong>PCIe utiliz&aacute;veis &#8203;&#8203;adicionais da placa-m&atilde;e</strong></strong></p><p class=\"MsoNormal\">- AMD X570: 16x Gera&ccedil;&atilde;o 4</p><p class=\"MsoNormal\">- AMD X470: 2x Gera&ccedil;&atilde;o 3</p><p class=\"MsoNormal\">- AMD X470: 8x Gera&ccedil;&atilde;o 2</p><p class=\"MsoNormal\">&nbsp;</p><p class=\"MsoNormal\"><strong><strong>Velocidade m&aacute;xima de mem&oacute;ria</strong></strong></p><p class=\"MsoNormal\">- 2x1R: DDR4-3200</p><p class=\"MsoNormal\">- 2x2R: DDR4-3200</p><p class=\"MsoNormal\">- 4x1R: DDR4-2933</p><p class=\"MsoNormal\">- 4x2R: DDR4-2667</p><p class=\"MsoNormal\">&nbsp;</p><p class=\"MsoNormal\"><strong><strong>Tecnologias compat&iacute;veis</strong></strong></p><p class=\"MsoNormal\">- Arquitetura de n&uacute;cleo AMD \"Zen 3\"</p><p class=\"MsoNormal\">- Premium AMD Ryzen&trade; VR-Ready</p><p class=\"MsoNormal\"><strong><strong><br /></strong><strong>Conte&uacute;do da Embalagem:&nbsp;</strong></strong><br />- 01 x&nbsp;<span>Processador AMD Ryzen 5 5600, Cache 35MB, 3.5GHz (4.4GHz Max Turbo), AM4, Sem V&iacute;deo&nbsp;</span></p>',\n     'link': '/produto/320798/processador-amd-ryzen-5-5600-cache-35mb-3-5ghz-4-4ghz-max-turbo-am4-sem-v-deo-100-100000927box',\n     'gift': None,\n     'origin': '0',\n     'originName': '',\n     'dataLayer': {'visitor': {'campaign': 'direct',\n       'medium': 'direct',\n       'source': 'direct',\n       'clientEmail': '',\n       'device': 'desktop'}},\n     'tagCanonical': 'https://www.kabum.com.brundefined'},\n    'catalogProduct': {'code': 320798,\n     'productSpecie': 0,\n     'name': 'Processador AMD Ryzen 5 5600, Cache 35MB, 3.5GHz (4.4GHz Max Turbo), AM4, Sem Vídeo - 100-100000927BOX',\n     'description': '<h2>Processador AMD Ryzen 5 5600</h2>\\n<p>&nbsp;</p>\\n<p>Quando voc&ecirc; tem a arquitetura de processador&nbsp;de desktop&nbsp;mais avan&ccedil;ada do mundo2&nbsp;para jogadores e criadores de conte&uacute;do, as possibilidades s&atilde;o infinitas. Esteja voc&ecirc; jogando os jogos mais recentes, projetando o pr&oacute;ximo pr&eacute;dio ou processando dados, voc&ecirc; precisa de um processador poderoso que possa lidar com tudo - e muito mais. Sem d&uacute;vida, os processadores AMD Ryzen &trade; s&eacute;rie 5000 definem o padr&atilde;o para jogadores e artistas.</p>\\n<p>&nbsp;</p>\\n<h2>A ferramenta certa para o trabalho</h2>\\n<div>\\n<p>Quando voc&ecirc; tem o processador mais avan&ccedil;ado do mundo para designers e criadores de conte&uacute;do, as possibilidades s&atilde;o infinitas. Esteja voc&ecirc; projetando o pr&oacute;ximo arranha-c&eacute;u ou animando um personagem complexo, voc&ecirc; precisa de um processador poderoso que possa lidar com todo o espectro de demandas de computa&ccedil;&atilde;o do seu fluxo de trabalho.</p>\\n<h3><br />Processador AMD &eacute; no KaBuM!</h3>\\n</div>',\n     'tagDescription': 'Sem dúvida, os processadores AMD Ryzen Série 5000 definem o padrão para artistas e engenheiros que buscam desempenho. Garanta já o seu no KaBuM!',\n     'weight': 450,\n     'friendlyName': 'processador-amd-ryzen-5-5600-cache-35mb-3-5ghz-4-4ghz-max-turbo-am4-sem-video-100-100000927box',\n     'sellerName': 'KaBuM!',\n     'sellerId': 0,\n     'offerIdMarketplace': 0,\n     'category': 'Hardware/Processadores/Processador AMD',\n     'externalUrl': '',\n     'manufacturer': {'id': 5,\n      'name': 'Amd',\n      'img': 'https://images4.kabum.com.br/produtos/fabricantes/logo-amd.jpg'},\n     'iframeUrl': '',\n     'image': 'h',\n     'images': ['https://images.kabum.com.br/produtos/fotos/320798/processador-amd-ryzen-5-5600-cache-35mb-3-7ghz-4-4ghz-max-turbo-am4-100-100000927box_1647636743_original.jpg',\n      'https://images.kabum.com.br/produtos/fotos/320798/processador-amd-ryzen-5-5600-cache-35mb-3-7ghz-4-4ghz-max-turbo-am4-100-100000927box_1647636744_original.jpg'],\n     'price': 1646.94,\n     'primePrice': 0,\n     'primePriceWithDiscount': 0,\n     'discountPercentagePrime': 0,\n     'oldPrice': 1646.94,\n     'oldPrimePrice': 1646.94,\n     'priceWithDiscount': 1399.9,\n     'priceMarketplace': 0,\n     'discountPercentage': 15,\n     'quantity': 68,\n     'rating': 5,\n     'ratingCount': 21,\n     'available': True,\n     'preOrderDate': 0,\n     'warranty': '1 ano de garantia (9 meses de garantia contratual junto ao fabricante + 3 meses referentes à garantia legal, nos termos do artigo 26, II, do Código de Defesa do Consumidor)',\n     'dateProductArrived': None,\n     'html': '<p><strong><strong>Caracter&iacute;sticas:</strong></strong><br />- Marca: AMD<br />- Modelo: 100-100000927BOX</p>\\r\\n<p class=\"MsoNormal\"><br /><strong><strong><strong>Especifica&ccedil;&otilde;es:</strong></strong><br /></strong></p>\\r\\n<p class=\"MsoNormal\">- Arquitetura: \"Zen 3\"</p>\\r\\n<p class=\"MsoNormal\">- N&ordm; de n&uacute;cleos de CPU: 6</p>\\r\\n<p class=\"MsoNormal\">- Multithreading (SMT): sim</p>\\r\\n<p class=\"MsoNormal\">- N&ordm; de threads: 12</p>\\r\\n<p class=\"MsoNormal\">- Clock Max Boost: At&eacute; 4.4GHz</p>\\r\\n<p class=\"MsoNormal\">- Clock b&aacute;sico: 3,5 GHz</p>\\r\\n<p class=\"MsoNormal\">- Cach&ecirc; L1 total: 384 KB</p>\\r\\n<p class=\"MsoNormal\">- Cach&ecirc; L2 total: 3 MB</p>\\r\\n<p class=\"MsoNormal\">- Cach&ecirc; L3 total: 32 MB</p>\\r\\n<p class=\"MsoNormal\">- TDP / TDP Padr&atilde;o: 65 W</p>\\r\\n<p class=\"MsoNormal\">- Tecnologia de processador para n&uacute;cleos de CPU: TSMC 7nm FinFET</p>\\r\\n<p class=\"MsoNormal\">- Processor Technology for I/O Die: 12nm (Globalfoundries)</p>\\r\\n<p class=\"MsoNormal\">- Tamanho da matriz de computa&ccedil;&atilde;o da CPU (CCD): 74mm&sup2;</p>\\r\\n<p class=\"MsoNormal\">- Tamanho da matriz de E/S (IOD): 125mm&sup2;</p>\\r\\n<p class=\"MsoNormal\">- Soquete da CPU: AM4</p>\\r\\n<p class=\"MsoNormal\">- Contagem de soquetes: 1P</p>\\r\\n<p class=\"MsoNormal\">- Tecnologia de aumento de CPU</p>\\r\\n<p class=\"MsoNormal\">- Aumento de precis&atilde;o 2</p>\\r\\n<p class=\"MsoNormal\">- Conjunto de instru&ccedil;&otilde;es: x86-64</p>\\r\\n<p class=\"MsoNormal\">- Extens&otilde;es compat&iacute;veis:&nbsp;<span>AES, AMD-V, AVX, AVX2, FMA3, MMX(+), SHA, SSE, SSE2, SSE3, SSE4.1, SSE4.2, SSE4A, SSSE3, x86-64</span></p>\\r\\n<p class=\"MsoNormal\">- Solu&ccedil;&atilde;o t&eacute;rmica (PIB):&nbsp;<span>AMD Wraith Stealth</span></p>\\r\\n<p class=\"MsoNormal\">- Tempo m&aacute;ximo: 90&deg;C</p>\\r\\n<p class=\"MsoNormal\">&nbsp;</p>\\r\\n<p class=\"MsoNormal\"><strong><strong>*Suporte de SO:</strong></strong><br />- Edi&ccedil;&atilde;o Windows 11 - 64-Bit</p>\\r\\n<p class=\"MsoNormal\">- Edi&ccedil;&atilde;o Windows 10 - 64-Bit</p>\\r\\n<p class=\"MsoNormal\">- RHEL x86 64 bits</p>\\r\\n<p class=\"MsoNormal\">- Ubuntu x86 64 bits</p>\\r\\n<p class=\"MsoNormal\"><strong></strong></p>\\r\\n<p class=\"MsoNormal\">*O suporte ao sistema operacional (SO) poder&aacute; variar de acordo com o fabricante.</p>\\r\\n<p class=\"MsoNormal\">&nbsp;</p>\\r\\n<p class=\"MsoNormal\"><strong><strong>Chipsets de suporte:</strong></strong><br />- X570</p>\\r\\n<p class=\"MsoNormal\">- X470</p>\\r\\n<p class=\"MsoNormal\">-&nbsp;<span>X370</span></p>\\r\\n<p class=\"MsoNormal\">- B550</p>\\r\\n<p class=\"MsoNormal\">- B450</p>\\r\\n<p class=\"MsoNormal\">-&nbsp;<span>B350</span></p>\\r\\n<p class=\"MsoNormal\">- A520</p>\\r\\n<p class=\"MsoNormal\">&nbsp;</p>\\r\\n<p class=\"MsoNormal\"><strong><strong>Mem&oacute;ria:</strong></strong></p>\\r\\n<p class=\"MsoNormal\">- Suporte a USB Tipo C: sim</p>\\r\\n<p class=\"MsoNormal\">- Portas nativas USB 3.2 Gen 2 (10 Gbps): 4</p>\\r\\n<p class=\"MsoNormal\">- Portas nativas USB 3.2 Gen 1 (5 Gbps): 0</p>\\r\\n<p class=\"MsoNormal\">- Portas nativas USB 2.0 (480Mbps): 0</p>\\r\\n<p class=\"MsoNormal\">- Portas SATA nativas: 2</p>\\r\\n<p class=\"MsoNormal\">- Vers&atilde;o do PCI Express: PCIe 4.0</p>\\r\\n<p class=\"MsoNormal\">- Pistas PCIe nativas (total/utiliz&aacute;vel): 24/20</p>\\r\\n<p class=\"MsoNormal\">- Suporte NVMe: Boot, RAID0, RAID1, RAID10</p>\\r\\n<p class=\"MsoNormal\">- Tipo de mem&oacute;ria: DDR4</p>\\r\\n<p class=\"MsoNormal\">- Canais de mem&oacute;ria: 2</p>\\r\\n<p class=\"MsoNormal\">- M&aacute;x. Mem&oacute;ria: 128 GB</p>\\r\\n<p class=\"MsoNormal\">- Subtipo de mem&oacute;ria do sistema: UDIMM</p>\\r\\n<p class=\"MsoNormal\">-&nbsp;<span>Velocidade m&aacute;xima da mem&oacute;ria:&nbsp;</span>Up to 3200MHz</p>\\r\\n<p class=\"MsoNormal\">&nbsp;</p>\\r\\n<p class=\"MsoNormal\"><strong><strong>PCIe utiliz&aacute;veis &#8203;&#8203;adicionais da placa-m&atilde;e</strong></strong></p>\\r\\n<p class=\"MsoNormal\">- AMD X570: 16x Gera&ccedil;&atilde;o 4</p>\\r\\n<p class=\"MsoNormal\">- AMD X470: 2x Gera&ccedil;&atilde;o 3</p>\\r\\n<p class=\"MsoNormal\">- AMD X470: 8x Gera&ccedil;&atilde;o 2</p>\\r\\n<p class=\"MsoNormal\">&nbsp;</p>\\r\\n<p class=\"MsoNormal\"><strong><strong>Velocidade m&aacute;xima de mem&oacute;ria</strong></strong></p>\\r\\n<p class=\"MsoNormal\">- 2x1R: DDR4-3200</p>\\r\\n<p class=\"MsoNormal\">- 2x2R: DDR4-3200</p>\\r\\n<p class=\"MsoNormal\">- 4x1R: DDR4-2933</p>\\r\\n<p class=\"MsoNormal\">- 4x2R: DDR4-2667</p>\\r\\n<p class=\"MsoNormal\">&nbsp;</p>\\r\\n<p class=\"MsoNormal\"><strong><strong>Tecnologias compat&iacute;veis</strong></strong></p>\\r\\n<p class=\"MsoNormal\">- Arquitetura de n&uacute;cleo AMD \"Zen 3\"</p>\\r\\n<p class=\"MsoNormal\">- Premium AMD Ryzen&trade; VR-Ready</p>\\r\\n<p class=\"MsoNormal\"><strong><strong><br /></strong><strong>Conte&uacute;do da Embalagem:&nbsp;</strong></strong><br />- 01 x&nbsp;<span>Processador AMD Ryzen 5 5600, Cache 35MB, 3.5GHz (4.4GHz Max Turbo), AM4, Sem V&iacute;deo&nbsp;</span></p>',\n     'ufsFlash': [],\n     'flags': {'isMarketplace': False,\n      'isOpenbox': False,\n      'isFreeShipping': False,\n      'isFreeShippingPrime': False,\n      'isPixShipping': False,\n      'isPreOrder': False,\n      'isFlash': False,\n      'isPrime': False,\n      'isOffer': True,\n      'hasGift': False},\n     'origin': {'id': None, 'name': None},\n     'prime': None,\n     'offer': {'id': '582632',\n      'name': 'Julho Gamer',\n      'referenceBanner': 'julhogamer',\n      'endsAt': 1659351600,\n      'startsAt': 1657796280,\n      'price': 1341.06,\n      'priceWithDiscount': 1139.9,\n      'discountPercentage': 18,\n      'quantityAvailable': 68,\n      'hashCode': '1381bebbb18863cae0da9796d353ba0d9a6c5396'},\n     'paymentMethodsDefault': [{'category': 'boleto',\n       'method': 'Boleto Bancário',\n       'bestInstallment': None,\n       'installments': [{'id': 1,\n         'paymentTerms': 'Até 15% de desconto',\n         'installment': 1,\n         'amount': 1139.9,\n         'total': 1139.9,\n         'hasFee': False}]},\n      {'category': 'cartao',\n       'method': 'Cartão de Crédito',\n       'bestInstallment': None,\n       'installments': [{'id': 59,\n         'paymentTerms': 'À vista - Até 10% de desconto',\n         'installment': 1,\n         'amount': 1206.95,\n         'total': 1206.95,\n         'hasFee': False},\n        {'id': 4,\n         'paymentTerms': '2x sem juros',\n         'installment': 2,\n         'amount': 670.53,\n         'total': 1341.06,\n         'hasFee': False},\n        {'id': 5,\n         'paymentTerms': '3x sem juros',\n         'installment': 3,\n         'amount': 447.02,\n         'total': 1341.06,\n         'hasFee': False},\n        {'id': 6,\n         'paymentTerms': '4x sem juros',\n         'installment': 4,\n         'amount': 335.26,\n         'total': 1341.06,\n         'hasFee': False},\n        {'id': 7,\n         'paymentTerms': '5x sem juros',\n         'installment': 5,\n         'amount': 268.21,\n         'total': 1341.06,\n         'hasFee': False},\n        {'id': 8,\n         'paymentTerms': '6x sem juros',\n         'installment': 6,\n         'amount': 223.51,\n         'total': 1341.06,\n         'hasFee': False},\n        {'id': 42,\n         'paymentTerms': '7x sem juros',\n         'installment': 7,\n         'amount': 191.58,\n         'total': 1341.06,\n         'hasFee': False},\n        {'id': 43,\n         'paymentTerms': '8x sem juros',\n         'installment': 8,\n         'amount': 167.63,\n         'total': 1341.06,\n         'hasFee': False},\n        {'id': 44,\n         'paymentTerms': '9x sem juros',\n         'installment': 9,\n         'amount': 149,\n         'total': 1341.06,\n         'hasFee': False},\n        {'id': 45,\n         'paymentTerms': '10x sem juros',\n         'installment': 10,\n         'amount': 134.1,\n         'total': 1341.06,\n         'hasFee': False},\n        {'id': 55,\n         'paymentTerms': '11x com juros',\n         'installment': 11,\n         'amount': 123.49,\n         'total': 1358.49,\n         'hasFee': True},\n        {'id': 56,\n         'paymentTerms': '12x com juros',\n         'installment': 12,\n         'amount': 114.66,\n         'total': 1375.93,\n         'hasFee': True}]},\n      {'category': 'paypal',\n       'method': 'PayPal',\n       'bestInstallment': None,\n       'installments': [{'id': 67,\n         'paymentTerms': 'PayPal',\n         'installment': 1,\n         'amount': 1341.06,\n         'total': 1341.06,\n         'hasFee': False}]},\n      {'category': 'pix',\n       'method': 'PIX',\n       'bestInstallment': None,\n       'installments': [{'id': 98,\n         'paymentTerms': 'À vista',\n         'installment': 1,\n         'amount': 1139.9,\n         'total': 1139.9,\n         'hasFee': False}]},\n      {'category': 'cobranded',\n       'method': 'Cartão de Crédito KaBuM!',\n       'bestInstallment': {'installment': 1,\n        'discountPercentage': 15,\n        'amount': 1139.9,\n        'hasFee': False},\n       'installments': [{'id': 99,\n         'paymentTerms': 'À vista - Até 15% de desconto',\n         'installment': 1,\n         'amount': 1139.9,\n         'total': 1139.9,\n         'hasFee': False},\n        {'id': 101,\n         'paymentTerms': '2x sem juros',\n         'installment': 2,\n         'amount': 670.53,\n         'total': 1341.06,\n         'hasFee': False},\n        {'id': 102,\n         'paymentTerms': '3x sem juros',\n         'installment': 3,\n         'amount': 447.02,\n         'total': 1341.06,\n         'hasFee': False},\n        {'id': 103,\n         'paymentTerms': '4x sem juros',\n         'installment': 4,\n         'amount': 335.26,\n         'total': 1341.06,\n         'hasFee': False},\n        {'id': 104,\n         'paymentTerms': '5x sem juros',\n         'installment': 5,\n         'amount': 268.21,\n         'total': 1341.06,\n         'hasFee': False},\n        {'id': 105,\n         'paymentTerms': '6x sem juros',\n         'installment': 6,\n         'amount': 223.51,\n         'total': 1341.06,\n         'hasFee': False},\n        {'id': 106,\n         'paymentTerms': '7x sem juros',\n         'installment': 7,\n         'amount': 191.58,\n         'total': 1341.06,\n         'hasFee': False},\n        {'id': 107,\n         'paymentTerms': '8x sem juros',\n         'installment': 8,\n         'amount': 167.63,\n         'total': 1341.06,\n         'hasFee': False},\n        {'id': 108,\n         'paymentTerms': '9x sem juros',\n         'installment': 9,\n         'amount': 149,\n         'total': 1341.06,\n         'hasFee': False},\n        {'id': 109,\n         'paymentTerms': '10x sem juros',\n         'installment': 10,\n         'amount': 134.1,\n         'total': 1341.06,\n         'hasFee': False},\n        {'id': 110,\n         'paymentTerms': '11x sem juros',\n         'installment': 11,\n         'amount': 121.91,\n         'total': 1341.06,\n         'hasFee': False},\n        {'id': 111,\n         'paymentTerms': '12x sem juros',\n         'installment': 12,\n         'amount': 111.75,\n         'total': 1341.06,\n         'hasFee': False},\n        {'id': 112,\n         'paymentTerms': '13x com juros',\n         'installment': 13,\n         'amount': 116.56,\n         'total': 1515.4,\n         'hasFee': True},\n        {'id': 113,\n         'paymentTerms': '14x com juros',\n         'installment': 14,\n         'amount': 109.2,\n         'total': 1528.81,\n         'hasFee': True},\n        {'id': 114,\n         'paymentTerms': '15x com juros',\n         'installment': 15,\n         'amount': 102.81,\n         'total': 1542.22,\n         'hasFee': True},\n        {'id': 115,\n         'paymentTerms': '16x com juros',\n         'installment': 16,\n         'amount': 97.22,\n         'total': 1555.63,\n         'hasFee': True},\n        {'id': 116,\n         'paymentTerms': '17x com juros',\n         'installment': 17,\n         'amount': 92.29,\n         'total': 1569.04,\n         'hasFee': True},\n        {'id': 117,\n         'paymentTerms': '18x com juros',\n         'installment': 18,\n         'amount': 87.91,\n         'total': 1582.45,\n         'hasFee': True},\n        {'id': 118,\n         'paymentTerms': '19x com juros',\n         'installment': 19,\n         'amount': 83.99,\n         'total': 1595.86,\n         'hasFee': True},\n        {'id': 119,\n         'paymentTerms': '20x com juros',\n         'installment': 20,\n         'amount': 80.46,\n         'total': 1609.27,\n         'hasFee': True},\n        {'id': 120,\n         'paymentTerms': '21x com juros',\n         'installment': 21,\n         'amount': 77.27,\n         'total': 1622.68,\n         'hasFee': True},\n        {'id': 121,\n         'paymentTerms': '22x com juros',\n         'installment': 22,\n         'amount': 74.36,\n         'total': 1636.09,\n         'hasFee': True},\n        {'id': 122,\n         'paymentTerms': '23x com juros',\n         'installment': 23,\n         'amount': 71.71,\n         'total': 1649.5,\n         'hasFee': True},\n        {'id': 123,\n         'paymentTerms': '24x com juros',\n         'installment': 24,\n         'amount': 69.28,\n         'total': 1662.91,\n         'hasFee': True}]}],\n     'paymentMethodsPrime': None,\n     'photos': {'p': ['https://images.kabum.com.br/produtos/fotos/320798/processador-amd-ryzen-5-5600-cache-35mb-3-7ghz-4-4ghz-max-turbo-am4-100-100000927box_1647636743_p.jpg',\n       'https://images.kabum.com.br/produtos/fotos/320798/processador-amd-ryzen-5-5600-cache-35mb-3-7ghz-4-4ghz-max-turbo-am4-100-100000927box_1647636744_p.jpg'],\n      'm': ['https://images.kabum.com.br/produtos/fotos/320798/processador-amd-ryzen-5-5600-cache-35mb-3-7ghz-4-4ghz-max-turbo-am4-100-100000927box_1647636743_m.jpg',\n       'https://images.kabum.com.br/produtos/fotos/320798/processador-amd-ryzen-5-5600-cache-35mb-3-7ghz-4-4ghz-max-turbo-am4-100-100000927box_1647636744_m.jpg'],\n      'g': ['https://images.kabum.com.br/produtos/fotos/320798/processador-amd-ryzen-5-5600-cache-35mb-3-7ghz-4-4ghz-max-turbo-am4-100-100000927box_1647636743_g.jpg',\n       'https://images.kabum.com.br/produtos/fotos/320798/processador-amd-ryzen-5-5600-cache-35mb-3-7ghz-4-4ghz-max-turbo-am4-100-100000927box_1647636744_g.jpg'],\n      'gg': ['https://images.kabum.com.br/produtos/fotos/320798/processador-amd-ryzen-5-5600-cache-35mb-3-7ghz-4-4ghz-max-turbo-am4-100-100000927box_1647636743_gg.jpg',\n       'https://images.kabum.com.br/produtos/fotos/320798/processador-amd-ryzen-5-5600-cache-35mb-3-7ghz-4-4ghz-max-turbo-am4-100-100000927box_1647636744_gg.jpg']},\n     'thumbnail': 'https://images.kabum.com.br/produtos/fotos/320798/processador-amd-ryzen-5-5600-cache-35mb-3-7ghz-4-4ghz-max-turbo-am4-100-100000927box_1647636743_m.jpg',\n     'promotionBanner': None,\n     'campaignBanners': [],\n     'crossCart': [99034,\n      166052,\n      114337,\n      20866,\n      49461,\n      115216,\n      100672,\n      194492],\n     'crossSelling': [115216]}}},\n  '__N_SSP': True},\n 'page': '/produto/[...slug]',\n 'query': {'slug': ['320798',\n   'processador-amd-ryzen-5-5600-cache-35mb-3-5ghz-4-4ghz-max-turbo-am4-sem-video-100-100000927box']},\n 'buildId': 'VZJ1XA0ox5JEAoPmNJb-i',\n 'assetPrefix': '/core',\n 'isFallback': False,\n 'dynamicIds': [56793],\n 'gssp': True,\n 'appGip': True,\n 'scriptLoader': []}"
     },
     "metadata": {}
    }
   ],
   "execution_count": null
  },
  {
   "cell_type": "code",
   "metadata": {
    "cell_id": "dddff4f43c264e869e448e2874457980",
    "tags": [],
    "deepnote_to_be_reexecuted": true,
    "source_hash": "1975be53",
    "deepnote_cell_type": "code",
    "deepnote_cell_height": 66
   },
   "source": "aaaaa",
   "execution_count": null,
   "outputs": []
  },
  {
   "cell_type": "code",
   "source": "",
   "metadata": {
    "cell_id": "b06de35eee804816add73761b913ce32",
    "tags": [],
    "owner_user_id": "baad0629-31df-4a65-9098-8bf0ae755849",
    "deepnote_to_be_reexecuted": true,
    "source_hash": "b623e53d",
    "deepnote_cell_type": "code",
    "deepnote_cell_height": 66
   },
   "outputs": [],
   "execution_count": null
  },
  {
   "cell_type": "markdown",
   "source": "<a style='text-decoration:none;line-height:16px;display:flex;color:#5B5B62;padding:10px;justify-content:end;' href='https://deepnote.com?utm_source=created-in-deepnote-cell&projectId=b8b98786-19ce-460b-98f4-40a20facf290' target=\"_blank\">\n<img alt='Created in deepnote.com' style='display:inline;max-height:16px;margin:0px;margin-right:7.5px;' src='data:image/svg+xml;base64,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' > </img>\nCreated in <span style='font-weight:600;margin-left:4px;'>Deepnote</span></a>",
   "metadata": {
    "tags": [],
    "created_in_deepnote_cell": true,
    "deepnote_cell_type": "markdown"
   }
  }
 ],
 "nbformat": 4,
 "nbformat_minor": 2,
 "metadata": {
  "orig_nbformat": 2,
  "deepnote": {},
  "deepnote_notebook_id": "0bd588bb-52e1-48d8-9f98-c6ccec70c98b",
  "deepnote_execution_queue": []
 }
}