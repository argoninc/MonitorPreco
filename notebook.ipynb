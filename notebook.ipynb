{
 "cells": [
  {
   "cell_type": "markdown",
   "source": "## Cralwer dos sites de TI",
   "metadata": {
    "cell_id": "385560e8e2de4af4bccd1ad2a39231a7",
    "tags": [],
    "deepnote_cell_type": "markdown",
    "deepnote_cell_height": 70
   }
  },
  {
   "cell_type": "code",
   "metadata": {
    "cell_id": "499f048ffb6f4b6d8efb9a3367d74390",
    "tags": [],
    "deepnote_to_be_reexecuted": false,
    "source_hash": "ed329c87",
    "execution_start": 1658433258523,
    "execution_millis": 4098,
    "deepnote_cell_type": "code",
    "deepnote_cell_height": 290
   },
   "source": "#Instalando o bs4\n!pip install beautifulsoup4",
   "execution_count": 3,
   "outputs": [
    {
     "name": "stdout",
     "text": "Collecting beautifulsoup4\n  Downloading beautifulsoup4-4.11.1-py3-none-any.whl (128 kB)\n\u001b[2K     \u001b[90m━━━━━━━━━━━━━━━━━━━━━━━━━━━━━━━━━━━━━━\u001b[0m \u001b[32m128.2/128.2 KB\u001b[0m \u001b[31m22.3 MB/s\u001b[0m eta \u001b[36m0:00:00\u001b[0m\n\u001b[?25hCollecting soupsieve>1.2\n  Downloading soupsieve-2.3.2.post1-py3-none-any.whl (37 kB)\nInstalling collected packages: soupsieve, beautifulsoup4\nSuccessfully installed beautifulsoup4-4.11.1 soupsieve-2.3.2.post1\n\u001b[33mWARNING: You are using pip version 22.0.4; however, version 22.2 is available.\nYou should consider upgrading via the '/root/venv/bin/python -m pip install --upgrade pip' command.\u001b[0m\u001b[33m\n\u001b[0m",
     "output_type": "stream"
    }
   ]
  },
  {
   "cell_type": "markdown",
   "source": "### Imports",
   "metadata": {
    "formattedRanges": [],
    "cell_id": "a17b95e9035a409fbc5f0cf13df7802f",
    "tags": [],
    "is_collapsed": false,
    "deepnote_cell_type": "text-cell-h3"
   }
  },
  {
   "cell_type": "code",
   "metadata": {
    "tags": [],
    "cell_id": "b272611c-cee4-4624-91dd-bbd90eecfbdb",
    "deepnote_to_be_reexecuted": false,
    "source_hash": "30070f3e",
    "execution_start": 1658433364076,
    "execution_millis": 32,
    "deepnote_cell_type": "code",
    "deepnote_cell_height": 550
   },
   "source": "import math, sys, os\n\n#Datas\nimport pandas as pd\nimport numpy as np\n\n#Web\nfrom bs4 import BeautifulSoup\nimport requests\n\n#Plotters\nimport matplotlib as plt\nimport seaborn as sns\n\n#Text\nimport re\nimport json\n\n%load_ext autoreload\n%autoreload 2\n\n%time",
   "execution_count": 12,
   "outputs": [
    {
     "name": "stdout",
     "text": "The autoreload extension is already loaded. To reload it, use:\n  %reload_ext autoreload\nCPU times: user 2 µs, sys: 0 ns, total: 2 µs\nWall time: 6.2 µs\n",
     "output_type": "stream"
    }
   ]
  },
  {
   "cell_type": "markdown",
   "source": "### Setando Header",
   "metadata": {
    "formattedRanges": [],
    "cell_id": "5ba1aba8ee4b490688c0eb6ea8c0a4cb",
    "tags": [],
    "is_collapsed": false,
    "deepnote_cell_type": "text-cell-h3"
   }
  },
  {
   "cell_type": "code",
   "metadata": {
    "cell_id": "8a51cd92d5074f8ab52fa542da3ec956",
    "tags": [],
    "deepnote_to_be_reexecuted": false,
    "source_hash": "196c0afc",
    "execution_start": 1658433299883,
    "execution_millis": 227,
    "is_code_hidden": false,
    "deepnote_cell_type": "code",
    "deepnote_cell_height": 135
   },
   "source": "header = {\n    \"user-agent\": \"Mozilla/5.0 (Windows NT 10.0; Win64; x64) AppleWebKit/537.36 (KHTML, like Gecko) Chrome/74.0.3729.169 Safari/537.36\" ,\n    'referer':'https://www.google.com/'\n}",
   "execution_count": 5,
   "outputs": []
  },
  {
   "cell_type": "markdown",
   "source": "### Criando a função da Pichau",
   "metadata": {
    "cell_id": "0041ce0df82c4d4bb633c18020eb1cd8",
    "tags": [],
    "deepnote_cell_type": "markdown",
    "deepnote_cell_height": 62
   }
  },
  {
   "cell_type": "code",
   "metadata": {
    "cell_id": "005a3af2b3fb4548b7db3c46b17bd699",
    "tags": [],
    "deepnote_to_be_reexecuted": false,
    "source_hash": "e68788eb",
    "execution_start": 1658437853647,
    "execution_millis": 771,
    "deepnote_cell_type": "code",
    "deepnote_cell_height": 711
   },
   "source": "def get_html_page(url : str, header=None) -> str:\n\n    '''\n    Funcao para o script HTML das paginas a serem monitoradas\n\n    Retorno do metodo\n    str\n\n    Parametros\n\n    url:str\n    link do site a ser obtidos o script\n    '''\n\n    #Checa se existe o header\n    if header is None  :\n        header = {\n            \"user-agent\": \"Mozilla/5.0 (Windows NT 10.0; Win64; x64) AppleWebKit/537.36 (KHTML, like Gecko) Chrome/74.0.3729.169 Safari/537.36\" ,\n            'referer':'https://www.google.com/'\n        }\n\n    #Checa se a url está vazia antes de requisitar\n    if len(url) == 0:\n        print('URL vazia')\n        return None\n\n    r = requests.get(url, headers=header)\n    \n    return_code = r.status_code\n\n    if not return_code in (200, 201, 202):\n        print(f'Houve um erro no processamento da url {url}')\n        return None\n    \n    return r.text\n",
   "execution_count": 98,
   "outputs": []
  },
  {
   "cell_type": "code",
   "metadata": {
    "cell_id": "6f61bb10b9bf45ce84b5e936d3d55db9",
    "tags": [],
    "deepnote_to_be_reexecuted": false,
    "source_hash": "25c71916",
    "execution_start": 1658437859015,
    "execution_millis": 273,
    "owner_user_id": "005ed028-13e1-49b7-a15d-07b078143245",
    "deepnote_cell_type": "code",
    "deepnote_cell_height": 81
   },
   "source": "res = get_html_page('https://www.pichau.com.br/processador-amd-ryzen-5-5600-6-core-12-threads-3-5ghz-4-4ghz-turbo-cache-35mb-am4-100-100000927box?utm_source=pcbuildwizard')",
   "execution_count": 99,
   "outputs": []
  },
  {
   "cell_type": "code",
   "metadata": {
    "cell_id": "889a012dd0884a85ab930224e512c035",
    "tags": [],
    "deepnote_to_be_reexecuted": false,
    "source_hash": "56d910d7",
    "execution_start": 1658436278816,
    "execution_millis": 70,
    "deepnote_cell_type": "code",
    "deepnote_cell_height": 531
   },
   "source": "def extract_pichau(url : str) -> pd.DataFrame:\n\n    '''\n    Funcao para buscar as informacoes do site da pichau e persisti-las\n\n    Retorno do metodo\n    pandas.DataFrame\n\n    Parametros\n\n    url:str\n    link do site a ser obtidos as informações\n    '''\n\n    lista_vars_retorno = []\n    df_retorno = pd.DataFrame(columns=lista_vars_retorno])\n\n    html_script = get_html_page(url)\n\n    soup = BeautifulSoup(html_doc, 'html.parser')\n\n    all_data = soup.find('script', {'type':'application/json'})\n\n    jsn = json.loads(all_data.string)\n\n",
   "execution_count": 76,
   "outputs": []
  },
  {
   "cell_type": "code",
   "metadata": {
    "cell_id": "f05d02d703334015864d9095959cf98b",
    "tags": [],
    "deepnote_cell_type": "code",
    "deepnote_cell_height": 66
   },
   "source": "",
   "execution_count": null,
   "outputs": []
  },
  {
   "cell_type": "code",
   "metadata": {
    "cell_id": "d2e6ec93931c4f70bacf6e5b01223f28",
    "tags": [],
    "deepnote_to_be_reexecuted": false,
    "source_hash": "203c736e",
    "execution_start": 1658436287873,
    "execution_millis": 0,
    "deepnote_cell_type": "code",
    "deepnote_cell_height": 81
   },
   "source": "df_retorno = pd.DataFrame()",
   "execution_count": 77,
   "outputs": []
  },
  {
   "cell_type": "code",
   "metadata": {
    "cell_id": "99eb67c5214b44c4a72839c43c54f0d6",
    "tags": [],
    "deepnote_to_be_reexecuted": false,
    "source_hash": "fff74bce",
    "execution_start": 1658433319715,
    "execution_millis": 981,
    "deepnote_cell_type": "code",
    "deepnote_cell_height": 136,
    "deepnote_output_heights": [
     21
    ]
   },
   "source": "r = requests.get('https://www.pichau.com.br/processador-amd-ryzen-5-5600-6-core-12-threads-3-5ghz-4-4ghz-turbo-cache-35mb-am4-100-100000927box?utm_source=pcbuildwizard', headers=header)\nr.status_code",
   "execution_count": 6,
   "outputs": [
    {
     "output_type": "execute_result",
     "execution_count": 6,
     "data": {
      "text/plain": "200"
     },
     "metadata": {}
    }
   ]
  },
  {
   "cell_type": "code",
   "metadata": {
    "cell_id": "49ff955a79a04504a5065e9cc06e713a",
    "tags": [],
    "deepnote_to_be_reexecuted": false,
    "source_hash": "79cf8bcb",
    "execution_start": 1658433329583,
    "execution_millis": 216,
    "deepnote_cell_type": "code",
    "deepnote_cell_height": 81
   },
   "source": "html_doc = r.text",
   "execution_count": 7,
   "outputs": []
  },
  {
   "cell_type": "code",
   "metadata": {
    "cell_id": "9b4a700d92d24ec8b1d8e2015db8914e",
    "tags": [],
    "deepnote_to_be_reexecuted": false,
    "source_hash": "bd5f0507",
    "execution_start": 1658433338888,
    "execution_millis": 208,
    "deepnote_cell_type": "code",
    "deepnote_cell_height": 81
   },
   "source": "soup = BeautifulSoup(html_doc, 'html.parser')",
   "execution_count": 8,
   "outputs": []
  },
  {
   "cell_type": "code",
   "metadata": {
    "cell_id": "1df3e2a23c944997a26fd24107bc49a6",
    "tags": [],
    "deepnote_to_be_reexecuted": false,
    "source_hash": "e6babf5f",
    "execution_start": 1658433344662,
    "execution_millis": 418,
    "deepnote_cell_type": "code",
    "deepnote_cell_height": 81
   },
   "source": "all_data = soup.find('script', {'type':'application/json'})",
   "execution_count": 9,
   "outputs": []
  },
  {
   "cell_type": "code",
   "metadata": {
    "cell_id": "a0025463c4494cf3994a85fb6f31fdd1",
    "tags": [],
    "deepnote_to_be_reexecuted": false,
    "source_hash": "2b3c070",
    "execution_start": 1658433358394,
    "execution_millis": 21,
    "deepnote_cell_type": "code",
    "deepnote_cell_height": 81
   },
   "source": "jsn = json.loads(all_data.string)",
   "execution_count": 11,
   "outputs": []
  },
  {
   "cell_type": "code",
   "metadata": {
    "cell_id": "3227b197979344389fc984132bc970e6",
    "tags": [],
    "deepnote_to_be_reexecuted": false,
    "source_hash": "565be716",
    "execution_start": 1658433372887,
    "execution_millis": 54,
    "deepnote_cell_type": "code",
    "deepnote_cell_height": 118,
    "deepnote_output_heights": [
     21
    ]
   },
   "source": "jsn.keys()",
   "execution_count": 13,
   "outputs": [
    {
     "output_type": "execute_result",
     "execution_count": 13,
     "data": {
      "text/plain": "dict_keys(['props', 'page', 'query', 'buildId', 'runtimeConfig', 'isFallback', 'gip', 'appGip', 'scriptLoader'])"
     },
     "metadata": {}
    }
   ]
  },
  {
   "cell_type": "code",
   "metadata": {
    "cell_id": "d9591bb030d94e4bad87cae70a9b2d3a",
    "tags": [],
    "deepnote_to_be_reexecuted": false,
    "source_hash": "e41092fe",
    "execution_start": 1658438405552,
    "execution_millis": 24,
    "deepnote_cell_type": "code",
    "deepnote_cell_height": 99
   },
   "source": "#Usar esta lista de atributos neste nível: ['props']['pageProps']['pageData']['content']\nlista_attr_l0 = ['potencia', 'name', 'stock_status', 'codigo_barra']",
   "execution_count": 106,
   "outputs": []
  },
  {
   "cell_type": "code",
   "source": "for i in lista_attr_l0:\n    print(jsn['props']['pageProps']['pageData']['content'][i])",
   "metadata": {
    "cell_id": "20889025515d48348654c00b3d555167",
    "tags": [],
    "deepnote_to_be_reexecuted": false,
    "source_hash": "58ffd33f",
    "execution_start": 1658438405579,
    "execution_millis": 19,
    "deepnote_cell_type": "code",
    "deepnote_cell_height": 190
   },
   "outputs": [
    {
     "name": "stdout",
     "text": "65\nProcessador AMD Ryzen 5 5600, 6-Core, 12-Threads, 3.5GHz (4.4GHz Turbo), Cache 35MB, AM4, 100-100000927BOX\nIN_STOCK\n0730143314190\n",
     "output_type": "stream"
    }
   ],
   "execution_count": 107
  },
  {
   "cell_type": "code",
   "source": "'promotion_name', 'qty_available', 'qty_sold'",
   "metadata": {
    "cell_id": "f756480285414b84854d113e0157943e",
    "tags": [],
    "owner_user_id": "7e8fa094-2b4d-44b2-b4b4-0e90a0034eb2",
    "deepnote_cell_type": "code",
    "deepnote_cell_height": 66
   },
   "outputs": [],
   "execution_count": null
  },
  {
   "cell_type": "code",
   "source": "jsn['props']['pageProps']['pageData']['content']",
   "metadata": {
    "cell_id": "75457ffa03564a5abe915239db3f177a",
    "tags": [],
    "deepnote_to_be_reexecuted": false,
    "source_hash": "609bf1ce",
    "execution_start": 1658438462462,
    "execution_millis": 243,
    "deepnote_cell_type": "code",
    "deepnote_cell_height": 118,
    "deepnote_output_heights": [
     21
    ]
   },
   "outputs": [
    {
     "output_type": "execute_result",
     "execution_count": 110,
     "data": {
      "text/plain": "{'id': 31200,\n 'sku': '100-100000927BOX',\n 'url_key': 'processador-amd-ryzen-5-5600-6-core-12-threads-3-5ghz-4-4ghz-turbo-cache-35mb-am4-100-100000927box',\n 'name': 'Processador AMD Ryzen 5 5600, 6-Core, 12-Threads, 3.5GHz (4.4GHz Turbo), Cache 35MB, AM4, 100-100000927BOX',\n 'special_price': 1269.32,\n 'socket': '539',\n 'hide_from_search': 0,\n 'is_openbox': 0,\n 'openbox_state': None,\n 'openbox_condition': None,\n 'tipo_de_memoria': None,\n 'caracteristicas': None,\n 'slots_memoria': None,\n 'marcas': 116,\n 'marcas_info': {'name': 'AMD', '__typename': 'MarcasProduct'},\n 'formato_placa': None,\n 'plataforma': '7',\n 'portas_sata': None,\n 'slot_cooler_120': None,\n 'slot_cooler_80': None,\n 'slot_cooler_140': None,\n 'slot_cooler_200': None,\n 'coolerbox_included': 1,\n 'potencia': '65',\n 'quantidade_pacote': None,\n 'alerta_monteseupc': None,\n 'vgaintegrado': 153,\n 'product_set_name': 'Processador',\n 'categories': [{'name': 'Hardware', '__typename': 'CategoryTree'},\n  {'name': 'Processadores', '__typename': 'CategoryTree'},\n  {'name': 'AMD', '__typename': 'CategoryTree'}],\n 'price_range': {'minimum_price': {'final_price': {'currency': 'BRL',\n    'value': 1269.32,\n    '__typename': 'Money'},\n   'regular_price': {'currency': 'BRL',\n    'value': 1697.3,\n    '__typename': 'Money'},\n   '__typename': 'ProductPrice'},\n  'maximum_price': {'final_price': {'currency': 'BRL',\n    'value': 1269.32,\n    '__typename': 'Money'},\n   'regular_price': {'currency': 'BRL',\n    'value': 1697.3,\n    '__typename': 'Money'},\n   '__typename': 'ProductPrice'},\n  '__typename': 'PriceRange'},\n 'description': {'html': '', '__typename': 'ComplexTextValue'},\n 'garantia': '12 Meses',\n 'informacoes_adicionais': '<table class=\"table table-specification\" cellspacing=\"0\">\\r\\n<tbody>\\r\\n<tr>\\r\\n<th scope=\"row\" class=\"name-field Marca\"> Marca:</th>\\r\\n<td class=\"value-field Marca\"> AMD </td>\\r\\n</tr>\\r\\n<tr>\\r\\n<th scope=\"row\" class=\"name-field Modelo\"> Modelo:</th>\\r\\n<td class=\"value-field Modelo\"> 100-100000927BOX </td>\\r\\n</tr>\\r\\n<tr>\\r\\n<th scope=\"row\" class=\"name-field Soquete\"> Soquete: </th>\\r\\n<td class=\"value-field Soquete\"> AM4 </td>\\r\\n</tr>\\r\\n<tr>\\r\\n<th scope=\"row\" class=\"name-field Nucleos\"> Núcleos: </th>\\r\\n<td class=\"value-field Nucleos\"> 6 </td>\\r\\n</tr>\\r\\n<tr>\\r\\n<th scope=\"row\" class=\"name-field Threads\"> Threads: </th>\\r\\n<td class=\"value-field Threads\"> 12 </td>\\r\\n</tr>\\r\\n<tr>\\r\\n<th scope=\"row\" class=\"name-field Frequencia\"> Frequência: </th>\\r\\n<td class=\"value-field Frequencia\"> 3.5 GHz </td>\\r\\n</tr>\\r\\n<tr>\\r\\n<th scope=\"row\" class=\"name-field Frequencia-max\"> Frequência Max Turbo: </th>\\r\\n<td class=\"value-field Frequencia-max\"> 4,4 GHz </td>\\r\\n</tr>\\r\\n<tr>\\r\\n<th scope=\"row\" class=\"name-field Cache-l2\"> Cache L2: </th>\\r\\n<td class=\"value-field Cache-l2\"> 3MB </td>\\r\\n</tr>\\r\\n<tr>\\r\\n<th scope=\"row\" class=\"name-field Cache-l3\"> Cache L3: </th>\\r\\n<td class=\"value-field Cache-l3\"> 32MB </td>\\r\\n</tr>\\r\\n<tr>\\r\\n<th scope=\"row\" class=\"name-field Cmos\"> CMOS: </th>\\r\\n<td class=\"value-field Cmos\"> TSMC 7nm FinFET </td>\\r\\n</tr>\\r\\n<tr>\\r\\n<th scope=\"row\" class=\"name-field Versao\"> Versão do PCI Express: </th>\\r\\n<td class=\"value-field Versao\"> PCIe 4.0 </td>\\r\\n</tr>\\r\\n<tr>\\r\\n<th scope=\"row\" class=\"name-field Memoria\"> Memória: </th>\\r\\n<td class=\"value-field Memoria\"> Velocidade máxima: 2x1R: DDR4-3200<br>\\r\\n2x2R: DDR4-3200<br>\\r\\n4x1R: DDR4-2933<br>\\r\\n4x2R: DDR4-2667<br><br>\\r\\nTipo: DDR4 </td>\\r\\n</tr>\\r\\n<tr>\\r\\n<th scope=\"row\" class=\"name-field Tecnologias\"> Tecnologias compatíveis: </th>\\r\\n<td class=\"value-field Tecnologias\"> Tecnologia AMD StoreMI <br>\\r\\nAMD \"Zen 3\" Core Architecture<br>\\r\\nAMD Ryzen™ VR-Ready Premium </td>\\r\\n</tr>\\r\\n<tr>\\r\\n<th scope=\"row\" class=\"name-field Solucao\"> Solução térmica: </th>\\r\\n<td class=\"value-field Solucao\"> AMD Wraith Stealth </td>\\r\\n</tr>\\r\\n<tr>\\r\\n<th scope=\"row\" class=\"name-field Tdp\"> TDP / TDP Padrão: </th>\\r\\n<td class=\"value-field Tdp\"> 65W </td>\\r\\n</tr>\\r\\n</tbody>\\r\\n</table>',\n 'image': {'url': 'https://media.pichau.com.br/media/catalog/product/cache/2f958555330323e505eba7ce930bdf27/1/0/100-100000927box_1.jpg',\n  'url_listing': 'https://media.pichau.com.br/media/catalog/product/cache/ef72d3c27864510e5d4c0ce69bade259/1/0/100-100000927box_1.jpg',\n  'path': '/1/0/100-100000927box_1.jpg',\n  'label': 'Processador AMD Ryzen 5 5600, 6-Core, 12-Threads, 3.5GHz (4.4GHz Turbo), Cache 35MB, AM4, 100-100000927BOX',\n  '__typename': 'ProductImage'},\n 'media_gallery': [{'url': 'https://media.pichau.com.br/media/catalog/product/cache/2f958555330323e505eba7ce930bdf27/1/0/100-100000927box_1.jpg',\n   'path': '/1/0/100-100000927box_1.jpg',\n   'label': None,\n   'position': 1,\n   '__typename': 'ProductImage'},\n  {'url': 'https://media.pichau.com.br/media/catalog/product/cache/2f958555330323e505eba7ce930bdf27/1/0/100-100000927box1_1.jpg',\n   'path': '/1/0/100-100000927box1_1.jpg',\n   'label': None,\n   'position': 2,\n   '__typename': 'ProductImage'}],\n 'short_description': {'html': '', '__typename': 'ComplexTextValue'},\n 'amasty_label': None,\n 'reviews': {'rating': 100, 'count': 2, '__typename': 'ProductReviews'},\n 'dailydeal_info': None,\n 'mysales_promotion': {'expire_at': '2022-08-01 17:00:00',\n  'price_discount': 25.22,\n  'price_promotional': 1269.32,\n  'promotion_name': 'Ferias com o Pombo',\n  'promotion_url': 'promocao/feriaspombo',\n  'qty_available': 83,\n  'qty_sold': 264,\n  '__typename': 'MySalesPromotionProduct'},\n 'only_x_left_in_stock': None,\n 'stock_status': 'IN_STOCK',\n 'codigo_barra': '0730143314190',\n 'codigo_ncm': '85423120',\n 'meta_title': 'Processador AMD Ryzen 5 5600, 6-Core, 12-Threads, 3.5GHz (4.4GHz Turbo), Cache 35MB, AM4, 100-100000927BOX',\n 'meta_keyword': 'Processador AMD Ryzen 5 5600, 6-Core, 12-Threads, 3.5GHz (4.4GHz Turbo), Cache 35MB, AM4, 100-100000927BOX',\n 'meta_description': 'Processador AMD Ryzen 5 5600, 6-Core, 12-Threads, 3.5GHz (4.4GHz Turbo), Cache 35MB, AM4, 100-100000927BOX, Soquete AM4, Núcleos 6, Pichau info',\n '__typename': 'SimpleProduct'}"
     },
     "metadata": {}
    }
   ],
   "execution_count": 110
  },
  {
   "cell_type": "code",
   "metadata": {
    "cell_id": "83cf7081533d46e89d1c00f38a31e2a8",
    "tags": [],
    "deepnote_cell_type": "code",
    "deepnote_cell_height": 156
   },
   "source": "#moeda: ['props']['pageProps']['pageData']['content']['price_range']['minimum_price']['final_price']['currency']\n#value_promocional: ['props']['pageProps']['pageData']['content']['price_range']['minimum_price']['final_price']['value']\n\n#moeda: jsn['props']['pageProps']['pageData']['content']['price_range']['minimum_price']['regular_price']['currency']\n#value_regular: jsn['props']['pageProps']['pageData']['content']['price_range']['minimum_price']['regular_price']['value']\n",
   "execution_count": null,
   "outputs": []
  },
  {
   "cell_type": "code",
   "metadata": {
    "cell_id": "9500aa56dedb444da3eef608f9b091cb",
    "tags": [],
    "deepnote_to_be_reexecuted": false,
    "source_hash": "14fa0952",
    "execution_start": 1658435702266,
    "execution_millis": 2,
    "deepnote_cell_type": "code",
    "deepnote_cell_height": 190
   },
   "source": "galeria = jsn['props']['pageProps']['pageData']['content']['media_gallery']]\nlimit = 6\nfor i in galeria [:min(len(galeria), limit)]:\n    print(i['url'])",
   "execution_count": 71,
   "outputs": [
    {
     "name": "stdout",
     "text": "https://media.pichau.com.br/media/catalog/product/cache/2f958555330323e505eba7ce930bdf27/1/0/100-100000927box_1.jpg\nhttps://media.pichau.com.br/media/catalog/product/cache/2f958555330323e505eba7ce930bdf27/1/0/100-100000927box1_1.jpg\n",
     "output_type": "stream"
    }
   ]
  },
  {
   "cell_type": "code",
   "metadata": {
    "cell_id": "ca5eabaf6852453aaa1612c8dc60283f",
    "tags": [],
    "deepnote_cell_type": "code",
    "deepnote_cell_height": 66
   },
   "source": "",
   "execution_count": null,
   "outputs": []
  },
  {
   "cell_type": "code",
   "metadata": {
    "cell_id": "837c872b125a4d26a06143694ee5e2e9",
    "tags": [],
    "deepnote_to_be_reexecuted": false,
    "source_hash": "609bf1ce",
    "execution_start": 1658435850696,
    "execution_millis": 32,
    "deepnote_cell_type": "code",
    "deepnote_cell_height": 704,
    "deepnote_output_heights": [
     607
    ]
   },
   "source": "jsn['props']['pageProps']['pageData']['content']",
   "execution_count": 74,
   "outputs": [
    {
     "output_type": "execute_result",
     "execution_count": 74,
     "data": {
      "text/plain": "{'id': 31200,\n 'sku': '100-100000927BOX',\n 'url_key': 'processador-amd-ryzen-5-5600-6-core-12-threads-3-5ghz-4-4ghz-turbo-cache-35mb-am4-100-100000927box',\n 'name': 'Processador AMD Ryzen 5 5600, 6-Core, 12-Threads, 3.5GHz (4.4GHz Turbo), Cache 35MB, AM4, 100-100000927BOX',\n 'special_price': 1269.32,\n 'socket': '539',\n 'hide_from_search': 0,\n 'is_openbox': 0,\n 'openbox_state': None,\n 'openbox_condition': None,\n 'tipo_de_memoria': None,\n 'caracteristicas': None,\n 'slots_memoria': None,\n 'marcas': 116,\n 'marcas_info': {'name': 'AMD', '__typename': 'MarcasProduct'},\n 'formato_placa': None,\n 'plataforma': '7',\n 'portas_sata': None,\n 'slot_cooler_120': None,\n 'slot_cooler_80': None,\n 'slot_cooler_140': None,\n 'slot_cooler_200': None,\n 'coolerbox_included': 1,\n 'potencia': '65',\n 'quantidade_pacote': None,\n 'alerta_monteseupc': None,\n 'vgaintegrado': 153,\n 'product_set_name': 'Processador',\n 'categories': [{'name': 'Hardware', '__typename': 'CategoryTree'},\n  {'name': 'Processadores', '__typename': 'CategoryTree'},\n  {'name': 'AMD', '__typename': 'CategoryTree'}],\n 'price_range': {'minimum_price': {'final_price': {'currency': 'BRL',\n    'value': 1269.32,\n    '__typename': 'Money'},\n   'regular_price': {'currency': 'BRL',\n    'value': 1697.3,\n    '__typename': 'Money'},\n   '__typename': 'ProductPrice'},\n  'maximum_price': {'final_price': {'currency': 'BRL',\n    'value': 1269.32,\n    '__typename': 'Money'},\n   'regular_price': {'currency': 'BRL',\n    'value': 1697.3,\n    '__typename': 'Money'},\n   '__typename': 'ProductPrice'},\n  '__typename': 'PriceRange'},\n 'description': {'html': '', '__typename': 'ComplexTextValue'},\n 'garantia': '12 Meses',\n 'informacoes_adicionais': '<table class=\"table table-specification\" cellspacing=\"0\">\\r\\n<tbody>\\r\\n<tr>\\r\\n<th scope=\"row\" class=\"name-field Marca\"> Marca:</th>\\r\\n<td class=\"value-field Marca\"> AMD </td>\\r\\n</tr>\\r\\n<tr>\\r\\n<th scope=\"row\" class=\"name-field Modelo\"> Modelo:</th>\\r\\n<td class=\"value-field Modelo\"> 100-100000927BOX </td>\\r\\n</tr>\\r\\n<tr>\\r\\n<th scope=\"row\" class=\"name-field Soquete\"> Soquete: </th>\\r\\n<td class=\"value-field Soquete\"> AM4 </td>\\r\\n</tr>\\r\\n<tr>\\r\\n<th scope=\"row\" class=\"name-field Nucleos\"> Núcleos: </th>\\r\\n<td class=\"value-field Nucleos\"> 6 </td>\\r\\n</tr>\\r\\n<tr>\\r\\n<th scope=\"row\" class=\"name-field Threads\"> Threads: </th>\\r\\n<td class=\"value-field Threads\"> 12 </td>\\r\\n</tr>\\r\\n<tr>\\r\\n<th scope=\"row\" class=\"name-field Frequencia\"> Frequência: </th>\\r\\n<td class=\"value-field Frequencia\"> 3.5 GHz </td>\\r\\n</tr>\\r\\n<tr>\\r\\n<th scope=\"row\" class=\"name-field Frequencia-max\"> Frequência Max Turbo: </th>\\r\\n<td class=\"value-field Frequencia-max\"> 4,4 GHz </td>\\r\\n</tr>\\r\\n<tr>\\r\\n<th scope=\"row\" class=\"name-field Cache-l2\"> Cache L2: </th>\\r\\n<td class=\"value-field Cache-l2\"> 3MB </td>\\r\\n</tr>\\r\\n<tr>\\r\\n<th scope=\"row\" class=\"name-field Cache-l3\"> Cache L3: </th>\\r\\n<td class=\"value-field Cache-l3\"> 32MB </td>\\r\\n</tr>\\r\\n<tr>\\r\\n<th scope=\"row\" class=\"name-field Cmos\"> CMOS: </th>\\r\\n<td class=\"value-field Cmos\"> TSMC 7nm FinFET </td>\\r\\n</tr>\\r\\n<tr>\\r\\n<th scope=\"row\" class=\"name-field Versao\"> Versão do PCI Express: </th>\\r\\n<td class=\"value-field Versao\"> PCIe 4.0 </td>\\r\\n</tr>\\r\\n<tr>\\r\\n<th scope=\"row\" class=\"name-field Memoria\"> Memória: </th>\\r\\n<td class=\"value-field Memoria\"> Velocidade máxima: 2x1R: DDR4-3200<br>\\r\\n2x2R: DDR4-3200<br>\\r\\n4x1R: DDR4-2933<br>\\r\\n4x2R: DDR4-2667<br><br>\\r\\nTipo: DDR4 </td>\\r\\n</tr>\\r\\n<tr>\\r\\n<th scope=\"row\" class=\"name-field Tecnologias\"> Tecnologias compatíveis: </th>\\r\\n<td class=\"value-field Tecnologias\"> Tecnologia AMD StoreMI <br>\\r\\nAMD \"Zen 3\" Core Architecture<br>\\r\\nAMD Ryzen™ VR-Ready Premium </td>\\r\\n</tr>\\r\\n<tr>\\r\\n<th scope=\"row\" class=\"name-field Solucao\"> Solução térmica: </th>\\r\\n<td class=\"value-field Solucao\"> AMD Wraith Stealth </td>\\r\\n</tr>\\r\\n<tr>\\r\\n<th scope=\"row\" class=\"name-field Tdp\"> TDP / TDP Padrão: </th>\\r\\n<td class=\"value-field Tdp\"> 65W </td>\\r\\n</tr>\\r\\n</tbody>\\r\\n</table>',\n 'image': {'url': 'https://media.pichau.com.br/media/catalog/product/cache/2f958555330323e505eba7ce930bdf27/1/0/100-100000927box_1.jpg',\n  'url_listing': 'https://media.pichau.com.br/media/catalog/product/cache/ef72d3c27864510e5d4c0ce69bade259/1/0/100-100000927box_1.jpg',\n  'path': '/1/0/100-100000927box_1.jpg',\n  'label': 'Processador AMD Ryzen 5 5600, 6-Core, 12-Threads, 3.5GHz (4.4GHz Turbo), Cache 35MB, AM4, 100-100000927BOX',\n  '__typename': 'ProductImage'},\n 'media_gallery': [{'url': 'https://media.pichau.com.br/media/catalog/product/cache/2f958555330323e505eba7ce930bdf27/1/0/100-100000927box_1.jpg',\n   'path': '/1/0/100-100000927box_1.jpg',\n   'label': None,\n   'position': 1,\n   '__typename': 'ProductImage'},\n  {'url': 'https://media.pichau.com.br/media/catalog/product/cache/2f958555330323e505eba7ce930bdf27/1/0/100-100000927box1_1.jpg',\n   'path': '/1/0/100-100000927box1_1.jpg',\n   'label': None,\n   'position': 2,\n   '__typename': 'ProductImage'}],\n 'short_description': {'html': '', '__typename': 'ComplexTextValue'},\n 'amasty_label': None,\n 'reviews': {'rating': 100, 'count': 2, '__typename': 'ProductReviews'},\n 'dailydeal_info': None,\n 'mysales_promotion': {'expire_at': '2022-08-01 17:00:00',\n  'price_discount': 25.22,\n  'price_promotional': 1269.32,\n  'promotion_name': 'Ferias com o Pombo',\n  'promotion_url': 'promocao/feriaspombo',\n  'qty_available': 83,\n  'qty_sold': 264,\n  '__typename': 'MySalesPromotionProduct'},\n 'only_x_left_in_stock': None,\n 'stock_status': 'IN_STOCK',\n 'codigo_barra': '0730143314190',\n 'codigo_ncm': '85423120',\n 'meta_title': 'Processador AMD Ryzen 5 5600, 6-Core, 12-Threads, 3.5GHz (4.4GHz Turbo), Cache 35MB, AM4, 100-100000927BOX',\n 'meta_keyword': 'Processador AMD Ryzen 5 5600, 6-Core, 12-Threads, 3.5GHz (4.4GHz Turbo), Cache 35MB, AM4, 100-100000927BOX',\n 'meta_description': 'Processador AMD Ryzen 5 5600, 6-Core, 12-Threads, 3.5GHz (4.4GHz Turbo), Cache 35MB, AM4, 100-100000927BOX, Soquete AM4, Núcleos 6, Pichau info',\n '__typename': 'SimpleProduct'}"
     },
     "metadata": {}
    }
   ]
  },
  {
   "cell_type": "code",
   "metadata": {
    "cell_id": "3e9a85c0e78a4a31844d123ffa361644",
    "tags": [],
    "deepnote_to_be_reexecuted": false,
    "source_hash": "356e60e9",
    "execution_start": 1658434485240,
    "execution_millis": 307,
    "deepnote_cell_type": "code",
    "deepnote_cell_height": 564,
    "deepnote_output_heights": [
     287
    ]
   },
   "source": "#teste url\nr_teste = requests.get('https://www.terabyteshop.com.br/produto/21115/placa-de-video-msi-geforce-rtx-3080-ventus-3x-plus-12g-oc-lhr-12gb-gddr6x-dlss-ray-tracing?srsltid=AdGWZVR6YG-AQ_gnhDTmIO3A3ZF73fNVJgnbiZtqdH_FwHzih9o8Vrv_e6c', headers=header)\nr_teste.status_code\n\nhtml_doc_teste = r_teste.text\nsoup_teste = BeautifulSoup(html_doc_teste, 'html.parser')\nall_data_teste = soup_teste.find('script', {'type':'application/ld+json'})\njsn_teste = json.loads(all_data_teste.string)\njsn_teste\n\n",
   "execution_count": 39,
   "outputs": [
    {
     "output_type": "execute_result",
     "execution_count": 39,
     "data": {
      "text/plain": "{'@context': 'http://schema.org',\n '@type': 'Product',\n 'name': 'Placa de Vídeo MSI NVIDIA GeForce RTX 3080 VENTUS 3X PLUS 12G OC, LHR, 12GB, GDDR6X, DLSS, Ray Tracing',\n 'image': 'https://img.terabyteshop.com.br/produto/p/placa-de-video-msi-geforce-rtx-3080-ventus-3x-plus-12g-oc-lhr-12gb-gddr6x-dlss-ray-tracing_140562.png',\n 'description': 'Placa de Vídeo MSI NVIDIA GeForce RTX 3080 VENTUS 3X PLUS 12G OC, LHR, 12GB, GDDR6X, DLSS, Ray Tracing. O VENTUS traz um design focado no desempenho que mantém o essencial para realizar qualquer tarefa em mãos. Um arranjo de ventilador triplo capaz em um design industrial rígido permite que esta placa gráfica de aparência nítida se encaixe em qualquer construção.',\n 'mpn': 'GeForce RTX 3080 VENTUS 3X PLUS 12G OC LHR',\n 'brand': {'@type': 'Thing', 'name': 'MSI'},\n 'sku': 'MSI',\n 'offers': {'@type': 'Offer',\n  'url': 'https://www.terabyteshop.com.br/produto/21115/placa-de-video-msi-geforce-rtx-3080-ventus-3x-plus-12g-oc-lhr-12gb-gddr6x-dlss-ray-tracing',\n  'priceCurrency': 'BRL',\n  'price': '6289.00',\n  'priceValidUntil': '2022-07-30',\n  'itemCondition': 'http://schema.org/NewCondition',\n  'availability': 'http://schema.org/InStock'}}"
     },
     "metadata": {}
    }
   ]
  },
  {
   "cell_type": "code",
   "metadata": {
    "cell_id": "dddff4f43c264e869e448e2874457980",
    "tags": [],
    "deepnote_cell_type": "code",
    "deepnote_cell_height": 66
   },
   "source": "aaaaa",
   "execution_count": null,
   "outputs": []
  },
  {
   "cell_type": "markdown",
   "source": "<a style='text-decoration:none;line-height:16px;display:flex;color:#5B5B62;padding:10px;justify-content:end;' href='https://deepnote.com?utm_source=created-in-deepnote-cell&projectId=b8b98786-19ce-460b-98f4-40a20facf290' target=\"_blank\">\n<img alt='Created in deepnote.com' style='display:inline;max-height:16px;margin:0px;margin-right:7.5px;' src='data:image/svg+xml;base64,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' > </img>\nCreated in <span style='font-weight:600;margin-left:4px;'>Deepnote</span></a>",
   "metadata": {
    "tags": [],
    "created_in_deepnote_cell": true,
    "deepnote_cell_type": "markdown"
   }
  }
 ],
 "nbformat": 4,
 "nbformat_minor": 2,
 "metadata": {
  "orig_nbformat": 2,
  "deepnote": {},
  "deepnote_notebook_id": "0bd588bb-52e1-48d8-9f98-c6ccec70c98b",
  "deepnote_execution_queue": []
 }
}